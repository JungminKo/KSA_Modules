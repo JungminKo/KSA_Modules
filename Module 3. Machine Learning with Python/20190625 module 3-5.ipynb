{
 "cells": [
  {
   "cell_type": "code",
   "execution_count": 1,
   "metadata": {},
   "outputs": [],
   "source": [
    "# import library\n",
    "import numpy as np\n",
    "import pandas as pd\n",
    "import matplotlib\n",
    "import matplotlib.pyplot as plt\n",
    "%matplotlib inline\n",
    "\n",
    "import seaborn as sns\n",
    "\n",
    "# adjust 한글 font\n",
    "from matplotlib import font_manager, rc\n",
    "font_name = font_manager.FontProperties(fname='c:/Windows/Fonts/malgun.ttf').get_name()\n",
    "rc('font', family=font_name)\n",
    "\n",
    "plt.rcParams['axes.labelsize'] = 14\n",
    "plt.rcParams['xtick.labelsize'] = 12\n",
    "plt.rcParams['ytick.labelsize'] = 12\n",
    "\n",
    "# 한글출력\n",
    "# plt.rcParams['font.family'] = 'NanumBarunGothic'\n",
    "plt.rcParams['axes.unicode_minus'] = False"
   ]
  },
  {
   "cell_type": "markdown",
   "metadata": {},
   "source": [
    "# Chapter 5. Ensemble"
   ]
  },
  {
   "cell_type": "markdown",
   "metadata": {},
   "source": [
    "## 5-1 Model Ensemble\n",
    "- 여러 모델을 이용하여 데이터를 학습하고, 모든 모델의 예측결과를 평균하여 예측\n",
    "- 앙상블 모델을 보통 지도학습에 사용\n",
    "- 군집화난 학습데이터가 없는 outlier detection, anomaly detection, clustering 등에는 쓰기 어려움\n",
    "- Why Ensemble?\n",
    "    - Error 최소화\n",
    "        - 다양한 모델의 결과를 종합, 오류를 감소\n",
    "    - Overfitting 감소\n",
    "        - bias : 편향, 예측값과 실제값의 차이\n",
    "        - 모델별 다양한 bias를 종합하여 결과를 생성\n",
    "    - Low Bias, High Variance\n",
    "        - Variance를 줄이기 위한 기법"
   ]
  },
  {
   "cell_type": "markdown",
   "metadata": {},
   "source": [
    "### Bias-Variance Trade off\n",
    "- 출처 : https://datacookbook.kr/48\n",
    "- Bias : [Error due to Bias]\n",
    "    - bias로 인한 에러는 예측값과 실제값 간의 차이\n",
    "    - 모델 학습시 여러 데이터를 사용하고, 반복하여 새로운 모델로 학습하면 예측값들의 범위를 확인 가능\n",
    "    - **bias는 이 예측값들의 범위가 정답과 얼마나 멀리있는지 측정**\n",
    "- Variance : [Error due to Variance]\n",
    "    - 주어진 데이터로 학습한 모델이 예측한 값의 변동성\n",
    "    - 만약 여러 모델로 학습을 반복한다고 가정하면,\n",
    "    - **Variance는 학습된 모델별로 예측한 값들의 차이를 측정**\n",
    "![title](https://img1.daumcdn.net/thumb/R1280x0/?scode=mtistory2&fname=http%3A%2F%2Fcfile9.uf.tistory.com%2Fimage%2F99CDCC33599AC28F075E3C)\n",
    "\n",
    "### 수학적 정의 및 예시\n",
    "- $Y$ : 예측값\n",
    "- $X$ : 변수\n",
    "- $\\epsilon$ : 에러, 에러의 분포는 정규분포 $\\epsilon\\sim N(0, \\sigma_\\epsilon)$\n",
    "- $Y\\,=\\,f(X)\\,+\\,\\epsilon$ : 예측값과 변수간의 관계 ($f(X)$는 정답을 추출하는 함수)\n",
    "- $\\hat{f}(X)$ : 모델 학습을 통해 정답을 예측하는 함수\n",
    "- 예측 모델의 에러 :\n",
    "$$Err(x) = E\\bigg[\\big(Y-\\hat{f}(x)\\big)^{2}\\bigg]$$\n",
    "- 위 공식을 세분화하면 bias와 variance로 구성된 공식을 반환\n",
    "$$Err(x) = \\big(E[\\hat{f}(x)]-f(x)\\big)^{2}+E\\bigg[\\big(\\hat{f}(x)-E[\\hat{f}(x)]\\big)^{2}\\bigg]+\\sigma_{\\epsilon}^2$$\n",
    "        - (정답과 예측값 간의 거리 측정) + (예측값과 예측값 평균간의 거리) + 에러\n",
    "$$Err(x) = Bias^2 + Variance + Irreducible\\,Error$$\n",
    "        - Irreducible error : 어떤 모델로도 제거 불가능한 오류\n",
    "        - 현실 세계에서는 완벽한 모델이 없기 때문에 제거할 수 없는 오류가 있다는 가정\n",
    "        \n",
    "### KNN으로 이해해보는 Trade-off 관계\n",
    "- 유권자들이 어떤 정당을 투표할 지 예측\n",
    "- K : 몇 개의 sample을 보고 분류할 지 결정\n",
    "- K 증가\n",
    "    - 각 예측에 더 많은 유권자 정보의 평균값 사용\n",
    "    - 따라서, 예측곡선이 부드러워 짐\n",
    "- K 감소\n",
    "    - 1인 경우, 가장 가까운 유권자 정보만 고려하여,\n",
    "    - 정당별로 고립되거나 급격한 예측곡선 생성\n",
    "- [Variance 관점]\n",
    "    - Small K $\\rightarrow$ variance 증가\n",
    "        - 가장 가까운 데이터 값을 이용하여 예측\n",
    "        - 신규 데이터가 추가되면, 학습한 모델의 예측값이 급격히 변화\n",
    "        - 즉, 모델간의 예측값 차이가 커짐\n",
    "    - Large K $\\rightarrow$ variance 감소\n",
    "        - 여러 개(K)의 학습 데이터를 이용하여 예측\n",
    "        - 신규 데이터가 추가되어도 예측값 간에 큰 차이 없음\n",
    "- [Bias 관점]\n",
    "    - Small K $\\rightarrow$ Bias 감소\n",
    "        - 가장 가까운 데이터 값을 이용하여 예측\n",
    "        - 예측값이 정답과 근처에 있을 가능성 높음\n",
    "    - Large K $\\rightarrow$ Bias 증가\n",
    "        - 모델선형 주변으로 예측하지 못하는 데이터가 많아짐\n",
    "        - 예측값과 정답간의 거리가 멀어짐"
   ]
  },
  {
   "cell_type": "markdown",
   "metadata": {},
   "source": [
    "### Basic concepts of Meta Learning\n",
    "- **배깅(Bagging)**\n",
    "    - bootstrap aggregation\n",
    "- **스태킹(Stacking)**\n",
    "    - 최종 결정 모델 훈련에 일부 모델의 예측만을 사용\n",
    "        - 조합함수를 조ㅈ가하는 기법\n",
    "- **보팅(Voting)**\n",
    "    - 각각 분류기의 결과를 조합해서 최종 하나의 결과를 뽑는 논리\n",
    "    - hard voting, soft voting\n",
    "- **부스팅(Boosting)**\n",
    "    - weak learner로 잘못 분류된 경우의 가중치를 증가시켜서 점차 분류해가는 기법"
   ]
  },
  {
   "cell_type": "markdown",
   "metadata": {},
   "source": [
    "## 5-2 Bagging"
   ]
  },
  {
   "cell_type": "markdown",
   "metadata": {},
   "source": [
    "### Bootstrap Aggregation\n",
    "- 원 데이터 집합으로부터 크기가 같은 표본을 여러 번 _단순임의 복원 추출_하여 각 표본에 대해 분류기를 생성, 그 결과를 ensemble하는 기법\n",
    "- 반복추출 방법을 사용하기 때문에 같은 데이터가 한 표본에 여러 번 추출될 수도 있고, 어떤 데이터는 추출되지 않을 수도 있다.\n",
    "- 데이터가 충분히 큰 경우, 각 데이터가 하나의 부트스트랩 표본에서 제외될 확률은 36.78%이다.\n",
    "$$\\lim_{x \\to \\infty} \\big(1-{{1}\\over{n}}\\big)^n=e^{-1}=0.3678$$"
   ]
  },
  {
   "cell_type": "markdown",
   "metadata": {},
   "source": [
    "### Bagging의 개념\n",
    "- 학습 데이터를 랜덤으로 샘플링하여 여러개의 bag으로 분할\n",
    "- 각 bag별로 모델을 학습한 후, 결과를 합하여 최종 결과를 추출\n",
    "- $n$ : 전체 학습 데이터 수\n",
    "- $n^{`}$ : bag에 포함된 데이터 수, 전체 데이터 중 샘플된 데이터\n",
    "- $m$ : bag의 갯수, 학습할 모델별로 샘플링된 데이터 셋\n",
    "- 출처 : http://hugrypiggykim.com/2019/04/07/bagging-boosting-and-stacking/\n",
    "<img src=\"https://i0.wp.com/hugrypiggykim.com/wp-content/uploads/2019/04/bagging2.png?resize=1024%2C526\" width=\"400\" height=\"300\">"
   ]
  },
  {
   "cell_type": "markdown",
   "metadata": {},
   "source": [
    "### 어떻게 예측정확도를 높이나?\n",
    "- 출처 : https://www.youtube.com/watch?v=sVriC_Ys2cw\n",
    "- 영상에서 model1은 하나의 bag으로 학습된 모델이다.\n",
    "- 각 모델별로 보면, 학습 데이터에 overfitting되어 테스트 데이터로 검증하면 예측성능이 낮다.(high variance)\n",
    "- Bagging은 이렇게 weak model을 여러개 결합하여, 전체적으로 high variance $\\rightarrow$ low variance로 변하면서 예측 성능을 향상시킨다.\n",
    "- 영상을 보면 여러개 모델이 서로 보완하면서 예측한다.\n",
    "- Bagging은 linear 모델에서는 잘 사용하지 않는다."
   ]
  },
  {
   "cell_type": "markdown",
   "metadata": {},
   "source": [
    "### Bagging Aggregation\n",
    "- 상대적으로 간단한 앙상블\n",
    "    - 입력데이터가 약간씩 변경되면서(bootstrapping) Model들이 상당히 변함\n",
    "    - 따라서 입력데이터의 \"작은 변화 $\\rightarrow$ 큰 변화\"가 생기는 DT에 주로 사용\n",
    "    - 또한 Bootstrapping할 때, 여러 기법이 가능하지만 보통 10 fold CV를 선호"
   ]
  },
  {
   "cell_type": "markdown",
   "metadata": {},
   "source": [
    "### 단일 결정 트리와 500개 트리로 만든 배깅 앙상블 비교\n",
    "- 출처 : HandsOn Machine Learning"
   ]
  },
  {
   "cell_type": "code",
   "execution_count": 481,
   "metadata": {},
   "outputs": [
    {
     "name": "stdout",
     "output_type": "stream",
     "text": [
      "단일 및 Voting 분류기 정확도 \n",
      "\n",
      "< voting 1 (voting=hard) >\n",
      "LogisticRegression 0.864\n",
      "RandomForestClassifier 0.872\n",
      "SVC 0.888\n",
      "VotingClassifier 0.896\n",
      "\n",
      "< voting 2 (voting=soft) >\n",
      "LogisticRegression 0.864\n",
      "RandomForestClassifier 0.872\n",
      "SVC 0.888\n",
      "VotingClassifier 0.912\n"
     ]
    }
   ],
   "source": [
    "print('단일 및 Voting 분류기 정확도 \\n')\n",
    "from sklearn.model_selection import train_test_split\n",
    "from sklearn.datasets import make_moons\n",
    "\n",
    "X, y = make_moons(n_samples=500, noise=0.30, random_state=42)\n",
    "X_train, X_test, y_train, y_test = train_test_split(X, y, random_state=42)\n",
    "\n",
    "from sklearn.ensemble import RandomForestClassifier\n",
    "from sklearn.ensemble import VotingClassifier\n",
    "from sklearn.linear_model import LogisticRegression\n",
    "from sklearn.svm import SVC\n",
    "\n",
    "log_clf = LogisticRegression(solver='lbfgs', random_state=42)\n",
    "rnd_clf = RandomForestClassifier(n_estimators=10, random_state=42)\n",
    "svm_clf = SVC(gamma='auto', random_state=42)\n",
    "\n",
    "print('< voting 1 (voting=hard) >')\n",
    "voting_clf = VotingClassifier(\n",
    "    estimators=[('lr', log_clf), ('rf', rnd_clf), ('svc', svm_clf)],\n",
    "    voting='hard')\n",
    "voting_clf.fit(X_train, y_train)\n",
    "\n",
    "from sklearn.metrics import accuracy_score\n",
    "\n",
    "for clf in (log_clf, rnd_clf, svm_clf, voting_clf):\n",
    "    clf.fit(X_train, y_train)\n",
    "    y_pred = clf.predict(X_test)\n",
    "    print(clf.__class__.__name__, accuracy_score(y_test, y_pred))\n",
    "    \n",
    "log_clf = LogisticRegression(solver='liblinear', random_state=42)\n",
    "rnd_clf = RandomForestClassifier(n_estimators=10, random_state=42)\n",
    "svm_clf = SVC(gamma='auto', probability=True, random_state=42)\n",
    "\n",
    "print('\\n< voting 2 (voting=soft) >')\n",
    "voting_clf = VotingClassifier(\n",
    "    estimators=[('lr', log_clf), ('rf', rnd_clf), ('svc', svm_clf)],\n",
    "    voting='soft')\n",
    "voting_clf.fit(X_train, y_train)\n",
    "\n",
    "from sklearn.metrics import accuracy_score\n",
    "\n",
    "for clf in (log_clf, rnd_clf, svm_clf, voting_clf):\n",
    "    clf.fit(X_train, y_train)\n",
    "    y_pred = clf.predict(X_test)\n",
    "    print(clf.__class__.__name__, accuracy_score(y_test, y_pred))"
   ]
  },
  {
   "cell_type": "code",
   "execution_count": 482,
   "metadata": {},
   "outputs": [
    {
     "name": "stdout",
     "output_type": "stream",
     "text": [
      "Bagging 및 Tree 정확도\n",
      "\n",
      "BaggingClassifier 0.904\n",
      "DecisionTreeClassifier 0.856\n"
     ]
    }
   ],
   "source": [
    "print('Bagging 및 Tree 정확도\\n')\n",
    "from sklearn.ensemble import BaggingClassifier\n",
    "from sklearn.tree import DecisionTreeClassifier\n",
    "\n",
    "bag_clf = BaggingClassifier(\n",
    "    DecisionTreeClassifier(random_state=42), n_estimators=500,\n",
    "    max_samples=100, bootstrap=True, n_jobs=-1, random_state=42)\n",
    "bag_clf.fit(X_train, y_train)\n",
    "y_pred = bag_clf.predict(X_test)\n",
    "\n",
    "from sklearn.metrics import accuracy_score\n",
    "print(bag_clf.__class__.__name__, accuracy_score(y_test, y_pred))\n",
    "\n",
    "tree_clf = DecisionTreeClassifier(random_state=42)\n",
    "tree_clf.fit(X_train, y_train)\n",
    "y_pred_tree = tree_clf.predict(X_test)\n",
    "print(tree_clf.__class__.__name__, accuracy_score(y_test, y_pred_tree))"
   ]
  },
  {
   "cell_type": "markdown",
   "metadata": {},
   "source": [
    "#### 시각화"
   ]
  },
  {
   "cell_type": "code",
   "execution_count": 483,
   "metadata": {},
   "outputs": [],
   "source": [
    "from matplotlib.colors import ListedColormap\n",
    "\n",
    "def plot_decision_boundary(clf, X, y, axes=[-1.5, 2.5, -1, 1.5], alpha=0.5, contour=True):\n",
    "    x1s = np.linspace(axes[0], axes[1], 100)\n",
    "    x2s = np.linspace(axes[2], axes[3], 100)\n",
    "    x1, x2 = np.meshgrid(x1s, x2s)\n",
    "    X_new = np.c_[x1.ravel(), x2.ravel()]\n",
    "    y_pred = clf.predict(X_new).reshape(x1.shape)\n",
    "    custom_cmap = ListedColormap(['#fafab0','#9898ff','#a0faa0'])\n",
    "    plt.contourf(x1, x2, y_pred, alpha=0.3, cmap=custom_cmap)\n",
    "    if contour:\n",
    "        custom_cmap2 = ListedColormap(['#7d7d58','#4c4c7f','#507d50'])\n",
    "        plt.contour(x1, x2, y_pred, cmap=custom_cmap2, alpha=0.8)\n",
    "    plt.plot(X[:, 0][y==0], X[:, 1][y==0], \"yo\", alpha=alpha)\n",
    "    plt.plot(X[:, 0][y==1], X[:, 1][y==1], \"bs\", alpha=alpha)\n",
    "    plt.axis(axes)\n",
    "    plt.xlabel(r\"$x_1$\", fontsize=18)\n",
    "    plt.ylabel(r\"$x_2$\", fontsize=18, rotation=0)"
   ]
  },
  {
   "cell_type": "code",
   "execution_count": 484,
   "metadata": {},
   "outputs": [
    {
     "data": {
      "image/png": "[encoded data removed]",
      "text/plain": [
       "<Figure size 792x288 with 2 Axes>"
      ]
     },
     "metadata": {},
     "output_type": "display_data"
    }
   ],
   "source": [
    "plt.figure(figsize=(11,4))\n",
    "plt.subplot(121)\n",
    "plot_decision_boundary(tree_clf, X, y)\n",
    "plt.title(\"결정 트리\", fontsize=14)\n",
    "plt.subplot(122)\n",
    "plot_decision_boundary(bag_clf, X, y)\n",
    "plt.title(\"배깅을 사용한 결정 트리\", fontsize=14)\n",
    "plt.show()"
   ]
  },
  {
   "cell_type": "markdown",
   "metadata": {},
   "source": [
    "### 시각화 ZERO to MASTER"
   ]
  },
  {
   "cell_type": "code",
   "execution_count": 485,
   "metadata": {
    "scrolled": true
   },
   "outputs": [
    {
     "name": "stdout",
     "output_type": "stream",
     "text": [
      "x1, x2's shape (100, 100) (100, 100)\n"
     ]
    },
    {
     "data": {
      "image/png": "[encoded data removed]",
      "text/plain": [
       "<Figure size 432x288 with 1 Axes>"
      ]
     },
     "metadata": {},
     "output_type": "display_data"
    }
   ],
   "source": [
    "axes=[-1.5, 2.5, -1, 1.5]\n",
    "alpha = .5\n",
    "contour = True\n",
    "# axes 만들기 밑바닥\n",
    "# n=100\n",
    "x1s = np.linspace(axes[0], axes[1], 100)\n",
    "x2s = np.linspace(axes[2], axes[3], 100)\n",
    "# 위의 상태로는 y=x 직선밖에 먼들지 못함\n",
    "# 즉, numpy의 meshgrid함수를 사용하여 좌표체계를 만들어줌\n",
    "x1, x2 = np.meshgrid(x1s, x2s)\n",
    "print('x1, x2\\'s shape', x1.shape, x2.shape)\n",
    "# 결정경계 시각화를 위해 모든 좌표를 flatten시켜 X_new에 저장\n",
    "X_new = np.c_[x1.ravel(), x2.ravel()]\n",
    "# 이를 clf로 predict하여 label을 얻고 10,000*1을 100*100으로 reshape\n",
    "y_pred = bag_clf.predict(X_new).reshape(x1.shape)\n",
    "# list colormap을 호출, 이는 이산적인 라벨을 적용할 때 효과적\n",
    "custom_cmap = ListedColormap(['#fafab0','#9898ff','#a0faa0'])\n",
    "# 결정경계를 contourf로 그림. 이를 custom_cmap의 3가지 색상으로 시각화\n",
    "plt.contourf(x1, x2, y_pred, alpha=0.3, cmap=custom_cmap)\n",
    "# contour가 True라면 더 선명하게하여 경계선을 그림\n",
    "if contour:\n",
    "    custom_cmap2 = ListedColormap(['#7d7d58','#4c4c7f','#507d50'])\n",
    "    plt.contour(x1, x2, y_pred, cmap=custom_cmap2, alpha=0.8)\n",
    "# label별 점들을 시각화\n",
    "plt.plot(X[:, 0][y==0], X[:, 1][y==0], \"yo\", alpha=alpha)\n",
    "plt.plot(X[:, 0][y==1], X[:, 1][y==1], \"bs\", alpha=alpha)\n",
    "# 축의 범위를 axes로 맞춰줌\n",
    "plt.axis(axes)\n",
    "# 라벨 설정 및 출력\n",
    "plt.xlabel(r\"$x_1$\", fontsize=18)\n",
    "plt.ylabel(r\"$x_2$\", fontsize=18, rotation=0)\n",
    "plt.show()"
   ]
  },
  {
   "cell_type": "markdown",
   "metadata": {},
   "source": [
    "### 교재로 다시 Try"
   ]
  },
  {
   "cell_type": "code",
   "execution_count": 89,
   "metadata": {},
   "outputs": [
    {
     "name": "stdout",
     "output_type": "stream",
     "text": [
      "bagging accuracy score : 0.92\n",
      "Tree accuracy score : 0.872\n"
     ]
    }
   ],
   "source": [
    "from sklearn.ensemble import BaggingClassifier\n",
    "from sklearn.tree import DecisionTreeClassifier\n",
    "from sklearn.datasets import make_moons\n",
    "from sklearn.model_selection import train_test_split\n",
    "\n",
    "X, y = make_moons(n_samples=500, noise=.25, random_state=3)\n",
    "X_train, X_test, y_train, y_test = train_test_split(X, y, stratify=y,\n",
    "                                                   random_state=42)\n",
    "\n",
    "bag_clf = BaggingClassifier(\n",
    "    DecisionTreeClassifier(random_state=42), n_estimators=500,\n",
    "    max_samples=100, bootstrap=True, n_jobs=-1, random_state=42)\n",
    "bag_clf.fit(X_train, y_train)\n",
    "y_pred = bag_clf.predict(X_test)\n",
    "\n",
    "from sklearn.metrics import accuracy_score\n",
    "print('bagging accuracy score :', accuracy_score(y_test, y_pred))\n",
    "\n",
    "tree_clf = DecisionTreeClassifier(random_state=42)\n",
    "tree_clf.fit(X_train, y_train)\n",
    "y_pred_tree = tree_clf.predict(X_test)\n",
    "print('Tree accuracy score :', accuracy_score(y_test, y_pred_tree))"
   ]
  },
  {
   "cell_type": "markdown",
   "metadata": {},
   "source": [
    "### oob(out of bag) 평가\n",
    "- 배깅을 사용하면 어떤 샘플은 한 예측기를 위해 여러번 sampling되고 어떤 것은 전혀 선택되지 않을 수 있음\n",
    "- BaggingClassifier는 기본값으로 중복을 허용하여(`Bootstrap=True`) 훈련 세트의 크기 만큼인 m개 샘플을 선택\n",
    "- 이는 평균적으로 각 예측기에 훈련 샘플의 63% 정도만 샘플링된다는 것을 의미\n",
    "- 선택되지 않은 훈련 샘플의 나머지 37%는 oob(out-of-bag) 샘플\n",
    "- 예측기마다 남겨진 37%는 모두 다름\n",
    "- 예측기가 훈련되는 동안에는 oob 샘플을 사용하지 않으므로 검증 세트나 교차 검증을 사용하지 않고 oob 샘플을 사용해 평가할 수 있음"
   ]
  },
  {
   "cell_type": "code",
   "execution_count": 90,
   "metadata": {},
   "outputs": [
    {
     "name": "stdout",
     "output_type": "stream",
     "text": [
      "oob score : 0.933333\n",
      "accuracy score : 0.904\n"
     ]
    }
   ],
   "source": [
    "bag_clf = BaggingClassifier(\n",
    "    DecisionTreeClassifier(), n_estimators=500,\n",
    "        bootstrap=True, n_jobs=-1, oob_score=True)\n",
    "bag_clf.fit(X_train, y_train)\n",
    "print('oob score : {:4f}'.format(bag_clf.oob_score_))\n",
    "y_pred = bag_clf.predict(X_test)\n",
    "print('accuracy score :', accuracy_score(y_test, y_pred))"
   ]
  },
  {
   "cell_type": "markdown",
   "metadata": {},
   "source": [
    "### mglearn을 활용한 결정 경계 시각화"
   ]
  },
  {
   "cell_type": "code",
   "execution_count": 106,
   "metadata": {},
   "outputs": [
    {
     "data": {
      "text/plain": [
       "BaggingClassifier(base_estimator=DecisionTreeClassifier(class_weight=None, criterion='gini', max_depth=None,\n",
       "            max_features=None, max_leaf_nodes=None,\n",
       "            min_impurity_decrease=0.0, min_impurity_split=None,\n",
       "            min_samples_leaf=1, min_samples_split=2,\n",
       "            min_weight_fraction_leaf=0.0, presort=False, random_state=None,\n",
       "            splitter='best'),\n",
       "         bootstrap=True, bootstrap_features=False, max_features=1.0,\n",
       "         max_samples=1.0, n_estimators=5, n_jobs=-1, oob_score=False,\n",
       "         random_state=42, verbose=0, warm_start=False)"
      ]
     },
     "execution_count": 106,
     "metadata": {},
     "output_type": "execute_result"
    }
   ],
   "source": [
    "Xm, ym = make_moons(n_samples=100, noise=.25, random_state=3)\n",
    "Xm_train, Xm_test, ym_train, ym_test = train_test_split(\n",
    "    Xm, ym, stratify=ym, random_state=42)\n",
    "bagging = BaggingClassifier(\n",
    "        DecisionTreeClassifier(), n_estimators=5,\n",
    "        n_jobs=-1, random_state=42)\n",
    "bagging.fit(Xm_train, ym_train)"
   ]
  },
  {
   "cell_type": "code",
   "execution_count": 107,
   "metadata": {},
   "outputs": [
    {
     "data": {
      "image/png": "[encoded data removed]",
      "text/plain": [
       "<Figure size 1080x576 with 6 Axes>"
      ]
     },
     "metadata": {},
     "output_type": "display_data"
    }
   ],
   "source": [
    "import mglearn\n",
    "fig, axes = plt.subplots(2, 3, figsize=(15, 8))\n",
    "# Bagging Tree의 각 estimator를 출력\n",
    "for i, (ax, tree) in enumerate(zip(axes.ravel(), bagging.estimators_)):\n",
    "    ax.set_title(\"Tree {}\".format(i))\n",
    "    mglearn.plots.plot_tree_partition(Xm, ym, tree, ax=ax)\n",
    "# Bagging Tree의 결정 경계를 출력\n",
    "mglearn.plots.plot_2d_separator(bagging, Xm ,fill=True, ax=axes[-1, -1], alpha=.4)\n",
    "axes[-1, -1].set_title(\"Bagging\")\n",
    "mglearn.discrete_scatter(Xm[:, 0], Xm[:, 1], ym)\n",
    "plt.show()"
   ]
  },
  {
   "cell_type": "markdown",
   "metadata": {},
   "source": [
    "### Random Forest\n",
    "- Ensemble of DT\n",
    "- 배깅한 Decision Tree\n",
    "- DT에 다양성을 주기 위해\n",
    "    - bagging\n",
    "    - 무작위 속성 구분\n",
    "    - voting\n",
    "- 단일 Decision Tree의 문제점\n",
    "    - train data에 overfitting\n",
    "    - RF는 이를 회피하기 위해 만들어짐\n",
    "- 각 tree는 예측을 잘 하지만\n",
    "    - data 일부에 overfitting되버림\n",
    "    - 그래서 잘 작동하되, 서로 다른 다양한 방향으로 overfit된 tree를 아주 많이 만들어버림\n",
    "    - 이거를 평균하거나 가중 voting하여 tree의 overfitting 문제 해결\n",
    "- 각 tree는\n",
    "    - target값을 잘 예측해야 하고\n",
    "    - 다른 트리와는 구별되어야 함(상관관계가 적어야 함)\n",
    "    - 즉, tree가 서로 달라지도록 randomness를 부여해야 함\n",
    "    - 이를 위한 방법은 두 가지\n",
    "        - 데이터 포인트를 무작위로 선정\n",
    "        - 분할 test에서 특성을 무작위로 선택\n",
    "- hyperparameter\n",
    "    - n_estimators : 트리 갯수\n",
    "    - n_sample : bootstrap시 샘플의 수\n",
    "    - max_feature : 각 트리가 얼마나 무작위가 될지를 결정\n",
    "        - 높이면 tree들은 서로 비슷해짐\n",
    "    - max_leaf_nodes : 노드 수 제한\n",
    "    - max_depth : pre-pruning"
   ]
  },
  {
   "cell_type": "code",
   "execution_count": 108,
   "metadata": {},
   "outputs": [
    {
     "data": {
      "text/plain": [
       "RandomForestClassifier(bootstrap=True, class_weight=None, criterion='gini',\n",
       "            max_depth=None, max_features='auto', max_leaf_nodes=None,\n",
       "            min_impurity_decrease=0.0, min_impurity_split=None,\n",
       "            min_samples_leaf=1, min_samples_split=2,\n",
       "            min_weight_fraction_leaf=0.0, n_estimators=5, n_jobs=-1,\n",
       "            oob_score=False, random_state=42, verbose=0, warm_start=False)"
      ]
     },
     "execution_count": 108,
     "metadata": {},
     "output_type": "execute_result"
    }
   ],
   "source": [
    "Xm, ym = make_moons(n_samples=100, noise=.25, random_state=3)\n",
    "Xm_train, Xm_test, ym_train, ym_test = train_test_split(\n",
    "    Xm, ym, stratify=ym, random_state=42)\n",
    "rf_clf = RandomForestClassifier(n_estimators=5, \n",
    "                                n_jobs=-1, random_state=42)\n",
    "rf_clf.fit(Xm_train, ym_train)"
   ]
  },
  {
   "cell_type": "code",
   "execution_count": 109,
   "metadata": {},
   "outputs": [
    {
     "data": {
      "image/png": "[encoded data removed]",
      "text/plain": [
       "<Figure size 1080x576 with 6 Axes>"
      ]
     },
     "metadata": {},
     "output_type": "display_data"
    }
   ],
   "source": [
    "fig, axes = plt.subplots(2, 3, figsize=(15, 8))\n",
    "# RandomForest Tree의 각 estimator를 출력\n",
    "for i, (ax, tree) in enumerate(zip(axes.ravel(), rf_clf.estimators_)):\n",
    "    ax.set_title(\"Tree {}\".format(i))\n",
    "    mglearn.plots.plot_tree_partition(Xm, ym, tree, ax=ax)\n",
    "# RandomForest Tree의 결정 경계를 출력\n",
    "mglearn.plots.plot_2d_separator(rf_clf, Xm ,fill=True, ax=axes[-1, -1], alpha=.4)\n",
    "axes[-1, -1].set_title(\"RandomForestCLF\")\n",
    "mglearn.discrete_scatter(Xm[:, 0], Xm[:, 1], ym)\n",
    "plt.show()"
   ]
  },
  {
   "cell_type": "code",
   "execution_count": 105,
   "metadata": {},
   "outputs": [
    {
     "data": {
      "image/png": "[encoded data removed]",
      "text/plain": [
       "<Figure size 1080x576 with 6 Axes>"
      ]
     },
     "metadata": {},
     "output_type": "display_data"
    }
   ],
   "source": [
    "# n_estimator를 늘려서 재출력\n",
    "\n",
    "fig, axes = plt.subplots(2, 3, figsize=(15, 8))\n",
    "# RandomForest Tree의 각 estimator를 출력\n",
    "for i, (ax, tree) in enumerate(zip(axes.ravel(), rf_clf.estimators_)):\n",
    "    ax.set_title(\"Tree {}\".format(i))\n",
    "    mglearn.plots.plot_tree_partition(Xm, ym, tree, ax=ax)\n",
    "    \n",
    "# 재 학습\n",
    "rf_clf = RandomForestClassifier(n_estimators=2000, \n",
    "                                n_jobs=-1, random_state=42)\n",
    "rf_clf.fit(Xm_train, ym_train)\n",
    "\n",
    "mglearn.plots.plot_2d_separator(rf_clf, Xm ,fill=True, ax=axes[-1, -1], alpha=.4)\n",
    "axes[-1, -1].set_title(\"RandomForestCLF\")\n",
    "mglearn.discrete_scatter(Xm[:, 0], Xm[:, 1], ym)\n",
    "plt.show()"
   ]
  },
  {
   "cell_type": "markdown",
   "metadata": {},
   "source": [
    "### 다른 시각화"
   ]
  },
  {
   "cell_type": "code",
   "execution_count": 114,
   "metadata": {},
   "outputs": [
    {
     "data": {
      "image/png": "[encoded data removed]",
      "text/plain": [
       "<Figure size 1080x288 with 3 Axes>"
      ]
     },
     "metadata": {},
     "output_type": "display_data"
    }
   ],
   "source": [
    "# n_estimators = 5\n",
    "Xm, ym = make_moons(n_samples=100, noise=.25, random_state=3)\n",
    "Xm_train, Xm_test, ym_train, ym_test = train_test_split(\n",
    "    Xm, ym, stratify=ym, random_state=42)\n",
    "\n",
    "bagging = BaggingClassifier(\n",
    "        DecisionTreeClassifier(), n_estimators=5,\n",
    "        n_jobs=-1, random_state=42)\n",
    "bagging.fit(Xm_train, ym_train)\n",
    "\n",
    "rf_clf = RandomForestClassifier(n_estimators=5, \n",
    "                                n_jobs=-1, random_state=42)\n",
    "rf_clf.fit(Xm_train, ym_train)\n",
    "\n",
    "# max_features = 1\n",
    "rf_clf2 = RandomForestClassifier(n_estimators=5, max_features=1,\n",
    "                                n_jobs=-1, random_state=42)\n",
    "rf_clf2.fit(Xm_train, ym_train)\n",
    "\n",
    "# 시각화\n",
    "plt.figure(figsize=(15,4))\n",
    "plt.subplot(131)\n",
    "plot_decision_boundary(bagging, Xm, ym)\n",
    "plt.title(\"배깅을 사용한 결정 트리\", fontsize=14)\n",
    "plt.subplot(132)\n",
    "plot_decision_boundary(rf_clf, Xm, ym)\n",
    "plt.title(\"랜덤 포래스트를을 사용한 결정 트리\", fontsize=14)\n",
    "plt.subplot(133)\n",
    "# 똑같다!! max_featuer's default == auto, sqrt(num_features) = sqrt(2) == 1\n",
    "plot_decision_boundary(rf_clf2, Xm, ym)\n",
    "plt.title(\"랜덤 포래스트를을 사용한 결정 트리\", fontsize=14)\n",
    "plt.show()"
   ]
  },
  {
   "cell_type": "markdown",
   "metadata": {},
   "source": [
    "### Feature Importance"
   ]
  },
  {
   "cell_type": "code",
   "execution_count": 26,
   "metadata": {},
   "outputs": [
    {
     "name": "stdout",
     "output_type": "stream",
     "text": [
      "sepal length (cm) = 0.112492\n",
      "sepal width (cm) = 0.023119\n",
      "petal length (cm) = 0.441030\n",
      "petal width (cm) = 0.423358\n"
     ]
    }
   ],
   "source": [
    "from sklearn.ensemble import RandomForestClassifier\n",
    "from sklearn.datasets import load_iris\n",
    "iris = load_iris()\n",
    "rf_clf = RandomForestClassifier(n_estimators=500, n_jobs=-1, random_state=42)\n",
    "rf_clf.fit(iris.data, iris.target)\n",
    "for name, importance in zip(iris['feature_names'], rf_clf.feature_importances_):\n",
    "    print(name, \"= {:4f}\".format(importance))"
   ]
  },
  {
   "cell_type": "code",
   "execution_count": 34,
   "metadata": {},
   "outputs": [
    {
     "data": {
      "image/png": "[encoded data removed]",
      "text/plain": [
       "<Figure size 432x288 with 1 Axes>"
      ]
     },
     "metadata": {},
     "output_type": "display_data"
    }
   ],
   "source": [
    "features= iris['feature_names']\n",
    "importances = rf_clf.feature_importances_\n",
    "indices = np.argsort(importances)\n",
    "\n",
    "plt.title('Feature Importances')\n",
    "plt.barh(range(len(indices)), importances[indices], color=['k','g','b','r'], align='center')\n",
    "plt.yticks(range(len(indices)), [features[i] for i in indices])\n",
    "plt.xlabel('Relative Importance')\n",
    "plt.show()"
   ]
  },
  {
   "cell_type": "markdown",
   "metadata": {},
   "source": [
    "## 5-3 Boosting"
   ]
  },
  {
   "cell_type": "markdown",
   "metadata": {},
   "source": [
    "### 부스팅\n",
    "- weak learner로 잘못 분류된 경우의 가중치를 증가시켜서 점차 분류해 나가는 기법\n",
    "- 출처 : http://uc-r.github.io/gbm_regression\n",
    "- 부스팅의 아이디어\n",
    "    -Sequential하게 모델을 훈련시키자!\n",
    "![title](http://uc-r.github.io/public/images/analytics/gbm/boosted-trees-process.png)"
   ]
  },
  {
   "cell_type": "markdown",
   "metadata": {},
   "source": [
    "### AdaBoost\n",
    "- 자주 잘못 분류되는 예제에 좀 더 가중치를 두어 학습\n",
    "- 좀 더 큰 비율로 반복 학습하는 weak learner를 생성해서 결론은 뽑는 기법\n",
    "- 역시 tree 기반이지만, RandomForest와 달리 tree들이 독립적으로 존재하지는 않음"
   ]
  },
  {
   "cell_type": "markdown",
   "metadata": {},
   "source": [
    ">### 의사결정 스텀프로 weak 학습기 생성하기\n",
    "- 의사결정 스텀프 : 모 아니면 도, 하나의 속성에 대한 것을 의미\n",
    "- 간단한 의사결정 트리\n",
    "- 하나의 속성에 대한 하나의 의사결정을 만드는 것\n",
    "- 단지 하나의 분할을 가지는 트리이며 이것이 곧 하나의 스텀프"
   ]
  },
  {
   "cell_type": "code",
   "execution_count": 124,
   "metadata": {},
   "outputs": [],
   "source": [
    "def load_simp_data():\n",
    "    data_mat = np.mat(\n",
    "            [[1., 2.1],\n",
    "             [2, 1.1],\n",
    "             [1.3, 1.],\n",
    "             [1., 1.],\n",
    "             [2., 1.]])\n",
    "    class_label = [1., 1., -1., -1., 1.]\n",
    "    return data_mat, class_label"
   ]
  },
  {
   "cell_type": "code",
   "execution_count": 125,
   "metadata": {},
   "outputs": [],
   "source": [
    "data_mat, class_label = load_simp_data()"
   ]
  },
  {
   "cell_type": "code",
   "execution_count": 126,
   "metadata": {},
   "outputs": [
    {
     "data": {
      "text/plain": [
       "[1.0, 1.0, -1.0, -1.0, 1.0]"
      ]
     },
     "execution_count": 126,
     "metadata": {},
     "output_type": "execute_result"
    }
   ],
   "source": [
    "class_label"
   ]
  },
  {
   "cell_type": "code",
   "execution_count": 253,
   "metadata": {},
   "outputs": [
    {
     "data": {
      "image/png": "[encoded data removed]",
      "text/plain": [
       "<Figure size 432x288 with 1 Axes>"
      ]
     },
     "metadata": {},
     "output_type": "display_data"
    }
   ],
   "source": [
    "y_1 = np.where(np.array(class_label) == 1.0)[0]\n",
    "y_m1 = np.where(np.array(class_label) != 1.0)[0]\n",
    "plt.plot(data_mat[y_1][:, 0], data_mat[y_1][:, 1], marker='o', ls='',\n",
    "        label='Y == 1.0', markersize=10, color='r')\n",
    "plt.plot(data_mat[y_m1][:, 0], data_mat[y_m1][:, 1], marker='s', ls='',\n",
    "        label='Y !=  1.0', markersize=10, color='b')\n",
    "for pt in data_mat:\n",
    "    x, y = pt[0,0], pt[0,1]\n",
    "    txt = str(x) + ', ' + str(y)\n",
    "    plt.text(x=x+.03, y=y-.02, s=txt)\n",
    "plt.axis([.9, 2.2, .9, 2.2])\n",
    "plt.grid(True)\n",
    "plt.legend(shadow=True, fontsize=12)\n",
    "plt.title('Decision Stump Test Data', fontsize=15)\n",
    "plt.show()"
   ]
  },
  {
   "cell_type": "markdown",
   "metadata": {},
   "source": [
    "- 위의 분류 문제를 Decision Tree로 해결하기 어려움"
   ]
  },
  {
   "cell_type": "markdown",
   "metadata": {},
   "source": [
    ">### 의사결정 스텀프 생성 함수\n",
    "```\n",
    "Set the minError to +inf\n",
    "// +inf를 위해 minError를 설정\n",
    "For every feature in the dataset:\n",
    "// 데이터 집합에 있는 모든 속성을 반복\n",
    "    For every step:\n",
    "    // 모든 단계를 반복\n",
    "        For each inequality:\n",
    "        // 각각에 대해 부등호를 반복\n",
    "            Build a decision stump and test it with the weighted dataset\n",
    "            // 의사결정 스텀프를 구축하고, 가중치가 부여된 데이터 집합을 검사\n",
    "            if the error is less than minError:\n",
    "                set this stump as the best stump\n",
    "            // 오류가 minError보다 작으면, 이 스텀프를 가장 좋은 스텀프로 설정\n",
    "Return the best stump\n",
    "// 가장 좋은 스텀프 반환\n",
    "```"
   ]
  },
  {
   "cell_type": "code",
   "execution_count": 337,
   "metadata": {},
   "outputs": [],
   "source": [
    "def stump_classify(data_mat, dim, thresh, thresh_lneq): # just classify the data\n",
    "    ret_arr = np.ones((data_mat.shape[0], 1))\n",
    "    if thresh_lneq == 'lt':\n",
    "        ret_arr[data_mat[:, dim] <= thresh] = -1.\n",
    "    else:\n",
    "        ret_arr[data_mat[:, dim] > thresh] = -1.\n",
    "    return ret_arr\n",
    "\n",
    "def build_stump(data_arr, class_label, D, silent=False):\n",
    "    data_mat, label_mat = np.mat(data_arr), np.mat(class_label).T\n",
    "    m, n = np.shape(data_mat)\n",
    "    num_steps = 10.; best_stump = {}; best_class_est = np.mat(np.zeros((m, 1)))\n",
    "    min_err = np.inf # init error sum, to _infinity\n",
    "    for i in range(n): # loop over all dimensions\n",
    "        range_min, range_max = data_mat[:, i].min(), data_mat[:, i].max()\n",
    "        step_size = (range_max - range_min) / num_steps\n",
    "        for j in range(-1, int(num_steps) + 1): # loop iver all range in current dimension\n",
    "            for inequal in ['lt', 'gt']: # go over less than and greater than\n",
    "                thresh = (range_min + float(j) * step_size)\n",
    "                # call stump classify with i, j, lessThan\n",
    "                predicted_value = stump_classify(data_mat, i, thresh, inequal)\n",
    "                err_arr = np.mat(np.ones((m, 1)))\n",
    "                err_arr[predicted_value == label_mat] = 0\n",
    "                weighted_err = D.T * err_arr # calc total error multiplied by D\n",
    "                if not silent:\n",
    "                    print(\"split : dim {} thersh {:.3f}, \\\n",
    "                        thresh inequal : {}, the weighted error is {}\"\\\n",
    "                     .format(i, thresh, inequal, weighted_err))\n",
    "                if weighted_err < min_err:\n",
    "                    min_err = weighted_err\n",
    "                    best_class_est = predicted_value.copy()\n",
    "                    best_stump['dim'] = i\n",
    "                    best_stump['thresh'] = thresh\n",
    "                    best_stump['ineq'] = inequal\n",
    "    return best_stump, min_err, best_class_est"
   ]
  },
  {
   "cell_type": "code",
   "execution_count": 215,
   "metadata": {
    "scrolled": true
   },
   "outputs": [
    {
     "name": "stdout",
     "output_type": "stream",
     "text": [
      "split : dim 0 thersh 0.900,                     thresh inequal : lt, the weighted error is [[0.4]]\n",
      "split : dim 0 thersh 0.900,                     thresh inequal : gt, the weighted error is [[0.6]]\n",
      "split : dim 0 thersh 1.000,                     thresh inequal : lt, the weighted error is [[0.4]]\n",
      "split : dim 0 thersh 1.000,                     thresh inequal : gt, the weighted error is [[0.6]]\n",
      "split : dim 0 thersh 1.100,                     thresh inequal : lt, the weighted error is [[0.4]]\n",
      "split : dim 0 thersh 1.100,                     thresh inequal : gt, the weighted error is [[0.6]]\n",
      "split : dim 0 thersh 1.200,                     thresh inequal : lt, the weighted error is [[0.4]]\n",
      "split : dim 0 thersh 1.200,                     thresh inequal : gt, the weighted error is [[0.6]]\n",
      "split : dim 0 thersh 1.300,                     thresh inequal : lt, the weighted error is [[0.2]]\n",
      "split : dim 0 thersh 1.300,                     thresh inequal : gt, the weighted error is [[0.8]]\n",
      "split : dim 0 thersh 1.400,                     thresh inequal : lt, the weighted error is [[0.2]]\n",
      "split : dim 0 thersh 1.400,                     thresh inequal : gt, the weighted error is [[0.8]]\n",
      "split : dim 0 thersh 1.500,                     thresh inequal : lt, the weighted error is [[0.2]]\n",
      "split : dim 0 thersh 1.500,                     thresh inequal : gt, the weighted error is [[0.8]]\n",
      "split : dim 0 thersh 1.600,                     thresh inequal : lt, the weighted error is [[0.2]]\n",
      "split : dim 0 thersh 1.600,                     thresh inequal : gt, the weighted error is [[0.8]]\n",
      "split : dim 0 thersh 1.700,                     thresh inequal : lt, the weighted error is [[0.2]]\n",
      "split : dim 0 thersh 1.700,                     thresh inequal : gt, the weighted error is [[0.8]]\n",
      "split : dim 0 thersh 1.800,                     thresh inequal : lt, the weighted error is [[0.2]]\n",
      "split : dim 0 thersh 1.800,                     thresh inequal : gt, the weighted error is [[0.8]]\n",
      "split : dim 0 thersh 1.900,                     thresh inequal : lt, the weighted error is [[0.2]]\n",
      "split : dim 0 thersh 1.900,                     thresh inequal : gt, the weighted error is [[0.8]]\n",
      "split : dim 0 thersh 2.000,                     thresh inequal : lt, the weighted error is [[0.6]]\n",
      "split : dim 0 thersh 2.000,                     thresh inequal : gt, the weighted error is [[0.4]]\n",
      "split : dim 1 thersh 0.890,                     thresh inequal : lt, the weighted error is [[0.4]]\n",
      "split : dim 1 thersh 0.890,                     thresh inequal : gt, the weighted error is [[0.6]]\n",
      "split : dim 1 thersh 1.000,                     thresh inequal : lt, the weighted error is [[0.2]]\n",
      "split : dim 1 thersh 1.000,                     thresh inequal : gt, the weighted error is [[0.8]]\n",
      "split : dim 1 thersh 1.110,                     thresh inequal : lt, the weighted error is [[0.4]]\n",
      "split : dim 1 thersh 1.110,                     thresh inequal : gt, the weighted error is [[0.6]]\n",
      "split : dim 1 thersh 1.220,                     thresh inequal : lt, the weighted error is [[0.4]]\n",
      "split : dim 1 thersh 1.220,                     thresh inequal : gt, the weighted error is [[0.6]]\n",
      "split : dim 1 thersh 1.330,                     thresh inequal : lt, the weighted error is [[0.4]]\n",
      "split : dim 1 thersh 1.330,                     thresh inequal : gt, the weighted error is [[0.6]]\n",
      "split : dim 1 thersh 1.440,                     thresh inequal : lt, the weighted error is [[0.4]]\n",
      "split : dim 1 thersh 1.440,                     thresh inequal : gt, the weighted error is [[0.6]]\n",
      "split : dim 1 thersh 1.550,                     thresh inequal : lt, the weighted error is [[0.4]]\n",
      "split : dim 1 thersh 1.550,                     thresh inequal : gt, the weighted error is [[0.6]]\n",
      "split : dim 1 thersh 1.660,                     thresh inequal : lt, the weighted error is [[0.4]]\n",
      "split : dim 1 thersh 1.660,                     thresh inequal : gt, the weighted error is [[0.6]]\n",
      "split : dim 1 thersh 1.770,                     thresh inequal : lt, the weighted error is [[0.4]]\n",
      "split : dim 1 thersh 1.770,                     thresh inequal : gt, the weighted error is [[0.6]]\n",
      "split : dim 1 thersh 1.880,                     thresh inequal : lt, the weighted error is [[0.4]]\n",
      "split : dim 1 thersh 1.880,                     thresh inequal : gt, the weighted error is [[0.6]]\n",
      "split : dim 1 thersh 1.990,                     thresh inequal : lt, the weighted error is [[0.4]]\n",
      "split : dim 1 thersh 1.990,                     thresh inequal : gt, the weighted error is [[0.6]]\n",
      "split : dim 1 thersh 2.100,                     thresh inequal : lt, the weighted error is [[0.6]]\n",
      "split : dim 1 thersh 2.100,                     thresh inequal : gt, the weighted error is [[0.4]]\n"
     ]
    },
    {
     "data": {
      "text/plain": [
       "({'dim': 0, 'thresh': 1.3, 'ineq': 'lt'}, matrix([[0.2]]), array([[-1.],\n",
       "        [ 1.],\n",
       "        [-1.],\n",
       "        [-1.],\n",
       "        [ 1.]]))"
      ]
     },
     "execution_count": 215,
     "metadata": {},
     "output_type": "execute_result"
    }
   ],
   "source": [
    "D = np.mat(np.ones((5, 1)) / 5)\n",
    "build_stump(data_mat, class_label, D)"
   ]
  },
  {
   "cell_type": "markdown",
   "metadata": {},
   "source": [
    ">### 의사결정 스텀프로 AdaBoost 학습 구현\n",
    "    For each iteration:\n",
    "        Find the best stump using buildStump()\n",
    "        // 가장 좋은 스텀프 착지\n",
    "        Add the best stump to the stump array\n",
    "        // 스텀프 배열에 가장 좋은 스텀프 추가\n",
    "        Calculate alpha\n",
    "        // 알파 계산\n",
    "        Calculate the new weight vector - D\n",
    "        // 새로운 가중치 벡터 D 계산\n",
    "        Update the aggregate calss estimate\n",
    "        // 집계된 분류 항목의 추정치를 계산\n",
    "        if the error rate == 0.0:\n",
    "            break out of the for loop\n",
    "        // 오류율이 0.0이면 반복문 종료"
   ]
  },
  {
   "cell_type": "code",
   "execution_count": 216,
   "metadata": {},
   "outputs": [],
   "source": [
    "def adaBoostTrainDS(data_arr, class_label, num=40):\n",
    "    weak_class_arr = []\n",
    "    m = data_arr.shape[0]\n",
    "    D = np.mat(np.ones((m, 1)) / m) # init D to all equal\n",
    "    agg_class_est = np.mat(np.zeros((m, 1)))\n",
    "    for i in range(num):\n",
    "        best_stump, err, class_est = build_stump(data_arr, class_label, D) # build Stump\n",
    "        print(\"D : {}\".format(D.T))\n",
    "        # calc alpha, throw in max(error, eps) to account for error=0\n",
    "        alpha = float(.5 * np.log((1. - err) / max(err, 1e-16)))\n",
    "        best_stump['alpha'] = alpha\n",
    "        weak_class_arr.append(best_stump) # store stump params in Array\n",
    "        print('classEst: {}'.format(class_est.T))\n",
    "        # exponent for 0 calc, getting messy\n",
    "        expon = np.multiply(-1 * alpha * np.mat(class_label).T, class_est)\n",
    "        D = np.multiply(D, np.exp(expon)) # calc new D for next iteration\n",
    "        D = D / D.sum()\n",
    "        # calc training error of all calssifies,\n",
    "        # if this is 0 quit for loop early (use break)\n",
    "        agg_class_est += alpha * class_est\n",
    "        print('aggClassEst: {}'.format(agg_class_est.T))\n",
    "        agg_err = np.multiply(np.sign(agg_class_est) != np.mat(class_label).T, np.ones((m, 1)))\n",
    "        error_rate = agg_err.sum() / m\n",
    "        print('total error: {}'.format(error_rate))\n",
    "        if error_rate == 0.:\n",
    "            break\n",
    "    return weak_class_arr"
   ]
  },
  {
   "cell_type": "code",
   "execution_count": 218,
   "metadata": {},
   "outputs": [
    {
     "name": "stdout",
     "output_type": "stream",
     "text": [
      "split : dim 0 thersh 0.900,                     thresh inequal : lt, the weighted error is [[0.4]]\n",
      "split : dim 0 thersh 0.900,                     thresh inequal : gt, the weighted error is [[0.6]]\n",
      "split : dim 0 thersh 1.000,                     thresh inequal : lt, the weighted error is [[0.4]]\n",
      "split : dim 0 thersh 1.000,                     thresh inequal : gt, the weighted error is [[0.6]]\n",
      "split : dim 0 thersh 1.100,                     thresh inequal : lt, the weighted error is [[0.4]]\n",
      "split : dim 0 thersh 1.100,                     thresh inequal : gt, the weighted error is [[0.6]]\n",
      "split : dim 0 thersh 1.200,                     thresh inequal : lt, the weighted error is [[0.4]]\n",
      "split : dim 0 thersh 1.200,                     thresh inequal : gt, the weighted error is [[0.6]]\n",
      "split : dim 0 thersh 1.300,                     thresh inequal : lt, the weighted error is [[0.2]]\n",
      "split : dim 0 thersh 1.300,                     thresh inequal : gt, the weighted error is [[0.8]]\n",
      "split : dim 0 thersh 1.400,                     thresh inequal : lt, the weighted error is [[0.2]]\n",
      "split : dim 0 thersh 1.400,                     thresh inequal : gt, the weighted error is [[0.8]]\n",
      "split : dim 0 thersh 1.500,                     thresh inequal : lt, the weighted error is [[0.2]]\n",
      "split : dim 0 thersh 1.500,                     thresh inequal : gt, the weighted error is [[0.8]]\n",
      "split : dim 0 thersh 1.600,                     thresh inequal : lt, the weighted error is [[0.2]]\n",
      "split : dim 0 thersh 1.600,                     thresh inequal : gt, the weighted error is [[0.8]]\n",
      "split : dim 0 thersh 1.700,                     thresh inequal : lt, the weighted error is [[0.2]]\n",
      "split : dim 0 thersh 1.700,                     thresh inequal : gt, the weighted error is [[0.8]]\n",
      "split : dim 0 thersh 1.800,                     thresh inequal : lt, the weighted error is [[0.2]]\n",
      "split : dim 0 thersh 1.800,                     thresh inequal : gt, the weighted error is [[0.8]]\n",
      "split : dim 0 thersh 1.900,                     thresh inequal : lt, the weighted error is [[0.2]]\n",
      "split : dim 0 thersh 1.900,                     thresh inequal : gt, the weighted error is [[0.8]]\n",
      "split : dim 0 thersh 2.000,                     thresh inequal : lt, the weighted error is [[0.6]]\n",
      "split : dim 0 thersh 2.000,                     thresh inequal : gt, the weighted error is [[0.4]]\n",
      "split : dim 1 thersh 0.890,                     thresh inequal : lt, the weighted error is [[0.4]]\n",
      "split : dim 1 thersh 0.890,                     thresh inequal : gt, the weighted error is [[0.6]]\n",
      "split : dim 1 thersh 1.000,                     thresh inequal : lt, the weighted error is [[0.2]]\n",
      "split : dim 1 thersh 1.000,                     thresh inequal : gt, the weighted error is [[0.8]]\n",
      "split : dim 1 thersh 1.110,                     thresh inequal : lt, the weighted error is [[0.4]]\n",
      "split : dim 1 thersh 1.110,                     thresh inequal : gt, the weighted error is [[0.6]]\n",
      "split : dim 1 thersh 1.220,                     thresh inequal : lt, the weighted error is [[0.4]]\n",
      "split : dim 1 thersh 1.220,                     thresh inequal : gt, the weighted error is [[0.6]]\n",
      "split : dim 1 thersh 1.330,                     thresh inequal : lt, the weighted error is [[0.4]]\n",
      "split : dim 1 thersh 1.330,                     thresh inequal : gt, the weighted error is [[0.6]]\n",
      "split : dim 1 thersh 1.440,                     thresh inequal : lt, the weighted error is [[0.4]]\n",
      "split : dim 1 thersh 1.440,                     thresh inequal : gt, the weighted error is [[0.6]]\n",
      "split : dim 1 thersh 1.550,                     thresh inequal : lt, the weighted error is [[0.4]]\n",
      "split : dim 1 thersh 1.550,                     thresh inequal : gt, the weighted error is [[0.6]]\n",
      "split : dim 1 thersh 1.660,                     thresh inequal : lt, the weighted error is [[0.4]]\n",
      "split : dim 1 thersh 1.660,                     thresh inequal : gt, the weighted error is [[0.6]]\n",
      "split : dim 1 thersh 1.770,                     thresh inequal : lt, the weighted error is [[0.4]]\n",
      "split : dim 1 thersh 1.770,                     thresh inequal : gt, the weighted error is [[0.6]]\n",
      "split : dim 1 thersh 1.880,                     thresh inequal : lt, the weighted error is [[0.4]]\n",
      "split : dim 1 thersh 1.880,                     thresh inequal : gt, the weighted error is [[0.6]]\n",
      "split : dim 1 thersh 1.990,                     thresh inequal : lt, the weighted error is [[0.4]]\n",
      "split : dim 1 thersh 1.990,                     thresh inequal : gt, the weighted error is [[0.6]]\n",
      "split : dim 1 thersh 2.100,                     thresh inequal : lt, the weighted error is [[0.6]]\n",
      "split : dim 1 thersh 2.100,                     thresh inequal : gt, the weighted error is [[0.4]]\n",
      "D : [[0.2 0.2 0.2 0.2 0.2]]\n",
      "classEst: [[-1.  1. -1. -1.  1.]]\n",
      "aggClassEst: [[-0.69314718  0.69314718 -0.69314718 -0.69314718  0.69314718]]\n",
      "total error: 0.2\n",
      "split : dim 0 thersh 0.900,                     thresh inequal : lt, the weighted error is [[0.25]]\n",
      "split : dim 0 thersh 0.900,                     thresh inequal : gt, the weighted error is [[0.75]]\n",
      "split : dim 0 thersh 1.000,                     thresh inequal : lt, the weighted error is [[0.625]]\n",
      "split : dim 0 thersh 1.000,                     thresh inequal : gt, the weighted error is [[0.375]]\n",
      "split : dim 0 thersh 1.100,                     thresh inequal : lt, the weighted error is [[0.625]]\n",
      "split : dim 0 thersh 1.100,                     thresh inequal : gt, the weighted error is [[0.375]]\n",
      "split : dim 0 thersh 1.200,                     thresh inequal : lt, the weighted error is [[0.625]]\n",
      "split : dim 0 thersh 1.200,                     thresh inequal : gt, the weighted error is [[0.375]]\n",
      "split : dim 0 thersh 1.300,                     thresh inequal : lt, the weighted error is [[0.5]]\n",
      "split : dim 0 thersh 1.300,                     thresh inequal : gt, the weighted error is [[0.5]]\n",
      "split : dim 0 thersh 1.400,                     thresh inequal : lt, the weighted error is [[0.5]]\n",
      "split : dim 0 thersh 1.400,                     thresh inequal : gt, the weighted error is [[0.5]]\n",
      "split : dim 0 thersh 1.500,                     thresh inequal : lt, the weighted error is [[0.5]]\n",
      "split : dim 0 thersh 1.500,                     thresh inequal : gt, the weighted error is [[0.5]]\n",
      "split : dim 0 thersh 1.600,                     thresh inequal : lt, the weighted error is [[0.5]]\n",
      "split : dim 0 thersh 1.600,                     thresh inequal : gt, the weighted error is [[0.5]]\n",
      "split : dim 0 thersh 1.700,                     thresh inequal : lt, the weighted error is [[0.5]]\n",
      "split : dim 0 thersh 1.700,                     thresh inequal : gt, the weighted error is [[0.5]]\n",
      "split : dim 0 thersh 1.800,                     thresh inequal : lt, the weighted error is [[0.5]]\n",
      "split : dim 0 thersh 1.800,                     thresh inequal : gt, the weighted error is [[0.5]]\n",
      "split : dim 0 thersh 1.900,                     thresh inequal : lt, the weighted error is [[0.5]]\n",
      "split : dim 0 thersh 1.900,                     thresh inequal : gt, the weighted error is [[0.5]]\n",
      "split : dim 0 thersh 2.000,                     thresh inequal : lt, the weighted error is [[0.75]]\n",
      "split : dim 0 thersh 2.000,                     thresh inequal : gt, the weighted error is [[0.25]]\n",
      "split : dim 1 thersh 0.890,                     thresh inequal : lt, the weighted error is [[0.25]]\n",
      "split : dim 1 thersh 0.890,                     thresh inequal : gt, the weighted error is [[0.75]]\n",
      "split : dim 1 thersh 1.000,                     thresh inequal : lt, the weighted error is [[0.125]]\n",
      "split : dim 1 thersh 1.000,                     thresh inequal : gt, the weighted error is [[0.875]]\n",
      "split : dim 1 thersh 1.110,                     thresh inequal : lt, the weighted error is [[0.25]]\n",
      "split : dim 1 thersh 1.110,                     thresh inequal : gt, the weighted error is [[0.75]]\n",
      "split : dim 1 thersh 1.220,                     thresh inequal : lt, the weighted error is [[0.25]]\n",
      "split : dim 1 thersh 1.220,                     thresh inequal : gt, the weighted error is [[0.75]]\n",
      "split : dim 1 thersh 1.330,                     thresh inequal : lt, the weighted error is [[0.25]]\n",
      "split : dim 1 thersh 1.330,                     thresh inequal : gt, the weighted error is [[0.75]]\n",
      "split : dim 1 thersh 1.440,                     thresh inequal : lt, the weighted error is [[0.25]]\n",
      "split : dim 1 thersh 1.440,                     thresh inequal : gt, the weighted error is [[0.75]]\n",
      "split : dim 1 thersh 1.550,                     thresh inequal : lt, the weighted error is [[0.25]]\n",
      "split : dim 1 thersh 1.550,                     thresh inequal : gt, the weighted error is [[0.75]]\n",
      "split : dim 1 thersh 1.660,                     thresh inequal : lt, the weighted error is [[0.25]]\n",
      "split : dim 1 thersh 1.660,                     thresh inequal : gt, the weighted error is [[0.75]]\n",
      "split : dim 1 thersh 1.770,                     thresh inequal : lt, the weighted error is [[0.25]]\n",
      "split : dim 1 thersh 1.770,                     thresh inequal : gt, the weighted error is [[0.75]]\n",
      "split : dim 1 thersh 1.880,                     thresh inequal : lt, the weighted error is [[0.25]]\n",
      "split : dim 1 thersh 1.880,                     thresh inequal : gt, the weighted error is [[0.75]]\n",
      "split : dim 1 thersh 1.990,                     thresh inequal : lt, the weighted error is [[0.25]]\n",
      "split : dim 1 thersh 1.990,                     thresh inequal : gt, the weighted error is [[0.75]]\n",
      "split : dim 1 thersh 2.100,                     thresh inequal : lt, the weighted error is [[0.75]]\n",
      "split : dim 1 thersh 2.100,                     thresh inequal : gt, the weighted error is [[0.25]]\n",
      "D : [[0.5   0.125 0.125 0.125 0.125]]\n",
      "classEst: [[ 1.  1. -1. -1. -1.]]\n",
      "aggClassEst: [[ 0.27980789  1.66610226 -1.66610226 -1.66610226 -0.27980789]]\n",
      "total error: 0.2\n",
      "split : dim 0 thersh 0.900,                     thresh inequal : lt, the weighted error is [[0.14285714]]\n",
      "split : dim 0 thersh 0.900,                     thresh inequal : gt, the weighted error is [[0.85714286]]\n",
      "split : dim 0 thersh 1.000,                     thresh inequal : lt, the weighted error is [[0.35714286]]\n",
      "split : dim 0 thersh 1.000,                     thresh inequal : gt, the weighted error is [[0.64285714]]\n",
      "split : dim 0 thersh 1.100,                     thresh inequal : lt, the weighted error is [[0.35714286]]\n",
      "split : dim 0 thersh 1.100,                     thresh inequal : gt, the weighted error is [[0.64285714]]\n",
      "split : dim 0 thersh 1.200,                     thresh inequal : lt, the weighted error is [[0.35714286]]\n",
      "split : dim 0 thersh 1.200,                     thresh inequal : gt, the weighted error is [[0.64285714]]\n",
      "split : dim 0 thersh 1.300,                     thresh inequal : lt, the weighted error is [[0.28571429]]\n",
      "split : dim 0 thersh 1.300,                     thresh inequal : gt, the weighted error is [[0.71428571]]\n",
      "split : dim 0 thersh 1.400,                     thresh inequal : lt, the weighted error is [[0.28571429]]\n",
      "split : dim 0 thersh 1.400,                     thresh inequal : gt, the weighted error is [[0.71428571]]\n",
      "split : dim 0 thersh 1.500,                     thresh inequal : lt, the weighted error is [[0.28571429]]\n",
      "split : dim 0 thersh 1.500,                     thresh inequal : gt, the weighted error is [[0.71428571]]\n",
      "split : dim 0 thersh 1.600,                     thresh inequal : lt, the weighted error is [[0.28571429]]\n",
      "split : dim 0 thersh 1.600,                     thresh inequal : gt, the weighted error is [[0.71428571]]\n",
      "split : dim 0 thersh 1.700,                     thresh inequal : lt, the weighted error is [[0.28571429]]\n",
      "split : dim 0 thersh 1.700,                     thresh inequal : gt, the weighted error is [[0.71428571]]\n",
      "split : dim 0 thersh 1.800,                     thresh inequal : lt, the weighted error is [[0.28571429]]\n",
      "split : dim 0 thersh 1.800,                     thresh inequal : gt, the weighted error is [[0.71428571]]\n",
      "split : dim 0 thersh 1.900,                     thresh inequal : lt, the weighted error is [[0.28571429]]\n",
      "split : dim 0 thersh 1.900,                     thresh inequal : gt, the weighted error is [[0.71428571]]\n",
      "split : dim 0 thersh 2.000,                     thresh inequal : lt, the weighted error is [[0.85714286]]\n",
      "split : dim 0 thersh 2.000,                     thresh inequal : gt, the weighted error is [[0.14285714]]\n",
      "split : dim 1 thersh 0.890,                     thresh inequal : lt, the weighted error is [[0.14285714]]\n",
      "split : dim 1 thersh 0.890,                     thresh inequal : gt, the weighted error is [[0.85714286]]\n",
      "split : dim 1 thersh 1.000,                     thresh inequal : lt, the weighted error is [[0.5]]\n",
      "split : dim 1 thersh 1.000,                     thresh inequal : gt, the weighted error is [[0.5]]\n",
      "split : dim 1 thersh 1.110,                     thresh inequal : lt, the weighted error is [[0.57142857]]\n",
      "split : dim 1 thersh 1.110,                     thresh inequal : gt, the weighted error is [[0.42857143]]\n",
      "split : dim 1 thersh 1.220,                     thresh inequal : lt, the weighted error is [[0.57142857]]\n",
      "split : dim 1 thersh 1.220,                     thresh inequal : gt, the weighted error is [[0.42857143]]\n",
      "split : dim 1 thersh 1.330,                     thresh inequal : lt, the weighted error is [[0.57142857]]\n",
      "split : dim 1 thersh 1.330,                     thresh inequal : gt, the weighted error is [[0.42857143]]\n",
      "split : dim 1 thersh 1.440,                     thresh inequal : lt, the weighted error is [[0.57142857]]\n",
      "split : dim 1 thersh 1.440,                     thresh inequal : gt, the weighted error is [[0.42857143]]\n",
      "split : dim 1 thersh 1.550,                     thresh inequal : lt, the weighted error is [[0.57142857]]\n",
      "split : dim 1 thersh 1.550,                     thresh inequal : gt, the weighted error is [[0.42857143]]\n",
      "split : dim 1 thersh 1.660,                     thresh inequal : lt, the weighted error is [[0.57142857]]\n",
      "split : dim 1 thersh 1.660,                     thresh inequal : gt, the weighted error is [[0.42857143]]\n",
      "split : dim 1 thersh 1.770,                     thresh inequal : lt, the weighted error is [[0.57142857]]\n",
      "split : dim 1 thersh 1.770,                     thresh inequal : gt, the weighted error is [[0.42857143]]\n",
      "split : dim 1 thersh 1.880,                     thresh inequal : lt, the weighted error is [[0.57142857]]\n",
      "split : dim 1 thersh 1.880,                     thresh inequal : gt, the weighted error is [[0.42857143]]\n",
      "split : dim 1 thersh 1.990,                     thresh inequal : lt, the weighted error is [[0.57142857]]\n",
      "split : dim 1 thersh 1.990,                     thresh inequal : gt, the weighted error is [[0.42857143]]\n",
      "split : dim 1 thersh 2.100,                     thresh inequal : lt, the weighted error is [[0.85714286]]\n",
      "split : dim 1 thersh 2.100,                     thresh inequal : gt, the weighted error is [[0.14285714]]\n",
      "D : [[0.28571429 0.07142857 0.07142857 0.07142857 0.5       ]]\n",
      "classEst: [[1. 1. 1. 1. 1.]]\n",
      "aggClassEst: [[ 1.17568763  2.56198199 -0.77022252 -0.77022252  0.61607184]]\n",
      "total error: 0.0\n"
     ]
    },
    {
     "data": {
      "text/plain": [
       "[{'dim': 0, 'thresh': 1.3, 'ineq': 'lt', 'alpha': 0.6931471805599453},\n",
       " {'dim': 1, 'thresh': 1.0, 'ineq': 'lt', 'alpha': 0.9729550745276565},\n",
       " {'dim': 0, 'thresh': 0.9, 'ineq': 'lt', 'alpha': 0.8958797346140273}]"
      ]
     },
     "execution_count": 218,
     "metadata": {},
     "output_type": "execute_result"
    }
   ],
   "source": [
    "clf_arr = adaBoostTrainDS(data_mat, class_label, 9)\n",
    "clf_arr"
   ]
  },
  {
   "cell_type": "markdown",
   "metadata": {},
   "source": [
    ">### 의사결정 스텀프로 AdaBoost 검사 구현"
   ]
  },
  {
   "cell_type": "code",
   "execution_count": 243,
   "metadata": {},
   "outputs": [],
   "source": [
    "def adaClassify(dat_to_class, clf_arr):\n",
    "    # do stuff similar to last aggClassEst in adaBoostTrainDS\n",
    "    data_mat = np.mat(dat_to_class)\n",
    "    m = data_mat.shape[0]\n",
    "    agg_class_est = np.mat(np.zeros((m, 1)))\n",
    "    for i in range(len(clf_arr)):\n",
    "        dim, thresh, lneq, alpha = clf_arr[i].values()\n",
    "        class_est = stump_classify(data_mat,\n",
    "                                   dim, thresh, lneq)\n",
    "        agg_class_est += alpha * class_est\n",
    "        print(agg_class_est)\n",
    "    return np.sign(agg_class_est)"
   ]
  },
  {
   "cell_type": "code",
   "execution_count": 244,
   "metadata": {},
   "outputs": [
    {
     "name": "stdout",
     "output_type": "stream",
     "text": [
      "split : dim 0 thersh 0.900,                     thresh inequal : lt, the weighted error is [[0.4]]\n",
      "split : dim 0 thersh 0.900,                     thresh inequal : gt, the weighted error is [[0.6]]\n",
      "split : dim 0 thersh 1.000,                     thresh inequal : lt, the weighted error is [[0.4]]\n",
      "split : dim 0 thersh 1.000,                     thresh inequal : gt, the weighted error is [[0.6]]\n",
      "split : dim 0 thersh 1.100,                     thresh inequal : lt, the weighted error is [[0.4]]\n",
      "split : dim 0 thersh 1.100,                     thresh inequal : gt, the weighted error is [[0.6]]\n",
      "split : dim 0 thersh 1.200,                     thresh inequal : lt, the weighted error is [[0.4]]\n",
      "split : dim 0 thersh 1.200,                     thresh inequal : gt, the weighted error is [[0.6]]\n",
      "split : dim 0 thersh 1.300,                     thresh inequal : lt, the weighted error is [[0.2]]\n",
      "split : dim 0 thersh 1.300,                     thresh inequal : gt, the weighted error is [[0.8]]\n",
      "split : dim 0 thersh 1.400,                     thresh inequal : lt, the weighted error is [[0.2]]\n",
      "split : dim 0 thersh 1.400,                     thresh inequal : gt, the weighted error is [[0.8]]\n",
      "split : dim 0 thersh 1.500,                     thresh inequal : lt, the weighted error is [[0.2]]\n",
      "split : dim 0 thersh 1.500,                     thresh inequal : gt, the weighted error is [[0.8]]\n",
      "split : dim 0 thersh 1.600,                     thresh inequal : lt, the weighted error is [[0.2]]\n",
      "split : dim 0 thersh 1.600,                     thresh inequal : gt, the weighted error is [[0.8]]\n",
      "split : dim 0 thersh 1.700,                     thresh inequal : lt, the weighted error is [[0.2]]\n",
      "split : dim 0 thersh 1.700,                     thresh inequal : gt, the weighted error is [[0.8]]\n",
      "split : dim 0 thersh 1.800,                     thresh inequal : lt, the weighted error is [[0.2]]\n",
      "split : dim 0 thersh 1.800,                     thresh inequal : gt, the weighted error is [[0.8]]\n",
      "split : dim 0 thersh 1.900,                     thresh inequal : lt, the weighted error is [[0.2]]\n",
      "split : dim 0 thersh 1.900,                     thresh inequal : gt, the weighted error is [[0.8]]\n",
      "split : dim 0 thersh 2.000,                     thresh inequal : lt, the weighted error is [[0.6]]\n",
      "split : dim 0 thersh 2.000,                     thresh inequal : gt, the weighted error is [[0.4]]\n",
      "split : dim 1 thersh 0.890,                     thresh inequal : lt, the weighted error is [[0.4]]\n",
      "split : dim 1 thersh 0.890,                     thresh inequal : gt, the weighted error is [[0.6]]\n",
      "split : dim 1 thersh 1.000,                     thresh inequal : lt, the weighted error is [[0.2]]\n",
      "split : dim 1 thersh 1.000,                     thresh inequal : gt, the weighted error is [[0.8]]\n",
      "split : dim 1 thersh 1.110,                     thresh inequal : lt, the weighted error is [[0.4]]\n",
      "split : dim 1 thersh 1.110,                     thresh inequal : gt, the weighted error is [[0.6]]\n",
      "split : dim 1 thersh 1.220,                     thresh inequal : lt, the weighted error is [[0.4]]\n",
      "split : dim 1 thersh 1.220,                     thresh inequal : gt, the weighted error is [[0.6]]\n",
      "split : dim 1 thersh 1.330,                     thresh inequal : lt, the weighted error is [[0.4]]\n",
      "split : dim 1 thersh 1.330,                     thresh inequal : gt, the weighted error is [[0.6]]\n",
      "split : dim 1 thersh 1.440,                     thresh inequal : lt, the weighted error is [[0.4]]\n",
      "split : dim 1 thersh 1.440,                     thresh inequal : gt, the weighted error is [[0.6]]\n",
      "split : dim 1 thersh 1.550,                     thresh inequal : lt, the weighted error is [[0.4]]\n",
      "split : dim 1 thersh 1.550,                     thresh inequal : gt, the weighted error is [[0.6]]\n",
      "split : dim 1 thersh 1.660,                     thresh inequal : lt, the weighted error is [[0.4]]\n",
      "split : dim 1 thersh 1.660,                     thresh inequal : gt, the weighted error is [[0.6]]\n",
      "split : dim 1 thersh 1.770,                     thresh inequal : lt, the weighted error is [[0.4]]\n",
      "split : dim 1 thersh 1.770,                     thresh inequal : gt, the weighted error is [[0.6]]\n",
      "split : dim 1 thersh 1.880,                     thresh inequal : lt, the weighted error is [[0.4]]\n",
      "split : dim 1 thersh 1.880,                     thresh inequal : gt, the weighted error is [[0.6]]\n",
      "split : dim 1 thersh 1.990,                     thresh inequal : lt, the weighted error is [[0.4]]\n",
      "split : dim 1 thersh 1.990,                     thresh inequal : gt, the weighted error is [[0.6]]\n",
      "split : dim 1 thersh 2.100,                     thresh inequal : lt, the weighted error is [[0.6]]\n",
      "split : dim 1 thersh 2.100,                     thresh inequal : gt, the weighted error is [[0.4]]\n",
      "D : [[0.2 0.2 0.2 0.2 0.2]]\n",
      "classEst: [[-1.  1. -1. -1.  1.]]\n",
      "aggClassEst: [[-0.69314718  0.69314718 -0.69314718 -0.69314718  0.69314718]]\n",
      "total error: 0.2\n",
      "split : dim 0 thersh 0.900,                     thresh inequal : lt, the weighted error is [[0.25]]\n",
      "split : dim 0 thersh 0.900,                     thresh inequal : gt, the weighted error is [[0.75]]\n",
      "split : dim 0 thersh 1.000,                     thresh inequal : lt, the weighted error is [[0.625]]\n",
      "split : dim 0 thersh 1.000,                     thresh inequal : gt, the weighted error is [[0.375]]\n",
      "split : dim 0 thersh 1.100,                     thresh inequal : lt, the weighted error is [[0.625]]\n",
      "split : dim 0 thersh 1.100,                     thresh inequal : gt, the weighted error is [[0.375]]\n",
      "split : dim 0 thersh 1.200,                     thresh inequal : lt, the weighted error is [[0.625]]\n",
      "split : dim 0 thersh 1.200,                     thresh inequal : gt, the weighted error is [[0.375]]\n",
      "split : dim 0 thersh 1.300,                     thresh inequal : lt, the weighted error is [[0.5]]\n",
      "split : dim 0 thersh 1.300,                     thresh inequal : gt, the weighted error is [[0.5]]\n",
      "split : dim 0 thersh 1.400,                     thresh inequal : lt, the weighted error is [[0.5]]\n",
      "split : dim 0 thersh 1.400,                     thresh inequal : gt, the weighted error is [[0.5]]\n",
      "split : dim 0 thersh 1.500,                     thresh inequal : lt, the weighted error is [[0.5]]\n",
      "split : dim 0 thersh 1.500,                     thresh inequal : gt, the weighted error is [[0.5]]\n",
      "split : dim 0 thersh 1.600,                     thresh inequal : lt, the weighted error is [[0.5]]\n",
      "split : dim 0 thersh 1.600,                     thresh inequal : gt, the weighted error is [[0.5]]\n",
      "split : dim 0 thersh 1.700,                     thresh inequal : lt, the weighted error is [[0.5]]\n",
      "split : dim 0 thersh 1.700,                     thresh inequal : gt, the weighted error is [[0.5]]\n",
      "split : dim 0 thersh 1.800,                     thresh inequal : lt, the weighted error is [[0.5]]\n",
      "split : dim 0 thersh 1.800,                     thresh inequal : gt, the weighted error is [[0.5]]\n",
      "split : dim 0 thersh 1.900,                     thresh inequal : lt, the weighted error is [[0.5]]\n",
      "split : dim 0 thersh 1.900,                     thresh inequal : gt, the weighted error is [[0.5]]\n",
      "split : dim 0 thersh 2.000,                     thresh inequal : lt, the weighted error is [[0.75]]\n",
      "split : dim 0 thersh 2.000,                     thresh inequal : gt, the weighted error is [[0.25]]\n",
      "split : dim 1 thersh 0.890,                     thresh inequal : lt, the weighted error is [[0.25]]\n",
      "split : dim 1 thersh 0.890,                     thresh inequal : gt, the weighted error is [[0.75]]\n",
      "split : dim 1 thersh 1.000,                     thresh inequal : lt, the weighted error is [[0.125]]\n",
      "split : dim 1 thersh 1.000,                     thresh inequal : gt, the weighted error is [[0.875]]\n",
      "split : dim 1 thersh 1.110,                     thresh inequal : lt, the weighted error is [[0.25]]\n",
      "split : dim 1 thersh 1.110,                     thresh inequal : gt, the weighted error is [[0.75]]\n",
      "split : dim 1 thersh 1.220,                     thresh inequal : lt, the weighted error is [[0.25]]\n",
      "split : dim 1 thersh 1.220,                     thresh inequal : gt, the weighted error is [[0.75]]\n",
      "split : dim 1 thersh 1.330,                     thresh inequal : lt, the weighted error is [[0.25]]\n",
      "split : dim 1 thersh 1.330,                     thresh inequal : gt, the weighted error is [[0.75]]\n",
      "split : dim 1 thersh 1.440,                     thresh inequal : lt, the weighted error is [[0.25]]\n",
      "split : dim 1 thersh 1.440,                     thresh inequal : gt, the weighted error is [[0.75]]\n",
      "split : dim 1 thersh 1.550,                     thresh inequal : lt, the weighted error is [[0.25]]\n",
      "split : dim 1 thersh 1.550,                     thresh inequal : gt, the weighted error is [[0.75]]\n",
      "split : dim 1 thersh 1.660,                     thresh inequal : lt, the weighted error is [[0.25]]\n",
      "split : dim 1 thersh 1.660,                     thresh inequal : gt, the weighted error is [[0.75]]\n",
      "split : dim 1 thersh 1.770,                     thresh inequal : lt, the weighted error is [[0.25]]\n",
      "split : dim 1 thersh 1.770,                     thresh inequal : gt, the weighted error is [[0.75]]\n",
      "split : dim 1 thersh 1.880,                     thresh inequal : lt, the weighted error is [[0.25]]\n",
      "split : dim 1 thersh 1.880,                     thresh inequal : gt, the weighted error is [[0.75]]\n",
      "split : dim 1 thersh 1.990,                     thresh inequal : lt, the weighted error is [[0.25]]\n",
      "split : dim 1 thersh 1.990,                     thresh inequal : gt, the weighted error is [[0.75]]\n",
      "split : dim 1 thersh 2.100,                     thresh inequal : lt, the weighted error is [[0.75]]\n",
      "split : dim 1 thersh 2.100,                     thresh inequal : gt, the weighted error is [[0.25]]\n",
      "D : [[0.5   0.125 0.125 0.125 0.125]]\n",
      "classEst: [[ 1.  1. -1. -1. -1.]]\n",
      "aggClassEst: [[ 0.27980789  1.66610226 -1.66610226 -1.66610226 -0.27980789]]\n",
      "total error: 0.2\n",
      "split : dim 0 thersh 0.900,                     thresh inequal : lt, the weighted error is [[0.14285714]]\n",
      "split : dim 0 thersh 0.900,                     thresh inequal : gt, the weighted error is [[0.85714286]]\n",
      "split : dim 0 thersh 1.000,                     thresh inequal : lt, the weighted error is [[0.35714286]]\n",
      "split : dim 0 thersh 1.000,                     thresh inequal : gt, the weighted error is [[0.64285714]]\n",
      "split : dim 0 thersh 1.100,                     thresh inequal : lt, the weighted error is [[0.35714286]]\n",
      "split : dim 0 thersh 1.100,                     thresh inequal : gt, the weighted error is [[0.64285714]]\n",
      "split : dim 0 thersh 1.200,                     thresh inequal : lt, the weighted error is [[0.35714286]]\n",
      "split : dim 0 thersh 1.200,                     thresh inequal : gt, the weighted error is [[0.64285714]]\n",
      "split : dim 0 thersh 1.300,                     thresh inequal : lt, the weighted error is [[0.28571429]]\n",
      "split : dim 0 thersh 1.300,                     thresh inequal : gt, the weighted error is [[0.71428571]]\n",
      "split : dim 0 thersh 1.400,                     thresh inequal : lt, the weighted error is [[0.28571429]]\n",
      "split : dim 0 thersh 1.400,                     thresh inequal : gt, the weighted error is [[0.71428571]]\n",
      "split : dim 0 thersh 1.500,                     thresh inequal : lt, the weighted error is [[0.28571429]]\n",
      "split : dim 0 thersh 1.500,                     thresh inequal : gt, the weighted error is [[0.71428571]]\n",
      "split : dim 0 thersh 1.600,                     thresh inequal : lt, the weighted error is [[0.28571429]]\n",
      "split : dim 0 thersh 1.600,                     thresh inequal : gt, the weighted error is [[0.71428571]]\n",
      "split : dim 0 thersh 1.700,                     thresh inequal : lt, the weighted error is [[0.28571429]]\n",
      "split : dim 0 thersh 1.700,                     thresh inequal : gt, the weighted error is [[0.71428571]]\n",
      "split : dim 0 thersh 1.800,                     thresh inequal : lt, the weighted error is [[0.28571429]]\n",
      "split : dim 0 thersh 1.800,                     thresh inequal : gt, the weighted error is [[0.71428571]]\n",
      "split : dim 0 thersh 1.900,                     thresh inequal : lt, the weighted error is [[0.28571429]]\n",
      "split : dim 0 thersh 1.900,                     thresh inequal : gt, the weighted error is [[0.71428571]]\n",
      "split : dim 0 thersh 2.000,                     thresh inequal : lt, the weighted error is [[0.85714286]]\n",
      "split : dim 0 thersh 2.000,                     thresh inequal : gt, the weighted error is [[0.14285714]]\n",
      "split : dim 1 thersh 0.890,                     thresh inequal : lt, the weighted error is [[0.14285714]]\n",
      "split : dim 1 thersh 0.890,                     thresh inequal : gt, the weighted error is [[0.85714286]]\n",
      "split : dim 1 thersh 1.000,                     thresh inequal : lt, the weighted error is [[0.5]]\n",
      "split : dim 1 thersh 1.000,                     thresh inequal : gt, the weighted error is [[0.5]]\n",
      "split : dim 1 thersh 1.110,                     thresh inequal : lt, the weighted error is [[0.57142857]]\n",
      "split : dim 1 thersh 1.110,                     thresh inequal : gt, the weighted error is [[0.42857143]]\n",
      "split : dim 1 thersh 1.220,                     thresh inequal : lt, the weighted error is [[0.57142857]]\n",
      "split : dim 1 thersh 1.220,                     thresh inequal : gt, the weighted error is [[0.42857143]]\n",
      "split : dim 1 thersh 1.330,                     thresh inequal : lt, the weighted error is [[0.57142857]]\n",
      "split : dim 1 thersh 1.330,                     thresh inequal : gt, the weighted error is [[0.42857143]]\n",
      "split : dim 1 thersh 1.440,                     thresh inequal : lt, the weighted error is [[0.57142857]]\n",
      "split : dim 1 thersh 1.440,                     thresh inequal : gt, the weighted error is [[0.42857143]]\n",
      "split : dim 1 thersh 1.550,                     thresh inequal : lt, the weighted error is [[0.57142857]]\n",
      "split : dim 1 thersh 1.550,                     thresh inequal : gt, the weighted error is [[0.42857143]]\n",
      "split : dim 1 thersh 1.660,                     thresh inequal : lt, the weighted error is [[0.57142857]]\n",
      "split : dim 1 thersh 1.660,                     thresh inequal : gt, the weighted error is [[0.42857143]]\n",
      "split : dim 1 thersh 1.770,                     thresh inequal : lt, the weighted error is [[0.57142857]]\n",
      "split : dim 1 thersh 1.770,                     thresh inequal : gt, the weighted error is [[0.42857143]]\n",
      "split : dim 1 thersh 1.880,                     thresh inequal : lt, the weighted error is [[0.57142857]]\n",
      "split : dim 1 thersh 1.880,                     thresh inequal : gt, the weighted error is [[0.42857143]]\n",
      "split : dim 1 thersh 1.990,                     thresh inequal : lt, the weighted error is [[0.57142857]]\n",
      "split : dim 1 thersh 1.990,                     thresh inequal : gt, the weighted error is [[0.42857143]]\n",
      "split : dim 1 thersh 2.100,                     thresh inequal : lt, the weighted error is [[0.85714286]]\n",
      "split : dim 1 thersh 2.100,                     thresh inequal : gt, the weighted error is [[0.14285714]]\n",
      "D : [[0.28571429 0.07142857 0.07142857 0.07142857 0.5       ]]\n",
      "classEst: [[1. 1. 1. 1. 1.]]\n",
      "aggClassEst: [[ 1.17568763  2.56198199 -0.77022252 -0.77022252  0.61607184]]\n",
      "total error: 0.0\n"
     ]
    }
   ],
   "source": [
    "clf_arr = adaBoostTrainDS(data_mat, class_label, 30)"
   ]
  },
  {
   "cell_type": "code",
   "execution_count": 379,
   "metadata": {},
   "outputs": [
    {
     "data": {
      "text/plain": [
       "[{'dim': 0, 'thresh': 1.3, 'ineq': 'lt', 'alpha': 0.6931471805599453},\n",
       " {'dim': 1, 'thresh': 1.0, 'ineq': 'lt', 'alpha': 0.9729550745276565},\n",
       " {'dim': 0, 'thresh': 0.9, 'ineq': 'lt', 'alpha': 0.8958797346140273}]"
      ]
     },
     "execution_count": 379,
     "metadata": {},
     "output_type": "execute_result"
    }
   ],
   "source": [
    "clf_arr"
   ]
  },
  {
   "cell_type": "code",
   "execution_count": 380,
   "metadata": {},
   "outputs": [
    {
     "data": {
      "text/plain": [
       "[(0, 1.3, 'lt'), (1, 1.0, 'lt'), (0, 0.9, 'lt')]"
      ]
     },
     "execution_count": 380,
     "metadata": {},
     "output_type": "execute_result"
    }
   ],
   "source": [
    "[(i['dim'], i['thresh'], i['ineq']) for i in clf_arr]"
   ]
  },
  {
   "cell_type": "code",
   "execution_count": 435,
   "metadata": {},
   "outputs": [],
   "source": [
    "x1s = np.linspace(.8, 2.2, 100)\n",
    "x2s = np.linspace(.8, 2.2, 100)\n",
    "x1, x2 = np.meshgrid(x1s, x2s)\n",
    "X_new = np.c_[x1.ravel(), x2.ravel()]"
   ]
  },
  {
   "cell_type": "code",
   "execution_count": 450,
   "metadata": {},
   "outputs": [],
   "source": [
    "res = np.zeros((X_new.shape[0], 1))"
   ]
  },
  {
   "cell_type": "code",
   "execution_count": 451,
   "metadata": {},
   "outputs": [
    {
     "data": {
      "text/plain": [
       "array([[1.],\n",
       "       [1.],\n",
       "       [1.],\n",
       "       ...,\n",
       "       [0.],\n",
       "       [0.],\n",
       "       [0.]])"
      ]
     },
     "execution_count": 451,
     "metadata": {},
     "output_type": "execute_result"
    }
   ],
   "source": [
    "res + (X_new[:, 0] < 1.3).reshape(-1,1)"
   ]
  },
  {
   "cell_type": "code",
   "execution_count": 539,
   "metadata": {},
   "outputs": [],
   "source": [
    "def decision_boundary(X_new, clf_arr):\n",
    "    res = np.zeros((X_new.shape[0], 1))\n",
    "    num = len(clf_arr)\n",
    "    for standard in clf_arr:\n",
    "        dim, thresh, ineq = standard\n",
    "        if ineq == 'lt':\n",
    "            res += (X_new[:, dim] < thresh).reshape(-1, 1)\n",
    "        else:\n",
    "            res += (X_new[:, dim] >= thresh).reshape(-1, 1)\n",
    "    return np.where(res >= (num - 1), 1, 0).reshape(-1,)"
   ]
  },
  {
   "cell_type": "code",
   "execution_count": 557,
   "metadata": {},
   "outputs": [
    {
     "data": {
      "image/png": "[encoded data removed]",
      "text/plain": [
       "<Figure size 432x288 with 1 Axes>"
      ]
     },
     "metadata": {},
     "output_type": "display_data"
    }
   ],
   "source": [
    "# contour과 contourf함수 기억하자!!\n",
    "\n",
    "y_1 = np.where(np.array(class_label) == 1.0)[0]\n",
    "y_m1 = np.where(np.array(class_label) != 1.0)[0]\n",
    "plt.plot(data_mat[y_1][:, 0], data_mat[y_1][:, 1], marker='o', ls='',\n",
    "        label='Y == 1.0', markersize=10, color='r')\n",
    "plt.plot(data_mat[y_m1][:, 0], data_mat[y_m1][:, 1], marker='s', ls='',\n",
    "        label='Y !=  1.0', markersize=10, color='b')\n",
    "for pt in data_mat:\n",
    "    x, y = pt[0,0], pt[0,1]\n",
    "    txt = str(x) + ', ' + str(y)\n",
    "    plt.text(x=x+.03, y=y-.02, s=txt)\n",
    "\n",
    "x1s = np.linspace(.8, 2.2, 100)\n",
    "x2s = np.linspace(.8, 2.2, 100)\n",
    "x1, x2 = np.meshgrid(x1s, x2s)\n",
    "X_new = np.c_[x1.ravel(), x2.ravel()]\n",
    "for pt in [(i['dim'], i['thresh'], i['ineq']) for i in clf_arr]:\n",
    "    if pt[0] == 0:\n",
    "        plt.axvline(pt[1], alpha=.5)\n",
    "    else:\n",
    "        plt.axhline(pt[1], alpha=.5)\n",
    "\n",
    "res = decision_boundary(X_new, \n",
    "                        [(i['dim'], i['thresh'], i['ineq']) for i in clf_arr])\n",
    "y_pred = res.reshape(x1.shape)\n",
    "custom_cmap = ListedColormap(['#fafab0','#9898ff','#a0faa0'])\n",
    "plt.contourf(x1, x2, y_pred, cmap=custom_cmap, alpha=0.3)\n",
    "custom_cmap2 = ListedColormap(['#7d7d58','#4c4c7f','#507d50'])\n",
    "plt.contour(x1, x2, y_pred, cmap=custom_cmap2, alpha=0.8)\n",
    "    \n",
    "plt.axis([.8, 2.2, .8, 2.2])\n",
    "plt.grid(True)\n",
    "plt.legend(shadow=True, fontsize=12)\n",
    "plt.title('Decision Stump Test Data', fontsize=15)\n",
    "plt.show()"
   ]
  },
  {
   "cell_type": "code",
   "execution_count": 245,
   "metadata": {},
   "outputs": [
    {
     "name": "stdout",
     "output_type": "stream",
     "text": [
      "[[-0.69314718]]\n",
      "[[-1.66610226]]\n",
      "[[-2.56198199]]\n"
     ]
    },
    {
     "data": {
      "text/plain": [
       "matrix([[-1.]])"
      ]
     },
     "execution_count": 245,
     "metadata": {},
     "output_type": "execute_result"
    }
   ],
   "source": [
    "adaClassify([0,0], clf_arr)"
   ]
  },
  {
   "cell_type": "markdown",
   "metadata": {},
   "source": [
    "### Understanding AdaBoost Implement Code"
   ]
  },
  {
   "cell_type": "markdown",
   "metadata": {},
   "source": [
    "```\n",
    "def stump_classify(data_mat, dim, thresh, thresh_lneq):\n",
    "    \"\"\"\n",
    "    data_mat : numpy matrix obj.\n",
    "    dim : dimension\n",
    "    thresh : threshold\n",
    "    thresh_lneq : less than or more than\n",
    "    \"\"\"\n",
    "    ret_arr = np.ones((data_mat.shape[0], 1))\n",
    "    if thresh_lneq == 'lt':\n",
    "        ret_arr[data_mat[:, dim] <= thresh] = -1.\n",
    "    else:\n",
    "        ret_arr[data_mat[:, dim] > thresh] = -1.\n",
    "    return ret_arr\n",
    "```"
   ]
  },
  {
   "cell_type": "code",
   "execution_count": 254,
   "metadata": {},
   "outputs": [
    {
     "data": {
      "text/plain": [
       "matrix([[1. , 2.1],\n",
       "        [2. , 1.1],\n",
       "        [1.3, 1. ],\n",
       "        [1. , 1. ],\n",
       "        [2. , 1. ]])"
      ]
     },
     "execution_count": 254,
     "metadata": {},
     "output_type": "execute_result"
    }
   ],
   "source": [
    "data_mat"
   ]
  },
  {
   "cell_type": "code",
   "execution_count": 256,
   "metadata": {},
   "outputs": [
    {
     "data": {
      "text/plain": [
       "array([[1.],\n",
       "       [1.],\n",
       "       [1.],\n",
       "       [1.],\n",
       "       [1.]])"
      ]
     },
     "execution_count": 256,
     "metadata": {},
     "output_type": "execute_result"
    }
   ],
   "source": [
    "# 동일한 instance의 갯수를 가지는 원소가 모두 1인 열벡터 생성\n",
    "ret_arr = np.ones((data_mat.shape[0], 1))\n",
    "ret_arr"
   ]
  },
  {
   "cell_type": "code",
   "execution_count": 259,
   "metadata": {},
   "outputs": [
    {
     "data": {
      "text/plain": [
       "array([[-1.],\n",
       "       [ 1.],\n",
       "       [-1.],\n",
       "       [-1.],\n",
       "       [ 1.]])"
      ]
     },
     "execution_count": 259,
     "metadata": {},
     "output_type": "execute_result"
    }
   ],
   "source": [
    "thresh = 1.3\n",
    "thresh_lneq= 'lt'\n",
    "# lneq가 lt(less than)일 경우,\n",
    "# 특정 임계점보다 data_mat dim열의 값이 작은 부분을 -1로 채우고\n",
    "# 아닐 경우 큰 부분을 -1로 채움\n",
    "if thresh_lneq == 'lt':\n",
    "    ret_arr[data_mat[:, dim] <= thresh] = -1.\n",
    "else:\n",
    "    ret_arr[data_mat[:, dim] > thresh] = -1.\n",
    "    \n",
    "# stump_classify 함수는 ret_arr을 반환함\n",
    "ret_arr"
   ]
  },
  {
   "cell_type": "markdown",
   "metadata": {},
   "source": [
    "```\n",
    "def build_stump(data_arr, class_label, D):\n",
    "    data_mat, label_mat = np.mat(data_arr), np.mat(class_label).T\n",
    "    m, n = np.shape(data_mat)\n",
    "    num_steps = 10.; best_stump = {}; best_class_est = np.mat(np.zeros((m, 1)))\n",
    "    min_err = np.inf # init error sum, to _infinity\n",
    "    for i in range(n): # loop over all dimensions\n",
    "        range_min, range_max = data_mat[:, i].min(), data_mat[:, i].max()\n",
    "        step_size = (range_max - range_min) / num_steps\n",
    "        for j in range(-1, int(num_steps) + 1): # loop iver all range in current dimension\n",
    "            for inequal in ['lt', 'gt']: # go over less than and greater than\n",
    "                thresh = (range_min + float(j) * step_size)\n",
    "                # call stump classify with i, j, lessThan\n",
    "                predicted_value = stump_classify(data_mat, i, thresh, inequal)\n",
    "                err_arr = np.mat(np.ones((m, 1)))\n",
    "                err_arr[predicted_value == label_mat] = 0\n",
    "                weighted_err = D.T * err_arr # calc total error multiplied by D\n",
    "                print(\"split : dim {} thersh {:.3f}, \\\n",
    "                    thresh inequal : {}, the weighted error is {}\"\\\n",
    "                     .format(i, thresh, inequal, weighted_err))\n",
    "                if weighted_err < min_err:\n",
    "                    min_err = weighted_err\n",
    "                    best_class_est = predicted_value.copy()\n",
    "                    best_stump['dim'] = i\n",
    "                    best_stump['thresh'] = thresh\n",
    "                    best_stump['ineq'] = inequal\n",
    "    return best_stump, min_err, best_class_est\n",
    "```"
   ]
  },
  {
   "cell_type": "code",
   "execution_count": 313,
   "metadata": {},
   "outputs": [
    {
     "name": "stdout",
     "output_type": "stream",
     "text": [
      "[[1.  2.1]\n",
      " [2.  1.1]\n",
      " [1.3 1. ]\n",
      " [1.  1. ]\n",
      " [2.  1. ]]\n",
      "[[ 1.]\n",
      " [ 1.]\n",
      " [-1.]\n",
      " [-1.]\n",
      " [ 1.]]\n"
     ]
    }
   ],
   "source": [
    "# input 설정\n",
    "D = np.mat(np.ones((5, 1)) / 5) # D : weighted vector, it is same weight\n",
    "# data와 label을 matrix로 형변환\n",
    "data_mat, label_mat = np.mat(data_mat), np.mat(class_label).T\n",
    "print(data_mat)\n",
    "print(label_mat)"
   ]
  },
  {
   "cell_type": "code",
   "execution_count": 314,
   "metadata": {},
   "outputs": [
    {
     "name": "stdout",
     "output_type": "stream",
     "text": [
      "m & n : 5 2\n"
     ]
    }
   ],
   "source": [
    "# return data_mat's shape\n",
    "m, n = np.shape(data_mat)\n",
    "print('m & n :', m, n)"
   ]
  },
  {
   "cell_type": "code",
   "execution_count": 315,
   "metadata": {},
   "outputs": [
    {
     "data": {
      "text/plain": [
       "matrix([[0.],\n",
       "        [0.],\n",
       "        [0.],\n",
       "        [0.],\n",
       "        [0.]])"
      ]
     },
     "execution_count": 315,
     "metadata": {},
     "output_type": "execute_result"
    }
   ],
   "source": [
    "# base setting\n",
    "num_steps = 10.\n",
    "best_stump = {}\n",
    "best_class_est = np.mat(np.zeros((m, 1)))\n",
    "min_err = np.inf\n",
    "\n",
    "best_class_est"
   ]
  },
  {
   "cell_type": "code",
   "execution_count": 316,
   "metadata": {},
   "outputs": [
    {
     "data": {
      "text/plain": [
       "(1.0, 2.0, 0.1)"
      ]
     },
     "execution_count": 316,
     "metadata": {},
     "output_type": "execute_result"
    }
   ],
   "source": [
    "# loop all dimension\n",
    "## first loop in n == 2, i=0 or 1\n",
    "i = 0\n",
    "# data_mat 0열의 min과 max를 반환\n",
    "range_min, range_max = data_mat[:, i].min(), data_mat[:, i].max()\n",
    "# range(min, max)을 최초 설정한 num_steps=10으로 나눠서 step_size를 결정\n",
    "step_size = (range_max - range_min) / num_steps\n",
    "\n",
    "range_min, range_max, step_size # (2 -1 ) / 10"
   ]
  },
  {
   "cell_type": "code",
   "execution_count": 317,
   "metadata": {},
   "outputs": [
    {
     "name": "stdout",
     "output_type": "stream",
     "text": [
      "-1\n",
      "0\n",
      "1\n",
      "2\n",
      "3\n",
      "4\n",
      "5\n",
      "6\n",
      "7\n",
      "8\n",
      "9\n",
      "10\n"
     ]
    }
   ],
   "source": [
    "# inner loop, num_steps + 1번 loop이 돌음 (-1부터 10까지)\n",
    "for j in range(-1, int(num_steps) + 1): # loop iver all range in current dimension\n",
    "    print(j)"
   ]
  },
  {
   "cell_type": "code",
   "execution_count": 318,
   "metadata": {},
   "outputs": [
    {
     "name": "stdout",
     "output_type": "stream",
     "text": [
      "thresh :  0.9\n",
      "\n",
      "ret_arr (with thresh:0.9, inequal:lt)\n",
      " [[1.]\n",
      " [1.]\n",
      " [1.]\n",
      " [1.]\n",
      " [1.]]\n",
      "\n",
      "thresh == .9보다 작은 data_mat의 원소가 없기에 원소가 전부 1인 ret_arr 반환\n",
      "\n",
      "err_arr : \n",
      " [[0.]\n",
      " [0.]\n",
      " [1.]\n",
      " [1.]\n",
      " [0.]]\n",
      "\n",
      "D : \n",
      " [[0.2]\n",
      " [0.2]\n",
      " [0.2]\n",
      " [0.2]\n",
      " [0.2]]\n",
      "\n",
      "weighted_err(D.T * err_arr) : \n",
      " [[0.4]]\n",
      "\n",
      "split : dim 0 thersh 0.900,     thresh inequal : lt, the weighted error is [[0.4]]\n",
      "\n",
      "min_err이 update됬습니다. [[0.4]]\n",
      "\n",
      "현재까지 최고 예측 결과는 다음과 같습니다 :\n",
      " [[1.]\n",
      " [1.]\n",
      " [1.]\n",
      " [1.]\n",
      " [1.]]\n",
      "\n",
      "최고 예측 parameter는 다음과 같습니다. {'dim': 0, 'thresh': 0.9, 'ineq': 'lt'}\n"
     ]
    }
   ],
   "source": [
    "j = -1\n",
    "# inequal == less than & greater than\n",
    "## first, we use less than\n",
    "inequal = 'lt'\n",
    "\n",
    "thresh = (range_min + float(j) * step_size)\n",
    "print('thresh : ', thresh) # 1 + (-1 * .1)\n",
    "\n",
    "# ret_arr 반환\n",
    "predicted_value = stump_classify(data_mat, i, thresh, inequal)\n",
    "print('\\nret_arr (with thresh:{}, inequal:{})\\n'.format(thresh, inequal), predicted_value)\n",
    "print('\\nthresh == .9보다 작은 data_mat의 원소가 없기에 원소가 전부 1인 ret_arr 반환')\n",
    "\n",
    "# round별 error를 담을 휘발성 err_arr생성\n",
    "err_arr = np.mat(np.ones((m, 1)))\n",
    "# 맞춘 부분은 원소를 0으로\n",
    "err_arr[predicted_value == label_mat] = 0\n",
    "print('\\nD.T : \\n', D.T)\n",
    "print('\\nerr_arr : \\n', err_arr)\n",
    "weighted_err = D.T * err_arr # calc total error multiplied by D\n",
    "print('\\nweighted_err(D.T * err_arr) : \\n', weighted_err)\n",
    "print(\"\\nsplit : dim {} thersh {:.3f}, \\\n",
    "    thresh inequal : {}, the weighted error is {}\"\\\n",
    "     .format(i, thresh, inequal, weighted_err))\n",
    "# 새로 계산한 error가 설정한 min_err보다 작을 경우\n",
    "#  min_err를 새로운 error로 초기화시키고\n",
    "# best_class_est에 예측한 정답 레이블을 저장,\n",
    "# best_stump에 dim, thresh, ineq를 저장시킴\n",
    "if weighted_err < min_err:\n",
    "    min_err = weighted_err\n",
    "    best_class_est = predicted_value.copy()\n",
    "    best_stump['dim'] = i\n",
    "    best_stump['thresh'] = thresh\n",
    "    best_stump['ineq'] = inequal\n",
    "    print('\\nmin_err가 update됬습니다.', min_err)\n",
    "else:\n",
    "    print('\\nmin_err가 update되지 않았습니다.', min_err)\n",
    "print('\\n현재까지 최고 예측 결과는 다음과 같습니다 :\\n', best_class_est)\n",
    "print('\\n최고 예측 parameter는 다음과 같습니다.', best_stump)"
   ]
  },
  {
   "cell_type": "code",
   "execution_count": 351,
   "metadata": {},
   "outputs": [],
   "source": [
    "# inner loop을 함수로 만들어 첫번째 열 (i==0)에서의 결과를 출력해보자\n",
    "def inner_loop_i_is_0(i, data_mat=data_mat, class_label=class_label, \n",
    "                      D=D, num_steps=10, min_err=np.inf, best_stump={},\n",
    "                      best_class_est = np.mat(np.zeros((m, 1)))):\n",
    "    range_min, range_max = data_mat[:, i].min(), data_mat[:, i].max()\n",
    "    step_size = (range_max - range_min) / num_steps\n",
    "    print('{} 열의 loop을 돌겠습니다.'.format(i))\n",
    "    for j in range(-1, int(num_steps) + 1):\n",
    "        print('{}번째 스탭 진행중'.format(j))\n",
    "        for inequal in ['lt', 'gt']:\n",
    "            thresh = (range_min + float(j) * step_size)\n",
    "            predicted_value = stump_classify(data_mat, i, thresh, inequal)\n",
    "            print('ret_arr (with thresh:{}, inequal:{})\\n'.format(thresh, inequal), predicted_value)\n",
    "            err_arr = np.mat(np.ones((m, 1)))\n",
    "            err_arr[predicted_value == label_mat] = 0\n",
    "            weighted_err = D.T * err_arr # calc total error multiplied by D\n",
    "            print(\"split : dim {} thersh {:.3f}, thresh inequal : {}, the weighted error is {}\"\\\n",
    "                 .format(i, thresh, inequal, weighted_err))\n",
    "            if weighted_err < min_err:\n",
    "                min_err = weighted_err\n",
    "                best_class_est = predicted_value.copy()\n",
    "                best_stump['dim'] = i\n",
    "                best_stump['thresh'] = thresh\n",
    "                best_stump['ineq'] = inequal\n",
    "                print('min_err가 update됬습니다.', min_err)\n",
    "            else:\n",
    "                print('min_err가 update되지 않았습니다.', min_err)\n",
    "            print('현재까지 최고 예측 결과는 다음과 같습니다 :\\n', best_class_est)\n",
    "            print('최고 예측 parameter는 다음과 같습니다.', best_stump)\n",
    "            print('~~~~~~~~~~~~~~~~~~~~~~~~~~~~~~~~~~~~~~~~~~~~~~~~`')\n",
    "    print('\\n\\n------------------------------------------------------------------------\\n\\n')\n",
    "    return min_err, best_class_est, best_stump"
   ]
  },
  {
   "cell_type": "code",
   "execution_count": 352,
   "metadata": {},
   "outputs": [
    {
     "name": "stdout",
     "output_type": "stream",
     "text": [
      "0 열의 loop을 돌겠습니다.\n",
      "-1번째 스탭 진행중\n",
      "ret_arr (with thresh:0.9, inequal:lt)\n",
      " [[1.]\n",
      " [1.]\n",
      " [1.]\n",
      " [1.]\n",
      " [1.]]\n",
      "split : dim 0 thersh 0.900, thresh inequal : lt, the weighted error is [[0.4]]\n",
      "min_err가 update됬습니다. [[0.4]]\n",
      "현재까지 최고 예측 결과는 다음과 같습니다 :\n",
      " [[1.]\n",
      " [1.]\n",
      " [1.]\n",
      " [1.]\n",
      " [1.]]\n",
      "최고 예측 parameter는 다음과 같습니다. {'dim': 0, 'thresh': 0.9, 'ineq': 'lt'}\n",
      "~~~~~~~~~~~~~~~~~~~~~~~~~~~~~~~~~~~~~~~~~~~~~~~~`\n",
      "ret_arr (with thresh:0.9, inequal:gt)\n",
      " [[-1.]\n",
      " [-1.]\n",
      " [-1.]\n",
      " [-1.]\n",
      " [-1.]]\n",
      "split : dim 0 thersh 0.900, thresh inequal : gt, the weighted error is [[0.6]]\n",
      "min_err가 update되지 않았습니다. [[0.4]]\n",
      "현재까지 최고 예측 결과는 다음과 같습니다 :\n",
      " [[1.]\n",
      " [1.]\n",
      " [1.]\n",
      " [1.]\n",
      " [1.]]\n",
      "최고 예측 parameter는 다음과 같습니다. {'dim': 0, 'thresh': 0.9, 'ineq': 'lt'}\n",
      "~~~~~~~~~~~~~~~~~~~~~~~~~~~~~~~~~~~~~~~~~~~~~~~~`\n",
      "0번째 스탭 진행중\n",
      "ret_arr (with thresh:1.0, inequal:lt)\n",
      " [[-1.]\n",
      " [ 1.]\n",
      " [ 1.]\n",
      " [-1.]\n",
      " [ 1.]]\n",
      "split : dim 0 thersh 1.000, thresh inequal : lt, the weighted error is [[0.4]]\n",
      "min_err가 update되지 않았습니다. [[0.4]]\n",
      "현재까지 최고 예측 결과는 다음과 같습니다 :\n",
      " [[1.]\n",
      " [1.]\n",
      " [1.]\n",
      " [1.]\n",
      " [1.]]\n",
      "최고 예측 parameter는 다음과 같습니다. {'dim': 0, 'thresh': 0.9, 'ineq': 'lt'}\n",
      "~~~~~~~~~~~~~~~~~~~~~~~~~~~~~~~~~~~~~~~~~~~~~~~~`\n",
      "ret_arr (with thresh:1.0, inequal:gt)\n",
      " [[ 1.]\n",
      " [-1.]\n",
      " [-1.]\n",
      " [ 1.]\n",
      " [-1.]]\n",
      "split : dim 0 thersh 1.000, thresh inequal : gt, the weighted error is [[0.6]]\n",
      "min_err가 update되지 않았습니다. [[0.4]]\n",
      "현재까지 최고 예측 결과는 다음과 같습니다 :\n",
      " [[1.]\n",
      " [1.]\n",
      " [1.]\n",
      " [1.]\n",
      " [1.]]\n",
      "최고 예측 parameter는 다음과 같습니다. {'dim': 0, 'thresh': 0.9, 'ineq': 'lt'}\n",
      "~~~~~~~~~~~~~~~~~~~~~~~~~~~~~~~~~~~~~~~~~~~~~~~~`\n",
      "1번째 스탭 진행중\n",
      "ret_arr (with thresh:1.1, inequal:lt)\n",
      " [[-1.]\n",
      " [ 1.]\n",
      " [ 1.]\n",
      " [-1.]\n",
      " [ 1.]]\n",
      "split : dim 0 thersh 1.100, thresh inequal : lt, the weighted error is [[0.4]]\n",
      "min_err가 update되지 않았습니다. [[0.4]]\n",
      "현재까지 최고 예측 결과는 다음과 같습니다 :\n",
      " [[1.]\n",
      " [1.]\n",
      " [1.]\n",
      " [1.]\n",
      " [1.]]\n",
      "최고 예측 parameter는 다음과 같습니다. {'dim': 0, 'thresh': 0.9, 'ineq': 'lt'}\n",
      "~~~~~~~~~~~~~~~~~~~~~~~~~~~~~~~~~~~~~~~~~~~~~~~~`\n",
      "ret_arr (with thresh:1.1, inequal:gt)\n",
      " [[ 1.]\n",
      " [-1.]\n",
      " [-1.]\n",
      " [ 1.]\n",
      " [-1.]]\n",
      "split : dim 0 thersh 1.100, thresh inequal : gt, the weighted error is [[0.6]]\n",
      "min_err가 update되지 않았습니다. [[0.4]]\n",
      "현재까지 최고 예측 결과는 다음과 같습니다 :\n",
      " [[1.]\n",
      " [1.]\n",
      " [1.]\n",
      " [1.]\n",
      " [1.]]\n",
      "최고 예측 parameter는 다음과 같습니다. {'dim': 0, 'thresh': 0.9, 'ineq': 'lt'}\n",
      "~~~~~~~~~~~~~~~~~~~~~~~~~~~~~~~~~~~~~~~~~~~~~~~~`\n",
      "2번째 스탭 진행중\n",
      "ret_arr (with thresh:1.2, inequal:lt)\n",
      " [[-1.]\n",
      " [ 1.]\n",
      " [ 1.]\n",
      " [-1.]\n",
      " [ 1.]]\n",
      "split : dim 0 thersh 1.200, thresh inequal : lt, the weighted error is [[0.4]]\n",
      "min_err가 update되지 않았습니다. [[0.4]]\n",
      "현재까지 최고 예측 결과는 다음과 같습니다 :\n",
      " [[1.]\n",
      " [1.]\n",
      " [1.]\n",
      " [1.]\n",
      " [1.]]\n",
      "최고 예측 parameter는 다음과 같습니다. {'dim': 0, 'thresh': 0.9, 'ineq': 'lt'}\n",
      "~~~~~~~~~~~~~~~~~~~~~~~~~~~~~~~~~~~~~~~~~~~~~~~~`\n",
      "ret_arr (with thresh:1.2, inequal:gt)\n",
      " [[ 1.]\n",
      " [-1.]\n",
      " [-1.]\n",
      " [ 1.]\n",
      " [-1.]]\n",
      "split : dim 0 thersh 1.200, thresh inequal : gt, the weighted error is [[0.6]]\n",
      "min_err가 update되지 않았습니다. [[0.4]]\n",
      "현재까지 최고 예측 결과는 다음과 같습니다 :\n",
      " [[1.]\n",
      " [1.]\n",
      " [1.]\n",
      " [1.]\n",
      " [1.]]\n",
      "최고 예측 parameter는 다음과 같습니다. {'dim': 0, 'thresh': 0.9, 'ineq': 'lt'}\n",
      "~~~~~~~~~~~~~~~~~~~~~~~~~~~~~~~~~~~~~~~~~~~~~~~~`\n",
      "3번째 스탭 진행중\n",
      "ret_arr (with thresh:1.3, inequal:lt)\n",
      " [[-1.]\n",
      " [ 1.]\n",
      " [-1.]\n",
      " [-1.]\n",
      " [ 1.]]\n",
      "split : dim 0 thersh 1.300, thresh inequal : lt, the weighted error is [[0.2]]\n",
      "min_err가 update됬습니다. [[0.2]]\n",
      "현재까지 최고 예측 결과는 다음과 같습니다 :\n",
      " [[-1.]\n",
      " [ 1.]\n",
      " [-1.]\n",
      " [-1.]\n",
      " [ 1.]]\n",
      "최고 예측 parameter는 다음과 같습니다. {'dim': 0, 'thresh': 1.3, 'ineq': 'lt'}\n",
      "~~~~~~~~~~~~~~~~~~~~~~~~~~~~~~~~~~~~~~~~~~~~~~~~`\n",
      "ret_arr (with thresh:1.3, inequal:gt)\n",
      " [[ 1.]\n",
      " [-1.]\n",
      " [ 1.]\n",
      " [ 1.]\n",
      " [-1.]]\n",
      "split : dim 0 thersh 1.300, thresh inequal : gt, the weighted error is [[0.8]]\n",
      "min_err가 update되지 않았습니다. [[0.2]]\n",
      "현재까지 최고 예측 결과는 다음과 같습니다 :\n",
      " [[-1.]\n",
      " [ 1.]\n",
      " [-1.]\n",
      " [-1.]\n",
      " [ 1.]]\n",
      "최고 예측 parameter는 다음과 같습니다. {'dim': 0, 'thresh': 1.3, 'ineq': 'lt'}\n",
      "~~~~~~~~~~~~~~~~~~~~~~~~~~~~~~~~~~~~~~~~~~~~~~~~`\n",
      "4번째 스탭 진행중\n",
      "ret_arr (with thresh:1.4, inequal:lt)\n",
      " [[-1.]\n",
      " [ 1.]\n",
      " [-1.]\n",
      " [-1.]\n",
      " [ 1.]]\n",
      "split : dim 0 thersh 1.400, thresh inequal : lt, the weighted error is [[0.2]]\n",
      "min_err가 update되지 않았습니다. [[0.2]]\n",
      "현재까지 최고 예측 결과는 다음과 같습니다 :\n",
      " [[-1.]\n",
      " [ 1.]\n",
      " [-1.]\n",
      " [-1.]\n",
      " [ 1.]]\n",
      "최고 예측 parameter는 다음과 같습니다. {'dim': 0, 'thresh': 1.3, 'ineq': 'lt'}\n",
      "~~~~~~~~~~~~~~~~~~~~~~~~~~~~~~~~~~~~~~~~~~~~~~~~`\n",
      "ret_arr (with thresh:1.4, inequal:gt)\n",
      " [[ 1.]\n",
      " [-1.]\n",
      " [ 1.]\n",
      " [ 1.]\n",
      " [-1.]]\n",
      "split : dim 0 thersh 1.400, thresh inequal : gt, the weighted error is [[0.8]]\n",
      "min_err가 update되지 않았습니다. [[0.2]]\n",
      "현재까지 최고 예측 결과는 다음과 같습니다 :\n",
      " [[-1.]\n",
      " [ 1.]\n",
      " [-1.]\n",
      " [-1.]\n",
      " [ 1.]]\n",
      "최고 예측 parameter는 다음과 같습니다. {'dim': 0, 'thresh': 1.3, 'ineq': 'lt'}\n",
      "~~~~~~~~~~~~~~~~~~~~~~~~~~~~~~~~~~~~~~~~~~~~~~~~`\n",
      "5번째 스탭 진행중\n",
      "ret_arr (with thresh:1.5, inequal:lt)\n",
      " [[-1.]\n",
      " [ 1.]\n",
      " [-1.]\n",
      " [-1.]\n",
      " [ 1.]]\n",
      "split : dim 0 thersh 1.500, thresh inequal : lt, the weighted error is [[0.2]]\n",
      "min_err가 update되지 않았습니다. [[0.2]]\n",
      "현재까지 최고 예측 결과는 다음과 같습니다 :\n",
      " [[-1.]\n",
      " [ 1.]\n",
      " [-1.]\n",
      " [-1.]\n",
      " [ 1.]]\n",
      "최고 예측 parameter는 다음과 같습니다. {'dim': 0, 'thresh': 1.3, 'ineq': 'lt'}\n",
      "~~~~~~~~~~~~~~~~~~~~~~~~~~~~~~~~~~~~~~~~~~~~~~~~`\n",
      "ret_arr (with thresh:1.5, inequal:gt)\n",
      " [[ 1.]\n",
      " [-1.]\n",
      " [ 1.]\n",
      " [ 1.]\n",
      " [-1.]]\n",
      "split : dim 0 thersh 1.500, thresh inequal : gt, the weighted error is [[0.8]]\n",
      "min_err가 update되지 않았습니다. [[0.2]]\n",
      "현재까지 최고 예측 결과는 다음과 같습니다 :\n",
      " [[-1.]\n",
      " [ 1.]\n",
      " [-1.]\n",
      " [-1.]\n",
      " [ 1.]]\n",
      "최고 예측 parameter는 다음과 같습니다. {'dim': 0, 'thresh': 1.3, 'ineq': 'lt'}\n",
      "~~~~~~~~~~~~~~~~~~~~~~~~~~~~~~~~~~~~~~~~~~~~~~~~`\n",
      "6번째 스탭 진행중\n",
      "ret_arr (with thresh:1.6, inequal:lt)\n",
      " [[-1.]\n",
      " [ 1.]\n",
      " [-1.]\n",
      " [-1.]\n",
      " [ 1.]]\n",
      "split : dim 0 thersh 1.600, thresh inequal : lt, the weighted error is [[0.2]]\n",
      "min_err가 update되지 않았습니다. [[0.2]]\n",
      "현재까지 최고 예측 결과는 다음과 같습니다 :\n",
      " [[-1.]\n",
      " [ 1.]\n",
      " [-1.]\n",
      " [-1.]\n",
      " [ 1.]]\n",
      "최고 예측 parameter는 다음과 같습니다. {'dim': 0, 'thresh': 1.3, 'ineq': 'lt'}\n",
      "~~~~~~~~~~~~~~~~~~~~~~~~~~~~~~~~~~~~~~~~~~~~~~~~`\n",
      "ret_arr (with thresh:1.6, inequal:gt)\n",
      " [[ 1.]\n",
      " [-1.]\n",
      " [ 1.]\n",
      " [ 1.]\n",
      " [-1.]]\n",
      "split : dim 0 thersh 1.600, thresh inequal : gt, the weighted error is [[0.8]]\n",
      "min_err가 update되지 않았습니다. [[0.2]]\n",
      "현재까지 최고 예측 결과는 다음과 같습니다 :\n",
      " [[-1.]\n",
      " [ 1.]\n",
      " [-1.]\n",
      " [-1.]\n",
      " [ 1.]]\n",
      "최고 예측 parameter는 다음과 같습니다. {'dim': 0, 'thresh': 1.3, 'ineq': 'lt'}\n",
      "~~~~~~~~~~~~~~~~~~~~~~~~~~~~~~~~~~~~~~~~~~~~~~~~`\n",
      "7번째 스탭 진행중\n",
      "ret_arr (with thresh:1.7000000000000002, inequal:lt)\n",
      " [[-1.]\n",
      " [ 1.]\n",
      " [-1.]\n",
      " [-1.]\n",
      " [ 1.]]\n",
      "split : dim 0 thersh 1.700, thresh inequal : lt, the weighted error is [[0.2]]\n",
      "min_err가 update되지 않았습니다. [[0.2]]\n",
      "현재까지 최고 예측 결과는 다음과 같습니다 :\n",
      " [[-1.]\n",
      " [ 1.]\n",
      " [-1.]\n",
      " [-1.]\n",
      " [ 1.]]\n",
      "최고 예측 parameter는 다음과 같습니다. {'dim': 0, 'thresh': 1.3, 'ineq': 'lt'}\n",
      "~~~~~~~~~~~~~~~~~~~~~~~~~~~~~~~~~~~~~~~~~~~~~~~~`\n",
      "ret_arr (with thresh:1.7000000000000002, inequal:gt)\n",
      " [[ 1.]\n",
      " [-1.]\n",
      " [ 1.]\n",
      " [ 1.]\n",
      " [-1.]]\n",
      "split : dim 0 thersh 1.700, thresh inequal : gt, the weighted error is [[0.8]]\n",
      "min_err가 update되지 않았습니다. [[0.2]]\n",
      "현재까지 최고 예측 결과는 다음과 같습니다 :\n",
      " [[-1.]\n",
      " [ 1.]\n",
      " [-1.]\n",
      " [-1.]\n",
      " [ 1.]]\n",
      "최고 예측 parameter는 다음과 같습니다. {'dim': 0, 'thresh': 1.3, 'ineq': 'lt'}\n",
      "~~~~~~~~~~~~~~~~~~~~~~~~~~~~~~~~~~~~~~~~~~~~~~~~`\n",
      "8번째 스탭 진행중\n",
      "ret_arr (with thresh:1.8, inequal:lt)\n",
      " [[-1.]\n",
      " [ 1.]\n",
      " [-1.]\n",
      " [-1.]\n",
      " [ 1.]]\n",
      "split : dim 0 thersh 1.800, thresh inequal : lt, the weighted error is [[0.2]]\n",
      "min_err가 update되지 않았습니다. [[0.2]]\n",
      "현재까지 최고 예측 결과는 다음과 같습니다 :\n",
      " [[-1.]\n",
      " [ 1.]\n",
      " [-1.]\n",
      " [-1.]\n",
      " [ 1.]]\n",
      "최고 예측 parameter는 다음과 같습니다. {'dim': 0, 'thresh': 1.3, 'ineq': 'lt'}\n",
      "~~~~~~~~~~~~~~~~~~~~~~~~~~~~~~~~~~~~~~~~~~~~~~~~`\n",
      "ret_arr (with thresh:1.8, inequal:gt)\n",
      " [[ 1.]\n",
      " [-1.]\n",
      " [ 1.]\n",
      " [ 1.]\n",
      " [-1.]]\n",
      "split : dim 0 thersh 1.800, thresh inequal : gt, the weighted error is [[0.8]]\n",
      "min_err가 update되지 않았습니다. [[0.2]]\n",
      "현재까지 최고 예측 결과는 다음과 같습니다 :\n",
      " [[-1.]\n",
      " [ 1.]\n",
      " [-1.]\n",
      " [-1.]\n",
      " [ 1.]]\n",
      "최고 예측 parameter는 다음과 같습니다. {'dim': 0, 'thresh': 1.3, 'ineq': 'lt'}\n",
      "~~~~~~~~~~~~~~~~~~~~~~~~~~~~~~~~~~~~~~~~~~~~~~~~`\n",
      "9번째 스탭 진행중\n",
      "ret_arr (with thresh:1.9, inequal:lt)\n",
      " [[-1.]\n",
      " [ 1.]\n",
      " [-1.]\n",
      " [-1.]\n",
      " [ 1.]]\n",
      "split : dim 0 thersh 1.900, thresh inequal : lt, the weighted error is [[0.2]]\n",
      "min_err가 update되지 않았습니다. [[0.2]]\n",
      "현재까지 최고 예측 결과는 다음과 같습니다 :\n",
      " [[-1.]\n",
      " [ 1.]\n",
      " [-1.]\n",
      " [-1.]\n",
      " [ 1.]]\n",
      "최고 예측 parameter는 다음과 같습니다. {'dim': 0, 'thresh': 1.3, 'ineq': 'lt'}\n",
      "~~~~~~~~~~~~~~~~~~~~~~~~~~~~~~~~~~~~~~~~~~~~~~~~`\n",
      "ret_arr (with thresh:1.9, inequal:gt)\n",
      " [[ 1.]\n",
      " [-1.]\n",
      " [ 1.]\n",
      " [ 1.]\n",
      " [-1.]]\n",
      "split : dim 0 thersh 1.900, thresh inequal : gt, the weighted error is [[0.8]]\n",
      "min_err가 update되지 않았습니다. [[0.2]]\n",
      "현재까지 최고 예측 결과는 다음과 같습니다 :\n",
      " [[-1.]\n",
      " [ 1.]\n",
      " [-1.]\n",
      " [-1.]\n",
      " [ 1.]]\n",
      "최고 예측 parameter는 다음과 같습니다. {'dim': 0, 'thresh': 1.3, 'ineq': 'lt'}\n",
      "~~~~~~~~~~~~~~~~~~~~~~~~~~~~~~~~~~~~~~~~~~~~~~~~`\n",
      "10번째 스탭 진행중\n",
      "ret_arr (with thresh:2.0, inequal:lt)\n",
      " [[-1.]\n",
      " [-1.]\n",
      " [-1.]\n",
      " [-1.]\n",
      " [-1.]]\n",
      "split : dim 0 thersh 2.000, thresh inequal : lt, the weighted error is [[0.6]]\n",
      "min_err가 update되지 않았습니다. [[0.2]]\n",
      "현재까지 최고 예측 결과는 다음과 같습니다 :\n",
      " [[-1.]\n",
      " [ 1.]\n",
      " [-1.]\n",
      " [-1.]\n",
      " [ 1.]]\n",
      "최고 예측 parameter는 다음과 같습니다. {'dim': 0, 'thresh': 1.3, 'ineq': 'lt'}\n",
      "~~~~~~~~~~~~~~~~~~~~~~~~~~~~~~~~~~~~~~~~~~~~~~~~`\n",
      "ret_arr (with thresh:2.0, inequal:gt)\n",
      " [[1.]\n",
      " [1.]\n",
      " [1.]\n",
      " [1.]\n",
      " [1.]]\n",
      "split : dim 0 thersh 2.000, thresh inequal : gt, the weighted error is [[0.4]]\n",
      "min_err가 update되지 않았습니다. [[0.2]]\n",
      "현재까지 최고 예측 결과는 다음과 같습니다 :\n",
      " [[-1.]\n",
      " [ 1.]\n",
      " [-1.]\n",
      " [-1.]\n",
      " [ 1.]]\n",
      "최고 예측 parameter는 다음과 같습니다. {'dim': 0, 'thresh': 1.3, 'ineq': 'lt'}\n",
      "~~~~~~~~~~~~~~~~~~~~~~~~~~~~~~~~~~~~~~~~~~~~~~~~`\n",
      "\n",
      "\n",
      "------------------------------------------------------------------------\n",
      "\n",
      "\n",
      "1 열의 loop을 돌겠습니다.\n",
      "-1번째 스탭 진행중\n",
      "ret_arr (with thresh:0.89, inequal:lt)\n",
      " [[1.]\n",
      " [1.]\n",
      " [1.]\n",
      " [1.]\n",
      " [1.]]\n",
      "split : dim 1 thersh 0.890, thresh inequal : lt, the weighted error is [[0.4]]\n",
      "min_err가 update되지 않았습니다. [[0.2]]\n",
      "현재까지 최고 예측 결과는 다음과 같습니다 :\n",
      " [[-1.]\n",
      " [ 1.]\n",
      " [-1.]\n",
      " [-1.]\n",
      " [ 1.]]\n",
      "최고 예측 parameter는 다음과 같습니다. {'dim': 0, 'thresh': 1.3, 'ineq': 'lt'}\n",
      "~~~~~~~~~~~~~~~~~~~~~~~~~~~~~~~~~~~~~~~~~~~~~~~~`\n",
      "ret_arr (with thresh:0.89, inequal:gt)\n",
      " [[-1.]\n",
      " [-1.]\n",
      " [-1.]\n",
      " [-1.]\n",
      " [-1.]]\n",
      "split : dim 1 thersh 0.890, thresh inequal : gt, the weighted error is [[0.6]]\n",
      "min_err가 update되지 않았습니다. [[0.2]]\n",
      "현재까지 최고 예측 결과는 다음과 같습니다 :\n",
      " [[-1.]\n",
      " [ 1.]\n",
      " [-1.]\n",
      " [-1.]\n",
      " [ 1.]]\n",
      "최고 예측 parameter는 다음과 같습니다. {'dim': 0, 'thresh': 1.3, 'ineq': 'lt'}\n",
      "~~~~~~~~~~~~~~~~~~~~~~~~~~~~~~~~~~~~~~~~~~~~~~~~`\n",
      "0번째 스탭 진행중\n",
      "ret_arr (with thresh:1.0, inequal:lt)\n",
      " [[ 1.]\n",
      " [ 1.]\n",
      " [-1.]\n",
      " [-1.]\n",
      " [-1.]]\n",
      "split : dim 1 thersh 1.000, thresh inequal : lt, the weighted error is [[0.2]]\n",
      "min_err가 update되지 않았습니다. [[0.2]]\n",
      "현재까지 최고 예측 결과는 다음과 같습니다 :\n",
      " [[-1.]\n",
      " [ 1.]\n",
      " [-1.]\n",
      " [-1.]\n",
      " [ 1.]]\n",
      "최고 예측 parameter는 다음과 같습니다. {'dim': 0, 'thresh': 1.3, 'ineq': 'lt'}\n",
      "~~~~~~~~~~~~~~~~~~~~~~~~~~~~~~~~~~~~~~~~~~~~~~~~`\n",
      "ret_arr (with thresh:1.0, inequal:gt)\n",
      " [[-1.]\n",
      " [-1.]\n",
      " [ 1.]\n",
      " [ 1.]\n",
      " [ 1.]]\n",
      "split : dim 1 thersh 1.000, thresh inequal : gt, the weighted error is [[0.8]]\n",
      "min_err가 update되지 않았습니다. [[0.2]]\n",
      "현재까지 최고 예측 결과는 다음과 같습니다 :\n",
      " [[-1.]\n",
      " [ 1.]\n",
      " [-1.]\n",
      " [-1.]\n",
      " [ 1.]]\n",
      "최고 예측 parameter는 다음과 같습니다. {'dim': 0, 'thresh': 1.3, 'ineq': 'lt'}\n",
      "~~~~~~~~~~~~~~~~~~~~~~~~~~~~~~~~~~~~~~~~~~~~~~~~`\n",
      "1번째 스탭 진행중\n",
      "ret_arr (with thresh:1.11, inequal:lt)\n",
      " [[ 1.]\n",
      " [-1.]\n",
      " [-1.]\n",
      " [-1.]\n",
      " [-1.]]\n",
      "split : dim 1 thersh 1.110, thresh inequal : lt, the weighted error is [[0.4]]\n",
      "min_err가 update되지 않았습니다. [[0.2]]\n",
      "현재까지 최고 예측 결과는 다음과 같습니다 :\n",
      " [[-1.]\n",
      " [ 1.]\n",
      " [-1.]\n",
      " [-1.]\n",
      " [ 1.]]\n",
      "최고 예측 parameter는 다음과 같습니다. {'dim': 0, 'thresh': 1.3, 'ineq': 'lt'}\n",
      "~~~~~~~~~~~~~~~~~~~~~~~~~~~~~~~~~~~~~~~~~~~~~~~~`\n",
      "ret_arr (with thresh:1.11, inequal:gt)\n",
      " [[-1.]\n",
      " [ 1.]\n",
      " [ 1.]\n",
      " [ 1.]\n",
      " [ 1.]]\n",
      "split : dim 1 thersh 1.110, thresh inequal : gt, the weighted error is [[0.6]]\n",
      "min_err가 update되지 않았습니다. [[0.2]]\n",
      "현재까지 최고 예측 결과는 다음과 같습니다 :\n",
      " [[-1.]\n",
      " [ 1.]\n",
      " [-1.]\n",
      " [-1.]\n",
      " [ 1.]]\n",
      "최고 예측 parameter는 다음과 같습니다. {'dim': 0, 'thresh': 1.3, 'ineq': 'lt'}\n",
      "~~~~~~~~~~~~~~~~~~~~~~~~~~~~~~~~~~~~~~~~~~~~~~~~`\n",
      "2번째 스탭 진행중\n",
      "ret_arr (with thresh:1.22, inequal:lt)\n",
      " [[ 1.]\n",
      " [-1.]\n",
      " [-1.]\n",
      " [-1.]\n",
      " [-1.]]\n",
      "split : dim 1 thersh 1.220, thresh inequal : lt, the weighted error is [[0.4]]\n",
      "min_err가 update되지 않았습니다. [[0.2]]\n",
      "현재까지 최고 예측 결과는 다음과 같습니다 :\n",
      " [[-1.]\n",
      " [ 1.]\n",
      " [-1.]\n",
      " [-1.]\n",
      " [ 1.]]\n",
      "최고 예측 parameter는 다음과 같습니다. {'dim': 0, 'thresh': 1.3, 'ineq': 'lt'}\n",
      "~~~~~~~~~~~~~~~~~~~~~~~~~~~~~~~~~~~~~~~~~~~~~~~~`\n",
      "ret_arr (with thresh:1.22, inequal:gt)\n",
      " [[-1.]\n",
      " [ 1.]\n",
      " [ 1.]\n",
      " [ 1.]\n",
      " [ 1.]]\n",
      "split : dim 1 thersh 1.220, thresh inequal : gt, the weighted error is [[0.6]]\n",
      "min_err가 update되지 않았습니다. [[0.2]]\n",
      "현재까지 최고 예측 결과는 다음과 같습니다 :\n",
      " [[-1.]\n",
      " [ 1.]\n",
      " [-1.]\n",
      " [-1.]\n",
      " [ 1.]]\n",
      "최고 예측 parameter는 다음과 같습니다. {'dim': 0, 'thresh': 1.3, 'ineq': 'lt'}\n",
      "~~~~~~~~~~~~~~~~~~~~~~~~~~~~~~~~~~~~~~~~~~~~~~~~`\n",
      "3번째 스탭 진행중\n",
      "ret_arr (with thresh:1.33, inequal:lt)\n",
      " [[ 1.]\n",
      " [-1.]\n",
      " [-1.]\n",
      " [-1.]\n",
      " [-1.]]\n",
      "split : dim 1 thersh 1.330, thresh inequal : lt, the weighted error is [[0.4]]\n",
      "min_err가 update되지 않았습니다. [[0.2]]\n",
      "현재까지 최고 예측 결과는 다음과 같습니다 :\n",
      " [[-1.]\n",
      " [ 1.]\n",
      " [-1.]\n",
      " [-1.]\n",
      " [ 1.]]\n",
      "최고 예측 parameter는 다음과 같습니다. {'dim': 0, 'thresh': 1.3, 'ineq': 'lt'}\n",
      "~~~~~~~~~~~~~~~~~~~~~~~~~~~~~~~~~~~~~~~~~~~~~~~~`\n",
      "ret_arr (with thresh:1.33, inequal:gt)\n",
      " [[-1.]\n",
      " [ 1.]\n",
      " [ 1.]\n",
      " [ 1.]\n",
      " [ 1.]]\n",
      "split : dim 1 thersh 1.330, thresh inequal : gt, the weighted error is [[0.6]]\n",
      "min_err가 update되지 않았습니다. [[0.2]]\n",
      "현재까지 최고 예측 결과는 다음과 같습니다 :\n",
      " [[-1.]\n",
      " [ 1.]\n",
      " [-1.]\n",
      " [-1.]\n",
      " [ 1.]]\n",
      "최고 예측 parameter는 다음과 같습니다. {'dim': 0, 'thresh': 1.3, 'ineq': 'lt'}\n",
      "~~~~~~~~~~~~~~~~~~~~~~~~~~~~~~~~~~~~~~~~~~~~~~~~`\n",
      "4번째 스탭 진행중\n",
      "ret_arr (with thresh:1.44, inequal:lt)\n",
      " [[ 1.]\n",
      " [-1.]\n",
      " [-1.]\n",
      " [-1.]\n",
      " [-1.]]\n",
      "split : dim 1 thersh 1.440, thresh inequal : lt, the weighted error is [[0.4]]\n",
      "min_err가 update되지 않았습니다. [[0.2]]\n",
      "현재까지 최고 예측 결과는 다음과 같습니다 :\n",
      " [[-1.]\n",
      " [ 1.]\n",
      " [-1.]\n",
      " [-1.]\n",
      " [ 1.]]\n",
      "최고 예측 parameter는 다음과 같습니다. {'dim': 0, 'thresh': 1.3, 'ineq': 'lt'}\n",
      "~~~~~~~~~~~~~~~~~~~~~~~~~~~~~~~~~~~~~~~~~~~~~~~~`\n",
      "ret_arr (with thresh:1.44, inequal:gt)\n",
      " [[-1.]\n",
      " [ 1.]\n",
      " [ 1.]\n",
      " [ 1.]\n",
      " [ 1.]]\n",
      "split : dim 1 thersh 1.440, thresh inequal : gt, the weighted error is [[0.6]]\n",
      "min_err가 update되지 않았습니다. [[0.2]]\n",
      "현재까지 최고 예측 결과는 다음과 같습니다 :\n",
      " [[-1.]\n",
      " [ 1.]\n",
      " [-1.]\n",
      " [-1.]\n",
      " [ 1.]]\n",
      "최고 예측 parameter는 다음과 같습니다. {'dim': 0, 'thresh': 1.3, 'ineq': 'lt'}\n",
      "~~~~~~~~~~~~~~~~~~~~~~~~~~~~~~~~~~~~~~~~~~~~~~~~`\n",
      "5번째 스탭 진행중\n",
      "ret_arr (with thresh:1.55, inequal:lt)\n",
      " [[ 1.]\n",
      " [-1.]\n",
      " [-1.]\n",
      " [-1.]\n",
      " [-1.]]\n",
      "split : dim 1 thersh 1.550, thresh inequal : lt, the weighted error is [[0.4]]\n",
      "min_err가 update되지 않았습니다. [[0.2]]\n",
      "현재까지 최고 예측 결과는 다음과 같습니다 :\n",
      " [[-1.]\n",
      " [ 1.]\n",
      " [-1.]\n",
      " [-1.]\n",
      " [ 1.]]\n",
      "최고 예측 parameter는 다음과 같습니다. {'dim': 0, 'thresh': 1.3, 'ineq': 'lt'}\n",
      "~~~~~~~~~~~~~~~~~~~~~~~~~~~~~~~~~~~~~~~~~~~~~~~~`\n",
      "ret_arr (with thresh:1.55, inequal:gt)\n",
      " [[-1.]\n",
      " [ 1.]\n",
      " [ 1.]\n",
      " [ 1.]\n",
      " [ 1.]]\n",
      "split : dim 1 thersh 1.550, thresh inequal : gt, the weighted error is [[0.6]]\n",
      "min_err가 update되지 않았습니다. [[0.2]]\n",
      "현재까지 최고 예측 결과는 다음과 같습니다 :\n",
      " [[-1.]\n",
      " [ 1.]\n",
      " [-1.]\n",
      " [-1.]\n",
      " [ 1.]]\n",
      "최고 예측 parameter는 다음과 같습니다. {'dim': 0, 'thresh': 1.3, 'ineq': 'lt'}\n",
      "~~~~~~~~~~~~~~~~~~~~~~~~~~~~~~~~~~~~~~~~~~~~~~~~`\n",
      "6번째 스탭 진행중\n",
      "ret_arr (with thresh:1.6600000000000001, inequal:lt)\n",
      " [[ 1.]\n",
      " [-1.]\n",
      " [-1.]\n",
      " [-1.]\n",
      " [-1.]]\n",
      "split : dim 1 thersh 1.660, thresh inequal : lt, the weighted error is [[0.4]]\n",
      "min_err가 update되지 않았습니다. [[0.2]]\n",
      "현재까지 최고 예측 결과는 다음과 같습니다 :\n",
      " [[-1.]\n",
      " [ 1.]\n",
      " [-1.]\n",
      " [-1.]\n",
      " [ 1.]]\n",
      "최고 예측 parameter는 다음과 같습니다. {'dim': 0, 'thresh': 1.3, 'ineq': 'lt'}\n",
      "~~~~~~~~~~~~~~~~~~~~~~~~~~~~~~~~~~~~~~~~~~~~~~~~`\n",
      "ret_arr (with thresh:1.6600000000000001, inequal:gt)\n",
      " [[-1.]\n",
      " [ 1.]\n",
      " [ 1.]\n",
      " [ 1.]\n",
      " [ 1.]]\n",
      "split : dim 1 thersh 1.660, thresh inequal : gt, the weighted error is [[0.6]]\n",
      "min_err가 update되지 않았습니다. [[0.2]]\n",
      "현재까지 최고 예측 결과는 다음과 같습니다 :\n",
      " [[-1.]\n",
      " [ 1.]\n",
      " [-1.]\n",
      " [-1.]\n",
      " [ 1.]]\n",
      "최고 예측 parameter는 다음과 같습니다. {'dim': 0, 'thresh': 1.3, 'ineq': 'lt'}\n",
      "~~~~~~~~~~~~~~~~~~~~~~~~~~~~~~~~~~~~~~~~~~~~~~~~`\n",
      "7번째 스탭 진행중\n",
      "ret_arr (with thresh:1.77, inequal:lt)\n",
      " [[ 1.]\n",
      " [-1.]\n",
      " [-1.]\n",
      " [-1.]\n",
      " [-1.]]\n",
      "split : dim 1 thersh 1.770, thresh inequal : lt, the weighted error is [[0.4]]\n",
      "min_err가 update되지 않았습니다. [[0.2]]\n",
      "현재까지 최고 예측 결과는 다음과 같습니다 :\n",
      " [[-1.]\n",
      " [ 1.]\n",
      " [-1.]\n",
      " [-1.]\n",
      " [ 1.]]\n",
      "최고 예측 parameter는 다음과 같습니다. {'dim': 0, 'thresh': 1.3, 'ineq': 'lt'}\n",
      "~~~~~~~~~~~~~~~~~~~~~~~~~~~~~~~~~~~~~~~~~~~~~~~~`\n",
      "ret_arr (with thresh:1.77, inequal:gt)\n",
      " [[-1.]\n",
      " [ 1.]\n",
      " [ 1.]\n",
      " [ 1.]\n",
      " [ 1.]]\n",
      "split : dim 1 thersh 1.770, thresh inequal : gt, the weighted error is [[0.6]]\n",
      "min_err가 update되지 않았습니다. [[0.2]]\n",
      "현재까지 최고 예측 결과는 다음과 같습니다 :\n",
      " [[-1.]\n",
      " [ 1.]\n",
      " [-1.]\n",
      " [-1.]\n",
      " [ 1.]]\n",
      "최고 예측 parameter는 다음과 같습니다. {'dim': 0, 'thresh': 1.3, 'ineq': 'lt'}\n",
      "~~~~~~~~~~~~~~~~~~~~~~~~~~~~~~~~~~~~~~~~~~~~~~~~`\n",
      "8번째 스탭 진행중\n",
      "ret_arr (with thresh:1.8800000000000001, inequal:lt)\n",
      " [[ 1.]\n",
      " [-1.]\n",
      " [-1.]\n",
      " [-1.]\n",
      " [-1.]]\n",
      "split : dim 1 thersh 1.880, thresh inequal : lt, the weighted error is [[0.4]]\n",
      "min_err가 update되지 않았습니다. [[0.2]]\n",
      "현재까지 최고 예측 결과는 다음과 같습니다 :\n",
      " [[-1.]\n",
      " [ 1.]\n",
      " [-1.]\n",
      " [-1.]\n",
      " [ 1.]]\n",
      "최고 예측 parameter는 다음과 같습니다. {'dim': 0, 'thresh': 1.3, 'ineq': 'lt'}\n",
      "~~~~~~~~~~~~~~~~~~~~~~~~~~~~~~~~~~~~~~~~~~~~~~~~`\n",
      "ret_arr (with thresh:1.8800000000000001, inequal:gt)\n",
      " [[-1.]\n",
      " [ 1.]\n",
      " [ 1.]\n",
      " [ 1.]\n",
      " [ 1.]]\n",
      "split : dim 1 thersh 1.880, thresh inequal : gt, the weighted error is [[0.6]]\n",
      "min_err가 update되지 않았습니다. [[0.2]]\n",
      "현재까지 최고 예측 결과는 다음과 같습니다 :\n",
      " [[-1.]\n",
      " [ 1.]\n",
      " [-1.]\n",
      " [-1.]\n",
      " [ 1.]]\n",
      "최고 예측 parameter는 다음과 같습니다. {'dim': 0, 'thresh': 1.3, 'ineq': 'lt'}\n",
      "~~~~~~~~~~~~~~~~~~~~~~~~~~~~~~~~~~~~~~~~~~~~~~~~`\n",
      "9번째 스탭 진행중\n",
      "ret_arr (with thresh:1.9900000000000002, inequal:lt)\n",
      " [[ 1.]\n",
      " [-1.]\n",
      " [-1.]\n",
      " [-1.]\n",
      " [-1.]]\n",
      "split : dim 1 thersh 1.990, thresh inequal : lt, the weighted error is [[0.4]]\n",
      "min_err가 update되지 않았습니다. [[0.2]]\n",
      "현재까지 최고 예측 결과는 다음과 같습니다 :\n",
      " [[-1.]\n",
      " [ 1.]\n",
      " [-1.]\n",
      " [-1.]\n",
      " [ 1.]]\n",
      "최고 예측 parameter는 다음과 같습니다. {'dim': 0, 'thresh': 1.3, 'ineq': 'lt'}\n",
      "~~~~~~~~~~~~~~~~~~~~~~~~~~~~~~~~~~~~~~~~~~~~~~~~`\n",
      "ret_arr (with thresh:1.9900000000000002, inequal:gt)\n",
      " [[-1.]\n",
      " [ 1.]\n",
      " [ 1.]\n",
      " [ 1.]\n",
      " [ 1.]]\n",
      "split : dim 1 thersh 1.990, thresh inequal : gt, the weighted error is [[0.6]]\n",
      "min_err가 update되지 않았습니다. [[0.2]]\n",
      "현재까지 최고 예측 결과는 다음과 같습니다 :\n",
      " [[-1.]\n",
      " [ 1.]\n",
      " [-1.]\n",
      " [-1.]\n",
      " [ 1.]]\n",
      "최고 예측 parameter는 다음과 같습니다. {'dim': 0, 'thresh': 1.3, 'ineq': 'lt'}\n",
      "~~~~~~~~~~~~~~~~~~~~~~~~~~~~~~~~~~~~~~~~~~~~~~~~`\n",
      "10번째 스탭 진행중\n",
      "ret_arr (with thresh:2.1, inequal:lt)\n",
      " [[-1.]\n",
      " [-1.]\n",
      " [-1.]\n",
      " [-1.]\n",
      " [-1.]]\n",
      "split : dim 1 thersh 2.100, thresh inequal : lt, the weighted error is [[0.6]]\n",
      "min_err가 update되지 않았습니다. [[0.2]]\n",
      "현재까지 최고 예측 결과는 다음과 같습니다 :\n",
      " [[-1.]\n",
      " [ 1.]\n",
      " [-1.]\n",
      " [-1.]\n",
      " [ 1.]]\n",
      "최고 예측 parameter는 다음과 같습니다. {'dim': 0, 'thresh': 1.3, 'ineq': 'lt'}\n",
      "~~~~~~~~~~~~~~~~~~~~~~~~~~~~~~~~~~~~~~~~~~~~~~~~`\n",
      "ret_arr (with thresh:2.1, inequal:gt)\n",
      " [[1.]\n",
      " [1.]\n",
      " [1.]\n",
      " [1.]\n",
      " [1.]]\n",
      "split : dim 1 thersh 2.100, thresh inequal : gt, the weighted error is [[0.4]]\n",
      "min_err가 update되지 않았습니다. [[0.2]]\n",
      "현재까지 최고 예측 결과는 다음과 같습니다 :\n",
      " [[-1.]\n",
      " [ 1.]\n",
      " [-1.]\n",
      " [-1.]\n",
      " [ 1.]]\n",
      "최고 예측 parameter는 다음과 같습니다. {'dim': 0, 'thresh': 1.3, 'ineq': 'lt'}\n",
      "~~~~~~~~~~~~~~~~~~~~~~~~~~~~~~~~~~~~~~~~~~~~~~~~`\n",
      "\n",
      "\n",
      "------------------------------------------------------------------------\n",
      "\n",
      "\n"
     ]
    }
   ],
   "source": [
    "min_err, best_class_est, best_stump = inner_loop_i_is_0(i=0)\n",
    "# 첫번째 열에서\n",
    "## 3번째 스탭에서 update!\n",
    "## split : dim 0 thersh 1.300, thresh inequal : lt, the weighted error is [[0.2]]\n",
    "## .4 -> .2로 줄어들음\n",
    "## 이후 변동없음\n",
    "\n",
    "min_err, best_class_est, best_stump = inner_loop_i_is_0(i=1, \n",
    "                            min_err=min_err, best_stump=best_stump, best_class_est = best_class_est)\n",
    "# 두번째 열에서\n",
    "## 한번도 updqte되지 않음"
   ]
  },
  {
   "cell_type": "code",
   "execution_count": 344,
   "metadata": {},
   "outputs": [
    {
     "name": "stdout",
     "output_type": "stream",
     "text": [
      "min_error : [[0.2]]\n",
      "현재까지 최고 예측 결과 :\n",
      " [[-1.]\n",
      " [ 1.]\n",
      " [-1.]\n",
      " [-1.]\n",
      " [ 1.]]\n",
      "최고 예측 parameter : {'dim': 0, 'thresh': 1.3, 'ineq': 'lt'}\n"
     ]
    }
   ],
   "source": [
    "# 위 결과는 전체 함수로 돌린 결과와 동일\n",
    "D = np.mat(np.ones((5, 1)) / 5)\n",
    "dicts, err, ret_arr = build_stump(data_mat, class_label, D, silent=True)\n",
    "print('min_error :', err)\n",
    "print('현재까지 최고 예측 결과 :\\n', ret_arr)\n",
    "print('최고 예측 parameter :', dicts)"
   ]
  },
  {
   "cell_type": "markdown",
   "metadata": {},
   "source": [
    "$${y}_{j}^{(i)}\\neq{y_{j}^{(i)}}$$"
   ]
  },
  {
   "cell_type": "markdown",
   "metadata": {},
   "source": [
    "- j번째 예측기의 가중치가 적용된 에러율\n",
    "$$r_j\\,=\\,{{\\sum_{i=1}^{m}w^{(i)}\\;\\;\\text{if}\\;\\hat{y}_{j}^{(i)}\\neq{y_{j}^{(i)}}}\\over{\\sum_{i=1}^{m}w^{(i)}}}$$\n",
    "\n",
    "$$\\text{if}\\,j=0,\\;then\\,each\\,w^{(i)}={1\\over{m}}$$\n",
    "- 예측기 가중치\n",
    "$$\\alpha_j\\,=\\,\\eta{log{{1-r_j}\\over{r_j}}}$$\n",
    "- 가중치 업데이트 규칙\n",
    "$$w^{(i)} = \\begin{cases}\n",
    "  w^{(i)}, & \\text{if } {y}_{j}^{(i)}={y_{j}^{(i)}}, \\\\\n",
    "  w^{(i)}\\text{exp}(\\alpha_{j}), & \\text{otherwise}.\n",
    "\\end{cases}$$\n",
    "- 아다부스트 예측\n",
    "$$\\hat{y}(X)=\\underset{k}{argmax}\\sum_{\\underset{\\hat{y}_{j}(x)=k}{i=1}}^{N}\\alpha_{j}$$"
   ]
  },
  {
   "cell_type": "markdown",
   "metadata": {},
   "source": [
    "```\n",
    "def adaBoostTrainDS(data_arr, class_label, num=40):\n",
    "    weak_class_arr = []\n",
    "    m = data_arr.shape[0]\n",
    "    D = np.mat(np.ones((m, 1)) / m) # init D to all equal\n",
    "    agg_class_est = np.mat(np.zeros((m, 1)))\n",
    "    for i in range(num):\n",
    "        best_stump, err, class_est = build_stump(data_arr, class_label, D) # build Stump\n",
    "        print(\"D : {}\".format(D.T))\n",
    "        # calc alpha, throw in max(error, eps) to account for error=0\n",
    "        alpha = float(.5 * np.log((1. - err) / max(err, 1e-16)))\n",
    "        best_stump['alpha'] = alpha\n",
    "        weak_class_arr.append(best_stump) # store stump params in Array\n",
    "        print('classEst: {}'.format(class_est.T))\n",
    "        # exponent for 0 calc, getting messy\n",
    "        expon = np.multiply(-1 * alpha * np.mat(class_label).T, class_est)\n",
    "        D = np.multiply(D, np.exp(expon)) # calc new D for next iteration\n",
    "        D = D / D.sum()\n",
    "        # calc training error of all calssifies,\n",
    "        # if this is 0 quit for loop early (use break)\n",
    "        agg_class_est += alpha * class_est\n",
    "        print('aggClassEst: {}'.format(agg_class_est.T))\n",
    "        agg_err = np.multiply(np.sign(agg_class_est) != np.mat(class_label).T, np.ones((m, 1)))\n",
    "        error_rate = agg_err.sum() / m\n",
    "        print('total error: {}'.format(error_rate))\n",
    "        if error_rate == 0.:\n",
    "            break\n",
    "    return weak_class_arr\n",
    "```"
   ]
  },
  {
   "cell_type": "code",
   "execution_count": 613,
   "metadata": {},
   "outputs": [
    {
     "name": "stdout",
     "output_type": "stream",
     "text": [
      "5\n",
      "\n",
      "[[0.2]\n",
      " [0.2]\n",
      " [0.2]\n",
      " [0.2]\n",
      " [0.2]]\n",
      "\n",
      "[[0.]\n",
      " [0.]\n",
      " [0.]\n",
      " [0.]\n",
      " [0.]]\n",
      "\n"
     ]
    }
   ],
   "source": [
    "# input setting\n",
    "num = 40\n",
    "\n",
    "# function init setting before for-loop\n",
    "weak_class_arr = []\n",
    "m = data_mat.shape[0]\n",
    "D = np.mat(np.ones((m, 1)) / m) # init D to all equal\n",
    "agg_class_est = np.mat(np.zeros((m, 1)))\n",
    "\n",
    "print(m, end='\\n\\n')\n",
    "print(D, end='\\n\\n')\n",
    "print(agg_class_est, end='\\n\\n')"
   ]
  },
  {
   "cell_type": "code",
   "execution_count": 614,
   "metadata": {},
   "outputs": [
    {
     "name": "stdout",
     "output_type": "stream",
     "text": [
      "D : [[0.2 0.2 0.2 0.2 0.2]]\n",
      "class_est: [[-1.  1. -1. -1.  1.]]\n",
      "-alpha * class_label :\n",
      " [[-0.69314718]\n",
      " [-0.69314718]\n",
      " [ 0.69314718]\n",
      " [ 0.69314718]\n",
      " [-0.69314718]]\n",
      "class_est :\n",
      " [[-1.]\n",
      " [ 1.]\n",
      " [-1.]\n",
      " [-1.]\n",
      " [ 1.]]\n"
     ]
    }
   ],
   "source": [
    "# 초기에 argument로 넘긴 n만큼 loop을 돌음\n",
    "# 최초 index 0으로 시작\n",
    "i = 0\n",
    "\n",
    "# build_stump 함수로\n",
    "## 오차가 최소일 때 dim, thresh, ineq 값,\n",
    "## 그 때의 오차 min_error, 그리고\n",
    "## 그 떄의 label class_est를 return\n",
    "best_stump, err, class_est = build_stump(data_mat, class_label, D, silent=True) # build Stump\n",
    "\n",
    "# 매 epoch마다 결정된 weight를 update할 것이기 때문에 D를 출력 \n",
    "print(\"D : {}\".format(D.T))\n",
    "\n",
    "# alpha = .5 * log(odds(err))로 계산\n",
    "alpha = float(.5 * np.log((1. - err) / max(err, 1e-16)))\n",
    "\n",
    "# 데이터 포인터를 돌면서 오차를 최소로 하며 학습한 결과 best_stump에 alpha값을 저장\n",
    "best_stump['alpha'] = alpha\n",
    "\n",
    "# weak_class_arr에 alpha값이 추가된 best_stump를 저장\n",
    "weak_class_arr.append(best_stump)\n",
    "\n",
    "# 오차가 최소일 때의 label class를 출력\n",
    "print('class_est: {}'.format(class_est.T))\n",
    "\n",
    "# exponent for 0 calc, getting messy\n",
    "print('-alpha * class_label :\\n', -1 * alpha * np.mat((class_label)).T)\n",
    "print('class_est :\\n', class_est)"
   ]
  },
  {
   "cell_type": "code",
   "execution_count": 615,
   "metadata": {},
   "outputs": [
    {
     "data": {
      "text/plain": [
       "[1.0, 1.0, -1.0, -1.0, 1.0]"
      ]
     },
     "execution_count": 615,
     "metadata": {},
     "output_type": "execute_result"
    }
   ],
   "source": [
    "class_label # 실제 라벨"
   ]
  },
  {
   "cell_type": "markdown",
   "metadata": {},
   "source": [
    "#### odds\n",
    "$$odds={{1-p}\\over{p}}$$"
   ]
  },
  {
   "cell_type": "code",
   "execution_count": 616,
   "metadata": {},
   "outputs": [
    {
     "data": {
      "text/plain": [
       "[<matplotlib.lines.Line2D at 0x1ac856028d0>]"
      ]
     },
     "execution_count": 616,
     "metadata": {},
     "output_type": "execute_result"
    },
    {
     "data": {
      "image/png": "[encoded data removed]",
      "text/plain": [
       "<Figure size 432x288 with 1 Axes>"
      ]
     },
     "metadata": {},
     "output_type": "display_data"
    }
   ],
   "source": [
    "p = 1e-3\n",
    "plt.plot(\n",
    "    -np.log((1 - np.linspace(p, 1-p, 100)) / np.linspace(p, 1-p, 100))\n",
    ")"
   ]
  },
  {
   "cell_type": "code",
   "execution_count": 617,
   "metadata": {},
   "outputs": [
    {
     "data": {
      "text/plain": [
       "array([9.99999000e+05, 9.79902990e+01, 4.84975994e+01, 3.19989440e+01,\n",
       "       2.37494122e+01, 1.87996278e+01, 1.54997443e+01, 1.31426713e+01,\n",
       "       1.13748592e+01, 9.99989000e+00, 8.89991189e+00, 7.99992800e+00,\n",
       "       7.24994019e+00, 6.61533424e+00, 6.07138564e+00, 5.59996304e+00,\n",
       "       5.18746790e+00, 4.82350132e+00, 4.49997525e+00, 4.21050438e+00,\n",
       "       3.94998045e+00, 3.71426820e+00, 3.49998425e+00, 3.30433360e+00,\n",
       "       3.12498711e+00, 2.95998828e+00, 2.80768162e+00, 2.66665689e+00,\n",
       "       2.53570532e+00, 2.41378486e+00, 2.29999241e+00, 2.19354138e+00,\n",
       "       2.09374352e+00, 1.99999400e+00, 1.91175914e+00, 1.82856626e+00,\n",
       "       1.74999519e+00, 1.67567119e+00, 1.60525898e+00, 1.53845763e+00,\n",
       "       1.47499635e+00, 1.41463073e+00, 1.35713966e+00, 1.30232258e+00,\n",
       "       1.24999719e+00, 1.19999736e+00, 1.15217143e+00, 1.10638065e+00,\n",
       "       1.06249781e+00, 1.02040610e+00, 9.79998060e-01, 9.41174644e-01,\n",
       "       9.03844433e-01, 8.67922907e-01, 8.33331806e-01, 7.99998560e-01,\n",
       "       7.67855785e-01, 7.36840825e-01, 7.06895345e-01, 6.77964964e-01,\n",
       "       6.49998928e-01, 6.22949809e-01, 5.96773241e-01, 5.71427673e-01,\n",
       "       5.46874154e-01, 5.23076126e-01, 4.99999250e-01, 4.77611235e-01,\n",
       "       4.55881689e-01, 4.34781985e-01, 4.14285128e-01, 3.94365647e-01,\n",
       "       3.74999484e-01, 3.56163901e-01, 3.37837386e-01, 3.19999578e-01,\n",
       "       3.02631185e-01, 2.85713918e-01, 2.69230428e-01, 2.53164240e-01,\n",
       "       2.37499706e-01, 2.22221951e-01, 2.07316823e-01, 1.92770854e-01,\n",
       "       1.78571218e-01, 1.64705691e-01, 1.51162617e-01, 1.37930878e-01,\n",
       "       1.24999859e-01, 1.12359426e-01, 9.99998900e-02, 8.79119923e-02,\n",
       "       7.60868746e-02, 6.45160604e-02, 5.31914333e-02, 4.21052193e-02,\n",
       "       3.12499678e-02, 2.06185357e-02, 1.02040713e-02, 0.00000000e+00])"
      ]
     },
     "execution_count": 617,
     "metadata": {},
     "output_type": "execute_result"
    }
   ],
   "source": [
    "(1 - np.linspace(1e-6, 1, 100)) / np.linspace(1e-6, 1, 100)"
   ]
  },
  {
   "cell_type": "code",
   "execution_count": 618,
   "metadata": {},
   "outputs": [
    {
     "data": {
      "text/plain": [
       "array([[-1.],\n",
       "       [ 1.],\n",
       "       [-1.],\n",
       "       [-1.],\n",
       "       [ 1.]])"
      ]
     },
     "execution_count": 618,
     "metadata": {},
     "output_type": "execute_result"
    }
   ],
   "source": [
    "class_est # 내가 예측한 값`"
   ]
  },
  {
   "cell_type": "code",
   "execution_count": 619,
   "metadata": {},
   "outputs": [
    {
     "data": {
      "text/plain": [
       "matrix([[-0.69314718],\n",
       "        [-0.69314718],\n",
       "        [ 0.69314718],\n",
       "        [ 0.69314718],\n",
       "        [-0.69314718]])"
      ]
     },
     "execution_count": 619,
     "metadata": {},
     "output_type": "execute_result"
    }
   ],
   "source": [
    "-1 * alpha * np.mat(class_label).T # 실제 클래스 * alpha(error의 odds)"
   ]
  },
  {
   "cell_type": "code",
   "execution_count": 620,
   "metadata": {},
   "outputs": [
    {
     "data": {
      "text/plain": [
       "matrix([[ 0.69314718],\n",
       "        [-0.69314718],\n",
       "        [-0.69314718],\n",
       "        [-0.69314718],\n",
       "        [-0.69314718]])"
      ]
     },
     "execution_count": 620,
     "metadata": {},
     "output_type": "execute_result"
    }
   ],
   "source": [
    "expon = np.multiply(-1 * alpha * np.mat(class_label).T, class_est)\n",
    "expon"
   ]
  },
  {
   "cell_type": "code",
   "execution_count": 621,
   "metadata": {},
   "outputs": [
    {
     "data": {
      "text/plain": [
       "matrix([[2. ],\n",
       "        [0.5],\n",
       "        [0.5],\n",
       "        [0.5],\n",
       "        [0.5]])"
      ]
     },
     "execution_count": 621,
     "metadata": {},
     "output_type": "execute_result"
    }
   ],
   "source": [
    "expon = np.exp(expon)\n",
    "expon"
   ]
  },
  {
   "cell_type": "code",
   "execution_count": 622,
   "metadata": {},
   "outputs": [
    {
     "data": {
      "text/plain": [
       "matrix([[1.47781122],\n",
       "        [0.32974425],\n",
       "        [0.32974425],\n",
       "        [0.32974425],\n",
       "        [0.32974425]])"
      ]
     },
     "execution_count": 622,
     "metadata": {},
     "output_type": "execute_result"
    }
   ],
   "source": [
    "D = np.multiply(D, np.exp(expon))\n",
    "D"
   ]
  },
  {
   "cell_type": "code",
   "execution_count": 623,
   "metadata": {},
   "outputs": [
    {
     "data": {
      "text/plain": [
       "matrix([[0.52839582],\n",
       "        [0.11790104],\n",
       "        [0.11790104],\n",
       "        [0.11790104],\n",
       "        [0.11790104]])"
      ]
     },
     "execution_count": 623,
     "metadata": {},
     "output_type": "execute_result"
    }
   ],
   "source": [
    "D = D / D.sum()\n",
    "D"
   ]
  },
  {
   "cell_type": "code",
   "execution_count": null,
   "metadata": {},
   "outputs": [],
   "source": []
  },
  {
   "cell_type": "code",
   "execution_count": null,
   "metadata": {},
   "outputs": [],
   "source": [
    "# data type이 matrix이기 때문에 elemental-wise 곱연산을 하기 위해 numpy의 multiply함수 사용\n",
    "# 가중치 업데이트를 위해 weight D에 expon을 곱해줌\n",
    "expon = np.multiply(-1 * alpha * np.mat(class_label).T, class_est)\n",
    "print('np.multiply(-alpha * class_label, class_est)', expon)\n",
    "D = np.multiply(D, np.exp(expon)) # calc new D for next iteration\n",
    "D = D / D.sum()\n",
    "# calc training error of all calssifies,\n",
    "# if this is 0 quit for loop early (use break)\n",
    "agg_class_est += alpha * class_est\n",
    "print('aggClassEst: {}'.format(agg_class_est.T))\n",
    "agg_err = np.multiply(np.sign(agg_class_est) != np.mat(class_label).T, np.ones((m, 1)))\n",
    "error_rate = agg_err.sum() / m\n",
    "print('total error: {}'.format(error_rate))\n",
    "if error_rate == 0.:\n",
    "    break"
   ]
  },
  {
   "cell_type": "code",
   "execution_count": null,
   "metadata": {},
   "outputs": [],
   "source": []
  },
  {
   "cell_type": "code",
   "execution_count": null,
   "metadata": {},
   "outputs": [],
   "source": []
  },
  {
   "cell_type": "markdown",
   "metadata": {},
   "source": [
    "### 아다부스팅 시각화"
   ]
  },
  {
   "cell_type": "code",
   "execution_count": 247,
   "metadata": {},
   "outputs": [
    {
     "data": {
      "image/png": "[encoded data removed]",
      "text/plain": [
       "<Figure size 1080x576 with 6 Axes>"
      ]
     },
     "metadata": {},
     "output_type": "display_data"
    }
   ],
   "source": [
    "from sklearn.ensemble import AdaBoostClassifier\n",
    "ada = AdaBoostClassifier(n_estimators=5, random_state=42)\n",
    "ada.fit(Xm_train, ym_train)\n",
    "\n",
    "fig, axes = plt.subplots(2, 3, figsize=(15, 8))\n",
    "for i, (ax, tree) in enumerate(zip(axes.ravel(), ada.estimators_)):\n",
    "    ax.set_title(\"Tree {}\".format(i))\n",
    "    mglearn.plots.plot_tree_partition(Xm, ym, tree, ax=ax)\n",
    "    \n",
    "mglearn.plots.plot_2d_separator(ada, Xm ,fill=True, ax=axes[-1, -1], alpha=.4)\n",
    "axes[-1, -1].set_title(\"AdaBoost\")\n",
    "mglearn.discrete_scatter(Xm[:, 0], Xm[:, 1], ym)\n",
    "plt.show()"
   ]
  },
  {
   "cell_type": "markdown",
   "metadata": {},
   "source": [
    "### Two-class AdaBoost\n",
    "- 출처 : https://scikit-learn.org/stable/auto_examples/ensemble/plot_adaboost_twoclass.html"
   ]
  },
  {
   "cell_type": "code",
   "execution_count": 246,
   "metadata": {},
   "outputs": [
    {
     "data": {
      "image/png": "[encoded data removed]",
      "text/plain": [
       "<Figure size 720x360 with 2 Axes>"
      ]
     },
     "metadata": {},
     "output_type": "display_data"
    }
   ],
   "source": [
    "# Author: Noel Dawe <noel.dawe@gmail.com>\n",
    "#\n",
    "# License: BSD 3 clause\n",
    "\n",
    "import numpy as np\n",
    "import matplotlib.pyplot as plt\n",
    "\n",
    "from sklearn.ensemble import AdaBoostClassifier\n",
    "from sklearn.tree import DecisionTreeClassifier\n",
    "from sklearn.datasets import make_gaussian_quantiles\n",
    "\n",
    "\n",
    "# Construct dataset\n",
    "X1, y1 = make_gaussian_quantiles(cov=2.,\n",
    "                                 n_samples=200, n_features=2,\n",
    "                                 n_classes=2, random_state=1)\n",
    "X2, y2 = make_gaussian_quantiles(mean=(3, 3), cov=1.5,\n",
    "                                 n_samples=300, n_features=2,\n",
    "                                 n_classes=2, random_state=1)\n",
    "X = np.concatenate((X1, X2))\n",
    "y = np.concatenate((y1, - y2 + 1))\n",
    "\n",
    "# Create and fit an AdaBoosted decision tree\n",
    "bdt = AdaBoostClassifier(DecisionTreeClassifier(max_depth=1),\n",
    "                         algorithm=\"SAMME\",\n",
    "                         n_estimators=200)\n",
    "\n",
    "bdt.fit(X, y)\n",
    "\n",
    "plot_colors = \"br\"\n",
    "plot_step = 0.02\n",
    "class_names = \"AB\"\n",
    "\n",
    "plt.figure(figsize=(10, 5))\n",
    "\n",
    "# Plot the decision boundaries\n",
    "plt.subplot(121)\n",
    "x_min, x_max = X[:, 0].min() - 1, X[:, 0].max() + 1\n",
    "y_min, y_max = X[:, 1].min() - 1, X[:, 1].max() + 1\n",
    "xx, yy = np.meshgrid(np.arange(x_min, x_max, plot_step),\n",
    "                     np.arange(y_min, y_max, plot_step))\n",
    "\n",
    "Z = bdt.predict(np.c_[xx.ravel(), yy.ravel()])\n",
    "Z = Z.reshape(xx.shape)\n",
    "cs = plt.contourf(xx, yy, Z, cmap=plt.cm.Paired)\n",
    "plt.axis(\"tight\")\n",
    "\n",
    "# Plot the training points\n",
    "for i, n, c in zip(range(2), class_names, plot_colors):\n",
    "    idx = np.where(y == i)\n",
    "    plt.scatter(X[idx, 0], X[idx, 1],\n",
    "                c=c, cmap=plt.cm.Paired,\n",
    "                s=20, edgecolor='k',\n",
    "                label=\"Class %s\" % n)\n",
    "plt.xlim(x_min, x_max)\n",
    "plt.ylim(y_min, y_max)\n",
    "plt.legend(loc='upper right')\n",
    "plt.xlabel('x')\n",
    "plt.ylabel('y')\n",
    "plt.title('Decision Boundary')\n",
    "\n",
    "# Plot the two-class decision scores\n",
    "twoclass_output = bdt.decision_function(X)\n",
    "plot_range = (twoclass_output.min(), twoclass_output.max())\n",
    "plt.subplot(122)\n",
    "for i, n, c in zip(range(2), class_names, plot_colors):\n",
    "    plt.hist(twoclass_output[y == i],\n",
    "             bins=10,\n",
    "             range=plot_range,\n",
    "             facecolor=c,\n",
    "             label='Class %s' % n,\n",
    "             alpha=.5,\n",
    "             edgecolor='k')\n",
    "x1, x2, y1, y2 = plt.axis()\n",
    "plt.axis((x1, x2, y1, y2 * 1.2))\n",
    "plt.legend(loc='upper right')\n",
    "plt.ylabel('Samples')\n",
    "plt.xlabel('Score')\n",
    "plt.title('Decision Scores')\n",
    "\n",
    "plt.tight_layout()\n",
    "plt.subplots_adjust(wspace=0.35)\n",
    "plt.show()"
   ]
  },
  {
   "cell_type": "code",
   "execution_count": null,
   "metadata": {},
   "outputs": [],
   "source": []
  }
 ],
 "metadata": {
  "kernelspec": {
   "display_name": "Python 3",
   "language": "python",
   "name": "python3"
  },
  "language_info": {
   "codemirror_mode": {
    "name": "ipython",
    "version": 3
   },
   "file_extension": ".py",
   "mimetype": "text/x-python",
   "name": "python",
   "nbconvert_exporter": "python",
   "pygments_lexer": "ipython3",
   "version": "3.6.8"
  }
 },
 "nbformat": 4,
 "nbformat_minor": 2
}
