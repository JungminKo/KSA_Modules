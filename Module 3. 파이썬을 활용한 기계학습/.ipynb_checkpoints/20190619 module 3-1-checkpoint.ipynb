{
 "cells": [
  {
   "cell_type": "markdown",
   "metadata": {},
   "source": [
    "# Chapter 1. 기계학습(머신러닝) 개요\n",
    "- 상명대 김진만 교수님\n",
    "- 현업에 나가서 클라이언트나 상사로 부터 문제를 받았을 때, 꼭 머신러닝을 사용해야 하는지 고려는 필수다.\n",
    "- 라이브러리만 돌리면 결과는 나온다.\n",
    "    - 그러나 데이터 과학을 위해서는 안의 블랙 박스를 해결하고 그 이면의 수학을 알아야 할 필요가 있다.\n",
    "    - 이를 바탕으로 시각화, 분석을 통해 상대방을 설득할 수 있다.\n"
   ]
  },
  {
   "cell_type": "markdown",
   "metadata": {},
   "source": [
    "## 1. 빅데이터, 데이터사이언스, 머신러닝\n",
    ">### 빅데이터\n",
    "- Foundation(Book, 1951~1993)\n",
    "    - Isaac Asimov (FS 소설가)\n",
    "    - 로봇의 3원칙 제시\n",
    "    - 이 책에서 빅데이터에 대한 개념이 설명되었다고 볼 수 있다(고 한다)\n",
    "- 사전적인 정의\n",
    "    - **데이터** 관점\n",
    "        - 위키피디아, McKinsey\n",
    "    - **기술** 관점\n",
    "        - IDC, 국가정보화전략위원회\n",
    "    - 최근엔 위의 정의가 무색함. 단지 **빅데이터**일 뿐\n",
    "- 3V (Volume, Velocity, Variety)\n",
    "    - 더그 레이니(가트너, 2001)\n",
    "        - 가트너 : 시장조사 수행\n",
    "            - 현업에서 과제를 받고 가트너의 동향 조사를 많이 참고하게 될 것\n",
    "    - Volume : 데이터 size 증가\n",
    "    - Velocity : 데이터 생성 속도 증가\n",
    "    - Variety : 데이터 다양성 증가 (ex) iot, 음성, 비정형 등\n",
    "- 4V? 5V?\n",
    "    - 의미없다. 3V다.\n",
    "\n",
    ">### 데이터\n",
    "- 정성 vs 정량\n",
    "    - Qualitative (정성적) : Descriptive information\n",
    "    - Quantitative (정량적) : Numerical information\n",
    "        - Discrete (Counted, 이산적)\n",
    "        - Continous (Measured, 연속적)\n",
    "- Data Format\n",
    "    - Structured (정형) : 정해진 form이 있는 데이터\n",
    "    - Unstructured (비정형) : 특정한 형식이 지정이 되어 있지 않은 데이터\n",
    "        - ex) Social Network에 올라와 있는 데이터, 음성 및 영상\n",
    "- Data Source\n",
    "    - Internal\n",
    "    - External\n",
    "\n",
    ">### 데이터사이언스\n",
    "- Data Science : **extract knowledge or insights from various forms of data**\n",
    "- It aims to **discover and extract actionalble knowledge from data**"
   ]
  },
  {
   "cell_type": "markdown",
   "metadata": {},
   "source": [
    "# Chapter 2. 빅데이터 분석 사례 맛보기\n",
    ">## A) 연구 배경\n",
    ">>### 소셜 네트워크 서비스 (SNS)의 감정 분석\n",
    "- **날씨와 같이, 사람들의 감정을 알 수 있다면 어떨까?**\n",
    "    - 감정에 대한 반응은 주관적, 생리적으로 또는 행동으로 나타나게 됨\n",
    "    - 최근 온라인에서의 상호작용 증가\n",
    "    - 기업은 SNS에서 자사 브랜드 이미지와 상품에 대한 반응을 체크\n",
    "    - 국가에서도 정책이나 사회적 이슈에 대한 의견을 위 서비스를 활용하여 분석\n",
    "- **상품 또는 생활 만족도와 같은 지표를 측정하는데**\n",
    "    - 주관적 설문 등 물리적 측정은 __노력과 비용__이 많이 수반\n",
    "    - SNS를 이용하여 데이터 수집 및 분석 시스템을 구축하는 것으로 많은 사람들의 감정을 빠른 시간에 측정 가능\n",
    "\n",
    ">>### SNS에서의 한국어\n",
    "- **SNS의 의견이나 감성은 \"텍스트\" 형태**\n",
    "    - 구조적인 텍스트와 다름\n",
    "    - 신조어, 줄임말, 이모티콘\n",
    "    - 띄어쓰기, 주어 생략\n",
    "- **한국어 텍스트 분석은 어려움**\n",
    "    - 교착어 (Agglutinative language) : 형태소에 접두사와 접미사를 비롯한 다른 형태소들이 교착되어 단어가 구성\n",
    "    - 중국어/영어는 고립어 (Isolating language)\n",
    "    \n",
    ">>### 공간 분석의 의의\n",
    "- 다양한 예시\n",
    "    - 배산임수\n",
    "    - 환경심리\n",
    "        - 병실 창으로 초목이나 물과 같은 자연풍경이 내다보일 때 환자들은 더 빨리 회복 (Ulrich, 1984)\n",
    "    - 보건\n",
    "        - 19세기 런던에서 발생한 콜레라의 전염경로를 발견 (Snow, 1855)\n",
    "    - 사회/경제\n",
    "        - 행복지도 (Cartography)\n",
    "- \"모든 것은 다른 모든 것과 관련되어 있지만, 인접해 있는 것들은 멀리 있는 것보다 더 높은 연관성이 있다.\" (Tobler, 1970)\n",
    "- **핫스팟** 또는 클러스터(군집)는 공간의 속성이나 사건이 특정한 곳에 집중되어 있는 패턴\n",
    "- 핫스팟을 찾기 위해서는 공간의 **지리정보**와 그 대상이 가진 **속성정보**가 필요\n",
    "    - 경위도좌표, 고도, 토질과 같은 지리정보\n",
    "    - 개인 감정, 보행/생활 환경 만족도, 속성은 주관적 설명\n",
    "\n",
    ">>### SNS의 공간 분석\n",
    "- SNS 메시지는 위치정보 즉, 경위도 좌표와 같은 **지리정보**가 포함될 가능성이 높음\n",
    "    - facebook, twitter의 mobile 이용자 수는 매해 지수적으로 증가\n",
    "- SNS 메시지에는 특정 사건, 현상 또는 제품에 대한 정보 뿐만 아니라 **개인의 의견이나 감정**이 담겨 있음\n",
    "    - [분석을 통해 개인 또는 기업 이미지나 사회 현상에 대한 대중의 감정을 파악] article\n",
    "- SNS 메시지는 **빠르고 대량**으로 데이터를 수집할 수 있음\n",
    "\n",
    ">>### 연구 목적\n",
    "- SNS 중 트위터를 대상으로\n",
    "    1. 한국어로 작성된 메시지 (트윗, tweet)의 감정 분석에 적합한 **분류 자질 (Feature)** 추출 방식을 살펴보고\n",
    "    2. 한국어 트윗의 감정 분류에 효고적인 **기계 학습**을 확인\n",
    "    3. 한국어 트윗 **감정의 핫스팟**을 분석 (공간 분석 활용)\n",
    "\n",
    "\n",
    ">## B) 관련 연구\n",
    ">>### 트위터 분석 연구\n",
    "\n",
    ">>### 기계 학습 (Machine Learning) - Naive Bayes"
   ]
  },
  {
   "cell_type": "code",
   "execution_count": 28,
   "metadata": {},
   "outputs": [
    {
     "data": {
      "text/plain": [
       "array([[0, 0, 0, 0, 1, 0, 0, 0, 0, 0, 0, 0, 0, 0, 0, 1, 1, 0, 1, 0, 0, 0,\n",
       "        1, 0, 0, 0, 0, 1, 0, 0, 0, 0, 0, 0, 0, 0, 1, 0, 0, 0, 0, 0, 0, 1,\n",
       "        0, 0, 0, 1, 0, 0, 1, 0, 0, 0, 0, 0, 0, 1, 0, 0, 0, 0, 0, 0, 0, 1,\n",
       "        0, 0, 1, 1, 0, 0, 1, 0, 0, 0, 0, 0, 0, 0, 0, 0, 1, 1, 0, 0, 1, 0,\n",
       "        0, 0, 0, 0, 0, 0, 0, 1, 0, 0, 0, 0],\n",
       "       [1, 0, 0, 0, 1, 0, 0, 0, 0, 0, 1, 0, 1, 1, 0, 0, 1, 0, 0, 1, 0, 1,\n",
       "        0, 0, 0, 0, 0, 1, 0, 0, 0, 1, 1, 0, 0, 0, 0, 0, 1, 0, 0, 1, 0, 0,\n",
       "        0, 0, 0, 1, 0, 0, 1, 1, 1, 1, 0, 0, 0, 0, 0, 0, 1, 1, 0, 0, 0, 0,\n",
       "        1, 1, 0, 0, 0, 1, 0, 1, 0, 1, 0, 0, 1, 0, 1, 0, 0, 0, 0, 0, 0, 0,\n",
       "        0, 0, 0, 0, 0, 0, 0, 1, 0, 1, 1, 0]])"
      ]
     },
     "execution_count": 28,
     "metadata": {},
     "output_type": "execute_result"
    }
   ],
   "source": [
    "import numpy as np\n",
    "import pandas as pd\n",
    "\n",
    "data = np.random.chisquare(2, (2,100))\n",
    "data = np.where(data > 3, 1, 0)\n",
    "data"
   ]
  },
  {
   "cell_type": "code",
   "execution_count": 29,
   "metadata": {},
   "outputs": [],
   "source": [
    "from sklearn.metrics import confusion_matrix"
   ]
  },
  {
   "cell_type": "code",
   "execution_count": 30,
   "metadata": {},
   "outputs": [
    {
     "data": {
      "text/plain": [
       "array([[57, 24],\n",
       "       [13,  6]], dtype=int64)"
      ]
     },
     "execution_count": 30,
     "metadata": {},
     "output_type": "execute_result"
    }
   ],
   "source": [
    "pred, real = data\n",
    "confu_mat = confusion_matrix(pred, real)\n",
    "confu_mat"
   ]
  },
  {
   "cell_type": "code",
   "execution_count": 31,
   "metadata": {},
   "outputs": [
    {
     "data": {
      "text/plain": [
       "<matplotlib.axes._subplots.AxesSubplot at 0x222d3956f28>"
      ]
     },
     "execution_count": 31,
     "metadata": {},
     "output_type": "execute_result"
    },
    {
     "data": {
      "image/png": "[encoded data removed]",
      "text/plain": [
       "<Figure size 432x288 with 2 Axes>"
      ]
     },
     "metadata": {},
     "output_type": "display_data"
    }
   ],
   "source": [
    "import seaborn as sns\n",
    "sns.heatmap(confu_mat, annot=True)"
   ]
  },
  {
   "cell_type": "code",
   "execution_count": 32,
   "metadata": {},
   "outputs": [
    {
     "name": "stdout",
     "output_type": "stream",
     "text": [
      "population: 100\n",
      "P: 19\n",
      "N: 81\n",
      "PositiveTest: 30\n",
      "NegativeTest: 70\n",
      "TP: 6\n",
      "TN: 57\n",
      "FP: 24\n",
      "FN: 13\n",
      "TPR: 0.3157894736842105\n",
      "TNR: 0.7037037037037037\n",
      "PPV: 0.2\n",
      "NPV: 0.8142857142857143\n",
      "FPR: 0.2962962962962963\n",
      "FDR: 0.8\n",
      "FNR: 0.6842105263157895\n",
      "ACC: 0.63\n",
      "F1_score: 0.24489795918367346\n",
      "MCC: 0.016687539144058627\n",
      "informedness: 0.01949317738791434\n",
      "markedness: 0.014285714285714235\n",
      "prevalence: 0.19\n",
      "LRP: 1.0657894736842106\n",
      "LRN: 0.9722991689750693\n",
      "DOR: 1.0961538461538463\n",
      "FOR: 0.18571428571428572\n"
     ]
    }
   ],
   "source": [
    "from pandas_ml import ConfusionMatrix\n",
    "\n",
    "Confusion_Matrix = ConfusionMatrix(pred, real)\n",
    "Confusion_Matrix.print_stats()"
   ]
  },
  {
   "cell_type": "code",
   "execution_count": null,
   "metadata": {},
   "outputs": [],
   "source": []
  }
 ],
 "metadata": {
  "kernelspec": {
   "display_name": "Python 3",
   "language": "python",
   "name": "python3"
  },
  "language_info": {
   "codemirror_mode": {
    "name": "ipython",
    "version": 3
   },
   "file_extension": ".py",
   "mimetype": "text/x-python",
   "name": "python",
   "nbconvert_exporter": "python",
   "pygments_lexer": "ipython3",
   "version": "3.6.8"
  }
 },
 "nbformat": 4,
 "nbformat_minor": 2
}
