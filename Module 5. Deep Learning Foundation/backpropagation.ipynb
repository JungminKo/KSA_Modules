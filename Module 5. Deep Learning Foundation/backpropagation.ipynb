{
 "cells": [
  {
   "cell_type": "code",
   "execution_count": 1,
   "metadata": {},
   "outputs": [
    {
     "name": "stdout",
     "output_type": "stream",
     "text": [
      "1.13.1\n",
      "2.2.4-tf\n"
     ]
    }
   ],
   "source": [
    "# import keras\n",
    "import numpy as np\n",
    "import tensorflow as tf\n",
    "from tensorflow import keras\n",
    "print(tf.__version__)\n",
    "print(keras.__version__)\n",
    "# 모델 학습 시 불필요한 출력을 끄도록 함 (warning)\n",
    "import tensorflow as tf\n",
    "tf.logging.set_verbosity(tf.logging.ERROR)\n",
    "\n",
    "from tensorflow.keras.models import Sequential\n",
    "from tensorflow.keras import layers\n",
    "\n",
    "from tensorflow.keras.models import Model\n",
    "\n",
    "from tensorflow.keras.layers import Dense\n",
    "from tensorflow.keras.utils import to_categorical\n",
    "\n",
    "from tensorflow.keras.datasets import mnist\n",
    "\n",
    "from tensorflow.keras.optimizers import SGD\n",
    "\n",
    "from tensorflow.keras.models import load_model"
   ]
  },
  {
   "cell_type": "markdown",
   "metadata": {},
   "source": [
    "# XOR 자체 구현"
   ]
  },
  {
   "cell_type": "code",
   "execution_count": 2,
   "metadata": {},
   "outputs": [
    {
     "data": {
      "text/plain": [
       "(array([[0, 0],\n",
       "        [0, 1],\n",
       "        [1, 0],\n",
       "        [1, 1]]), array([[0],\n",
       "        [1],\n",
       "        [0],\n",
       "        [1]]))"
      ]
     },
     "execution_count": 2,
     "metadata": {},
     "output_type": "execute_result"
    }
   ],
   "source": [
    "X = np.array(\n",
    "    [[0, 0],\n",
    "     [0, 1],\n",
    "     [1, 0],\n",
    "     [1, 1]]\n",
    ")\n",
    "y = np.array(\n",
    "    [[0],\n",
    "     [1],\n",
    "     [0],\n",
    "     [1]]\n",
    ")\n",
    "\n",
    "X, y"
   ]
  },
  {
   "cell_type": "code",
   "execution_count": null,
   "metadata": {},
   "outputs": [],
   "source": [
    "class Sequential:\n",
    "    \n",
    "    def __init__(self):\n",
    "        self.models = []\n",
    "        self.weights = defaultdict(dict)\n",
    "#         self.errors = defaultdict(dict)\n",
    "        \n",
    "    def add(self, dense):\n",
    "        self.models.append(dense)\n",
    "        for i in range(dense.units):\n",
    "            rand_weight = np.random.rand(dense.input_dim)\n",
    "            self.weights[dense][i] = {\n",
    "                'w' : rand_weight / sum(rand_weight), # 가중치의 합을 1로\n",
    "                'b' : np.random.rand(1)\n",
    "            }\n",
    "    \n",
    "    def compiled(self, loss, optimizer, metrics):\n",
    "        pass\n",
    "    \n",
    "    def fit(self, X, y, epochs=1000):\n",
    "        X = self.X.copy()\n",
    "        # 초기에 설정한 epoch 수만큼 loop\n",
    "        for epoch in epochs:\n",
    "            # 설정한 layer 수만큼 loop\n",
    "            for dense in self.models:\n",
    "                # 다음 레이어를 위한 input data 준비\n",
    "                units = np.array([]).reshape(dense.input_dim, 0)\n",
    "                # layer별 node 수만큼 loop\n",
    "                for i in self.weights[dense].keys():\n",
    "                    W = self.weights[dense][i]['w']\n",
    "                    b = self.weights[dense][i]['b']\n",
    "                    node = dense.perceptron(X, W, b)\n",
    "                    if dense.activation.upper() == 'SIGMOID':\n",
    "                        unit = dense.sigmoid(node)\n",
    "                    elif dense.activation.upper() == 'STEP':\n",
    "                        unit = dense.step(node)\n",
    "                    units = np.hstack((units, unit.reshape(-1, 1)))\n",
    "                X = units\n",
    "            # 해당 epoch 종료 후 error 계산\n",
    "            \n",
    "                    \n",
    "                        \n",
    "    \n",
    "    def predict_classes(self, test):\n",
    "        pass\n",
    "    \n",
    "    def summmary(self, ):\n",
    "        pass\n",
    "    \n",
    "    def evalueate(self, ):\n",
    "        pass\n",
    "    \n",
    "    \n",
    "class Dense:\n",
    "    \n",
    "    def __init__(self, units, input_dim, activation='sigmoid'):\n",
    "        \"\"\"\n",
    "        actiation = 'sigmoid' or 'step'\n",
    "        \"\"\"\n",
    "        self.units = units\n",
    "        self.input_dim = input_dim\n",
    "        self.activation = activation\n",
    "\n",
    "    def perceptron(self, X, W, b):\n",
    "        return X.dot(W) + b\n",
    "        \n",
    "    def step(self, arr, thresh=0):\n",
    "        return np.where(arr > thersh, 1, 0)\n",
    "    \n",
    "    def sigmoid(self, arr):\n",
    "        return 1 / (1 + np.exp(-arr))"
   ]
  }
 ],
 "metadata": {
  "kernelspec": {
   "display_name": "keras",
   "language": "python",
   "name": "keras"
  },
  "language_info": {
   "codemirror_mode": {
    "name": "ipython",
    "version": 3
   },
   "file_extension": ".py",
   "mimetype": "text/x-python",
   "name": "python",
   "nbconvert_exporter": "python",
   "pygments_lexer": "ipython3",
   "version": "3.6.8"
  }
 },
 "nbformat": 4,
 "nbformat_minor": 2
}
