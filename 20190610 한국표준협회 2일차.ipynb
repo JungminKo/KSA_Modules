{
 "cells": [
  {
   "cell_type": "markdown",
   "metadata": {},
   "source": [
    "## 모든 파이썬의 시작"
   ]
  },
  {
   "cell_type": "code",
   "execution_count": 1,
   "metadata": {},
   "outputs": [
    {
     "name": "stdout",
     "output_type": "stream",
     "text": [
      "Hello, Python\n"
     ]
    }
   ],
   "source": [
    "print('Hello, Python')"
   ]
  },
  {
   "cell_type": "markdown",
   "metadata": {},
   "source": [
    "$python\n",
    "Python 3.6.8 |Anaconda, Inc.| (default, Feb 21 2019, 18:30:04) [MSC v.1916 64 bit (AMD64)] on win32\n",
    "Type \"help\", \"copyright\", \"credits\" or \"license\" for more information.\n",
    ">>> print(\"Hello, Python\")\n",
    "Hello, Python"
   ]
  },
  {
   "cell_type": "code",
   "execution_count": 2,
   "metadata": {},
   "outputs": [
    {
     "name": "stdout",
     "output_type": "stream",
     "text": [
      "3.6.8 |Anaconda, Inc.| (default, Feb 21 2019, 18:30:04) [MSC v.1916 64 bit (AMD64)]\n"
     ]
    }
   ],
   "source": [
    "## python 버전 출력\n",
    "import sys\n",
    "print(sys.version)"
   ]
  },
  {
   "cell_type": "markdown",
   "metadata": {},
   "source": [
    "## Python Indentation"
   ]
  },
  {
   "cell_type": "code",
   "execution_count": 10,
   "metadata": {},
   "outputs": [
    {
     "ename": "IndentationError",
     "evalue": "unindent does not match any outer indentation level (<ipython-input-10-fb3cb0fb8719>, line 3)",
     "output_type": "error",
     "traceback": [
      "\u001b[1;36m  File \u001b[1;32m\"<ipython-input-10-fb3cb0fb8719>\"\u001b[1;36m, line \u001b[1;32m3\u001b[0m\n\u001b[1;33m    elif True:\u001b[0m\n\u001b[1;37m              ^\u001b[0m\n\u001b[1;31mIndentationError\u001b[0m\u001b[1;31m:\u001b[0m unindent does not match any outer indentation level\n"
     ]
    }
   ],
   "source": [
    "if True:\n",
    "    print('이게 올바른 indentation')\n",
    " elif True:\n",
    "        print('올바르지 않는 indentation')"
   ]
  },
  {
   "cell_type": "markdown",
   "metadata": {},
   "source": [
    "## Python Variable & Data Type"
   ]
  },
  {
   "cell_type": "code",
   "execution_count": 13,
   "metadata": {},
   "outputs": [
    {
     "name": "stdout",
     "output_type": "stream",
     "text": [
      "True 5 2.5 파이썬\n"
     ]
    }
   ],
   "source": [
    "bVar = True\n",
    "IVar = 5\n",
    "fVar = 2.5\n",
    "sVar = \"파이썬\"\n",
    "print(bVar, IVar, fVar, sVar)"
   ]
  },
  {
   "cell_type": "code",
   "execution_count": 14,
   "metadata": {},
   "outputs": [
    {
     "data": {
      "text/plain": [
       "'파이썬파이썬파이썬파이썬파이썬'"
      ]
     },
     "execution_count": 14,
     "metadata": {},
     "output_type": "execute_result"
    }
   ],
   "source": [
    "result = 5 * sVar\n",
    "result"
   ]
  },
  {
   "cell_type": "code",
   "execution_count": 15,
   "metadata": {},
   "outputs": [
    {
     "data": {
      "text/plain": [
       "('0b10011000', '0o230', '0x98')"
      ]
     },
     "execution_count": 15,
     "metadata": {},
     "output_type": "execute_result"
    }
   ],
   "source": [
    "X = bin(152)\n",
    "Y = oct(152)\n",
    "Z = hex(152)\n",
    "X, Y, Z"
   ]
  },
  {
   "cell_type": "code",
   "execution_count": 16,
   "metadata": {},
   "outputs": [
    {
     "data": {
      "text/plain": [
       "(152, 152, 152)"
      ]
     },
     "execution_count": 16,
     "metadata": {},
     "output_type": "execute_result"
    }
   ],
   "source": [
    "A = 0b10011000\n",
    "B = 0o230\n",
    "C = 0x98\n",
    "A, B, C"
   ]
  },
  {
   "cell_type": "code",
   "execution_count": 17,
   "metadata": {},
   "outputs": [
    {
     "data": {
      "text/plain": [
       "((2+3j), 2.0, 3.0, (2-3j))"
      ]
     },
     "execution_count": 17,
     "metadata": {},
     "output_type": "execute_result"
    }
   ],
   "source": [
    "X = 2 + 3j\n",
    "X, X.real, X.imag, X.conjugate()"
   ]
  },
  {
   "cell_type": "markdown",
   "metadata": {},
   "source": [
    "## 산술 연산자와 함수"
   ]
  },
  {
   "cell_type": "code",
   "execution_count": 19,
   "metadata": {},
   "outputs": [
    {
     "data": {
      "text/plain": [
       "(17, 8, (8, 1), 8, 1, 0.33)"
      ]
     },
     "execution_count": 19,
     "metadata": {},
     "output_type": "execute_result"
    }
   ],
   "source": [
    "A, B = 17, 2\n",
    "X, Y = divmod(abs(A), B)\n",
    "abs(A), pow(B, 3), divmod(abs(A), B), X, Y, round(1/3, 2)"
   ]
  },
  {
   "cell_type": "code",
   "execution_count": 31,
   "metadata": {},
   "outputs": [
    {
     "name": "stdout",
     "output_type": "stream",
     "text": [
      "ceil(A): 18\n",
      "floor(A) : 17\n",
      "trunc(A) : 17\n",
      "fabs(C) : 15.0\n",
      "pow(A, B) : 10803.55\n"
     ]
    }
   ],
   "source": [
    "import math\n",
    "A, B, C = 17.733, 3.23, -15\n",
    "print('ceil(A): {}\\nfloor(A) : {}\\ntrunc(A) : {}\\nfabs(C) : {}\\npow(A, B) : {:.2f}'.format(\n",
    "    math.ceil(A),    # A보다 큰 정수 중 가장 작은 수\n",
    "    math.floor(A),   # A보다 작은 정수 중 가장 큰 수\n",
    "    math.trunc(A),   # A의 소수점 이하를 버림\n",
    "    math.fabs(C),    # C의 절대갑슬 실수로 반환\n",
    "    math.pow(A, B))  # A ** B를 실수로 반환\n",
    "     )"
   ]
  },
  {
   "cell_type": "code",
   "execution_count": 32,
   "metadata": {},
   "outputs": [
    {
     "data": {
      "text/plain": [
       "3.141592653589793"
      ]
     },
     "execution_count": 32,
     "metadata": {},
     "output_type": "execute_result"
    }
   ],
   "source": [
    "math.pi  # 파이"
   ]
  },
  {
   "cell_type": "markdown",
   "metadata": {},
   "source": [
    "> 실수의 계산 오차"
   ]
  },
  {
   "cell_type": "code",
   "execution_count": 33,
   "metadata": {},
   "outputs": [
    {
     "data": {
      "text/plain": [
       "0.2"
      ]
     },
     "execution_count": 33,
     "metadata": {},
     "output_type": "execute_result"
    }
   ],
   "source": [
    ".1 + .1"
   ]
  },
  {
   "cell_type": "code",
   "execution_count": 34,
   "metadata": {},
   "outputs": [
    {
     "data": {
      "text/plain": [
       "0.30000000000000004"
      ]
     },
     "execution_count": 34,
     "metadata": {},
     "output_type": "execute_result"
    }
   ],
   "source": [
    ".1 + .2"
   ]
  },
  {
   "cell_type": "code",
   "execution_count": 35,
   "metadata": {},
   "outputs": [
    {
     "data": {
      "text/plain": [
       "0.30000000000000004"
      ]
     },
     "execution_count": 35,
     "metadata": {},
     "output_type": "execute_result"
    }
   ],
   "source": [
    "3 * .1"
   ]
  },
  {
   "cell_type": "markdown",
   "metadata": {},
   "source": [
    "## 관계 연산자"
   ]
  },
  {
   "cell_type": "code",
   "execution_count": 37,
   "metadata": {},
   "outputs": [
    {
     "data": {
      "text/plain": [
       "(False, True, True, True)"
      ]
     },
     "execution_count": 37,
     "metadata": {},
     "output_type": "execute_result"
    }
   ],
   "source": [
    "W, X, Y, Z = 25, -47, 51.247, -257.1795\n",
    "W == X, W != Y, W > Z, X < Y"
   ]
  },
  {
   "cell_type": "code",
   "execution_count": 45,
   "metadata": {},
   "outputs": [
    {
     "data": {
      "text/plain": [
       "'True'"
      ]
     },
     "execution_count": 45,
     "metadata": {},
     "output_type": "execute_result"
    }
   ],
   "source": []
  },
  {
   "cell_type": "code",
   "execution_count": 50,
   "metadata": {},
   "outputs": [
    {
     "name": "stdout",
     "output_type": "stream",
     "text": [
      "W == -5 \t:  True\n",
      "W is -5 \t:  True\n",
      "X == 256 \t:  True\n",
      "X is 256 \t:  True\n",
      "Y == -6 \t:  True\n",
      "Y is -6 \t:  False\n",
      "Z == 257 \t:  True\n",
      "Z is 257 \t:  False\n",
      "W is not -5 \t:  False\n"
     ]
    }
   ],
   "source": [
    "W, X, Y, Z = -5, 256, -6, 257\n",
    "rel_val = ['W == -5', \n",
    "        'W is -5', \n",
    "        'X == 256', \n",
    "        'X is 256', \n",
    "        'Y == -6', \n",
    "        'Y is -6', \n",
    "        'Z == 257', \n",
    "        'Z is 257', \n",
    "        'W is not -5']\n",
    "for i in rel_val:\n",
    "    print(i, '\\t: ', eval(i))"
   ]
  },
  {
   "cell_type": "markdown",
   "metadata": {},
   "source": [
    "> python interpreter에서 [-5, 256] 범위의 integer를 미리 catched하고 있기 때문에 위와 같이 print됨"
   ]
  },
  {
   "cell_type": "code",
   "execution_count": 60,
   "metadata": {},
   "outputs": [
    {
     "name": "stdout",
     "output_type": "stream",
     "text": [
      "id(W)==id(-5)\t1906290720==1906290720\n",
      "id(X)=id(256)\t1906299072==1906299072\n",
      "id(Y)!=id(-6)\t2063932205360!=2063932205200\n",
      "id(Z)!=id(257)\t2063932205328!=2063932204848\n"
     ]
    }
   ],
   "source": [
    "print('id(W)==id(-5)\\t{}=={}\\nid(X)=id(256)\\t{}=={}\\nid(Y)!=id(-6)\\t{}!={}\\nid(Z)!=id(257)\\t{}!={}'.format(\n",
    "    id(W), id(-5), id(X), id(256), id(Y), id(-6), id(Z), id(257)))"
   ]
  },
  {
   "cell_type": "markdown",
   "metadata": {},
   "source": [
    "## 문자 연산자와 함수"
   ]
  },
  {
   "cell_type": "code",
   "execution_count": 62,
   "metadata": {},
   "outputs": [
    {
     "data": {
      "text/plain": [
       "'파이썬 데이터 분석'"
      ]
     },
     "execution_count": 62,
     "metadata": {},
     "output_type": "execute_result"
    }
   ],
   "source": [
    "s = '파이썬 데이터 분석'\n",
    "s"
   ]
  },
  {
   "cell_type": "code",
   "execution_count": 64,
   "metadata": {},
   "outputs": [
    {
     "data": {
      "text/plain": [
       "44608"
      ]
     },
     "execution_count": 64,
     "metadata": {},
     "output_type": "execute_result"
    }
   ],
   "source": [
    "ord(\"김\") # 하나의 문자에 대한 아스키 코드"
   ]
  },
  {
   "cell_type": "code",
   "execution_count": 66,
   "metadata": {},
   "outputs": [
    {
     "data": {
      "text/plain": [
       "'김'"
      ]
     },
     "execution_count": 66,
     "metadata": {},
     "output_type": "execute_result"
    }
   ],
   "source": [
    "chr(44608) # 아스키 코드의 문자"
   ]
  },
  {
   "cell_type": "code",
   "execution_count": 67,
   "metadata": {},
   "outputs": [
    {
     "data": {
      "text/plain": [
       "10"
      ]
     },
     "execution_count": 67,
     "metadata": {},
     "output_type": "execute_result"
    }
   ],
   "source": [
    "len(s) # 문자열의 길이"
   ]
  },
  {
   "cell_type": "code",
   "execution_count": 68,
   "metadata": {},
   "outputs": [
    {
     "data": {
      "text/plain": [
       "'파'"
      ]
     },
     "execution_count": 68,
     "metadata": {},
     "output_type": "execute_result"
    }
   ],
   "source": [
    "max(s) # 문자열 중 아스키코드가 가장 큰 문자"
   ]
  },
  {
   "cell_type": "code",
   "execution_count": 69,
   "metadata": {},
   "outputs": [
    {
     "data": {
      "text/plain": [
       "' '"
      ]
     },
     "execution_count": 69,
     "metadata": {},
     "output_type": "execute_result"
    }
   ],
   "source": [
    "min(s) # 문자열 중 아스키코드가 가장 작은 문자"
   ]
  },
  {
   "cell_type": "markdown",
   "metadata": {},
   "source": [
    "> 메서드 (method)\n",
    "- 파이썬에서 모든 자료는 객체\n",
    "- 객체가 가지는 함수를 메서드라고 부름\n",
    "- 일반적인 함수는 단독으로 사용이가능하지만 메소드는 개체에 기능이 포함되어 있기 때문에 개체명과 같이 사용"
   ]
  },
  {
   "cell_type": "code",
   "execution_count": 70,
   "metadata": {
    "scrolled": true
   },
   "outputs": [
    {
     "data": {
      "text/plain": [
       "['__add__',\n",
       " '__class__',\n",
       " '__contains__',\n",
       " '__delattr__',\n",
       " '__dir__',\n",
       " '__doc__',\n",
       " '__eq__',\n",
       " '__format__',\n",
       " '__ge__',\n",
       " '__getattribute__',\n",
       " '__getitem__',\n",
       " '__getnewargs__',\n",
       " '__gt__',\n",
       " '__hash__',\n",
       " '__init__',\n",
       " '__init_subclass__',\n",
       " '__iter__',\n",
       " '__le__',\n",
       " '__len__',\n",
       " '__lt__',\n",
       " '__mod__',\n",
       " '__mul__',\n",
       " '__ne__',\n",
       " '__new__',\n",
       " '__reduce__',\n",
       " '__reduce_ex__',\n",
       " '__repr__',\n",
       " '__rmod__',\n",
       " '__rmul__',\n",
       " '__setattr__',\n",
       " '__sizeof__',\n",
       " '__str__',\n",
       " '__subclasshook__',\n",
       " 'capitalize',\n",
       " 'casefold',\n",
       " 'center',\n",
       " 'count',\n",
       " 'encode',\n",
       " 'endswith',\n",
       " 'expandtabs',\n",
       " 'find',\n",
       " 'format',\n",
       " 'format_map',\n",
       " 'index',\n",
       " 'isalnum',\n",
       " 'isalpha',\n",
       " 'isdecimal',\n",
       " 'isdigit',\n",
       " 'isidentifier',\n",
       " 'islower',\n",
       " 'isnumeric',\n",
       " 'isprintable',\n",
       " 'isspace',\n",
       " 'istitle',\n",
       " 'isupper',\n",
       " 'join',\n",
       " 'ljust',\n",
       " 'lower',\n",
       " 'lstrip',\n",
       " 'maketrans',\n",
       " 'partition',\n",
       " 'replace',\n",
       " 'rfind',\n",
       " 'rindex',\n",
       " 'rjust',\n",
       " 'rpartition',\n",
       " 'rsplit',\n",
       " 'rstrip',\n",
       " 'split',\n",
       " 'splitlines',\n",
       " 'startswith',\n",
       " 'strip',\n",
       " 'swapcase',\n",
       " 'title',\n",
       " 'translate',\n",
       " 'upper',\n",
       " 'zfill']"
      ]
     },
     "execution_count": 70,
     "metadata": {},
     "output_type": "execute_result"
    }
   ],
   "source": [
    "dir('s') # 문자열에 대한 메서드"
   ]
  },
  {
   "cell_type": "code",
   "execution_count": 72,
   "metadata": {},
   "outputs": [
    {
     "data": {
      "text/plain": [
       "10"
      ]
     },
     "execution_count": 72,
     "metadata": {},
     "output_type": "execute_result"
    }
   ],
   "source": [
    "s.__len__()"
   ]
  },
  {
   "cell_type": "markdown",
   "metadata": {},
   "source": [
    "> 문자열 메서드 탐구"
   ]
  },
  {
   "cell_type": "code",
   "execution_count": 75,
   "metadata": {},
   "outputs": [
    {
     "data": {
      "text/plain": [
       "'pyTHOn dATa analYsis'"
      ]
     },
     "execution_count": 75,
     "metadata": {},
     "output_type": "execute_result"
    }
   ],
   "source": [
    "s = 'pyTHOn dATa analYsis'\n",
    "s"
   ]
  },
  {
   "cell_type": "code",
   "execution_count": 85,
   "metadata": {},
   "outputs": [],
   "source": [
    "class color:\n",
    "    PURPLE = '\\033[95m'\n",
    "    CYAN = '\\033[96m'\n",
    "    DARKCYAN = '\\033[36m'\n",
    "    BLUE = '\\033[94m'\n",
    "    GREEN = '\\033[92m'\n",
    "    YELLOW = '\\033[93m'\n",
    "    RED = '\\033[91m'\n",
    "    BOLD = '\\033[1m'\n",
    "    UNDERLINE = '\\033[4m'\n",
    "    END = '\\033[0m'\n",
    "    \n",
    "def bold(string):\n",
    "    print(color.BOLD + string + color.END)"
   ]
  },
  {
   "cell_type": "code",
   "execution_count": 86,
   "metadata": {},
   "outputs": [
    {
     "name": "stdout",
     "output_type": "stream",
     "text": [
      "\u001b[1m대소문자 변환\u001b[0m\n",
      "Python data analysis\n",
      "Python Data Analysis\n",
      "PYTHON DATA ANALYSIS\n",
      "python data analysis\n",
      "PYthoN DatA ANALySIS\n"
     ]
    }
   ],
   "source": [
    "bold('대소문자 변환')\n",
    "print('{}\\n{}\\n{}\\n{}\\n{}'.format(\n",
    "    s.capitalize(),\n",
    "    s.title(),\n",
    "    s.upper(),\n",
    "    s.lower(),\n",
    "    s.swapcase()\n",
    "))"
   ]
  },
  {
   "cell_type": "code",
   "execution_count": 95,
   "metadata": {},
   "outputs": [
    {
     "name": "stdout",
     "output_type": "stream",
     "text": [
      "\u001b[1m정렬\u001b[0m\n",
      "가운데정렬 : _____pyTHOn dATa analYsis_____\n",
      " 왼쪽 정렬 : pyTHOn dATa analYsis..........\n",
      "오른쪽정렬 : ~~~~~~~~~~pyTHOn dATa analYsis\n"
     ]
    }
   ],
   "source": [
    "bold('정렬')\n",
    "print('가운데정렬 : {}\\n 왼쪽 정렬 : {}\\n오른쪽정렬 : {}'.format(\n",
    "    s.center(30, '_'),\n",
    "    s.ljust(30, '.'),\n",
    "    s.rjust(30, '~')\n",
    "))"
   ]
  },
  {
   "cell_type": "code",
   "execution_count": 97,
   "metadata": {},
   "outputs": [
    {
     "name": "stdout",
     "output_type": "stream",
     "text": [
      "\u001b[1m특정 문자열 개수\u001b[0m\n",
      "a의 문자열 개수 : 3\n"
     ]
    }
   ],
   "source": [
    "bold('특정 문자열 개수')\n",
    "print('a의 문자열 개수 : {}'.format(\n",
    "    s.count('a', 0, -1)\n",
    "))"
   ]
  },
  {
   "cell_type": "code",
   "execution_count": 117,
   "metadata": {},
   "outputs": [
    {
     "name": "stdout",
     "output_type": "stream",
     "text": [
      "\u001b[1m특정 문자열 인덱스 찾기\u001b[0m\n",
      "\n",
      "s: pyTHOn dATa analYsis\n",
      "\n",
      "a를 찾아라\n",
      "  index: 10\n",
      "  rindex: 14\n",
      "  find: 10\n",
      "  rfind: 14\n",
      "\n",
      "z를 찾아라\n",
      "  find: -1\n",
      "  rfind: -1\n",
      "(index는 없는 것을 찾으면 오류 발생)\n"
     ]
    }
   ],
   "source": [
    "bold('특정 문자열 인덱스 찾기')\n",
    "print('\\ns:', s)\n",
    "print('\\na를 찾아라\\n  index: {}\\n  rindex: {}\\n  find: {}\\n  rfind: {}'.format(\n",
    "    s.index('a'),\n",
    "    s.rindex('a'),\n",
    "    s.find('a'),\n",
    "    s.rfind('a')\n",
    "))\n",
    "print('\\nz를 찾아라\\n  find: {}\\n  rfind: {}\\n(index는 없는 것을 찾으면 오류 발생)'.format(\n",
    "    s.find('z'),\n",
    "    s.rfind('z')\n",
    "))"
   ]
  },
  {
   "cell_type": "code",
   "execution_count": 125,
   "metadata": {},
   "outputs": [
    {
     "name": "stdout",
     "output_type": "stream",
     "text": [
      "\u001b[1m문자열의 시작과 끝\u001b[0m\n",
      "\n",
      "s: pyTHOn dATa analYsis\n",
      "\n",
      "startswith py?? : True\n",
      "startswith pyh?? : False\n",
      "endswith sis?? : True\n"
     ]
    }
   ],
   "source": [
    "bold('문자열의 시작과 끝')\n",
    "print('\\ns:', s, end='\\n\\n')\n",
    "print('startswith py?? : {}\\nstartswith pyh?? : {}\\nendswith sis?? : {}'.format(\n",
    "      s.startswith('py', 0, -1),\n",
    "      s.startswith('pyt', 0, -1),\n",
    "      s.endswith('sis', 0) # 마지막 attr에 -1을 넣어주면 마지막 문자는 제외하게 된다.\n",
    "))"
   ]
  },
  {
   "cell_type": "code",
   "execution_count": 147,
   "metadata": {},
   "outputs": [
    {
     "name": "stdout",
     "output_type": "stream",
     "text": [
      "\u001b[1m문자열 결합 분리\u001b[0m\n",
      "\n",
      "p*y*T*H*O*n* *d*A*T*a* *a*n*a*l*Y*s*i*s\n",
      "['pyTHOn dAT', ' analYsis']\n",
      "['pyTHOn dAT', ' ', 'nalYsis']\n",
      "['pyTHOn dAT', ' ', 'n', 'lYsis']\n",
      "['pyTHOn dATa an', 'lYsis']\n",
      "['pyTHOn dATa ', 'n', 'lYsis']\n",
      "['pyTHOn dAT', ' ', 'n', 'lYsis']\n"
     ]
    }
   ],
   "source": [
    "bold('문자열 결합 분리')\n",
    "print()\n",
    "print('*'.join(s))\n",
    "print(s.split('a', 1))\n",
    "print(s.split('a', 2))\n",
    "print(s.split('a', 3))\n",
    "print(s.rsplit('a', 1))\n",
    "print(s.rsplit('a', 2))\n",
    "print(s.rsplit('a', 3))"
   ]
  },
  {
   "cell_type": "code",
   "execution_count": 164,
   "metadata": {},
   "outputs": [
    {
     "name": "stdout",
     "output_type": "stream",
     "text": [
      "\u001b[1m문자열 떼어내기\u001b[0m\n",
      "       Hello    Python    .\n",
      "Hello    Python.\n",
      "Hello    Python    .\n",
      "       Hello    Python.\n"
     ]
    }
   ],
   "source": [
    "bold('문자열 떼어내기')\n",
    "s.strip('py') # 굳이 필요한가..? >> 공백을 지울 때 사용!\n",
    "s1 = '       Hello    Python    '\n",
    "print(s1 + '.')\n",
    "print(s1.strip() + '.')\n",
    "print(s1.lstrip() + '.')\n",
    "print(s1.rstrip() + '.')"
   ]
  },
  {
   "cell_type": "code",
   "execution_count": 169,
   "metadata": {},
   "outputs": [
    {
     "name": "stdout",
     "output_type": "stream",
     "text": [
      "\u001b[1m문자열 분할\u001b[0m\n"
     ]
    },
    {
     "data": {
      "text/plain": [
       "('pyTHOn dATa analY', 's', 'is')"
      ]
     },
     "execution_count": 169,
     "metadata": {},
     "output_type": "execute_result"
    }
   ],
   "source": [
    "bold('문자열 분할')\n",
    "s.partition('s') # 문자를 찾고 찾은 처음 문자열을 기준으로 3개로 분할"
   ]
  },
  {
   "cell_type": "code",
   "execution_count": 174,
   "metadata": {},
   "outputs": [
    {
     "name": "stdout",
     "output_type": "stream",
     "text": [
      "\u001b[1m문자 대체\u001b[0m\n"
     ]
    },
    {
     "data": {
      "text/plain": [
       "({104: 105,\n",
       "  101: 100,\n",
       "  108: 110,\n",
       "  111: 99,\n",
       "  44: 116,\n",
       "  32: 32,\n",
       "  116: 114,\n",
       "  105: 111,\n",
       "  115: 99,\n",
       "  112: 32,\n",
       "  121: 112,\n",
       "  110: 101,\n",
       "  99: 97,\n",
       "  97: 100,\n",
       "  48: 116},\n",
       " 'hello, this is python class00000000000000000000',\n",
       " 'adjusting stock price and check catch-up effect')"
      ]
     },
     "execution_count": 174,
     "metadata": {},
     "output_type": "execute_result"
    }
   ],
   "source": [
    "bold('문자 대체')\n",
    "x = 'hello, this is python class'\n",
    "y = 'adjusting stock price and check catch-up effect'\n",
    "x += '0' * abs(len(x) - len(y))\n",
    "''.maketrans(x, y), x, y # 문자열 x의 문자를 문자열 y의 문자들로 대체, dict 타입을 return\n",
    "## Translate 규칙을 만드는 함수"
   ]
  },
  {
   "cell_type": "code",
   "execution_count": 178,
   "metadata": {},
   "outputs": [
    {
     "data": {
      "text/plain": [
       "'3y lcsswlrs fs 25V4 35RY'"
      ]
     },
     "execution_count": 178,
     "metadata": {},
     "output_type": "execute_result"
    }
   ],
   "source": [
    "x = 'abcdefghijklmnopABCDEFGHIJKLMNOP'\n",
    "y = 'ckdsafknfasooell5465412111123158'\n",
    "row_trans = str.maketrans(x, y)\n",
    "\n",
    "'My password is LOVE MARY'.translate(row_trans)"
   ]
  },
  {
   "cell_type": "code",
   "execution_count": 183,
   "metadata": {},
   "outputs": [
    {
     "data": {
      "text/plain": [
       "'Hello my Fuck you'"
      ]
     },
     "execution_count": 183,
     "metadata": {},
     "output_type": "execute_result"
    }
   ],
   "source": [
    "'Hello my Freind.'.replace('reind.', 'uck you')"
   ]
  },
  {
   "cell_type": "code",
   "execution_count": 186,
   "metadata": {},
   "outputs": [
    {
     "name": "stdout",
     "output_type": "stream",
     "text": [
      "\u001b[1m문자열 구성 확인 메서드\u001b[0m\n"
     ]
    },
    {
     "data": {
      "text/plain": [
       "['isalnum',\n",
       " 'isalpha',\n",
       " 'isdecimal',\n",
       " 'isdigit',\n",
       " 'isidentifier',\n",
       " 'islower',\n",
       " 'isnumeric',\n",
       " 'isprintable',\n",
       " 'isspace',\n",
       " 'istitle',\n",
       " 'isupper']"
      ]
     },
     "execution_count": 186,
     "metadata": {},
     "output_type": "execute_result"
    }
   ],
   "source": [
    "bold('문자열 구성 확인 메서드')\n",
    "[i for i in dir(s) if i.find('is') != -1]"
   ]
  },
  {
   "cell_type": "code",
   "execution_count": 188,
   "metadata": {},
   "outputs": [
    {
     "data": {
      "text/plain": [
       "65"
      ]
     },
     "execution_count": 188,
     "metadata": {},
     "output_type": "execute_result"
    }
   ],
   "source": [
    "ord(\"A\")"
   ]
  },
  {
   "cell_type": "code",
   "execution_count": null,
   "metadata": {},
   "outputs": [],
   "source": []
  }
 ],
 "metadata": {
  "kernelspec": {
   "display_name": "Python 3",
   "language": "python",
   "name": "python3"
  },
  "language_info": {
   "codemirror_mode": {
    "name": "ipython",
    "version": 3
   },
   "file_extension": ".py",
   "mimetype": "text/x-python",
   "name": "python",
   "nbconvert_exporter": "python",
   "pygments_lexer": "ipython3",
   "version": "3.6.8"
  }
 },
 "nbformat": 4,
 "nbformat_minor": 2
}
