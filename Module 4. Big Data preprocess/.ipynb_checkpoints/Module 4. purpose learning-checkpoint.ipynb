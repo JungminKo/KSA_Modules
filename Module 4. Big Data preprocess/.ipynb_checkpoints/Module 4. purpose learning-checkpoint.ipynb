{
 "cells": [
  {
   "cell_type": "markdown",
   "metadata": {},
   "source": [
    "# Module 4. 목적\n",
    "- 다음 문제들에 답을 할 수 있는가?"
   ]
  },
  {
   "cell_type": "markdown",
   "metadata": {},
   "source": [
    "1. 다음 중 한글 텍스트 전처리에 주로 사용되는 라이브러리는 무엇인가?*\n",
    " - konlpy\n",
    " - pandas\n",
    " - numpy\n",
    " - scikit-learn"
   ]
  },
  {
   "cell_type": "markdown",
   "metadata": {},
   "source": [
    "2. 다음 중 인터넷 상에서 수집된 정보를 분석 및 통합하는 기술로 웹사이트의 구조나 사용자의 이용 형태를 분석하는 빅데이터 분석 기술은 무엇인가?*\n",
    " - 텍스트 마이닝(Text mining)\n",
    " - 소셜 마이닝(Social Mining)\n",
    " - 오피니언 마이닝(Opinion Mining)\n",
    " - 웹 마이닝(Web Mining)"
   ]
  },
  {
   "cell_type": "markdown",
   "metadata": {},
   "source": [
    "3. 다음 중 문서를 분류하는 기법으로 베이지안 통계에 바탕을 텍스트 분석 기법은 무엇인가?*\n",
    " - 나이브 베이즈 분류(Naïve Bayes Classification)\n",
    " - LDA(Latent Dirichlet Allocation)\n",
    " - 베이지안 회귀분석(Bayesian Linear Regression)\n",
    " - TDM(Term-by-Document Matrix)"
   ]
  },
  {
   "cell_type": "markdown",
   "metadata": {},
   "source": [
    "4. 다음 중 어떤 사이트가 가지고 있는 기능을 외부에서도 쉽게 사용할 수 있게 공개한 것은?*\n",
    " - 쿠키(cookie)\n",
    " - 웹 API(Application Programming Interface)\n",
    " - 웹 스크래핑\n",
    " - 인증키(counsmer key)"
   ]
  },
  {
   "cell_type": "markdown",
   "metadata": {},
   "source": [
    "5. 다음 중 IBM에서 제안한 빅데이터의 특성이 아닌 것은?*\n",
    " - 즉시성(Instancy)\n",
    " - 데이터 양(Volume)\n",
    " - 처리 속도(Velocity)\n",
    " - 다양성 (Variety)"
   ]
  },
  {
   "cell_type": "markdown",
   "metadata": {},
   "source": [
    "6. 다음 중 단어의 의미를 고려하여 좀 더 조밀한 차원에 단어를 벡터로 표현하는 기법은 무엇인가?*\n",
    " - 임베딩(Embedding)\n",
    " - 감성분석(Sentiment Analysis)\n",
    " - 오피니언 마이닝(Opinion Mining)\n",
    " - 클러스터링(Clustering)"
   ]
  },
  {
   "cell_type": "markdown",
   "metadata": {},
   "source": [
    "7. 다음 중 텍스트 데이터를 기반으로 하는 가벼운 데이터 형식으로 속성-값 쌍 또는 \"키-값 쌍\"으로 이루어진 데이터 오브젝트를 전달하기 위해 인간이 읽을 수 있는 텍스트를 사용하는 개방형 표준 포맷은 무엇인가?*\n",
    " - CSS(Cascading Style Sheets)\n",
    " - XLM(eXtensible Markup Language)\n",
    " - CSV(Creating Shared Value)\n",
    " - JSON(JavaScript Object Notation)"
   ]
  },
  {
   "cell_type": "markdown",
   "metadata": {},
   "source": [
    "8. 다음 중 두 개의 문자열이 어느 정도 다른지를 나타내는 거리 측도로 편집 거리(Edit Distance)라고 부르기도 하는 것은?*\n",
    " - 유클리드 거리(Euclidean Distance)\n",
    " - 레벤슈타인 거리(Lvenshtein Distance)\n",
    " - 맨해튼 거리(Manhattan Distance)\n",
    " - 마할라노비스의 거리(Mahalanobis Distamce)"
   ]
  },
  {
   "cell_type": "markdown",
   "metadata": {},
   "source": [
    "9. 다음 중 문자와 상관 없이 데이터를 사용할 수 있는 데이터 영역을 활용하는 데이터 형식으로 텍스트 에디터로 열수 없으며, 시각적으로 확인해도 의미를 알 수 없는 문자열로 표현되는 것은?*\n",
    " - 바이너리 데이터(Binary Data)\n",
    " - 텍스트 데이터(Text Data)\n",
    " - 깃허브(github)\n",
    " - 불 대수(Boole)"
   ]
  },
  {
   "cell_type": "markdown",
   "metadata": {},
   "source": [
    "10. 문장 내부의 단어를 벡터로 변환 할 때 사용하는 Python 라이브러리로 옳은 것은?*\n",
    " - JPype1\n",
    " - xlrd\n",
    " - gensim\n",
    " - requests"
   ]
  },
  {
   "cell_type": "markdown",
   "metadata": {},
   "source": [
    "11. 다음 중 웹 데이터 크롤링 또는 스크레이핑을 할 때 사용하는 Python 라이브러리로 옳은 것은?*\n",
    " - nltk\n",
    " - BeautifulSoup\n",
    " - openpyxl\n",
    " - Pillow"
   ]
  },
  {
   "cell_type": "markdown",
   "metadata": {},
   "source": [
    "12. 다음 중 인터넷에서, 웹 서버와 사용자의 인터넷 브라우저 사이에 문서를 전송하기 위해 사용되는 통신 규약?*\n",
    " - TCPIP(transmission control protocolinternet protocol)\n",
    " - HTML(HypterText Markup Language)\n",
    " - FTP(File Transfer Protocol)\n",
    " - HTTP(HypterText Transfer Protocol)"
   ]
  },
  {
   "cell_type": "markdown",
   "metadata": {},
   "source": [
    "13. 다음 중 문장에서 이웃한 N개의 문자를 비교하여 유사도를 측정하는 기술은?*\n",
    " - N-gram 유사도\n",
    " - 베이지안 필터\n",
    " - 형태소\n",
    " - 말뭉치"
   ]
  },
  {
   "cell_type": "markdown",
   "metadata": {},
   "source": [
    "14. 다음 중 웹사이트를 방문하여 웹 사이트의 특정 정보를 추출하는 기술은?*\n",
    " - CSS\n",
    " - 오픈 API\n",
    " - 웹 스크래핑\n",
    " - 인증키(counsmer key)"
   ]
  },
  {
   "cell_type": "markdown",
   "metadata": {},
   "source": [
    "15. 다음 중 HTML의 \"li\" tag의 4번째 요소를 추출하는 서식으로 옳은 것은?*\n",
    " - li:nth-child(4)\n",
    " - li:nth-of-type(4)\n",
    " - li:firts-of-type(4)\n",
    " - li:first-child(4)"
   ]
  }
 ],
 "metadata": {
  "kernelspec": {
   "display_name": "ds",
   "language": "python",
   "name": "ds"
  },
  "language_info": {
   "codemirror_mode": {
    "name": "ipython",
    "version": 3
   },
   "file_extension": ".py",
   "mimetype": "text/x-python",
   "name": "python",
   "nbconvert_exporter": "python",
   "pygments_lexer": "ipython3",
   "version": "3.6.8"
  }
 },
 "nbformat": 4,
 "nbformat_minor": 2
}
