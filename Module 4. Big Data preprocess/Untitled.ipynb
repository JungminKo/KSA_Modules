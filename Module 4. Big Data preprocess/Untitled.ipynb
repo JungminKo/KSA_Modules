{
 "cells": [
  {
   "cell_type": "markdown",
   "metadata": {},
   "source": [
    "# Part 1. 크롤링과 스크레핑"
   ]
  },
  {
   "cell_type": "markdown",
   "metadata": {},
   "source": [
    "# Chapter 1. Crawling & Scraping\n",
    "- 근래에는 정형화된 데이터보다 비정형 자료들을 많이 분석함\n",
    "- Social Network"
   ]
  },
  {
   "cell_type": "markdown",
   "metadata": {},
   "source": [
    "## 빅데이터의 수집\n",
    ">### 빅데이터\n",
    "- 대규모의 데이터 셋 (정의의 일부)\n",
    "- 데이터 수집만으로 의미 X, 데이터를 활용했을 때 가치 부여\n",
    "- 기존의 Data warehouse는 정형화되어있는 자료들을 다룸 (ex) 표\n",
    "    - 빅데이터는 정형화 이외의 자료도 분석의 대상으로 봄\n",
    "- 빅데이터의 Definition은 가지가지\n",
    "    - IBM 3V\n",
    "        - 크기 (Value)\n",
    "        - 속도 (Velocity)\n",
    "        - 다양성 (Variety)\n",
    "- 실시간으로 생성되는 자료\n",
    "    - 블로그와 SNS를 이용한 트렌드 분석\n",
    "    - 인터넷 전자상거래 상품 DB 분석\n",
    "    - 금융 정보를 이용한 예측\n",
    "    - 공공데이터를 이용한 인구, 미세먼지 등 데이터 분석"
   ]
  },
  {
   "cell_type": "markdown",
   "metadata": {},
   "source": [
    ">### 스크레핑(Scaping)\n",
    "- _웹 사이트의 특정 정보를 추출하는 기술_\n",
    "- 공개된 정보는 대부분 HTML 형식으로 되어있어 필요한 데이터로 저장하기 위해 가공이 필요\n",
    "- 이를 위해 데이터 주고를 파악하는 것이 필요\n",
    "- 최근에는 로그인을 통해서만 유용한 정보에 접근할 수 있는 경우가 많다.\n",
    "    - 로그인 이후 필요한 웹 페이지 접근 기술이 필요\n",
    "- JS, 서버용 언어(PHP, ASP)가 중간에 끼기 때문에 접근이 어려울 수 있음\n",
    "\n",
    ">### 크롤링(Crawling)\n",
    "- _웹 사이트를 프로그램이 정기적으로 정보를 추출하는 기술_\n",
    "    - 크롤링하는 프로그램을 크롤러(crawler) 또는 스파이더(spider)\n",
    "\n",
    ">### 머신러닝에 사용할 수 있는 데이터 구조\n",
    "- 머신러닝뿐만 아니라 일반적인 분석에도 마찬가지, 수집한 자료를 편집하는 과정은 필수\n",
    "- 수집된 자료는 데이터의 구조를 분석하고 필요한 부분만 추출하여 분석 과정을 통해 머신러닝에 사용 가능\n",
    "- 데이터 형식은 파일 또는 DB에 저장하여 활용"
   ]
  },
  {
   "cell_type": "markdown",
   "metadata": {},
   "source": [
    ">### Web component : HTML, HTTP\n",
    "\n",
    ">>### HTML\n",
    "- 프로그램 언어임 (물론 일반적인 언어와는 다름)\n",
    "- 태그(tag)는 꺾쇠 괄호 <>로 둘러싸여 있고, 그 안에 정보에 대한 의미를 작성\n",
    "- 그 의미가 끝나는 부분에 슬래시(/)를 사용하여 해당 태그를 종료\n",
    "        <title>Hello, World</title>       # 제목 요소, 값은 Hello, World\n",
    "        <img src=\"http://tcpschool.com/lectures/img_webbasic_10.png\" width=\"600\" height=\"300\"> # 맨 아래의 이미지 태그\n",
    "        \n",
    ">>### HTTP\n",
    "- HTTP(Hypertext Transaction Protocol)은 인터넷에서 컴퓨터 간에 정보를 주고받을 때 사용하는 일종의 약속\n",
    "- CS(Computer Science)에서 일반적으로 약속을 Protocol이라고 함\n",
    "\n",
    ">### 웹의 동작 순서\n",
    "- 웹 브라우저 실행 $\\rightarrow$ 주소 정보 입력\n",
    "- 주소 정보의 공식 이름은 **URL(Uniform Resource Locator)**\n",
    "- 출처 : https://joshua1988.github.io/web-development/http-part1/\n",
    "![title](https://joshua1988.github.io/images/posts/web/http/url-structure.png)\n",
    "- URL에는 해당 서버가 위치한 인터넷 주소 정보인 Domain Name이 존재\n",
    "- 흔히 도메인 정보 또는 서버 주소라고도 하는 이 주소를 통해 웹의 정보를 제공하는 서버에 접속\n",
    "- 일반적으로 컴퓨터는 **인터넷 프로토콜 주소(Internet Protocol Address)**, 즉 IP 주소라고 부르는 주소 값을 가짐\n",
    "    - IP 주소는 숫자로 되어있음. 이를 외우기는 쉽지 않음\n",
    "    - 보통 4가지 숫자를 이용하여 구성\n",
    "    - 즉, 외우기 쉽게 문자로 바꾼, domain name, URL을 사용함\n",
    "- IP 주소를 컴퓨터의 주소로 생각하면 이 주소에 접속하기 위해 사용하는 도메인 네임과 연결하기 위한 도메인 네임 서버(Domain Name Server, DNS)를 운영\n",
    "- 출처 : http://tcpschool.com/webbasic/works\n",
    "<img src=\"http://tcpschool.com/lectures/img_webbasic_10.png\" width=\"600\" height=\"300\">"
   ]
  },
  {
   "cell_type": "markdown",
   "metadata": {},
   "source": [
    "## 데이터 다운로드 하기\n",
    ">### 웹상의 정보를 추출하는 방법\n",
    "- 웹 사이트의 텍스트를 가져오기 위해 프로그램적으로는 **Source**를 파악해야 한다.\n",
    "    - 즉, 최초에 source 분석을 해야한다.\n",
    "- 웹 사이트에 있는 데이터 추출을 위해 `urllib` 라이브러리 사용\n",
    "    - HTTP 또는 FTP(파일을 주고 받을 수 있는 protocol)를 이용해 데이터를 다운로드\n",
    "- `urllib`는 URL을 다루는 모듈을 모아놓은 패키지\n",
    "    - 특히 `urllib.request` 모듈은 웹 사이트에 있는 데이터에 접근하는 기능을 제공\n",
    "            urlertrieve(url, name)\n",
    "                - URL 주소의 파일을 다운로드\n",
    "            urlopen()\n",
    "                - 곧바로 파일을 저장하지 않고 메모리상에 load\n",
    "- 흔히 `a` 태그가 이동할 주소나 파일의 위치를 담고있음 (link)"
   ]
  },
  {
   "cell_type": "code",
   "execution_count": null,
   "metadata": {},
   "outputs": [],
   "source": []
  }
 ],
 "metadata": {
  "kernelspec": {
   "display_name": "ds",
   "language": "python",
   "name": "ds"
  },
  "language_info": {
   "codemirror_mode": {
    "name": "ipython",
    "version": 3
   },
   "file_extension": ".py",
   "mimetype": "text/x-python",
   "name": "python",
   "nbconvert_exporter": "python",
   "pygments_lexer": "ipython3",
   "version": "3.6.8"
  }
 },
 "nbformat": 4,
 "nbformat_minor": 2
}
