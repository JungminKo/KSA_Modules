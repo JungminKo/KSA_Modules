{
 "cells": [
  {
   "cell_type": "code",
   "execution_count": 2,
   "metadata": {},
   "outputs": [
    {
     "name": "stdout",
     "output_type": "stream",
     "text": [
      "[('아버', 'Noun'), ('기', 'Noun'), ('가방', 'Noun'), ('에', 'Josa'), ('들다', 'Verb'), ('갓', 'Modifier'), ('니', 'Noun'), ('다', 'Josa')]\n"
     ]
    }
   ],
   "source": [
    "from konlpy.tag import Okt\n",
    "\n",
    "# twitter 객체를 생성\n",
    "twitter = Okt()\n",
    "\n",
    "# pos 메서드로 형태소 분석 (norm 옵션 : 단어 변환, stem 옵션 : 원형 단어 변환)\n",
    "# norm 옵션 : \"그래욬ㅋㅋㅋ?\" -> \"그래요\" 변환, stem 옵션 : \"그렇다\" 변환\n",
    "malist = twitter.pos('아버기 가방에 들어갓니다', norm=True, stem=True)\n",
    "print(malist)"
   ]
  }
 ],
 "metadata": {
  "kernelspec": {
   "display_name": "ds",
   "language": "python",
   "name": "ds"
  },
  "language_info": {
   "codemirror_mode": {
    "name": "ipython",
    "version": 3
   },
   "file_extension": ".py",
   "mimetype": "text/x-python",
   "name": "python",
   "nbconvert_exporter": "python",
   "pygments_lexer": "ipython3",
   "version": "3.6.8"
  }
 },
 "nbformat": 4,
 "nbformat_minor": 2
}
