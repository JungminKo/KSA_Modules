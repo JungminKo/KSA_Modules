{
 "cells": [
  {
   "cell_type": "code",
   "execution_count": 1,
   "metadata": {},
   "outputs": [],
   "source": [
    "# import library\n",
    "import pandas as pd"
   ]
  },
  {
   "cell_type": "markdown",
   "metadata": {},
   "source": [
    "# Chapter 2. 고급 스크레핑"
   ]
  },
  {
   "cell_type": "markdown",
   "metadata": {},
   "source": [
    "## 로그인이 필요한 사이트에서 다운받기\n",
    ">### HTTP 통신\n",
    "- 웹 브라우저와 웹 서버는 HTTP 통신규약(PROTOCOL)을 사용해서 통신\n",
    "- 브라우저에서 서버로 요청(request)하면, 서버에서 브라우저로 응답(response)할 때 어떻게 할 것인지를 나타내는 규약\n",
    "    - 웹 브라우저로 http://www.naver.com이라는 웹 서버 탐색\n",
    "    - 웹 서버가 발견되면 index.html 파일을 보고싶다고 요청\n",
    "    - naver.com 서버가 이러한 요청을 받으면 index.html 파일의 내용을 응답\n",
    "- 같은 URL에 여러 번 접근해도 같은 데이터를 돌려주는 무상태(stateless) 통신\n",
    "\n",
    ">### 쿠키\n",
    "- 웹 브라우저를 통해 사이트에 방문하는 사람의 컴퓨터에 일시적으로 데이터를 저장하는 기능\n",
    "- 1개의 쿠키에 저장할 수 있는 데이터의 크기는 4,096 byte로 제한\n",
    "- HTTP 통신 헤더를 통해 읽고 쓰기가 가능\n",
    "- 방문자 또는 확인자 측에서 원하는 대로 변경 가능\n",
    "- 변경하면 문제가 될 비밀번호 등의 정보를 저장하기는 알맞지 않음\n",
    "\n",
    ">### 세션\n",
    "- 쿠키를 사용해 데이터를 저장\n",
    "- 쿠키에는 방문자 고유 ID만 저장, 모든 데이터는 웹 서버에 저장\n",
    "- 저장할 수 있는 데이터에 제한이 없음\n",
    "- 회원제 웹 사이트 등의 구현이 가능\n",
    "\n",
    ">### requests 사용\n",
    "- `urllib.requests`를 이용해 쿠키를 이용한 접근이 가능\n",
    "    - 방법이 조금 복잡\n",
    "- requests 패키지를 사용하면 쉽게 쿠키를 이용한 접근이 가능\n",
    "- 프로그램(봇 등)이 쉽게 로그인할 수 없게 보안 처리된 네이버 또는 다음 등 포털 사이트 등은 지금 사용하는 방법으로 로그인 불가능"
   ]
  },
  {
   "cell_type": "markdown",
   "metadata": {},
   "source": [
    ">### 한빛출판네트워크\n",
    "- site : http://www.hanbit.co.kr/member/login.html\n",
    "- 입력양식(input)으로 m_id와 m_passwd라는 값(name 속성의 값)을 입력하여 입력양식을 제출하면 로그인되는 구조\n",
    "\n",
    ">### 로그인 과정 분석\n",
    "- 크롬 등에서 [검사] 화면을 띄우고 [Network] 탭을 띄워 어떠한 네트워크 통신이 오가는지 확인\n",
    "- login_proc.php 선택\n",
    "    - 로그인 관련 기능 처리\n",
    "    - m_id와 m_passwd 정보 확인\n",
    "    - http://www.hanbit.co.kr/member/login_proc.php 에 입력양식 데이터를 POST로 전달하면 로그인"
   ]
  },
  {
   "cell_type": "markdown",
   "metadata": {},
   "source": [
    ">### 파이썬으로 로그인\n",
    "- 마일리지와 이코인 출력"
   ]
  },
  {
   "cell_type": "code",
   "execution_count": 2,
   "metadata": {},
   "outputs": [
    {
     "name": "stdout",
     "output_type": "stream",
     "text": [
      "ID : jinmang2\n",
      "Password : ········\n"
     ]
    }
   ],
   "source": [
    "# 로그인을 위한 모듈 추출하기\n",
    "import requests\n",
    "from bs4 import BeautifulSoup\n",
    "from urllib.parse import urljoin\n",
    "from getpass import getpass\n",
    "\n",
    "# 아이디와 비밀번호 지정하기 [자신의 것을 사용해주세요]\n",
    "USER = input('ID : ')\n",
    "PASS = getpass('Password : ')\n",
    "\n",
    "# 세션 시작하기\n",
    "session = requests.session()\n",
    "\n",
    "# 로그인하기\n",
    "login_info = {\n",
    "    'm_id' : USER,     # 아이디 지정\n",
    "    'm_passwd' : PASS  # 비밀번호 지정\n",
    "}\n",
    "url_login = 'http://www.hanbit.co.kr/member/login_proc.php'\n",
    "res = session.post(url_login, data=login_info)\n",
    "res.raise_for_status() # 오류가 발생하면 예외 발생"
   ]
  },
  {
   "cell_type": "code",
   "execution_count": 3,
   "metadata": {},
   "outputs": [
    {
     "name": "stdout",
     "output_type": "stream",
     "text": [
      "마일리지 : 3,000\n",
      "이코인 : 0\n"
     ]
    }
   ],
   "source": [
    "# 마이페이지 접근\n",
    "url_mypage = 'http://www.hanbit.co.kr/myhanbit/myhanbit.html'\n",
    "res = session.get(url_mypage)\n",
    "res.raise_for_status()\n",
    "\n",
    "# 마일리지와 이코인 가져오기\n",
    "soup = BeautifulSoup(res.text, 'html.parser')\n",
    "mileage = soup.select_one('.mileage_section1 span').get_text()\n",
    "ecoin = soup.select_one('.mileage_section2 span').get_text()\n",
    "print('마일리지 : {}'.format(mileage))\n",
    "print('이코인 : {}'.format(ecoin))"
   ]
  },
  {
   "cell_type": "code",
   "execution_count": 4,
   "metadata": {},
   "outputs": [
    {
     "name": "stdout",
     "output_type": "stream",
     "text": [
      "날짜 : 2019 / 07\n",
      "순수구매금액 : 0 원\n",
      "적립마일리지 : 0 점\n"
     ]
    }
   ],
   "source": [
    "# 마이페이지 접근\n",
    "url_mypage = 'http://www.hanbit.co.kr/myhanbit/membership.html'\n",
    "res = session.get(url_mypage)\n",
    "res.raise_for_status()\n",
    "\n",
    "# 날짜별 순수구매금액과 적립마일리지 가져오기\n",
    "soup = BeautifulSoup(res.text, 'html.parser')\n",
    "date = soup.select_one('table.tbl_type_list2  tr  td').get_text()\n",
    "buy = soup.select_one('table.tbl_type_list2 tr td.right').get_text()\n",
    "month_mileage = soup.select_one('table.tbl_type_list2 tr td:nth-of-type(4)').get_text()\n",
    "\n",
    "print('날짜 : {}'.format(date))\n",
    "print('순수구매금액 : {}'.format(buy))\n",
    "print('적립마일리지 : {}'.format(month_mileage))"
   ]
  },
  {
   "cell_type": "markdown",
   "metadata": {},
   "source": [
    ">### requests의 메서드\n",
    "- HTTP에서 사용하는 `get`과 `post`등의 메서드는 `requests` 모듈에 같은 이름의 메서드가 존재\n",
    "- `put`, `delete`, `head`와 같은 메서드도 존재"
   ]
  },
  {
   "cell_type": "code",
   "execution_count": null,
   "metadata": {},
   "outputs": [
    {
     "name": "stdout",
     "output_type": "stream",
     "text": [
      "<!doctype html><html itemscope=\"\" itemtype=\"http://schema.org/WebPage\" lang=\"ko\"><head><meta content=\"text/html; charset=UTF-8\" http-equiv=\"Content-Type\"><meta content=\"/images/branding/googleg/1x/googleg_standard_color_128dp.png\" itemprop=\"image\"><title>Google</title><script nonce=\"8lVtfKnvBFplbNfZSKb/rg==\">(function(){window.google={kEI:'CwQbXf-cGtjXhwPvzJ6wCw',kEXPI:'0,1353804,1958,2422,1225,730,224,510,1065,3152,56,322,206,904,113,175,110,777,60,81,281,240,385,2331452,329563,1294,12383,4855,32692,2074,13173,867,12163,5281,1953,9287,363,3320,5505,2436,266,5107,575,835,284,2,1306,2432,1361,4323,4968,773,2249,4745,2136,3577,3601,669,1050,1808,1397,81,7,491,2044,8909,5297,796,101,1119,38,622,298,746,8,119,1217,1364,346,1,1264,1580,1155,3062,2,632,3239,44,4148,635,1161,1446,632,2228,655,21,317,1119,447,457,187,2,1159,777,1,370,1315,486,29,190,756,98,392,30,399,992,98,1009,10,168,9,84,24,1018,1495,174,967,48,553,25,10,1269,2212,25,177,323,5,55,1190,7,327,513,324,193,531,371,361,221,38,705,115,1464,535,621,152,666,260,1189,2,7,7,1495,1160,468,321,27,1014,9,184,366,1172,239,520,21,340,249,734,472,131,77,476,194,29,216,184,228,120,695,3,100,4,324,14,15,1255,16,24,60,135,788,328,6,948,195,383,60,147,616,155,79,736,514,90,10,25,216,85,47,251,2,2,254,108,425,9,124,3,620,41,291,397,36,2,117,7,193,4,240,2273,1,1766,1156,77,2,269,5917381,2995,8797345,4,1572,882,444,1,2,31,49,1,900,576,16,304,6,3,1,2,2132,1,1,1,1,1,414,1,748,141,59,726,3,7,563,1,2346,271,139,69,14,9,34,11,13,4,11',authuser:0,kscs:'c9c918f0_CwQbXf-cGtjXhwPvzJ6wCw',kGL:'KR'};google.sn='webhp';google.kHL='ko';})();(function(){google.lc=[];google.li=0;google.getEI=function(a){for(var b;a&&(!a.getAttribute||!(b=a.getAttribute(\"eid\")));)a=a.parentNode;return b||google.kEI};google.getLEI=function(a){for(var b=null;a&&(!a.getAttribute||!(b=a.getAttribute(\"leid\")));)a=a.parentNode;return b};google.https=function(){return\"https:\"==window.location.protocol};google.ml=function(){return null};google.time=function(){return(new Date).getTime()};google.log=function(a,b,e,c,g){if(a=google.logUrl(a,b,e,c,g)){b=new Image;var d=google.lc,f=google.li;d[f]=b;b.onerror=b.onload=b.onabort=function(){delete d[f]};google.vel&&google.vel.lu&&google.vel.lu(a);b.src=a;google.li=f+1}};google.logUrl=function(a,b,e,c,g){var d=\"\",f=google.ls||\"\";e||-1!=b.search(\"&ei=\")||(d=\"&ei=\"+google.getEI(c),-1==b.search(\"&lei=\")&&(c=google.getLEI(c))&&(d+=\"&lei=\"+c));c=\"\";!e&&google.cshid&&-1==b.search(\"&cshid=\")&&\"slh\"!=a&&(c=\"&cshid=\"+google.cshid);a=e||\"/\"+(g||\"gen_204\")+\"?atyp=i&ct=\"+a+\"&cad=\"+b+d+f+\"&zx=\"+google.time()+c;/^http:/i.test(a)&&google.https()&&(google.ml(Error(\"a\"),!1,{src:a,glmm:1}),a=\"\");return a};}).call(this);(function(){google.y={};google.x=function(a,b){if(a)var c=a.id;else{do c=Math.random();while(google.y[c])}google.y[c]=[a,b];return!1};google.lm=[];google.plm=function(a){google.lm.push.apply(google.lm,a)};google.lq=[];google.load=function(a,b,c){google.lq.push([[a],b,c])};google.loadAll=function(a,b){google.lq.push([a,b])};}).call(this);google.f={};var a=window.location,b=a.href.indexOf(\"#\");if(0<=b){var c=a.href.substring(b+1);/(^|&)q=/.test(c)&&-1==c.indexOf(\"#\")&&a.replace(\"/search?\"+c.replace(/(^|&)fp=[^&]*/g,\"\")+\"&cad=h\")};</script><style>#gbar,#guser{font-size:13px;padding-top:1px !important;}#gbar{height:22px}#guser{padding-bottom:7px !important;text-align:right}.gbh,.gbd{border-top:1px solid #c9d7f1;font-size:1px}.gbh{height:0;position:absolute;top:24px;width:100%}@media all{.gb1{height:22px;margin-right:.5em;vertical-align:top}#gbar{float:left}}a.gb1,a.gb4{text-decoration:underline !important}a.gb1,a.gb4{color:#00c !important}.gbi .gb4{color:#dd8e27 !important}.gbf .gb4{color:#900 !important}\n",
      "</style><style>body,td,a,p,.h{font-family:&#44404;&#47548;,&#46027;&#50880;,arial,sans-serif}.ko{font-size:9pt}body{margin:0;overflow-y:scroll}#gog{padding:3px 8px 0}td{line-height:.8em}.gac_m td{line-height:17px}form{margin-bottom:20px}.h{color:#36c}.q{color:#00c}.ts td{padding:0}.ts{border-collapse:collapse}em{font-weight:bold;font-style:normal}.lst{height:25px;width:496px}.gsfi,.lst{font:18px arial,sans-serif}.gsfs{font:17px arial,sans-serif}.ds{display:inline-box;display:inline-block;margin:3px 0 4px;margin-left:4px}input{font-family:inherit}a.gb1,a.gb2,a.gb3,a.gb4{color:#11c !important}body{background:#fff;color:black}a{color:#11c;text-decoration:none}a:hover,a:active{text-decoration:underline}.fl a{color:#36c}a:visited{color:#551a8b}a.gb1,a.gb4{text-decoration:underline}a.gb3:hover{text-decoration:none}#ghead a.gb2:hover{color:#fff !important}.sblc{padding-top:5px}.sblc a{display:block;margin:2px 0;margin-left:13px;font-size:11px}.lsbb{background:#eee;border:solid 1px;border-color:#ccc #999 #999 #ccc;height:30px}.lsbb{display:block}.ftl,#fll a{display:inline-block;margin:0 12px}.lsb{background:url(/images/nav_logo229.png) 0 -261px repeat-x;border:none;color:#000;cursor:pointer;height:30px;margin:0;outline:0;font:15px arial,sans-serif;vertical-align:top}.lsb:active{background:#ccc}.lst:focus{outline:none}.tiah{width:458px}</style><script nonce=\"8lVtfKnvBFplbNfZSKb/rg==\"></script></head><body bgcolor=\"#fff\"><script nonce=\"8lVtfKnvBFplbNfZSKb/rg==\">(function(){var src='/images/nav_logo229.png';var iesg=false;document.body.onload = function(){window.n && window.n();if (document.images){new Image().src=src;}\n",
      "if (!iesg){document.f&&document.f.q.focus();document.gbqf&&document.gbqf.q.focus();}\n",
      "}\n",
      "})();</script><div id=\"mngb\"> <div id=gbar><nobr><b class=gb1>&#44160;&#49353;</b> <a class=gb1 href=\"http://www.google.co.kr/imghp?hl=ko&tab=wi\">&#51060;&#48120;&#51648;</a> <a class=gb1 href=\"http://maps.google.co.kr/maps?hl=ko&tab=wl\">&#51648;&#46020;</a> <a class=gb1 href=\"https://play.google.com/?hl=ko&tab=w8\">Play</a> <a class=gb1 href=\"http://www.youtube.com/?gl=KR&tab=w1\">YouTube</a> <a class=gb1 href=\"http://news.google.co.kr/nwshp?hl=ko&tab=wn\">&#45684;&#49828;</a> <a class=gb1 href=\"https://mail.google.com/mail/?tab=wm\">Gmail</a> <a class=gb1 href=\"https://drive.google.com/?tab=wo\">&#46300;&#46972;&#51060;&#48652;</a> <a class=gb1 style=\"text-decoration:none\" href=\"https://www.google.co.kr/intl/ko/about/products?tab=wh\"><u>&#45908;&#48372;&#44592;</u> &raquo;</a></nobr></div><div id=guser width=100%><nobr><span id=gbn class=gbi></span><span id=gbf class=gbf></span><span id=gbe></span><a href=\"http://www.google.co.kr/history/optout?hl=ko\" class=gb4>&#50937; &#44592;&#47197;</a> | <a  href=\"/preferences?hl=ko\" class=gb4>&#49444;&#51221;</a> | <a target=_top id=gb_70 href=\"https://accounts.google.com/ServiceLogin?hl=ko&passive=true&continue=http://www.google.com/\" class=gb4>&#47196;&#44536;&#51064;</a></nobr></div><div class=gbh style=left:0></div><div class=gbh style=right:0></div> </div><center><br clear=\"all\" id=\"lgpd\"><div id=\"lga\"><img alt=\"Google\" height=\"92\" src=\"/images/branding/googlelogo/1x/googlelogo_white_background_color_272x92dp.png\" style=\"padding:28px 0 14px\" width=\"272\" id=\"hplogo\"><br><br></div><form action=\"/search\" name=\"f\"><table cellpadding=\"0\" cellspacing=\"0\"><tr valign=\"top\"><td width=\"25%\">&nbsp;</td><td align=\"center\" nowrap=\"\"><input name=\"ie\" value=\"ISO-8859-1\" type=\"hidden\"><input value=\"ko\" name=\"hl\" type=\"hidden\"><input name=\"source\" type=\"hidden\" value=\"hp\"><input name=\"biw\" type=\"hidden\"><input name=\"bih\" type=\"hidden\"><div class=\"ds\" style=\"height:32px;margin:4px 0\"><div style=\"position:relative;zoom:1\"><input style=\"color:#000;margin:0;padding:5px 8px 0 6px;vertical-align:top;padding-right:38px\" autocomplete=\"off\" class=\"lst tiah\" value=\"\" title=\"Google &#44160;&#49353;\" maxlength=\"2048\" name=\"q\" size=\"57\"><img src=\"/textinputassistant/tia.png\" style=\"position:absolute;cursor:pointer;right:5px;top:4px;z-index:300\" data-script-url=\"/textinputassistant/11/ko_tia.js\" alt=\"\" height=\"23\" onclick=\"var s=document.createElement('script');s.src=this.getAttribute('data-script-url');(document.getElementById('xjsc')||document.body).appendChild(s);\" width=\"27\"></div></div><br style=\"line-height:0\"><span class=\"ds\"><span class=\"lsbb\"><input class=\"lsb\" value=\"Google &#44160;&#49353;\" name=\"btnG\" type=\"submit\"></span></span><span class=\"ds\"><span class=\"lsbb\"><input class=\"lsb\" value=\"I&#8217;m Feeling Lucky\" name=\"btnI\" onclick=\"if(this.form.q.value)this.checked=1; else top.location='/doodles/'\" type=\"submit\"></span></span></td><td class=\"fl sblc\" align=\"left\" nowrap=\"\" width=\"25%\"><a href=\"/advanced_search?hl=ko&amp;authuser=0\">&#44256;&#44553;&#44160;&#49353;</a><a href=\"/language_tools?hl=ko&amp;authuser=0\">&#50616;&#50612;&#46020;&#44396;</a></td></tr></table><input id=\"gbv\" name=\"gbv\" type=\"hidden\" value=\"1\"><script nonce=\"8lVtfKnvBFplbNfZSKb/rg==\">(function(){var a,b=\"1\";if(document&&document.getElementById)if(\"undefined\"!=typeof XMLHttpRequest)b=\"2\";else if(\"undefined\"!=typeof ActiveXObject){var c,d,e=[\"MSXML2.XMLHTTP.6.0\",\"MSXML2.XMLHTTP.3.0\",\"MSXML2.XMLHTTP\",\"Microsoft.XMLHTTP\"];for(c=0;d=e[c++];)try{new ActiveXObject(d),b=\"2\"}catch(h){}}a=b;if(\"2\"==a&&-1==location.search.indexOf(\"&gbv=2\")){var f=google.gbvu,g=document.getElementById(\"gbv\");g&&(g.value=a);f&&window.setTimeout(function(){location.href=f},0)};}).call(this);</script></form><div id=\"gac_scont\"></div><div style=\"font-size:83%;min-height:3.5em\"><br></div><span id=\"footer\"><div style=\"font-size:10pt\"><div style=\"margin:19px auto;text-align:center\" id=\"fll\"><a href=\"/intl/ko/ads/\">&#44305;&#44256; &#54532;&#47196;&#44536;&#47016;</a><a href=\"http://www.google.co.kr/intl/ko/services/\">&#48708;&#51592;&#45768;&#49828; &#49556;&#47336;&#49496;</a><a href=\"/intl/ko/about.html\">Google &#51221;&#48372;</a><a href=\"http://www.google.com/setprefdomain?prefdom=KR&amp;prev=http://www.google.co.kr/&amp;sig=K_BZ-TPMF6s5zK3_T9Qqi_TR5K_7Y%3D\">Google.co.kr</a></div></div><p style=\"color:#767676;font-size:8pt\">&copy; 2019 - <a href=\"/intl/ko/policies/privacy/\">&#44060;&#51064;&#51221;&#48372;&#52376;&#47532;&#48169;&#52840;</a> - <a href=\"/intl/ko/policies/terms/\">&#50557;&#44288;</a></p></span></center><script nonce=\"8lVtfKnvBFplbNfZSKb/rg==\">(function(){window.google.cdo={height:0,width:0};(function(){var a=window.innerWidth,b=window.innerHeight;if(!a||!b){var c=window.document,d=\"CSS1Compat\"==c.compatMode?c.documentElement:c.body;a=d.clientWidth;b=d.clientHeight}a&&b&&(a!=google.cdo.width||b!=google.cdo.height)&&google.log(\"\",\"\",\"/client_204?&atyp=i&biw=\"+a+\"&bih=\"+b+\"&ei=\"+google.kEI);}).call(this);})();(function(){var u='/xjs/_/js/k\\x3dxjs.hp.en.CCSKQalLeJU.O/m\\x3dsb_he,d/am\\x3dABbUBA/d\\x3d1/rs\\x3dACT90oHv5ju7PTyekiGZm3Qckwj-V2VeaA';setTimeout(function(){var a=document.createElement(\"script\");a.src=u;google.timers&&google.timers.load&&google.tick&&google.tick(\"load\",\"xjsls\");document.body.appendChild(a)},0);})();(function(){window.google.xjsu='/xjs/_/js/k\\x3dxjs.hp.en.CCSKQalLeJU.O/m\\x3dsb_he,d/am\\x3dABbUBA/d\\x3d1/rs\\x3dACT90oHv5ju7PTyekiGZm3Qckwj-V2VeaA';})();function _DumpException(e){throw e;}\n",
      "function _F_installCss(c){}\n",
      "(function(){google.spjs=false;google.snet=true;google.em=[];google.emw=false;})();google.sm=1;(function(){var pmc='{\\x22Qnk92g\\x22:{},\\x22RWGcrA\\x22:{},\\x22U5B21g\\x22:{},\\x22YFCs/g\\x22:{},\\x22ZI/YVQ\\x22:{},\\x22d\\x22:{},\\x22mVopag\\x22:{},\\x22sb_he\\x22:{\\x22agen\\x22:true,\\x22cgen\\x22:true,\\x22client\\x22:\\x22heirloom-hp\\x22,\\x22dh\\x22:true,\\x22dhqt\\x22:true,\\x22ds\\x22:\\x22\\x22,\\x22ffql\\x22:\\x22ko\\x22,\\x22fl\\x22:true,\\x22host\\x22:\\x22google.com\\x22,\\x22isbh\\x22:28,\\x22jsonp\\x22:true,\\x22msgs\\x22:{\\x22cibl\\x22:\\x22&#44160;&#49353;&#50612; &#51648;&#50864;&#44592;\\x22,\\x22dym\\x22:\\x22&#51060;&#44163;&#51012; &#52286;&#51004;&#49512;&#45208;&#50836;?\\x22,\\x22lcky\\x22:\\x22I&#8217;m Feeling Lucky\\x22,\\x22lml\\x22:\\x22&#51088;&#49464;&#55176; &#50508;&#50500;&#48372;&#44592;\\x22,\\x22oskt\\x22:\\x22&#51077;&#47141; &#46020;&#44396;\\x22,\\x22psrc\\x22:\\x22&#44160;&#49353;&#50612;&#44032; \\\\u003Ca href\\x3d\\\\\\x22/history\\\\\\x22\\\\u003E&#50937; &#44592;&#47197;\\\\u003C/a\\\\u003E&#50640;&#49436; &#49325;&#51228;&#46104;&#50632;&#49845;&#45768;&#45796;.\\x22,\\x22psrl\\x22:\\x22&#49325;&#51228;\\x22,\\x22sbit\\x22:\\x22&#51060;&#48120;&#51648;&#47196; &#44160;&#49353;\\x22,\\x22srch\\x22:\\x22Google &#44160;&#49353;\\x22},\\x22ovr\\x22:{},\\x22pq\\x22:\\x22\\x22,\\x22refpd\\x22:true,\\x22refspre\\x22:true,\\x22rfs\\x22:[],\\x22sbpl\\x22:24,\\x22sbpr\\x22:24,\\x22scd\\x22:10,\\x22sce\\x22:5,\\x22stok\\x22:\\x2293ENAP3ujPIoSUomN3_9rEVtCsg\\x22,\\x22uhde\\x22:false}}';google.pmc=JSON.parse(pmc);})();</script>        </body></html> \n",
      "\n"
     ]
    },
    {
     "name": "stdout",
     "output_type": "stream",
     "text": [
      "b'<!doctype html>\\n<html>\\n<head>\\n    <title>Example Domain</title>\\n\\n    <meta charset=\"utf-8\" />\\n    <meta http-equiv=\"Content-type\" content=\"text/html; charset=utf-8\" />\\n    <meta name=\"viewport\" content=\"width=device-width, initial-scale=1\" />\\n    <style type=\"text/css\">\\n    body {\\n        background-color: #f0f0f2;\\n        margin: 0;\\n        padding: 0;\\n        font-family: \"Open Sans\", \"Helvetica Neue\", Helvetica, Arial, sans-serif;\\n        \\n    }\\n    div {\\n        width: 600px;\\n        margin: 5em auto;\\n        padding: 50px;\\n        background-color: #fff;\\n        border-radius: 1em;\\n    }\\n    a:link, a:visited {\\n        color: #38488f;\\n        text-decoration: none;\\n    }\\n    @media (max-width: 700px) {\\n        body {\\n            background-color: #fff;\\n        }\\n        div {\\n            width: auto;\\n            margin: 0 auto;\\n            border-radius: 0;\\n            padding: 1em;\\n        }\\n    }\\n    </style>    \\n</head>\\n\\n<body>\\n<div>\\n    <h1>Example Domain</h1>\\n    <p>This domain is established to be used for illustrative examples in documents. You may use this\\n    domain in examples without prior coordination or asking for permission.</p>\\n    <p><a href=\"http://www.iana.org/domains/example\">More information...</a></p>\\n</div>\\n</body>\\n</html>\\n'\n"
     ]
    }
   ],
   "source": [
    "# 로그인을 위한 모듈 추출하기\n",
    "import requests\n",
    "\n",
    "# get 요청\n",
    "r = requests.get('http://google.com')\n",
    "print(r.text, '\\n')\n",
    "\n",
    "# post 요청\n",
    "formdata = {'key1' : 'value1', 'key2':'value2'}\n",
    "r = requests.post('http://example.com', data=formdata)\n",
    "print(r.content)\n",
    "\n",
    "# 그 이외에 put, delete, head 등의 요청 메서드\n",
    "r = requests.put('http://httpbin.org/put')\n",
    "r = requests.delete('http://httpbin.org/delete')\n",
    "r = requests.head('http://httpbin.org/get')"
   ]
  },
  {
   "cell_type": "markdown",
   "metadata": {},
   "source": [
    ">- 현재 시간에 대한 데이터를 추출하고 텍스트 형식과 바이너리 형식으로 출력\n",
    "- 시간 모듈 공부 자료\n",
    "    - https://godoftyping.wordpress.com/2015/04/19/python-%EB%82%A0%EC%A7%9C-%EC%8B%9C%EA%B0%84%EA%B4%80%EB%A0%A8-%EB%AA%A8%EB%93%88/\n",
    "    - https://python.bakyeono.net/chapter-11-3.html"
   ]
  },
  {
   "cell_type": "code",
   "execution_count": 19,
   "metadata": {},
   "outputs": [
    {
     "name": "stdout",
     "output_type": "stream",
     "text": [
      "2019/07/02 16:24:42\n",
      "b'2019/07/02 16:24:42'\n",
      "time.struct_time(tm_year=2019, tm_mon=7, tm_mday=2, tm_hour=7, tm_min=24, tm_sec=42, tm_wday=1, tm_yday=183, tm_isdst=0)\n",
      "2019-07-02 16:24:42\n",
      "<class 'datetime.datetime'>\n",
      "2015-04-15 12:23:38\n",
      "2015-04-15 12:23:38\n",
      "2015-04-16 12:23:38\n"
     ]
    }
   ],
   "source": [
    "# 현재시간 데이터 가져오기\n",
    "import requests\n",
    "import time\n",
    "import datetime\n",
    "r = requests.get('http://api.aoikujira.com/time/get.php')\n",
    "\n",
    "# 텍스트 형식으로 데이터 추출하기\n",
    "text = r.text\n",
    "print(text)\n",
    "\n",
    "# 바이너리 형식으로 데이터 추출하기\n",
    "binary = r.content\n",
    "print(binary)\n",
    "\n",
    "# time 모듈을 활용한 현재 시간 가져오기\n",
    "print(time.gmtime(time.time()))\n",
    "\n",
    "# datetime 모듈을 활용한 현재 시간 가져오기 \n",
    "print(datetime.datetime.now().strftime('%Y-%m-%d %H:%M:%S'))\n",
    "\n",
    "myDatetimeStr = '2015-04-15 12:23:38'\n",
    "myDatetime = datetime.datetime.strptime(myDatetimeStr, '%Y-%m-%d %H:%M:%S')\n",
    "print(type(myDatetime))\n",
    "print(myDatetime)\n",
    " \n",
    "yourDatetime = myDatetime.replace(day=16)\n",
    "print(myDatetime)   # 2015-04-15 12:23:38\n",
    "print(yourDatetime) # 2015-04-16 12:23:38"
   ]
  },
  {
   "cell_type": "markdown",
   "metadata": {},
   "source": [
    "## 웹 API로 데이터 추출하기\n",
    ">### 웹 API(Application Programming Interface)\n",
    "- 어떤 사이트가 가지고 있는 기능을 외부에서도 쉽게 사용할 수 있게 공개한 것\n",
    "- 원래 어떤 프로그램 기능을 외부 프로그램에서 호출해서 사용할 수 있게 만든 것\n",
    "    - 간단하게 서로 다른 프로그램이 기능을 공유하 수 있게 절차와 규약을 정의한 것\n",
    "- 웹 API는 HTTP 통신을 사용하여 클라이언트 프로그램이 API를 제공하는 서버로 HTTP 요청을 보내면 서버가 이러한 요청을 기반으로 XML 또는 JSON 형식 등으로 응답\n",
    "    - 클라이언트 $\\rightarrow$ 서버 $\\rightarrow$ 클라이언트\n",
    "    - 각각 HTML 요청"
   ]
  },
  {
   "cell_type": "markdown",
   "metadata": {},
   "source": [
    ">### OpenWeatherMap의 날씨 정보\n",
    "- http://openweathermap.org\n",
    "- 개발자 등록을 하고 API 키를 발급\n",
    "- 유료 API\n",
    "    - 현재 날씨, 5일까지의 날씨는 무료 사용\n",
    "    - 1분에 600번까지 호출 가능\n",
    "- 도시목록 데이터\n",
    "    - http://bulk.openweathermap.org/sample/city.list.json.gz"
   ]
  },
  {
   "cell_type": "code",
   "execution_count": 24,
   "metadata": {},
   "outputs": [
    {
     "ename": "KeyError",
     "evalue": "'name'",
     "output_type": "error",
     "traceback": [
      "\u001b[1;31m---------------------------------------------------------------------------\u001b[0m",
      "\u001b[1;31mKeyError\u001b[0m                                  Traceback (most recent call last)",
      "\u001b[1;32m<ipython-input-24-65adc9fc4c64>\u001b[0m in \u001b[0;36m<module>\u001b[1;34m\u001b[0m\n\u001b[0;32m     22\u001b[0m     \u001b[0mdata\u001b[0m \u001b[1;33m=\u001b[0m \u001b[0mjson\u001b[0m\u001b[1;33m.\u001b[0m\u001b[0mloads\u001b[0m\u001b[1;33m(\u001b[0m\u001b[0mr\u001b[0m\u001b[1;33m.\u001b[0m\u001b[0mtext\u001b[0m\u001b[1;33m)\u001b[0m\u001b[1;33m\u001b[0m\u001b[1;33m\u001b[0m\u001b[0m\n\u001b[0;32m     23\u001b[0m     \u001b[1;31m# 겨로가 출력하기 --- (%8)\u001b[0m\u001b[1;33m\u001b[0m\u001b[1;33m\u001b[0m\u001b[1;33m\u001b[0m\u001b[0m\n\u001b[1;32m---> 24\u001b[1;33m     \u001b[0mprint\u001b[0m\u001b[1;33m(\u001b[0m\u001b[1;34m'+ 도시 ='\u001b[0m\u001b[1;33m,\u001b[0m \u001b[0mdata\u001b[0m\u001b[1;33m[\u001b[0m\u001b[1;34m'name'\u001b[0m\u001b[1;33m]\u001b[0m\u001b[1;33m)\u001b[0m\u001b[1;33m\u001b[0m\u001b[1;33m\u001b[0m\u001b[0m\n\u001b[0m\u001b[0;32m     25\u001b[0m     \u001b[0mprint\u001b[0m\u001b[1;33m(\u001b[0m\u001b[1;34m'| 날씨 ='\u001b[0m\u001b[1;33m,\u001b[0m \u001b[0mdata\u001b[0m\u001b[1;33m[\u001b[0m\u001b[1;34m'weather'\u001b[0m\u001b[1;33m]\u001b[0m\u001b[1;33m[\u001b[0m\u001b[1;36m0\u001b[0m\u001b[1;33m]\u001b[0m\u001b[1;33m[\u001b[0m\u001b[1;34m'description'\u001b[0m\u001b[1;33m]\u001b[0m\u001b[1;33m)\u001b[0m\u001b[1;33m\u001b[0m\u001b[1;33m\u001b[0m\u001b[0m\n\u001b[0;32m     26\u001b[0m     \u001b[0mprint\u001b[0m\u001b[1;33m(\u001b[0m\u001b[1;34m'| 최저 기온 ='\u001b[0m\u001b[1;33m,\u001b[0m \u001b[0mk2c\u001b[0m\u001b[1;33m(\u001b[0m\u001b[0mdata\u001b[0m\u001b[1;33m[\u001b[0m\u001b[1;34m'main'\u001b[0m\u001b[1;33m]\u001b[0m\u001b[1;33m[\u001b[0m\u001b[1;34m'temp_min'\u001b[0m\u001b[1;33m]\u001b[0m\u001b[1;33m)\u001b[0m\u001b[1;33m)\u001b[0m\u001b[1;33m\u001b[0m\u001b[1;33m\u001b[0m\u001b[0m\n",
      "\u001b[1;31mKeyError\u001b[0m: 'name'"
     ]
    }
   ],
   "source": [
    "import requests\n",
    "import json\n",
    "# API 키를 지정.\n",
    "apikey = '0a02c9c74f92093dfa1b47666806574f'\n",
    "\n",
    "# 날씨를 확인할 도시 지정하기\n",
    "cities = ['seoul, KR', 'Tokyo, JP', 'New York, US']\n",
    "\n",
    "# API 지정\n",
    "api = 'http://api.openweathermap.org/data/2.5/weather?q={city}$APPID={key}'\n",
    "\n",
    "# 켈빈 온도를 섭씨 온도로 변환하는 함수\n",
    "k2c = lambda k : k - 273.15\n",
    "\n",
    "# 각 도시의 정보 추출하기\n",
    "for name in cities:\n",
    "    # API의 URL 구성하기\n",
    "    url = api.format(city=name, key=apikey)\n",
    "    # API에 요청을 보내 데이터 추출하기\n",
    "    r = requests.get(url)\n",
    "    # 결과르 ㄹJSON 형식으로 변환하기\n",
    "    data = json.loads(r.text)\n",
    "    # 겨로가 출력하기 --- (%8)\n",
    "    print('+ 도시 =', data['name'])\n",
    "    print('| 날씨 =', data['weather'][0]['description'])\n",
    "    print('| 최저 기온 =', k2c(data['main']['temp_min']))\n",
    "    print('| 최고 기온 =', k2c(data['main']['temp_max']))\n",
    "    print('| 습도 =', data['main']['humidity'])\n",
    "    print('| 기압 =', data['main']['pressure'])\n",
    "    print('| 풍향 =', data['wind']['deg'])\n",
    "    print('| 풍속 =', data['wind']['speed'])\n",
    "    print('')"
   ]
  },
  {
   "cell_type": "markdown",
   "metadata": {},
   "source": [
    ">- JSON(JavaScript Object Notation)\n",
    "    - '속성-값' 쌍 또는 '키-값' 쌍으로 이루어진 데이터 오브젝트를 전달하기 위해 인간이 읽을 수 있는 텍스트를 사용하는 개방형 표준 포멧\n",
    "    - python의 dict와 거의 유사\n",
    "- 국내 웹 API\n",
    "    - API Store : http://www.apistore.co.kr/main.do\n",
    "- 포탈 싸이트(네이버 개발자 센터와 다음 개발자 센터)\n",
    "    - http://developers.naver.com/main/\n",
    "    - http://developers.daum.net/\n",
    "- 쇼핑 정보(옥션)\n",
    "    - http://developer.auction.co.kr/\n",
    "- 주소전환(행정자치부, 우체국)\n",
    "    - http://www.juso.go.kr/openIndexPage.do\n",
    "    - http://biz.epost.go.kr/ui/index.jsp"
   ]
  },
  {
   "cell_type": "markdown",
   "metadata": {},
   "source": [
    "# Chapter 3. 데이터 소스의 서식과 가공"
   ]
  },
  {
   "cell_type": "markdown",
   "metadata": {},
   "source": [
    "## 웹의 다양한 데이터 형식\n",
    ">### 텍스트 데이터와 바이너리 데이터\n",
    "- 텍스트 데이터는 일반적으로 텍스트 에디터로 편집할 수 있는 데이터 포맷\n",
    "    - 자연어(한국어, 영어, 일본어 등) 및 숫자로 구성\n",
    "    - 특수하게 줄 바꿈과 탭 등 제어 문자도 포함\n",
    "    - XML, JSON, CSV 등\n",
    "- 텍스트 데이터 이외의 데이터를 바이너리 데이터라고 부름\n",
    "    - 바이너리는 문자와 상관없이 데이터를 사용할 수 있는 데이터 영역을 활용하는 데이터 형식\n",
    "    - 텍스트 에디터로 열 수 없으며, 시각적으로 확인해도 의미를 알 수 없는 문자열로 표현\n",
    "    - 텍스트 데이터보다 크기가 작음\n",
    "        - 텍스트 3byte 파일을 바이너리 1btye로 저장\n",
    "    - 동영상, 이미지 등은 대부분 바이너리 데이터"
   ]
  },
  {
   "cell_type": "markdown",
   "metadata": {},
   "source": [
    ">### XML(extensible markup language) 분석\n",
    "- XML은 텍스트 데이터를 기반으로 하는 형식\n",
    "- 범용적인 형식으로 널리 사용\n",
    "- 웹 API가 XML 형식을 활용\n",
    "- 특정 목적에 따라서 태그로 감싸 마크업하는 범용적인 방식\n",
    "- XML은 데이터를 계층 구조로 표현\n",
    "    - 어떤 데이터 아래 서브 데이터를 추가 가능\n",
    "- XML 기본 구조\n",
    "        <요소 속성=\"값\">내용</요소>\n",
    "    - <요소> 태그로 감싸 마크업\n",
    "    - 원한느 요소 이름을 사용\n",
    "    - 하나의 요소에 속성을 사용해 여러 값을 추가로 지정\n",
    "            <product id=\"S001\" price=\"45000\">SD 카드</product>\n",
    "    - 다른 요소의 그룹으로 묶어 요소들이 계층 구조를 갖도록 작성\n",
    "            <products type=\"전자제품>\n",
    "                <product id=\"S001\" price=\"45000\">SD 카드</product>\n",
    "                <product id=\"S002\" price=\"32000\">마우스</product>\n",
    "            <products>\n",
    "\n",
    ">### 파이썬으로 XML 분석하기\n",
    "- BeautifulSoup을 이용하여 XML을 분석\n",
    "- http://www.kma.go.kr/weather/forecast/mid-term-rss3.jsp?stnld=108"
   ]
  },
  {
   "cell_type": "code",
   "execution_count": 26,
   "metadata": {},
   "outputs": [
    {
     "name": "stdout",
     "output_type": "stream",
     "text": [
      "\n",
      "+ 맑음\n",
      "| - 서울\n",
      "| - 인천\n",
      "| - 수원\n",
      "| - 파주\n",
      "| - 이천\n",
      "| - 평택\n",
      "| - 춘천\n",
      "| - 원주\n",
      "| - 강릉\n",
      "| - 대전\n",
      "| - 세종\n",
      "| - 홍성\n",
      "| - 청주\n",
      "| - 충주\n",
      "| - 영동\n",
      "| - 광주\n",
      "| - 목포\n",
      "| - 여수\n",
      "| - 순천\n",
      "| - 광양\n",
      "| - 나주\n",
      "| - 전주\n",
      "| - 군산\n",
      "| - 정읍\n",
      "| - 남원\n",
      "| - 고창\n",
      "| - 무주\n",
      "| - 부산\n",
      "| - 울산\n",
      "| - 창원\n",
      "| - 진주\n",
      "| - 거창\n",
      "| - 통영\n",
      "| - 대구\n",
      "| - 안동\n",
      "| - 포항\n",
      "| - 경주\n",
      "| - 울진\n",
      "| - 울릉도\n",
      "\n",
      "+ 구름많음\n",
      "| - 제주\n",
      "| - 서귀포\n"
     ]
    }
   ],
   "source": [
    "from bs4 import BeautifulSoup\n",
    "import urllib.request as req\n",
    "import os.path\n",
    "\n",
    "url = 'http://www.kma.go.kr/weather/forecast/mid-term-rss3.jsp?stnld=108'\n",
    "savename = 'forecast.xml'\n",
    "if not os.path.exists(savename):\n",
    "    req.urlretrieve(url, savename) # 로컬 파일로 저장\n",
    "\n",
    "# BeautifulSoup으로 분석\n",
    "with open(savename, 'r', encoding='utf-8') as f:\n",
    "    xml = f.read()\n",
    "    soup = BeautifulSoup(xml, 'html.parser') # html.parser 사용시 데이터의 태그를\n",
    "                                             # 소문자로 처리\n",
    "                                             # 따라서 소문자로 태그 입력\n",
    "    # 각 지역 확인하기\n",
    "    info = {}\n",
    "    for location in soup.find_all('location'):\n",
    "        name = location.find('city').string\n",
    "        weather = location.find('wf').string\n",
    "        if not (weather in info):\n",
    "            info[weather] = []\n",
    "        info[weather].append(name)\n",
    "    \n",
    "    # 각 지역의 날씨를 구분해서 출력하기\n",
    "    for weather in info.keys():\n",
    "        print('\\n+', weather)\n",
    "        for name in info[weather]:\n",
    "            print('| -', name)"
   ]
  },
  {
   "cell_type": "markdown",
   "metadata": {},
   "source": [
    ">### JSON 분석\n",
    "- JSON도 텍스트 데이터를 기반으로 하는 가벼운 데이터 형식\n",
    "- JSON은 자바스크립트에서 사용하는 객체 표기 방법을 기반\n",
    "- JSON은 자바스크립트 전용 데이터 형식은 아니며, 다양한 소프트웨어와 프로그래밍 언어끼리 데이터를 교환할 때 사용\n",
    "- 확장자는 .json\n",
    "- 파이썬 표준 모듈에도 json이 포함\n",
    "- JSON의 구조\n",
    "    - 숫자, 문자열, 논리, 배열, 객체, null의 6가지 종류의 데이터를 사용\n",
    "    <table class=\"table table-striped table-bordered\" style=\"width:600px\">\n",
    "        <thead>\n",
    "            <tr>\n",
    "                <th style=\"width:100px\">자료형</th>\n",
    "                <th style=\"width:250px\">표현 방법</th>\n",
    "                <th style=\"width:250px\">사용 예</th>\n",
    "            <tr>\n",
    "        </thead>\n",
    "        <tbody>\n",
    "            <tr>\n",
    "                <td>숫자</td>\n",
    "                <td>숫자</td>\n",
    "                <td>30</td>\n",
    "            </tr>\n",
    "            <tr>\n",
    "                <td>문자열</td>\n",
    "                <td>큰 따옴표로 감싸 표현</td>\n",
    "                <td>\"str\"</td>\n",
    "            </tr>\n",
    "            <tr>\n",
    "                <td>논리</td>\n",
    "                <td>true 또는 false</td>\n",
    "                <td>true, false</td>\n",
    "            </tr>\n",
    "            <tr>\n",
    "                <td>배열</td>\n",
    "                <td>[n1, n2, n3, ...]</td>\n",
    "                <td>[1, 2, 10, 500]</td>\n",
    "            </tr>\n",
    "            <tr>\n",
    "                <td>객체</td>\n",
    "                <td>{\"key1\":value, \"key2\":value, ...}</td>\n",
    "                <td>{\"org\":50, \"com\":10}</td>\n",
    "            </tr>\n",
    "            <tr>\n",
    "                <td>null</td>\n",
    "                <td>null</td>\n",
    "                <td>null</td>\n",
    "            </tr>\n",
    "        </tbody>\n",
    "    </table>\n",
    "- 규칙은 단순하지만 배열 안에 객체를 넣거나 객체 안에 배열을 넣는 방법 등으로 복잡한 데이터를 표현\n",
    "- JSON의 배열은 파이썬의 리스트, 객체는 파이썬의 dictionary와 동일\n",
    "    - JSON 데이터 : https://api.github.com/repositories\n",
    "    - 깃허브(github)는 Git을 사용하는 프로젝트를 지원하는 웹 호스팅 서비스로 오픈 소스 코드 저장소로 유명\n",
    "    - 무작위로 레파지토리의 이름과 소유자를 추출해서 출력"
   ]
  },
  {
   "cell_type": "code",
   "execution_count": 27,
   "metadata": {},
   "outputs": [
    {
     "name": "stdout",
     "output_type": "stream",
     "text": [
      "grit - mojombo\n",
      "merb-core - wycats\n",
      "rubinius - rubinius\n",
      "god - mojombo\n",
      "jsawesome - vanpelt\n",
      "jspec - wycats\n",
      "exception_logger - defunkt\n",
      "ambition - defunkt\n",
      "restful-authentication - technoweenie\n",
      "attachment_fu - technoweenie\n",
      "microsis - caged\n",
      "s3 - anotherjesse\n",
      "taboo - anotherjesse\n",
      "foxtracs - anotherjesse\n",
      "fotomatic - anotherjesse\n",
      "glowstick - mojombo\n",
      "starling - defunkt\n",
      "merb-more - wycats\n",
      "thin - macournoyer\n",
      "resource_controller - jamesgolick\n",
      "markaby - jamesgolick\n",
      "enum_field - jamesgolick\n",
      "subtlety - defunkt\n",
      "zippy - defunkt\n",
      "cache_fu - defunkt\n",
      "phosphor - KirinDave\n",
      "sinatra - bmizerany\n",
      "gsa-prototype - jnewland\n",
      "duplikate - technoweenie\n",
      "lazy_record - jnewland\n",
      "gsa-feeds - jnewland\n",
      "votigoto - jnewland\n",
      "mofo - defunkt\n",
      "xhtmlize - jnewland\n",
      "ruby-git - ruby-git\n",
      "bmhsearch - ezmobius\n",
      "mofo - uggedal\n",
      "simply_versioned - mmower\n",
      "gchart - abhay\n",
      "schemr - benburkert\n",
      "calais - abhay\n",
      "chronic - mojombo\n",
      "git-wiki - sr\n",
      "signal-wiki - queso\n",
      "ruby-on-rails-tmbundle - drnic\n",
      "low-pro-for-jquery - danwrong\n",
      "merb-core - wayneeseguin\n",
      "dst - sr\n",
      "yaws - mojombo\n",
      "yaws - KirinDave\n",
      "tasks - sr\n",
      "ruby-on-rails-tmbundle - mattetti\n",
      "amazon-ec2 - grempe\n",
      "merblogger - wayneeseguin\n",
      "merbtastic - wayneeseguin\n",
      "alogr - wayneeseguin\n",
      "autozest - wayneeseguin\n",
      "rnginx - wayneeseguin\n",
      "sequel - wayneeseguin\n",
      "simply_versioned - bmizerany\n",
      "switchpipe - peterc\n",
      "arc - hornbeck\n",
      "ebay4r - up_the_irons\n",
      "merb-plugins - wycats\n",
      "ram - up_the_irons\n",
      "ambitious_activeldap - defunkt\n",
      "fitter_happier - atmos\n",
      "oebfare - brosner\n",
      "credit_card_tools - up_the_irons\n",
      "rorem - jnicklas\n",
      "braid - cristibalan\n",
      "uploadcolumn - jnicklas\n",
      "ruby-on-rails-tmbundle - simonjefford\n",
      "rack-mirror - leahneukirchen\n",
      "coset-mirror - leahneukirchen\n",
      "javascript-unittest-tmbundle - drnic\n",
      "eycap - engineyard\n",
      "gitsum - leahneukirchen\n",
      "sequel-model - wayneeseguin\n",
      "god - kevinclark\n",
      "blerb-core - hornbeck\n",
      "django-mptt - brosner\n",
      "bus-scheme - technomancy\n",
      "javascript-bits - caged\n",
      "groomlake - caged\n",
      "forgery - sevenwire\n",
      "ambitious-sphinx - technicalpickles\n",
      "soup - lazyatom\n",
      "rails - josh\n",
      "backpacking - cdcarter\n",
      "capsize - jnewland\n",
      "starling - bs\n",
      "ape - sr\n",
      "awesomeness - collectiveidea\n",
      "audited - collectiveidea\n",
      "acts_as_geocodable - collectiveidea\n",
      "acts_as_money - collectiveidea\n",
      "calendar_builder - collectiveidea\n",
      "clear_empty_attributes - collectiveidea\n",
      "css_naked_day - collectiveidea\n"
     ]
    }
   ],
   "source": [
    "import urllib.request as req\n",
    "import os.path, random\n",
    "import json\n",
    "\n",
    "# JSON 데이터 내려받기\n",
    "url = 'https://api.github.com/repositories'\n",
    "savename = 'repo.json'\n",
    "if not os.path.exists(savename):\n",
    "    req.urlretrieve(url, savename)\n",
    "\n",
    "# JSON 파일 분석하기\n",
    "with open(savename, 'r', encoding='utf-8') as f:\n",
    "#     items = json.load(f)\n",
    "    json_data = f.read()\n",
    "    items = json.loads(json_data)\n",
    "    for item in items:\n",
    "        print(item['name'] + \" - \" + item['owner']['login'])"
   ]
  },
  {
   "cell_type": "markdown",
   "metadata": {},
   "source": [
    ">- JSON 형식으로 출력"
   ]
  },
  {
   "cell_type": "code",
   "execution_count": 29,
   "metadata": {},
   "outputs": [
    {
     "name": "stdout",
     "output_type": "stream",
     "text": [
      "{\"date\": \"2019-07-02\", \"price\": {\"Apple\": 80, \"Orange\": 55, \"Banana\": 40}}\n"
     ]
    }
   ],
   "source": [
    "# JSON 데이터 내려받기\n",
    "price = {\n",
    "    'date' : '2019-07-02',\n",
    "    'price':{\n",
    "        'Apple':80,\n",
    "        'Orange':55,\n",
    "        'Banana':40\n",
    "    }}\n",
    "s = json.dumps(price)\n",
    "print(s)"
   ]
  },
  {
   "cell_type": "markdown",
   "metadata": {},
   "source": [
    ">### 엑셀 파일 분석\n",
    "- 파이썬에서 엑셀 파일을 읽고 쓸 때는 파이썬-엑셀 라이브러리를 사용\n",
    "- openpyxl 패키지 설치"
   ]
  },
  {
   "cell_type": "code",
   "execution_count": 31,
   "metadata": {},
   "outputs": [],
   "source": [
    "import openpyxl"
   ]
  }
 ],
 "metadata": {
  "kernelspec": {
   "display_name": "ds",
   "language": "python",
   "name": "ds"
  },
  "language_info": {
   "codemirror_mode": {
    "name": "ipython",
    "version": 3
   },
   "file_extension": ".py",
   "mimetype": "text/x-python",
   "name": "python",
   "nbconvert_exporter": "python",
   "pygments_lexer": "ipython3",
   "version": "3.6.8"
  }
 },
 "nbformat": 4,
 "nbformat_minor": 2
}
