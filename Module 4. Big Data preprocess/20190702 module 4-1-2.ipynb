{
 "cells": [
  {
   "cell_type": "code",
   "execution_count": 10,
   "metadata": {},
   "outputs": [],
   "source": [
    "from PIL import Image\n",
    "from bs4 import BeautifulSoup\n",
    "from urllib.request import urlopen\n",
    "import urllib.request as req\n",
    "import urllib.parse as parse\n",
    "import os"
   ]
  },
  {
   "cell_type": "markdown",
   "metadata": {},
   "source": [
    ">### 네이버 금융에서 환율 정보 추출\n",
    "- https://finance.naver.com/marketindex/"
   ]
  },
  {
   "cell_type": "code",
   "execution_count": 1,
   "metadata": {},
   "outputs": [
    {
     "name": "stdout",
     "output_type": "stream",
     "text": [
      "*** 환전 고시 환율 ***\n",
      "미국 USD=1,163.20\n",
      "\n",
      "미국 USD : 1,163.20\n",
      "일본 JPY(100엔) : 1,073.41\n",
      "유럽연합 EUR : 1,312.79\n",
      "중국 CNY : 169.58\n",
      "일본 엔/달러 : 108.3000\n",
      "달러/유로 : 1.1325\n",
      "달러/영국파운드 : 1.2653\n",
      "달러인덱스 : 96.4000\n",
      "WTI : 59.09\n",
      "휘발유 : 1496.22\n",
      "국제 금 : 1385.6\n",
      "국내 금 : 51828.08\n"
     ]
    }
   ],
   "source": [
    "# url open\n",
    "url = urlopen('https://finance.naver.com/marketindex/')\n",
    "\n",
    "# BeautifulSoup 객체 생성\n",
    "soup = BeautifulSoup(url, 'html.parser', from_encoding='cp949')\n",
    "# div tag 중 class=title의 자식 태그 중 h2 tag 중 class=h_market1의 자식 태그가 span인 h2 tag\n",
    "h2 = soup.select_one('div.title > h2.h_market1 > span').string\n",
    "print('*** {0} ***'.format(h2))\n",
    "\n",
    "# h3 tag 중 class=h_lst의 자식 태그 중 span tag에서 class==blind인 것 1개만 선택\n",
    "title = soup.select_one('h3.h_lst > span.blind').string\n",
    "# div tag 중 head_info의 자식 태그 중 span tag에서 class=value인 것 1개만 선택\n",
    "val  = soup.select_one('div.head_info > span.value').string\n",
    "print('{0}={1}\\n'.format(title, val))\n",
    "\n",
    "# h3 tag 중 class=h_lst의 자식 태그 중 span tag에서 class==blind인 것 모두 선택\n",
    "title_list = soup.select('h3.h_lst > span.blind')\n",
    "# div tag 중 head_info의 자식 태그 중 span tag에서 class=value인 것 모두 선택\n",
    "val_list = soup.select('div.head_info > span.value')\n",
    "\n",
    "# 출력 \n",
    "n = len(title_list)\n",
    "for i in range(0, n):\n",
    "    print('{0} : {1}'.format(title_list[i].string, \n",
    "                             val_list[i].string))"
   ]
  },
  {
   "cell_type": "code",
   "execution_count": 2,
   "metadata": {},
   "outputs": [
    {
     "name": "stdout",
     "output_type": "stream",
     "text": [
      "query=%EB%B9%85%EB%8D%B0%EC%9D%B4%ED%84%B0\n",
      "url : https://search.naver.com/search.naver?sm=top_hty&fbm=1&ie=utf8&query=%EB%B9%85%EB%8D%B0%EC%9D%B4%ED%84%B0\n",
      "<!DOCTYPE doctype html>\n",
      "<html lang=\"ko\">\n",
      " <head>\n",
      "  <meta charset=\"utf-8\"/>\n",
      "  <meta content=\"always\" name=\"referrer\"/>\n",
      "  <meta content=\"telephone=no,address=no,email=no\" name=\"format-detection\"/>\n",
      "  <meta content=\"width=device-width,initial-scale=1.0,maximum-scale=2.0\" name=\"viewport\"/>\n",
      "  <meta content=\"빅데이터 : 네이버 통합검색\" property=\"og:title\">\n",
      "   <meta content=\"https://ssl.pstatic.net/sstatic/search/common/og_v3.png\" property=\"og:image\"/>\n",
      "   <meta content=\"'빅데이터'의 네이버 통합검색 결과입니다.\" property=\"og:description\"/>\n",
      "   <meta content=\"'빅데이터'의 네이버 통합검색 결과입니다.\" lang=\"ko\" name=\"description\"/>\n",
      "   <title>\n",
      "    빅데이터 : 네이버 통합검색\n",
      "   </title>\n",
      "   <link href=\"https://ssl.pstatic.net/sstatic/search/favicon/favicon_140327.ico\" rel=\"shortcut icon\"/>\n",
      "   <link href=\"https://ssl.pstatic.net/sstatic/search/opensearch-description.https.xml\" rel=\"search\" title=\"Naver\" type=\"application/opensearchdescription+xml\">\n",
      "    <link href=\"https://ssl.pstatic.net/sstatic/search/pc/css/search1_190627.css\" rel=\"stylesheet\" type=\"text/css\"/>\n",
      "    <link href=\"https://ssl.pstatic.net/sstatic/search/pc/css/search2_190627.css\" rel=\"stylesheet\" type=\"text/css\"/>\n",
      "    <link href=\"https://ssl.pstatic.net/sstatic/search/pc/css/api_atcmp_190612.css\" rel=\"stylesheet\" type=\"text/css\"/>\n",
      "    \n"
     ]
    }
   ],
   "source": [
    "# naver 검색창 기본 소스 받아오기\n",
    "url = 'https://search.naver.com/search.naver?sm=top_hty&fbm=1&ie=utf8&'\n",
    "# 검색할 query dict로 저장\n",
    "query = {'query' : '빅데이터'}\n",
    "# 한글을 기계어로 번역 및 url source로 encoding\n",
    "param = parse.urlencode(query)\n",
    "print(param)\n",
    "# url merge\n",
    "url += param\n",
    "\n",
    "soup = BeautifulSoup(urlopen(url), 'html.parser')\n",
    "print('url : {0}'.format(url))\n",
    "# 내용이 많으니 첫 script 태그 앞까지만 출력\n",
    "print(soup.prettify().split('<script')[0])"
   ]
  },
  {
   "cell_type": "markdown",
   "metadata": {},
   "source": [
    "- 유니코드\n",
    " - https://soooprmx.com/archives/4912\n",
    " - https://ourcstory.tistory.com/78"
   ]
  },
  {
   "cell_type": "markdown",
   "metadata": {},
   "source": [
    ">### CSS 선택자로 지정할 수 있는 서식\n",
    "- 기본서식\n",
    "    <table class=\"table table-striped table-bordered\" style=\"width:800px;\">\n",
    "      <thead>\n",
    "        <tr>\n",
    "            <th style=\"width:200px\">서식</th>\n",
    "            <th style=\"width:600px\">설명</th>\n",
    "        </tr>\n",
    "      </thead>\n",
    "      <tbody>\n",
    "        <tr>\n",
    "          <td><code class=\"highlighter-rouge\">*</code></td>\n",
    "          <td>모든 요소 선택</td>\n",
    "        </tr>\n",
    "        <tr>\n",
    "          <td><code class=\"highlighter-rouge\">&lt;요소이름&gt;</code></td>\n",
    "          <td>요소 이름 기반으로 선택</td>\n",
    "        </tr>\n",
    "        <tr>\n",
    "          <td><code class=\"highlighter-rouge\">.&lt;클래스이름&gt;</code></td>\n",
    "          <td>클래스 이름 기반으로 선택</td>\n",
    "        </tr>\n",
    "        <tr>\n",
    "          <td><code class=\"highlighter-rouge\">#&lt;id 이름&gt;</code></td>\n",
    "          <td>id 속성 기반으로 선택</td>\n",
    "        </tr>\n",
    "      </tbody>\n",
    "    </table>\n",
    ">- 선택자들의 관계를 지정하는 서식\n",
    "    <table class=\"table table-striped table-bordered\" style=\"width:800px;\">\n",
    "      <thead>\n",
    "        <tr>\n",
    "            <th style=\"width:200px\">서식</th>\n",
    "            <th style=\"width:600px\">설명</th>\n",
    "        </tr>\n",
    "      </thead>\n",
    "      <tbody>\n",
    "        <tr>\n",
    "          <td><code class=\"highlighter-rouge\">&lt;선택자&gt;, &lt;선택자&gt;</code></td>\n",
    "          <td>쉼표로 구분된 여러 개의 선택자를 모두 선택</td>\n",
    "        </tr>\n",
    "        <tr>\n",
    "          <td><code class=\"highlighter-rouge\">&lt;선택자&gt; &lt;선택자&gt;</code></td>\n",
    "          <td>앞 선택자의 후손 중 뒤 선택자에 해당하는 것을 모두 선택</td>\n",
    "        </tr>\n",
    "        <tr>\n",
    "          <td><code class=\"highlighter-rouge\">&lt;선택자&gt; > &lt;선택자&gt;</code></td>\n",
    "          <td>앞 선택자의 자손 중 뒤 선택자에 해당하는 것을 모두 선택</td>\n",
    "        </tr>\n",
    "        <tr>\n",
    "          <td><code class=\"highlighter-rouge\">&lt;선택자&gt; + &lt;선택자&gt;</code></td>\n",
    "          <td>감은 계증에서 바로 뒤에 있는 요소를 선택</td>\n",
    "        </tr>\n",
    "        <tr>\n",
    "          <td><code class=\"highlighter-rouge\">&lt;선택자&gt; ~ &lt;선택자&gt;</code></td>\n",
    "          <td>선택자 1부터 선택자 2까지의 요소를 모두 선택</td>\n",
    "        </tr>\n",
    "      </tbody>\n",
    "    </table>\n",
    ">- 선택자 속성을 기반으로 지정하는 서식\n",
    "    <table class=\"table table-striped table-bordered\" style=\"width:800px;\">\n",
    "      <thead>\n",
    "        <tr>\n",
    "            <th style=\"width:200px\">서식</th>\n",
    "            <th style=\"width:600px\">설명</th>\n",
    "        </tr>\n",
    "      </thead>\n",
    "      <tbody>\n",
    "        <tr>\n",
    "          <td><code class=\"highlighter-rouge\">&lt;요소&gt;[&lt;속성&gt;]</code></td>\n",
    "          <td>해당 속성을 가진 요소를 선택</td>\n",
    "        </tr>\n",
    "        <tr>\n",
    "          <td><code class=\"highlighter-rouge\">&lt;요소&gt;[&lt;속성&gt;=&lt;값&gt;]</code></td>\n",
    "          <td>해당 속성의 값이 지정한 값과 같은 요소를 선택</td>\n",
    "        </tr>\n",
    "        <tr>\n",
    "          <td><code class=\"highlighter-rouge\">&lt;요소&gt;[&lt;속성&gt;~=&lt;값&gt;]</code></td>\n",
    "          <td>해당 속성의 값이 지정한 값을 단어로 포함하고 있다면 선택</td>\n",
    "        </tr>\n",
    "        <tr>\n",
    "          <td><code class=\"highlighter-rouge\">&lt;요소&gt;[&lt;속성&gt;|=&lt;값&gt;]</code></td>\n",
    "          <td>해당 속성의 값으로 시작하면 선택</td>\n",
    "        </tr>\n",
    "        <tr>\n",
    "          <td><code class=\"highlighter-rouge\">&lt;요소&gt;[&lt;속성&gt;^=&lt;값&gt;]</code></td>\n",
    "          <td>해당 속성의 값이 지정한 값으로 시작하면 선택</td>\n",
    "        </tr>\n",
    "        <tr>\n",
    "          <td><code class=\"highlighter-rouge\">&lt;요소&gt;[&lt;속성&gt;$=&lt;값&gt;]</code></td>\n",
    "          <td>해당 속성의 값이 지정한 값으로 끝나면 선택</td>\n",
    "        </tr>\n",
    "        <tr>\n",
    "          <td><code class=\"highlighter-rouge\">&lt;요소&gt;[&lt;속성&gt;*=&lt;값&gt;]</code></td>\n",
    "          <td>해당 속성의 값이 지정한 값을 포함하고 있다면 선택</td>\n",
    "        </tr>\n",
    "      </tbody>\n",
    "    </table>\n",
    ">- 위치 또는 상태를 지정하는 서식\n",
    "    <table class=\"table table-striped table-bordered\" style=\"width:800px;\">\n",
    "      <thead>\n",
    "        <tr>\n",
    "            <th style=\"width:200px\">서식</th>\n",
    "            <th style=\"width:600px\">설명</th>\n",
    "        </tr>\n",
    "      </thead>\n",
    "      <tbody>\n",
    "        <tr>\n",
    "          <td><code class=\"highlighter-rouge\">&lt;요소&gt;:root</code></td>\n",
    "          <td>루트 요소</td>\n",
    "        </tr>\n",
    "        <tr>\n",
    "          <td><code class=\"highlighter-rouge\">&lt;요소&gt;:nth-child(n)</code></td>\n",
    "          <td>n번째 자식 요소</td>\n",
    "        </tr>\n",
    "        <tr>\n",
    "          <td><code class=\"highlighter-rouge\">&lt;요소&gt;:nth-last-child(n)</code></td>\n",
    "          <td>뒤에서 n번째 자식 요소</td>\n",
    "        </tr>\n",
    "        <tr>\n",
    "          <td><code class=\"highlighter-rouge\">&lt;요소&gt;:nth-of-type(n)</code></td>\n",
    "          <td>n번째 해당 종류의 요소</td>\n",
    "        </tr>\n",
    "        <tr>\n",
    "          <td><code class=\"highlighter-rouge\">&lt;요소&gt;:first-child</code></td>\n",
    "          <td>첫 번째 자식 요소</td>\n",
    "        </tr>\n",
    "        <tr>\n",
    "          <td><code class=\"highlighter-rouge\">&lt;요소&gt;:last-child</code></td>\n",
    "          <td>마지막 자식 요소</td>\n",
    "        </tr>\n",
    "        <tr>\n",
    "          <td><code class=\"highlighter-rouge\">&lt;요소&gt;:first-of-type</code></td>\n",
    "          <td>첫 번째 해당 종류의 요소</td>\n",
    "        </tr>\n",
    "        <tr>\n",
    "          <td><code class=\"highlighter-rouge\">&lt;요소&gt;:last-of-type</code></td>\n",
    "          <td>마지막 해당 종류의 요소</td>\n",
    "        </tr>\n",
    "        <tr>\n",
    "          <td><code class=\"highlighter-rouge\">&lt;요소&gt;:only-child</code></td>\n",
    "          <td>자식으로 유일한 요소</td>\n",
    "        </tr>\n",
    "        <tr>\n",
    "          <td><code class=\"highlighter-rouge\">&lt;요소&gt;:only-of-child</code></td>\n",
    "          <td>자식으로 유일한 종류의 요소</td>\n",
    "        </tr>\n",
    "        <tr>\n",
    "          <td><code class=\"highlighter-rouge\">&lt;요소&gt;:empty</code></td>\n",
    "          <td>내용이 없는 요소</td>\n",
    "        </tr>\n",
    "        <tr>\n",
    "          <td><code class=\"highlighter-rouge\">&lt;요소&gt;:lang(code)</code></td>\n",
    "          <td>특정 언어로 code를 지정한 요소</td>\n",
    "        </tr>\n",
    "        <tr>\n",
    "          <td><code class=\"highlighter-rouge\">&lt;요소&gt;:not(s)</code></td>\n",
    "          <td>s 이외의 요소</td>\n",
    "        </tr>\n",
    "        <tr>\n",
    "          <td><code class=\"highlighter-rouge\">&lt;요소&gt;:anabled</code></td>\n",
    "          <td>활성화된 UI 요소</td>\n",
    "        </tr>\n",
    "        <tr>\n",
    "          <td><code class=\"highlighter-rouge\">&lt;요소&gt;:disabled</code></td>\n",
    "          <td>비활성화된 UI 요소</td>\n",
    "        </tr>\n",
    "        <tr>\n",
    "          <td><code class=\"highlighter-rouge\">&lt;요소&gt;:checked</code></td>\n",
    "          <td>체크되어 있는 UI 요소</td>\n",
    "        </tr>\n",
    "      </tbody>\n",
    "    </table>"
   ]
  },
  {
   "cell_type": "markdown",
   "metadata": {},
   "source": [
    "- CSS_Sel.html\n",
    "```\n",
    "    <!DOCTYPE html>\n",
    "    <html>\n",
    "    <head>\n",
    "        <meta charset=\"utf-8\" />\n",
    "        <meta name=\"keywords\" content=\"CSS, HTML\" />\n",
    "        <meta name=\"viewport\" content=\"width=device-width, initial-scale=1.0\" />\n",
    "            <title>CSS 선택자</title>\n",
    "    </head>\n",
    "    <body>\n",
    "        <h1>파이썬 프로그램</h1>\n",
    "        <ul class=\"items\">\n",
    "            <li id=\"basic\"><a href=\"/Python/Basics\">Python 기초</a></li>\n",
    "            <li id=\"gui\"><a href=\"/Python/Gui\">GUI 프로그래밍</a></li>\n",
    "            <li id=\"data\"><a href=\"/Python/Data\">Python 데이타</a></li>\n",
    "            <li id=\"djg\"><a href=\"/Python/Django\">Django 기초</a></li>\n",
    "            <li id=\"app\"><a href=\"/Python/Applications\">Python 활용</a></li>\n",
    "            <li id=\"tip\"><a href=\"/Python/Tips\">Python 팁</a></li>\n",
    "            <li id=\"cont\"><a href=\"/Home/Contact\">Contact</a></li>\n",
    "            <li id=\"search\"><a href=\"javascript:showSearch()\"><i class=\"fa fa-search\" aria-hidden=\"true\"></i>검색</a></li>\n",
    "        </ul>\n",
    "    </body>\n",
    "    </html>\n",
    "```\n",
    "<html>\n",
    "<head>\n",
    "    <meta charset=\"utf-8\" />\n",
    "    <meta name=\"keywords\" content=\"CSS, HTML\" />\n",
    "    <meta name=\"viewport\" content=\"width=device-width, initial-scale=1.0\" />\n",
    "        <title>CSS 선택자</title>\n",
    "</head>\n",
    "<body>\n",
    "\t<h1>파이썬 프로그램</h1>\n",
    "\t<ul class=\"items\">\n",
    "\t\t<li id=\"basic\"><a href=\"/Python/Basics\">Python 기초</a></li>\n",
    "\t\t<li id=\"gui\"><a href=\"/Python/Gui\">GUI 프로그래밍</a></li>\n",
    "\t\t<li id=\"data\"><a href=\"/Python/Data\">Python 데이타</a></li>\n",
    "\t\t<li id=\"djg\"><a href=\"/Python/Django\">Django 기초</a></li>\n",
    "\t\t<li id=\"app\"><a href=\"/Python/Applications\">Python 활용</a></li>\n",
    "\t\t<li id=\"tip\"><a href=\"/Python/Tips\">Python 팁</a></li>\n",
    "\t\t<li id=\"cont\"><a href=\"/Home/Contact\">Contact</a></li>\n",
    "\t\t<li id=\"search\"><a href=\"javascript:showSearch()\"><i class=\"fa fa-search\" aria-hidden=\"true\"></i>검색</a></li>\n",
    "\t</ul>\n",
    "</body>\n",
    "</html>\n"
   ]
  },
  {
   "cell_type": "code",
   "execution_count": 3,
   "metadata": {},
   "outputs": [
    {
     "name": "stdout",
     "output_type": "stream",
     "text": [
      "Python 활용\n",
      "Python 활용\n",
      "Python 활용\n",
      "Python 활용\n",
      "Python 활용\n",
      "Python 활용\n",
      "Python 활용\n",
      "Python 활용\n",
      "Python 활용\n",
      "Python 활용\n"
     ]
    }
   ],
   "source": [
    "# 라이브러리 호출\n",
    "from bs4 import BeautifulSoup\n",
    "\n",
    "# 파일 열기\n",
    "fp = open('C:/workspace/KSA\\data/modeule04/ch01/CSS_Sel.html', 'r',\n",
    "         encoding='utf-8')\n",
    "\n",
    "soup = BeautifulSoup(fp, 'html.parser') # BeautifulSoup 객체 생성\n",
    "\n",
    "# CSS 선택자로 추출하기\n",
    "sel = lambda q : print(soup.select_one(q).string)\n",
    "sel('#app') # id 속성이 app인 것을 추출\n",
    "sel('li#app') # li 태그에서 id 속성이 app인 것을 추출\n",
    "sel('ul > li#app') # ul 태그의 자식 li 태그에서 id 속성이 app인 것을 추축\n",
    "sel('.items #app') # class='items' 다음에 id='app' 선택\n",
    "sel('.items > #app') # class='items' 자식의 id='app' 선택\n",
    "sel('ul.items > li#app') # ul 태그 class='items' 자식의 li 태그 id='app' 선택\n",
    "\n",
    "sel('li[id=\\'app\\']') # id='app'인 li 태그 (속성 검색 방법)\n",
    "sel('li:nth-of-type(5)') # 5번째 li 태그 선택\n",
    "\n",
    "# select와 find_all 메서드 사용\n",
    "print(soup.select('li')[4].string)\n",
    "print(soup.find_all('li')[4].string)\n",
    "\n",
    "fp.close()"
   ]
  },
  {
   "cell_type": "code",
   "execution_count": 37,
   "metadata": {},
   "outputs": [
    {
     "name": "stdout",
     "output_type": "stream",
     "text": [
      "<li id=\"data\"><a href=\"/Python/Data\">Python 데이타</a></li>\n",
      "<li id=\"data\"><a href=\"/Python/Data\">Python 데이타</a></li>\n",
      "\n",
      " <li id=\"gui\"><a href=\"/Python/Gui\">GUI 프로그래밍</a></li>\n",
      "<li id=\"gui\"><a href=\"/Python/Gui\">GUI 프로그래밍</a></li>\n"
     ]
    }
   ],
   "source": [
    "with open('C:/workspace/KSA\\data/modeule04/ch01/CSS_Sel.html', 'r',\n",
    "         encoding='utf-8') as HTML:\n",
    "    soup = BeautifulSoup(HTML, 'html.parser')\n",
    "    print(soup.select_one('li:nth-child(3)'))\n",
    "    print(soup.select_one('li:nth-of-type(3)'))\n",
    "    \n",
    "    print('\\n', soup.select_one('li:nth-child(2)'))\n",
    "    print(soup.select_one('li:nth-of-type(2)'))"
   ]
  },
  {
   "cell_type": "markdown",
   "metadata": {},
   "source": [
    "- 수정한 CSS_Sel.html\n",
    "\n",
    "```\n",
    "<!DOCTYPE html>\n",
    "<html>\n",
    "<head>\n",
    "    <meta charset=\"utf-8\" />\n",
    "    <meta name=\"keywords\" content=\"CSS, HTML\" />\n",
    "    <meta name=\"viewport\" content=\"width=device-width, initial-scale=1.0\" />\n",
    "        <title>CSS 선택자</title>\n",
    "</head>\n",
    "<body>\n",
    "\t<h1>파이썬 프로그램</h1>\n",
    "\t<ul class=\"items\">\n",
    "\t\t<li id=\"basic\">\n",
    "      <a href=\"/Python/Basics\">Python 기초</a>\n",
    "    </li>\n",
    "    <p>파이썬 설치</p>\n",
    "\t\t<li id=\"gui\">\n",
    "      <a href=\"/Python/Gui\">GUI 프로그래밍</a>\n",
    "    </li>\n",
    "\t\t<li id=\"data\">\n",
    "      <a href=\"/Python/Data\">Python 데이타</a></li>\n",
    "\t\t<li id=\"djg\"><a href=\"/Python/Django\">Django 기초</a></li>\n",
    "\t\t<li id=\"app\">\n",
    "      <a href=\"/Python/Applications\">Python 활용</a>\n",
    "        <li>생활</li>\n",
    "        <li>잡화</li>\n",
    "        <li>머신러닝</li>\n",
    "    </li>\n",
    "\t\t<li id=\"tip\">\n",
    "      <a href=\"/Python/Tips\">Python 팁</a>\n",
    "    </li>\n",
    "\t\t<li id=\"cont\">\n",
    "      <a href=\"/Home/Contact\">Contact</a>\n",
    "    </li>\n",
    "\t\t<li id=\"search\">\n",
    "      <a href=\"javascript:showSearch()\">\n",
    "        <i class=\"fa fa-search\" aria-hidden=\"true\">\n",
    "        </i>\n",
    "        검색\n",
    "      </a>\n",
    "    </li>\n",
    "\t</ul>\n",
    "</body>\n",
    "</html>\n",
    "\n",
    "```"
   ]
  },
  {
   "cell_type": "code",
   "execution_count": 38,
   "metadata": {},
   "outputs": [
    {
     "name": "stdout",
     "output_type": "stream",
     "text": [
      "<li id=\"gui\">\n",
      "<a href=\"/Python/Gui\">GUI 프로그래밍</a>\n",
      "</li>\n",
      "<li id=\"data\">\n",
      "<a href=\"/Python/Data\">Python 데이타</a></li>\n",
      "\n",
      " <li>생활</li>\n",
      "<li id=\"gui\">\n",
      "<a href=\"/Python/Gui\">GUI 프로그래밍</a>\n",
      "</li>\n"
     ]
    }
   ],
   "source": [
    "with open('C:/workspace/KSA\\data/modeule04/ch01/CSS_Sel.html', 'r',\n",
    "         encoding='utf-8') as HTML:\n",
    "    soup = BeautifulSoup(HTML, 'html.parser')\n",
    "    print(soup.select_one('li:nth-child(3)'))\n",
    "    print(soup.select_one('li:nth-of-type(3)'))\n",
    "    \n",
    "    print('\\n', soup.select_one('li:nth-child(2)'))\n",
    "    print(soup.select_one('li:nth-of-type(2)'))"
   ]
  },
  {
   "cell_type": "markdown",
   "metadata": {},
   "source": [
    "- fr_ve.html\n",
    "```\n",
    "<!DOCTYPE html>\n",
    "<html>\n",
    "<head>\n",
    "    <meta charset=\"utf-8\" />\n",
    "    <meta name=\"keywords\" content=\"CSS, HTML\" />\n",
    "    <meta name=\"viewport\" content=\"width=device-width, initial-scale=1.0\" />\n",
    "        <title>CSS 선택자</title>\n",
    "</head>\n",
    "<body>\n",
    "\t<div id=\"main-goods\" role=\"page\">\n",
    "\t<h1>과일과 야채</h1>\n",
    "\t<ul id=\"fr-list\">\n",
    "\t\t<li class=\"red green\" data-lo=\"ko\">사과</li>\n",
    "\t\t<li class=\"purple\" data-lo=\"us\">포도</li>\n",
    "\t\t<li class=\"yellow\" data-lo=\"us\">레몬</li>\n",
    "\t\t<li class=\"yellow\" data-lo=\"ko\">오렌지</li>\n",
    "\t</ul>\n",
    "\t<ul id=\"ve-list\">\n",
    "\t\t<li class=\"white green\" data-lo=\"ko\">무</li>\n",
    "\t\t<li class=\"red green\" data-lo=\"us\">파프리카</li>\n",
    "\t\t<li class=\"black\" data-lo=\"us\">가지</li>\n",
    "\t\t<li class=\"black\" data-lo=\"us\">아보카도</li>\n",
    "\t\t<li class=\"white\" data-lo=\"ko\">연근</li>\n",
    "\t</ul>\n",
    "\t</div>\n",
    "</body>\n",
    "</html>\n",
    "```\n",
    "<html>\n",
    "<head>\n",
    "    <meta charset=\"utf-8\" />\n",
    "    <meta name=\"keywords\" content=\"CSS, HTML\" />\n",
    "    <meta name=\"viewport\" content=\"width=device-width, initial-scale=1.0\" />\n",
    "        <title>CSS 선택자</title>\n",
    "</head>\n",
    "<body>\n",
    "\t<div id=\"main-goods\" role=\"page\">\n",
    "\t<h1>과일과 야채</h1>\n",
    "\t<ul id=\"fr-list\">\n",
    "\t\t<li class=\"red green\" data-lo=\"ko\">사과</li>\n",
    "\t\t<li class=\"purple\" data-lo=\"us\">포도</li>\n",
    "\t\t<li class=\"yellow\" data-lo=\"us\">레몬</li>\n",
    "\t\t<li class=\"yellow\" data-lo=\"ko\">오렌지</li>\n",
    "\t</ul>\n",
    "\t<ul id=\"ve-list\">\n",
    "\t\t<li class=\"white green\" data-lo=\"ko\">무</li>\n",
    "\t\t<li class=\"red green\" data-lo=\"us\">파프리카</li>\n",
    "\t\t<li class=\"black\" data-lo=\"us\">가지</li>\n",
    "\t\t<li class=\"black\" data-lo=\"us\">아보카도</li>\n",
    "\t\t<li class=\"white\" data-lo=\"ko\">연근</li>\n",
    "\t</ul>\n",
    "\t</div>\n",
    "</body>\n",
    "</html>\n"
   ]
  },
  {
   "cell_type": "code",
   "execution_count": 39,
   "metadata": {},
   "outputs": [
    {
     "name": "stdout",
     "output_type": "stream",
     "text": [
      "아보카도 \n",
      "\n",
      "오렌지\n",
      "아보카도\n"
     ]
    }
   ],
   "source": [
    "# 파일 열기\n",
    "fp = open('C:/workspace/KSA\\data/modeule04/ch01/fr_ve.html', 'r',\n",
    "         encoding='utf-8')\n",
    "\n",
    "soup = BeautifulSoup(fp, 'html.parser') # BeautifulSoup 객체 생성\n",
    "\n",
    "# CSS 선택자로 추출하기\n",
    "# 두 번째 ul 태그의 4번째 요소\n",
    "print(soup.select_one('ul:nth-of-type(2) > li:nth-of-type(4)').string, '\\n') # 1, 2, 3, 4로 센다\n",
    "\n",
    "# li 태그의 4번째 요소\n",
    "frve_list = soup.select('li:nth-of-type(4)')\n",
    "for st in frve_list:\n",
    "    print(st.string)"
   ]
  },
  {
   "cell_type": "code",
   "execution_count": 41,
   "metadata": {},
   "outputs": [
    {
     "name": "stdout",
     "output_type": "stream",
     "text": [
      "<li class=\"purple\" data-lo=\"us\">포도</li>\n"
     ]
    }
   ],
   "source": [
    "print(soup.select_one('li[data-lo=\\\"us\\\"]'))"
   ]
  },
  {
   "cell_type": "code",
   "execution_count": 5,
   "metadata": {},
   "outputs": [
    {
     "name": "stdout",
     "output_type": "stream",
     "text": [
      "아보카도 \n",
      "\n",
      "파프리카 \n",
      "\n",
      "가지 \n",
      "\n",
      "가지\n",
      "가지\n"
     ]
    }
   ],
   "source": [
    "# id='ve_list'의 자식 li 태그의 data-lo 속성이 'us'\n",
    "print(soup.select('#ve-list > li[data-lo=\\'us\\']')[2].string, '\\n')\n",
    "\n",
    "# id='ve_list'의 자식 li 태그의 class='red'\n",
    "print(soup.select('#ve-list > li.red')[0].string, '\\n')\n",
    "\n",
    "# find 메서드 사용\n",
    "# data-lo가 us, class가 black인 것 찾기\n",
    "cond = {'data-lo' : 'us', 'class' : 'black'}\n",
    "print(soup.find('li', cond).string, '\\n')\n",
    "\n",
    "# find 메서드 연속 사용\n",
    "print(soup.find(id='ve-list').find('li', cond).string)\n",
    "print(soup.find(attrs={'id':'ve-list'}).find('li', cond).string)"
   ]
  },
  {
   "cell_type": "markdown",
   "metadata": {},
   "source": [
    "## 정규표현식\n",
    ">### 정규표현식 (Regular expressions)\n",
    "- 특정한 규칙을 가진 문자열의 집합을 표현하는데 사용되는 형식 언어\n",
    "- 복잡한 문자열의 검색과 치환을 위해 사용되며, python 뿐만 아니라 문자열을 처리하는 모든 곳에서 사용\n",
    ">### 메타 문자 (Meta characters)\n",
    "- 메타 문자란 문자가 가진 원래의 의미가 아닌 특별한 용도로 사용되는 문자\n",
    "- 정규표현식에서 사용되는 메타 문자\n",
    "    - . ^ $ * + ? \\ | ( ) { } [ ]\n",
    "    <table class=\"table table-striped table-bordered\" style=\"width:800px;\">\n",
    "      <thead>\n",
    "        <tr>\n",
    "          <th style=\"width:200px;\">메타문자</th>\n",
    "          <th style=\"width:600px;\">설명</th>\n",
    "        </tr>\n",
    "      </thead>\n",
    "      <tbody>\n",
    "        <tr>\n",
    "          <td><code class=\"highlighter-rouge\">[]</code></td>\n",
    "          <td>정규표현식에서 대괄호 []는 대괄호 안에 포함된 문자들 중 하나와 매치</td>\n",
    "        </tr>\n",
    "        <tr>\n",
    "          <td><code class=\"highlighter-rouge\">[-]</code></td>\n",
    "          <td>[]안의 두 문자에 -를 사용하면 두 문자 사이의 범위</td>\n",
    "        </tr>\n",
    "        <tr>\n",
    "          <td><code class=\"highlighter-rouge\">[^]</code></td>\n",
    "          <td>[]안에서 ^는 부정</td>\n",
    "        </tr>\n",
    "        <tr>\n",
    "          <td><code class=\"highlighter-rouge\">.</code></td>\n",
    "          <td>.은 줄바꿈 문자인 \\n을 제외한 모든 문자 1개와 매치</td>\n",
    "        </tr>\n",
    "        <tr>\n",
    "          <td><code class=\"highlighter-rouge\">[.]</code></td>\n",
    "          <td>[] 사이에 .을 사용할 경우 문자 원래의 의미인 마침표</td>\n",
    "        </tr>\n",
    "        <tr>\n",
    "          <td><code class=\"highlighter-rouge\">*</code></td>\n",
    "          <td>반복, * 앞에 오는 문자가 0개 이상 반복되어야 매치</td>\n",
    "        </tr>\n",
    "        <tr>\n",
    "          <td><code class=\"highlighter-rouge\">+</code></td>\n",
    "          <td>+ 앞에 있는 문자가 최소 한 번 이상 반복되어야 매치</td>\n",
    "        </tr>\n",
    "        <tr>\n",
    "          <td><code class=\"highlighter-rouge\">?</code></td>\n",
    "          <td>? 앞에 있는 문자가 없거나 하나 있을 때 매치</td>\n",
    "        </tr>\n",
    "        <tr>\n",
    "          <td><code class=\"highlighter-rouge\">{m, n}</code></td>\n",
    "          <td>{m, n} 앞에 있는 문자가 m번에서 n번까지 반복될 때 매치된다.</td>\n",
    "        </tr>\n",
    "        <tr>\n",
    "          <td><code class=\"highlighter-rouge\">표현식1|표현식2|...</code></td>\n",
    "          <td>or의 의미가 적용되어 정규표현식들 중 어느 하나와 매치</td>\n",
    "        </tr>\n",
    "        <tr>\n",
    "          <td ><code class=\"highlighter-rouge\">^</code></td>\n",
    "          <td style=\"line-height:170%\">^의 뒤에 있는 문자로 시작되면 매치<br>여러 줄의 문자열일 경우 첫 줄만 적용<br>(단, re.MULTILINE 옵션이 적용되면 각 줄의 마지막 문자를 검사하여 매치)</td>\n",
    "        </tr>\n",
    "      </tbody>\n",
    "    </table>\n",
    "    <table class=\"table table-striped table-bordered\" style=\"width:800px;\">\n",
    "      <thead>\n",
    "        <tr>\n",
    "          <th style=\"width:200px;\">문자 클래스</th>\n",
    "          <th style=\"width:600px;\">설명</th>\n",
    "        </tr>\n",
    "      </thead>\n",
    "      <tbody>\n",
    "        <tr>\n",
    "          <td><code class=\"highlighter-rouge\">\\d</code></td>\n",
    "          <td>숫자 [0-9]와 같다.</td>\n",
    "        </tr>\n",
    "        <tr>\n",
    "          <td><code class=\"highlighter-rouge\">\\D</code></td>\n",
    "          <td>비숫자 [^0-9]와 같다.</td>\n",
    "        </tr>\n",
    "        <tr>\n",
    "          <td><code class=\"highlighter-rouge\">\\w</code></td>\n",
    "          <td>숫자 + 문자 [a-zA-Z0-9]와 같다.</td>\n",
    "        </tr>\n",
    "        <tr>\n",
    "          <td><code class=\"highlighter-rouge\">\\W</code></td>\n",
    "          <td>숫자 + 문자가 아닌 것 [^a-zA-Z0-9]와 같다.</td>\n",
    "        </tr>\n",
    "        <tr>\n",
    "          <td><code class=\"highlighter-rouge\">\\s</code></td>\n",
    "          <td>공백 [\\t\\n\\r\\f\\v]와 같다.</td>\n",
    "        </tr>\n",
    "        <tr>\n",
    "          <td><code class=\"highlighter-rouge\">\\S</code></td>\n",
    "          <td>비공백 [^\\t\\n\\r\\f\\v]와 같다.</td>\n",
    "        </tr>\n",
    "        <tr>\n",
    "          <td><code class=\"highlighter-rouge\">\\b</code></td>\n",
    "          <td>단어 경계 (\\w와 \\W의 경계)</td>\n",
    "        </tr>\n",
    "        <tr>\n",
    "          <td><code class=\"highlighter-rouge\">\\B</code></td>\n",
    "          <td>비단어 경계</td>\n",
    "        </tr>\n",
    "      </tbody>\n",
    "    </table>\n",
    "    <table class=\"table table-striped table-bordered\" style=\"width:800px;\">\n",
    "      <thead>\n",
    "        <tr>\n",
    "          <th style=\"width:200px;\">사용예제</th>\n",
    "          <th style=\"width:600px;\">결과</th>\n",
    "        </tr>\n",
    "      </thead>\n",
    "      <tbody>\n",
    "        <tr>\n",
    "          <td><code class=\"highlighter-rouge\">[abc]</code></td>\n",
    "          <td style=\"line-height:170%\">'a' # a와 매치<br>'boy' # b와 매치<br>'dye' # a, b, c 중 어느 문자와도 매치되지 않음</td>\n",
    "        </tr>\n",
    "        <tr>\n",
    "          <td  style=\"line-height:170%\"><code class=\"highlighter-rouge\">[a-c]<br>[0-5]<br>[a-zA-Z]<br>[0-9]</code></td>\n",
    "          <td style=\"line-height:170%\">[abc]와 같음<br>[012345]와 같음<br>모든 알파벳(대소문자)<br>숫자</td>\n",
    "        </tr>\n",
    "        <tr>\n",
    "          <td  style=\"line-height:170%\"><code class=\"highlighter-rouge\">[^0-9]<br>[^abc]</code></td>\n",
    "          <td style=\"line-height:170%\">숫자를 제외한 문자만 매치<br>a, b, c를 제외한 모든 문자와 매치</td>\n",
    "        </tr>\n",
    "        <tr>\n",
    "          <td><code class=\"highlighter-rouge\">a.b</code></td>\n",
    "          <td style=\"line-height:170%\">aab # a와 b 사이의 a는 모든 문자에 포함되므로 매치<br>a0b # a와 b 사이의 0은 모든 문자에 포함되므로 매치<br>abc # a와 b 사이에 문자가 없기 때문에 매치되지 않음</td>\n",
    "        </tr>\n",
    "        <tr>\n",
    "          <td><code class=\"highlighter-rouge\">a[.]b</code></td>\n",
    "          <td style=\"line-height:170%\">a.b # a와 b 사이에 마침표가 있으므로 매치<br>a0b # a와 b 사이에 마침표가 없으므로 매치 안됨</td>\n",
    "        </tr>\n",
    "        <tr>\n",
    "          <td><code class=\"highlighter-rouge\">|o*|</code></td>\n",
    "          <td style=\"line-height:170%\">|| # 매치<br>|o| # 매치<br>|ooooo| # 매치<br>|oooooooooooo| # 매치<br>|b| # 매치 안됨<br>|ooooooooboooobooo| # 매치 안됨</td>\n",
    "        </tr>\n",
    "        <tr>\n",
    "          <td><code class=\"highlighter-rouge\">|o+|</code></td>\n",
    "          <td style=\"line-height:170%\">|| # 매치 안됨<br>|o| # 매치<br>|oooooo| # 매치</td>\n",
    "        </tr>\n",
    "        <tr>\n",
    "          <td><code class=\"highlighter-rouge\">|o{3, 5}|</code></td>\n",
    "          <td style=\"line-height:170%\">|o| # 매치 안됨<br>|ooo| # 매치<br>|ooooo| # 매치<br>|ooooooooo| # 매치 안됨</td>\n",
    "        </tr>\n",
    "        <tr>\n",
    "          <td><code class=\"highlighter-rouge\">a|b|c</code></td>\n",
    "          <td style=\"line-height:170%\">a # 매치<br>b # 매치<br>c # 매치<br>a b # 매치<br>a b c # 매치<br>d # 매치 안됨</td>\n",
    "        </tr>\n",
    "        <tr>\n",
    "          <td><code class=\"highlighter-rouge\">^a</code></td>\n",
    "          <td style=\"line-height:170%\">a # 매치<br>aaa # 매치</td>\n",
    "        </tr>\n",
    "        <tr>\n",
    "          <td><code class=\"highlighter-rouge\">a&#36;</code></td>\n",
    "          <td style=\"line-height:170%\">aa # 매치<br>baa # 매치</td>\n",
    "        </tr>\n",
    "      </tbody>\n",
    "    </table>"
   ]
  },
  {
   "cell_type": "markdown",
   "metadata": {},
   "source": [
    "## Python 정규표현식 모듈, re\n",
    ">### Python에서는 re 모듈을 통해 정규 표현식을 사용\n",
    "    import re\n",
    "- `re.compile`: 정규표현식 컴파일\n",
    "- 정규표현식을 컴파일하여 변수에 저장한 후 사용\n",
    "        variable_name = re.compile('regular expression')\n",
    "- `re`의 모듈 & `re.compile` 메서드\n",
    "    - `match`: 시작부터 일치하는 패턴 찾기\n",
    "        - 문자열의 처음 시작부터 검색하여 일치하지 않는 부분이 나올 때까지 찾기\n",
    "    - `search` : 전체 문자열에서 첫 번째 매치 찾기\n",
    "        - 문자열 전체에서 검색하여 처음으로 매치되는 문자열을 찾기\n",
    "    - `findall` : 모든 매치를 찾아 리스트로 반환\n",
    "        - 문자열 내에서 일치하는 모든 패턴을 찾아 리스트로 반환\n",
    "    - `finditer` : 모든 매치를 찾아 반복가능 객체로 반환"
   ]
  },
  {
   "cell_type": "markdown",
   "metadata": {},
   "source": [
    "`re.compile.match`"
   ]
  },
  {
   "cell_type": "code",
   "execution_count": 42,
   "metadata": {},
   "outputs": [
    {
     "data": {
      "text/plain": [
       "<_sre.SRE_Match object; span=(0, 5), match='aaaaa'>"
      ]
     },
     "execution_count": 42,
     "metadata": {},
     "output_type": "execute_result"
    }
   ],
   "source": [
    "p = re.compile('[a-z]+')\n",
    "p.match('aaaaa')"
   ]
  },
  {
   "cell_type": "code",
   "execution_count": 43,
   "metadata": {},
   "outputs": [
    {
     "data": {
      "text/plain": [
       "<_sre.SRE_Match object; span=(0, 5), match='bbbbb'>"
      ]
     },
     "execution_count": 43,
     "metadata": {},
     "output_type": "execute_result"
    }
   ],
   "source": [
    "p.match('bbbbb')"
   ]
  },
  {
   "cell_type": "code",
   "execution_count": 44,
   "metadata": {},
   "outputs": [],
   "source": [
    "p.match('1aaaa')"
   ]
  },
  {
   "cell_type": "code",
   "execution_count": 45,
   "metadata": {},
   "outputs": [
    {
     "data": {
      "text/plain": [
       "<_sre.SRE_Match object; span=(0, 3), match='aaa'>"
      ]
     },
     "execution_count": 45,
     "metadata": {},
     "output_type": "execute_result"
    }
   ],
   "source": [
    "p.match('aaa1aaa')"
   ]
  },
  {
   "cell_type": "markdown",
   "metadata": {},
   "source": [
    "`re.compile.search`"
   ]
  },
  {
   "cell_type": "code",
   "execution_count": 46,
   "metadata": {},
   "outputs": [
    {
     "data": {
      "text/plain": [
       "<_sre.SRE_Match object; span=(0, 5), match='aaaaa'>"
      ]
     },
     "execution_count": 46,
     "metadata": {},
     "output_type": "execute_result"
    }
   ],
   "source": [
    "p = re.compile('[a-z]+')\n",
    "p.search('aaaaa')"
   ]
  },
  {
   "cell_type": "code",
   "execution_count": 47,
   "metadata": {},
   "outputs": [
    {
     "data": {
      "text/plain": [
       "<_sre.SRE_Match object; span=(2, 6), match='aaaa'>"
      ]
     },
     "execution_count": 47,
     "metadata": {},
     "output_type": "execute_result"
    }
   ],
   "source": [
    "p.search('11aaaa')"
   ]
  },
  {
   "cell_type": "code",
   "execution_count": 48,
   "metadata": {},
   "outputs": [
    {
     "data": {
      "text/plain": [
       "<_sre.SRE_Match object; span=(0, 3), match='aaa'>"
      ]
     },
     "execution_count": 48,
     "metadata": {},
     "output_type": "execute_result"
    }
   ],
   "source": [
    "p.search('aaa11aaa')"
   ]
  },
  {
   "cell_type": "markdown",
   "metadata": {},
   "source": [
    "`re.compile.findall`"
   ]
  },
  {
   "cell_type": "code",
   "execution_count": 49,
   "metadata": {},
   "outputs": [
    {
     "data": {
      "text/plain": [
       "['aaa']"
      ]
     },
     "execution_count": 49,
     "metadata": {},
     "output_type": "execute_result"
    }
   ],
   "source": [
    "p = re.compile('[a-z]+')\n",
    "p.findall('aaa')"
   ]
  },
  {
   "cell_type": "code",
   "execution_count": 50,
   "metadata": {},
   "outputs": [
    {
     "data": {
      "text/plain": [
       "['aaa']"
      ]
     },
     "execution_count": 50,
     "metadata": {},
     "output_type": "execute_result"
    }
   ],
   "source": [
    "p.findall('11aaa')"
   ]
  },
  {
   "cell_type": "code",
   "execution_count": 51,
   "metadata": {},
   "outputs": [
    {
     "data": {
      "text/plain": [
       "['a', 'a', 'a', 'a', 'a', 'a']"
      ]
     },
     "execution_count": 51,
     "metadata": {},
     "output_type": "execute_result"
    }
   ],
   "source": [
    "p.findall('1a1a1a1a1a1a')"
   ]
  },
  {
   "cell_type": "code",
   "execution_count": 52,
   "metadata": {},
   "outputs": [
    {
     "data": {
      "text/plain": [
       "['aa', 'aaa', 'a', 'aa', 'aaa']"
      ]
     },
     "execution_count": 52,
     "metadata": {},
     "output_type": "execute_result"
    }
   ],
   "source": [
    "p.findall('1aa1aaa1a1aa1aaa')"
   ]
  },
  {
   "cell_type": "code",
   "execution_count": 56,
   "metadata": {},
   "outputs": [
    {
     "data": {
      "text/plain": [
       "['a', 'a', 'aa']"
      ]
     },
     "execution_count": 56,
     "metadata": {},
     "output_type": "execute_result"
    }
   ],
   "source": [
    "re.findall(\"[a-z]+\", \"1a1a1aa1\")"
   ]
  },
  {
   "cell_type": "markdown",
   "metadata": {},
   "source": [
    "`re.compile.finditer`"
   ]
  },
  {
   "cell_type": "code",
   "execution_count": 54,
   "metadata": {},
   "outputs": [
    {
     "data": {
      "text/plain": [
       "<callable_iterator at 0x251dc8b6748>"
      ]
     },
     "execution_count": 54,
     "metadata": {},
     "output_type": "execute_result"
    }
   ],
   "source": [
    "p = re.compile('[a-z]+')\n",
    "p_iter = p.finditer('a1bb1ccc')\n",
    "p_iter"
   ]
  },
  {
   "cell_type": "code",
   "execution_count": 55,
   "metadata": {},
   "outputs": [
    {
     "name": "stdout",
     "output_type": "stream",
     "text": [
      "<_sre.SRE_Match object; span=(0, 1), match='a'>\n",
      "<_sre.SRE_Match object; span=(2, 4), match='bb'>\n",
      "<_sre.SRE_Match object; span=(5, 8), match='ccc'>\n"
     ]
    }
   ],
   "source": [
    "for i in p_iter:\n",
    "    print(i)"
   ]
  },
  {
   "cell_type": "code",
   "execution_count": 68,
   "metadata": {},
   "outputs": [
    {
     "name": "stdout",
     "output_type": "stream",
     "text": [
      "<_sre.SRE_Match object; span=(1, 2), match='a'>\n",
      "<_sre.SRE_Match object; span=(3, 27), match='abbbbbbbbbcbbbbbbbbbbvbb'>\n",
      "<_sre.SRE_Match object; span=(28, 29), match='a'>\n",
      "<_sre.SRE_Match object; span=(30, 33), match='kim'>\n"
     ]
    }
   ],
   "source": [
    "result = re.finditer('[a-z]+', '1a1abbbbbbbbbcbbbbbbbbbbvbb1a1kim')\n",
    "for x in result:\n",
    "    print(x)"
   ]
  },
  {
   "cell_type": "markdown",
   "metadata": {},
   "source": [
    ">- `match` 객체의 메서드\n",
    "    - 패턴 객체의 메서드를 통해 리턴된 매치 객체 정보\n",
    "            <_sre.SRE_Match object; span=(매치 시작지점 인덱스, 매치 끝지점 인덱스), match='매치된 문자열'>\n",
    "    - 매치 객체는 내부 정보에 접근할 수 있는 네 가지 메서드를 제공\n",
    "    <table class=\"table table-striped table-bordered\" style=\"width:800px;\">\n",
    "        <thead>\n",
    "            <tr>\n",
    "                <th style=\"width:200px;\">메서드</th>\n",
    "                <th style=\"width:600px;\">기능</th>\n",
    "            </tr>\n",
    "        </thead>\n",
    "        <tbody>\n",
    "            <tr>\n",
    "                <td><code class=\"highlighter-rouge\">group()</code></td>\n",
    "                <td>매치된 문자열 출력</td>\n",
    "            </tr>\n",
    "            <tr>\n",
    "                <td><code class=\"highlighter-rouge\">start()</code></td>\n",
    "                <td>매치 시작지점 인덱스 출력</td>\n",
    "            </tr>\n",
    "            <tr>\n",
    "                <td><code class=\"highlighter-rouge\">end()</code></td>\n",
    "                <td>매치 끝지점 인덱스 출력</td>\n",
    "            </tr>\n",
    "            <tr>\n",
    "                <td><code class=\"highlighter-rouge\">span()</code></td>\n",
    "                <td>(start(), end())를 튜플로 출력</td>\n",
    "            </tr>\n",
    "        </tbody>\n",
    "    </table>"
   ]
  },
  {
   "cell_type": "code",
   "execution_count": 82,
   "metadata": {},
   "outputs": [
    {
     "name": "stdout",
     "output_type": "stream",
     "text": [
      "group: afsdklfas21412, start: 0, end: 14, span: (0, 14)\n",
      "group: gmail, start: 15, end: 20, span: (15, 20)\n",
      "group: com, start: 21, end: 24, span: (21, 24)\n"
     ]
    }
   ],
   "source": [
    "p = re.finditer('[a-zA-Z0-9]+', 'afsdklfas21412@gmail.com')\n",
    "for x in p:\n",
    "    print('group: {}, start: {}, end: {}, span: {}'.format(x.group(), x.start(), x.end(), x.span()))"
   ]
  },
  {
   "cell_type": "markdown",
   "metadata": {},
   "source": [
    ">- 컴파일 옵션\n",
    "    - 정규표현식을 컴파일할 때 옵션을 지정\n",
    "            variable_name = re.compile('regular expression', re.'method')\n",
    "    - `DOTALL`, `S`\n",
    "        - .은 줄바꿈 문자 \\n을 제외한 모든 것과 매치\n",
    "        - 컴파일할 때 `re.DOTALL` 또는 `re.S` 옵션을 넣어주면 \\n가지 매치\n",
    "    - `IGNORECASE`, `I`\n",
    "        - `re.IGNORECASE` 또는 `re.I` 옵션을 넣어주면 대소문자를 구별하지 않고 매치\n",
    "    - `MULTILINE`, `M`\n",
    "        - `re.MULTILINE` 또는 `re.M` 옵션을 넣어주면 여러 줄의 문자열에 ^와 \\$를 적용\n",
    "    - `VERBOSE`, `X`\n",
    "        - `re.VERBOSE` 또는 `re.X` 옵션을 주면 좀 더 가독성 좋게 정규표현식을 작성\n",
    "        - `re.VERBOSE` 옵션을 추가하면 정규표현식에 컴파일시 자동으로 제거되는 공백과 코멘트를 추가할 수 있다. (단, []안에 입력된 공백문자 제외)"
   ]
  },
  {
   "cell_type": "markdown",
   "metadata": {},
   "source": [
    "`DOTALL` and `S`"
   ]
  },
  {
   "cell_type": "code",
   "execution_count": 85,
   "metadata": {},
   "outputs": [
    {
     "name": "stdout",
     "output_type": "stream",
     "text": [
      "['1', 'a', 'b', 'c']\n",
      "['1', 'a', '\\n', 'b', 'c']\n"
     ]
    }
   ],
   "source": [
    "p = re.compile('.')\n",
    "result = p.findall('1a\\nbc')\n",
    "print(result)\n",
    "\n",
    "p = re.compile('.', re.DOTALL)\n",
    "result = p.findall('1a\\nbc')\n",
    "print(result)"
   ]
  },
  {
   "cell_type": "markdown",
   "metadata": {},
   "source": [
    "`IGNORECASE` and `I`"
   ]
  },
  {
   "cell_type": "code",
   "execution_count": 88,
   "metadata": {},
   "outputs": [
    {
     "name": "stdout",
     "output_type": "stream",
     "text": [
      "['a', 'b']\n",
      "['kim', 'kIm', 'kiM', 'KIm']\n",
      "['a', 'A', 'b', 'B']\n"
     ]
    }
   ],
   "source": [
    "p = re.compile('[a-z]') # 소문자만 매치\n",
    "result = p.findall('aAbB')\n",
    "print(result)\n",
    "\n",
    "p = re.compile('[kK][iI][mM]') # 소문자만 매치\n",
    "result = p.findall('kimkImkiMKIm')\n",
    "print(result)\n",
    "\n",
    "p = re.compile('[a-z]', re.IGNORECASE)\n",
    "result = p.findall('aAbB')\n",
    "print(result)"
   ]
  },
  {
   "cell_type": "markdown",
   "metadata": {},
   "source": [
    "`MULTILINE`, `M`"
   ]
  },
  {
   "cell_type": "code",
   "execution_count": 99,
   "metadata": {},
   "outputs": [
    {
     "name": "stdout",
     "output_type": "stream",
     "text": [
      "pattern : Student\t ['Student', 'Student']\n",
      "pattern : ^Student\t ['Student']\n",
      "pattern : ^Student.\t ['Student-']\n",
      "pattern : ^Student.*\t ['Student-sn-Student201254']\n"
     ]
    }
   ],
   "source": [
    "print('pattern : Student\\t', re.findall('Student', 'Student-sn-Student201254'))\n",
    "print('pattern : ^Student\\t', re.findall('^Student', 'Student-sn-Student201254'))\n",
    "print('pattern : ^Student.\\t', re.findall('^Student.', 'Student-sn-Student201254'))\n",
    "print('pattern : ^Student.*\\t', re.findall('^Student.*', 'Student-sn-Student201254'))"
   ]
  },
  {
   "cell_type": "code",
   "execution_count": 103,
   "metadata": {},
   "outputs": [
    {
     "name": "stdout",
     "output_type": "stream",
     "text": [
      "pattern : ^Student.*\t ['Student-sn-Student201254', 'Student-sn-Student255684', 'Student-sn-Student201758']\n"
     ]
    }
   ],
   "source": [
    "print('pattern : ^Student.*\\t', re.findall('^Student.*', \n",
    "       'Student-sn-Student201254\\nStudent-sn-Student255684\\nStudent-sn-Student201758',\n",
    "                                          flags=re.MULTILINE))"
   ]
  },
  {
   "cell_type": "code",
   "execution_count": 92,
   "metadata": {},
   "outputs": [
    {
     "name": "stdout",
     "output_type": "stream",
     "text": [
      "['student-1-name:James'] \n",
      "\n",
      "['student-1-name:James', 'student-2-name:John', 'student-3-name:Jordan', 'student-1-name:Mike', 'student-5-name:John'] \n",
      "\n",
      "['student-5-name:John'] \n",
      "\n",
      "['student-2-name:John', 'student-5-name:John'] \n",
      "\n"
     ]
    }
   ],
   "source": [
    "text = \"\"\"student-1-name:James\n",
    "student-2-name:John\n",
    "student-3-name:Jordan\n",
    "student-1-name:Mike\n",
    "student-5-name:John\n",
    "\"\"\"\n",
    "p = re.compile('^student.*') # student로 시작하는 문자열 매치\n",
    "result = p.findall(text)\n",
    "print(result, '\\n') # 첫 줄만 매치\n",
    "\n",
    "p = re.compile('^student.*', re.MULTILINE)\n",
    "result = p.findall(text)\n",
    "print(result, '\\n') # 첫 줄만 매치\n",
    "\n",
    "p = re.compile('.*John$') # John으로 끝나는 문자열 매치\n",
    "result = p.findall(text)\n",
    "print(result, '\\n') # 가장 마지막 줄만 매치\n",
    "\n",
    "p = re.compile('.*John$', re.MULTILINE) # John으로 끝나는 문자열 매치\n",
    "result = p.findall(text)\n",
    "print(result, '\\n') # 가장 마지막 줄만 매치"
   ]
  },
  {
   "cell_type": "markdown",
   "metadata": {},
   "source": [
    "`VERBOSE`, `X`"
   ]
  },
  {
   "cell_type": "code",
   "execution_count": 105,
   "metadata": {},
   "outputs": [],
   "source": [
    "# 아래 두 compiler는 같은 역할을 수행\n",
    "# '#'은 당연히 빼고 사용\n",
    "p = re.compile(r'&[#](0[0-7]+|[0-9]+|x[0-9a-fA-F]+);')\n",
    "p = re.compile(r\"\"\"\n",
    "&[#]               # Start of a numeric entity reference\n",
    "(\n",
    "    0[0-7]+        # Octal form\n",
    "  | [0-9]+         # Decimal form\n",
    "  | x[0-9a-fA-F]+  # Hexadecimal form\n",
    ")\n",
    ";                  # Trailing semicolon\n",
    "\"\"\", re.VERBOSE)"
   ]
  },
  {
   "cell_type": "markdown",
   "metadata": {},
   "source": [
    ">### Python 정규표현식의 \\문제\n",
    "- Python에서 정규표현식에 \\을 사용할 대 아래와 같은 문제가 발생\n",
    "    - 확인하길\n",
    "- \\s는 공백문자를 뜻하는 메타문자로 인식되기 때문에 \\selection이라는 문자열을 찾기 위해 이스케이프 코드 \\\\를 사용한 \\\\selection을 정규표현식에 입력\n",
    "    - 그러나 Python 정규식 엔진에서 literal 규칙에 의해 \\\\가 \\로 해석되어 전달\n",
    "    - 따라서 \\\\를 문자 그대로 넘겨주어야 하는데 이를 위해 \\\\\\\\로 입력"
   ]
  },
  {
   "cell_type": "code",
   "execution_count": 108,
   "metadata": {},
   "outputs": [
    {
     "name": "stdout",
     "output_type": "stream",
     "text": [
      "None\n"
     ]
    }
   ],
   "source": [
    "text = '\\selection'\n",
    "result = re.match('\\\\selection', text)\n",
    "print(result)"
   ]
  },
  {
   "cell_type": "code",
   "execution_count": 109,
   "metadata": {},
   "outputs": [
    {
     "name": "stdout",
     "output_type": "stream",
     "text": [
      "<_sre.SRE_Match object; span=(0, 10), match='\\\\selection'>\n"
     ]
    }
   ],
   "source": [
    "result = re.match('\\\\\\\\selection', text)\n",
    "print(result)"
   ]
  },
  {
   "cell_type": "markdown",
   "metadata": {},
   "source": [
    ">- 위의 가독성은 심각하게 저하되있음. 이를 방지하기 위해 다음과 같이 작성\n",
    "    - 정규표현식 앞의 r은 raw string"
   ]
  },
  {
   "cell_type": "code",
   "execution_count": 110,
   "metadata": {},
   "outputs": [
    {
     "name": "stdout",
     "output_type": "stream",
     "text": [
      "<_sre.SRE_Match object; span=(0, 10), match='\\\\selection'>\n"
     ]
    }
   ],
   "source": [
    "text = '\\selection'\n",
    "result = re.match(r'\\\\selection', text)\n",
    "print(result)"
   ]
  },
  {
   "cell_type": "markdown",
   "metadata": {},
   "source": [
    ">- example\n",
    "    - 주민등록 번호 처리"
   ]
  },
  {
   "cell_type": "code",
   "execution_count": 112,
   "metadata": {},
   "outputs": [
    {
     "data": {
      "text/plain": [
       "'800905-*******'"
      ]
     },
     "execution_count": 112,
     "metadata": {},
     "output_type": "execute_result"
    }
   ],
   "source": [
    "data = \"\"\"\n",
    "park 800905-1049118\n",
    "kim 700905-1059119\n",
    "\"\"\"\n",
    "tmp = data.split()\n",
    "tmp[1].split('-')[0] + '-*******'"
   ]
  },
  {
   "cell_type": "markdown",
   "metadata": {},
   "source": [
    "    re.sub(패턴, 변경 문자열, 찾을 문자열"
   ]
  },
  {
   "cell_type": "code",
   "execution_count": 113,
   "metadata": {},
   "outputs": [
    {
     "name": "stdout",
     "output_type": "stream",
     "text": [
      "\n",
      "park 800905-*******\n",
      "kim 700905-*******\n",
      "\n"
     ]
    }
   ],
   "source": [
    "p = re.compile(\"(\\d{6})[-](\\d{7})\") # 그룹핑\n",
    "print(p.sub('\\g<1>-*******', data)) # \\g 그룹핑 번호"
   ]
  },
  {
   "cell_type": "code",
   "execution_count": 143,
   "metadata": {
    "scrolled": false
   },
   "outputs": [
    {
     "name": "stdout",
     "output_type": "stream",
     "text": [
      "<body>\n",
      " <h1>\n",
      "  파이썬 프로그램\n",
      " </h1>\n",
      " <ul class=\"items\">\n",
      "  <li id=\"basic\">\n",
      "   <a href=\"/Python/Basics\">\n",
      "    Python 기초\n",
      "   </a>\n",
      "  </li>\n",
      "  <li id=\"gui\">\n",
      "   <a href=\"/Python/Gui\">\n",
      "    GUI 프로그래밍\n",
      "   </a>\n",
      "  </li>\n",
      "  <li id=\"data\">\n",
      "   <a href=\"/Python/Data\">\n",
      "    Python 데이타\n",
      "   </a>\n",
      "  </li>\n",
      "  <li id=\"djg\">\n",
      "   <a href=\"/Python/Django\">\n",
      "    Django 기초\n",
      "   </a>\n",
      "  </li>\n",
      "  <li id=\"app\">\n",
      "   <a href=\"/Python/Applications\">\n",
      "    Python 활용\n",
      "   </a>\n",
      "  </li>\n",
      "  <li id=\"tip\">\n",
      "   <a href=\"/Python/Tips\">\n",
      "    Python 팁\n",
      "   </a>\n",
      "  </li>\n",
      "  <li id=\"cont\">\n",
      "   <a href=\"/Home/Contact\">\n",
      "    Contact\n",
      "   </a>\n",
      "  </li>\n",
      "  <li id=\"search\">\n",
      "   <a href=\"javascript:showSearch()\">\n",
      "    <i aria-hidden=\"true\" class=\"fa fa-search\">\n",
      "    </i>\n",
      "    검색\n",
      "   </a>\n",
      "  </li>\n",
      " </ul>\n",
      "</body>\n",
      "\n",
      " \n",
      " 파이썬 프로그램 \n",
      " \n",
      "  Python 기초  \n",
      "  GUI 프로그래밍  \n",
      "  Python 데이타  \n",
      "  Django 기초  \n",
      "  Python 활용  \n",
      "  Python 팁  \n",
      "  Contact  \n",
      "    검색  \n",
      " \n",
      " \n",
      "'\\n'\n",
      "'파이썬 프로그램'\n",
      "'\\n'\n",
      "'\\n'\n",
      "'Python 기초'\n",
      "'\\n'\n",
      "'GUI 프로그래밍'\n",
      "'\\n'\n",
      "'Python 데이타'\n",
      "'\\n'\n",
      "'Django 기초'\n",
      "'\\n'\n",
      "'Python 활용'\n",
      "'\\n'\n",
      "'Python 팁'\n",
      "'\\n'\n",
      "'Contact'\n",
      "'\\n'\n",
      "'검색'\n",
      "'\\n'\n",
      "'\\n'\n",
      "\n",
      "'파이썬 프로그램'\n",
      "'Python 기초'\n",
      "'GUI 프로그래밍'\n",
      "'Python 데이타'\n",
      "'Django 기초'\n",
      "'Python 활용'\n",
      "'Python 팁'\n",
      "'Contact'\n",
      "'검색'\n"
     ]
    }
   ],
   "source": [
    "with open('C:/workspace/KSA\\data/modeule04/ch01/CSS_Sel.html', 'r',\n",
    "         encoding='utf-8') as f:\n",
    "    soup = BeautifulSoup(f, 'html.parser')\n",
    "    print(soup.body.prettify())\n",
    "    tmp = str(soup.body)\n",
    "    print(re.sub(\"<.+?>\", ' ', tmp))\n",
    "    for x in soup.body.strings:\n",
    "        print(repr(x))\n",
    "    print()\n",
    "    for x in soup.body.stripped_strings:\n",
    "        print(repr(x))"
   ]
  },
  {
   "cell_type": "markdown",
   "metadata": {},
   "source": [
    ">### 링크에 있는 것을 한꺼번에 내려 받기\n",
    "- 링크 대상이 상대 경로일 때는 HTML의 내용에 추가적인 처리가 필요\n",
    "- 상대 경로를 절대 경로로\n",
    "    - `urllib.parse.urljoin(base, path)`를 사용"
   ]
  },
  {
   "cell_type": "code",
   "execution_count": 6,
   "metadata": {},
   "outputs": [
    {
     "name": "stdout",
     "output_type": "stream",
     "text": [
      "http://example.com/tml/a.html \n",
      "\n",
      "http://example.com/tml/b.html\n",
      "http://example.com/tml/sub/c.html\n",
      "http://example.com/index.html\n",
      "http://example.com/image/img/png\n",
      "http://example.com/css/css_doc.css \n",
      "\n",
      "http://www.naver.com\n",
      "http://www.daum.net\n"
     ]
    }
   ],
   "source": [
    "from urllib.parse import urljoin\n",
    "\n",
    "# 기본주소\n",
    "base = 'http://example.com/tml/a.html'\n",
    "\n",
    "# 상대주소를 절대주소로 처리\n",
    "print(base, '\\n')\n",
    "print(urljoin(base, 'b.html'))\n",
    "print(urljoin(base, 'sub/c.html'))\n",
    "print(urljoin(base, '../index.html'))\n",
    "print(urljoin(base, '../image/img/png'))\n",
    "print(urljoin(base, '../css/css_doc.css'), '\\n')\n",
    "\n",
    "# 절대주소 입력(기존의 주소 무시)\n",
    "print(urljoin(base, 'http://www.naver.com'))\n",
    "print(urljoin(base, '//www.daum.net'))"
   ]
  },
  {
   "cell_type": "markdown",
   "metadata": {},
   "source": [
    "- 재귀적으로 HTML 페이지 처리\n",
    "    - 'a.html'에서 'b.html'로 링크 이동하고, 'b.html'에서 'c.html'로 링크하여 이동하는 경우, 3개의 페이지를 모두 다운로드하여 분석하는 것이 필요\n",
    "    - 이러한 구조의 데이터는 함수를 이용한 재귀 처리\n",
    "        - 어떤 함수 내부에서 해당함수 자신을 호출하는 것이 재귀"
   ]
  },
  {
   "cell_type": "code",
   "execution_count": 7,
   "metadata": {},
   "outputs": [
    {
     "data": {
      "text/plain": [
       "[1, 2]"
      ]
     },
     "execution_count": 7,
     "metadata": {},
     "output_type": "execute_result"
    }
   ],
   "source": [
    "test = [1]\n",
    "test += [2]\n",
    "test"
   ]
  },
  {
   "cell_type": "code",
   "execution_count": 14,
   "metadata": {},
   "outputs": [
    {
     "name": "stdout",
     "output_type": "stream",
     "text": [
      "analyze html= https://docs.python.org/3.5/library/ \n",
      "\n",
      "analyze html= https://docs.python.org/3.5/library/intro.html \n",
      "\n",
      "analyze html= https://docs.python.org/3.5/library/functions.html \n",
      "\n",
      "analyze html= https://docs.python.org/3.5/library/constants.html \n",
      "\n",
      "analyze html= https://docs.python.org/3.5/library/stdtypes.html \n",
      "\n",
      "analyze html= https://docs.python.org/3.5/library/exceptions.html \n",
      "\n",
      "analyze html= https://docs.python.org/3.5/library/text.html \n",
      "\n",
      "analyze html= https://docs.python.org/3.5/library/string.html \n",
      "\n",
      "analyze html= https://docs.python.org/3.5/library/re.html \n",
      "\n",
      "analyze html= https://docs.python.org/3.5/library/difflib.html \n",
      "\n",
      "analyze html= https://docs.python.org/3.5/library/textwrap.html \n",
      "\n",
      "analyze html= https://docs.python.org/3.5/library/unicodedata.html \n",
      "\n",
      "analyze html= https://docs.python.org/3.5/library/stringprep.html \n",
      "\n",
      "analyze html= https://docs.python.org/3.5/library/readline.html \n",
      "\n",
      "analyze html= https://docs.python.org/3.5/library/rlcompleter.html \n",
      "\n",
      "analyze html= https://docs.python.org/3.5/library/binary.html \n",
      "\n",
      "analyze html= https://docs.python.org/3.5/library/struct.html \n",
      "\n",
      "analyze html= https://docs.python.org/3.5/library/codecs.html \n",
      "\n",
      "analyze html= https://docs.python.org/3.5/library/datatypes.html \n",
      "\n",
      "analyze html= https://docs.python.org/3.5/library/datetime.html \n",
      "\n",
      "analyze html= https://docs.python.org/3.5/library/calendar.html \n",
      "\n",
      "analyze html= https://docs.python.org/3.5/library/collections.html \n",
      "\n",
      "analyze html= https://docs.python.org/3.5/library/collections.abc.html \n",
      "\n",
      "analyze html= https://docs.python.org/3.5/library/heapq.html \n",
      "\n",
      "analyze html= https://docs.python.org/3.5/library/bisect.html \n",
      "\n",
      "analyze html= https://docs.python.org/3.5/library/array.html \n",
      "\n",
      "analyze html= https://docs.python.org/3.5/library/weakref.html \n",
      "\n",
      "analyze html= https://docs.python.org/3.5/library/types.html \n",
      "\n",
      "analyze html= https://docs.python.org/3.5/library/copy.html \n",
      "\n",
      "analyze html= https://docs.python.org/3.5/library/pprint.html \n",
      "\n",
      "analyze html= https://docs.python.org/3.5/library/reprlib.html \n",
      "\n",
      "analyze html= https://docs.python.org/3.5/library/enum.html \n",
      "\n",
      "analyze html= https://docs.python.org/3.5/library/numeric.html \n",
      "\n",
      "analyze html= https://docs.python.org/3.5/library/numbers.html \n",
      "\n",
      "analyze html= https://docs.python.org/3.5/library/math.html \n",
      "\n",
      "analyze html= https://docs.python.org/3.5/library/cmath.html \n",
      "\n",
      "analyze html= https://docs.python.org/3.5/library/decimal.html \n",
      "\n",
      "analyze html= https://docs.python.org/3.5/library/fractions.html \n",
      "\n",
      "analyze html= https://docs.python.org/3.5/library/random.html \n",
      "\n",
      "analyze html= https://docs.python.org/3.5/library/statistics.html \n",
      "\n",
      "analyze html= https://docs.python.org/3.5/library/functional.html \n",
      "\n",
      "analyze html= https://docs.python.org/3.5/library/itertools.html \n",
      "\n",
      "analyze html= https://docs.python.org/3.5/library/functools.html \n",
      "\n",
      "analyze html= https://docs.python.org/3.5/library/operator.html \n",
      "\n",
      "analyze html= https://docs.python.org/3.5/library/filesys.html \n",
      "\n",
      "analyze html= https://docs.python.org/3.5/library/pathlib.html \n",
      "\n",
      "analyze html= https://docs.python.org/3.5/library/os.path.html \n",
      "\n",
      "analyze html= https://docs.python.org/3.5/library/fileinput.html \n",
      "\n",
      "analyze html= https://docs.python.org/3.5/library/stat.html \n",
      "\n",
      "analyze html= https://docs.python.org/3.5/library/filecmp.html \n",
      "\n",
      "analyze html= https://docs.python.org/3.5/library/tempfile.html \n",
      "\n",
      "analyze html= https://docs.python.org/3.5/library/glob.html \n",
      "\n",
      "analyze html= https://docs.python.org/3.5/library/fnmatch.html \n",
      "\n",
      "analyze html= https://docs.python.org/3.5/library/linecache.html \n",
      "\n",
      "analyze html= https://docs.python.org/3.5/library/shutil.html \n",
      "\n",
      "analyze html= https://docs.python.org/3.5/library/macpath.html \n",
      "\n",
      "analyze html= https://docs.python.org/3.5/library/persistence.html \n",
      "\n",
      "analyze html= https://docs.python.org/3.5/library/pickle.html \n",
      "\n",
      "analyze html= https://docs.python.org/3.5/library/copyreg.html \n",
      "\n",
      "analyze html= https://docs.python.org/3.5/library/shelve.html \n",
      "\n",
      "analyze html= https://docs.python.org/3.5/library/marshal.html \n",
      "\n",
      "analyze html= https://docs.python.org/3.5/library/dbm.html \n",
      "\n",
      "analyze html= https://docs.python.org/3.5/library/sqlite3.html \n",
      "\n",
      "analyze html= https://docs.python.org/3.5/library/archiving.html \n",
      "\n",
      "analyze html= https://docs.python.org/3.5/library/zlib.html \n",
      "\n",
      "analyze html= https://docs.python.org/3.5/library/gzip.html \n",
      "\n",
      "analyze html= https://docs.python.org/3.5/library/bz2.html \n",
      "\n",
      "analyze html= https://docs.python.org/3.5/library/lzma.html \n",
      "\n",
      "analyze html= https://docs.python.org/3.5/library/zipfile.html \n",
      "\n",
      "analyze html= https://docs.python.org/3.5/library/tarfile.html \n",
      "\n",
      "analyze html= https://docs.python.org/3.5/library/fileformats.html \n",
      "\n",
      "analyze html= https://docs.python.org/3.5/library/csv.html \n",
      "\n",
      "analyze html= https://docs.python.org/3.5/library/configparser.html \n",
      "\n",
      "analyze html= https://docs.python.org/3.5/library/netrc.html \n",
      "\n",
      "analyze html= https://docs.python.org/3.5/library/xdrlib.html \n",
      "\n",
      "analyze html= https://docs.python.org/3.5/library/plistlib.html \n",
      "\n",
      "analyze html= https://docs.python.org/3.5/library/crypto.html \n",
      "\n",
      "analyze html= https://docs.python.org/3.5/library/hashlib.html \n",
      "\n",
      "analyze html= https://docs.python.org/3.5/library/hmac.html \n",
      "\n",
      "analyze html= https://docs.python.org/3.5/library/allos.html \n",
      "\n",
      "analyze html= https://docs.python.org/3.5/library/os.html \n",
      "\n",
      "analyze html= https://docs.python.org/3.5/library/io.html \n",
      "\n",
      "analyze html= https://docs.python.org/3.5/library/time.html \n",
      "\n",
      "analyze html= https://docs.python.org/3.5/library/argparse.html \n",
      "\n",
      "analyze html= https://docs.python.org/3.5/library/getopt.html \n",
      "\n",
      "analyze html= https://docs.python.org/3.5/library/logging.html \n",
      "\n",
      "analyze html= https://docs.python.org/3.5/library/logging.config.html \n",
      "\n",
      "analyze html= https://docs.python.org/3.5/library/logging.handlers.html \n",
      "\n",
      "analyze html= https://docs.python.org/3.5/library/getpass.html \n",
      "\n",
      "analyze html= https://docs.python.org/3.5/library/curses.html \n",
      "\n",
      "analyze html= https://docs.python.org/3.5/library/curses.ascii.html \n",
      "\n",
      "analyze html= https://docs.python.org/3.5/library/curses.panel.html \n",
      "\n",
      "analyze html= https://docs.python.org/3.5/library/platform.html \n",
      "\n",
      "analyze html= https://docs.python.org/3.5/library/errno.html \n",
      "\n",
      "analyze html= https://docs.python.org/3.5/library/ctypes.html \n",
      "\n",
      "analyze html= https://docs.python.org/3.5/library/concurrency.html \n",
      "\n",
      "analyze html= https://docs.python.org/3.5/library/threading.html \n",
      "\n",
      "analyze html= https://docs.python.org/3.5/library/multiprocessing.html \n",
      "\n",
      "analyze html= https://docs.python.org/3.5/library/concurrent.html \n",
      "\n",
      "analyze html= https://docs.python.org/3.5/library/concurrent.futures.html \n",
      "\n",
      "analyze html= https://docs.python.org/3.5/library/subprocess.html \n",
      "\n",
      "analyze html= https://docs.python.org/3.5/library/sched.html \n",
      "\n",
      "analyze html= https://docs.python.org/3.5/library/queue.html \n",
      "\n",
      "analyze html= https://docs.python.org/3.5/library/dummy_threading.html \n",
      "\n",
      "analyze html= https://docs.python.org/3.5/library/_thread.html \n",
      "\n",
      "analyze html= https://docs.python.org/3.5/library/_dummy_thread.html \n",
      "\n",
      "analyze html= https://docs.python.org/3.5/library/ipc.html \n",
      "\n",
      "analyze html= https://docs.python.org/3.5/library/socket.html \n",
      "\n",
      "analyze html= https://docs.python.org/3.5/library/ssl.html \n",
      "\n",
      "analyze html= https://docs.python.org/3.5/library/select.html \n",
      "\n",
      "analyze html= https://docs.python.org/3.5/library/selectors.html \n",
      "\n",
      "analyze html= https://docs.python.org/3.5/library/asyncio.html \n",
      "\n",
      "analyze html= https://docs.python.org/3.5/library/asyncio-eventloop.html \n",
      "\n",
      "analyze html= https://docs.python.org/3.5/library/asyncio-eventloops.html \n",
      "\n",
      "analyze html= https://docs.python.org/3.5/library/asyncio-task.html \n",
      "\n",
      "analyze html= https://docs.python.org/3.5/library/asyncio-protocol.html \n",
      "\n",
      "analyze html= https://docs.python.org/3.5/library/asyncio-stream.html \n",
      "\n",
      "analyze html= https://docs.python.org/3.5/library/asyncio-subprocess.html \n",
      "\n",
      "analyze html= https://docs.python.org/3.5/library/asyncio-sync.html \n",
      "\n",
      "analyze html= https://docs.python.org/3.5/library/asyncio-queue.html \n",
      "\n",
      "analyze html= https://docs.python.org/3.5/library/asyncio-dev.html \n",
      "\n",
      "analyze html= https://docs.python.org/3.5/library/asyncore.html \n",
      "\n",
      "analyze html= https://docs.python.org/3.5/library/asynchat.html \n",
      "\n",
      "analyze html= https://docs.python.org/3.5/library/signal.html \n",
      "\n",
      "analyze html= https://docs.python.org/3.5/library/mmap.html \n",
      "\n"
     ]
    },
    {
     "name": "stdout",
     "output_type": "stream",
     "text": [
      "analyze html= https://docs.python.org/3.5/library/netdata.html \n",
      "\n",
      "analyze html= https://docs.python.org/3.5/library/email.html \n",
      "\n",
      "analyze html= https://docs.python.org/3.5/library/email.message.html \n",
      "\n",
      "analyze html= https://docs.python.org/3.5/library/email.parser.html \n",
      "\n",
      "analyze html= https://docs.python.org/3.5/library/email.generator.html \n",
      "\n",
      "analyze html= https://docs.python.org/3.5/library/email.policy.html \n",
      "\n",
      "analyze html= https://docs.python.org/3.5/library/email.headerregistry.html \n",
      "\n",
      "analyze html= https://docs.python.org/3.5/library/email.contentmanager.html \n",
      "\n",
      "analyze html= https://docs.python.org/3.5/library/email.mime.html \n",
      "\n",
      "analyze html= https://docs.python.org/3.5/library/email.header.html \n",
      "\n",
      "analyze html= https://docs.python.org/3.5/library/email.charset.html \n",
      "\n",
      "analyze html= https://docs.python.org/3.5/library/email.encoders.html \n",
      "\n",
      "analyze html= https://docs.python.org/3.5/library/email.errors.html \n",
      "\n",
      "analyze html= https://docs.python.org/3.5/library/email.util.html \n",
      "\n",
      "analyze html= https://docs.python.org/3.5/library/email.iterators.html \n",
      "\n",
      "analyze html= https://docs.python.org/3.5/library/email-examples.html \n",
      "\n",
      "analyze html= https://docs.python.org/3.5/library/json.html \n",
      "\n",
      "analyze html= https://docs.python.org/3.5/library/mailcap.html \n",
      "\n",
      "analyze html= https://docs.python.org/3.5/library/mailbox.html \n",
      "\n",
      "analyze html= https://docs.python.org/3.5/library/mimetypes.html \n",
      "\n",
      "analyze html= https://docs.python.org/3.5/library/base64.html \n",
      "\n",
      "analyze html= https://docs.python.org/3.5/library/binhex.html \n",
      "\n",
      "analyze html= https://docs.python.org/3.5/library/binascii.html \n",
      "\n",
      "analyze html= https://docs.python.org/3.5/library/quopri.html \n",
      "\n",
      "analyze html= https://docs.python.org/3.5/library/uu.html \n",
      "\n",
      "analyze html= https://docs.python.org/3.5/library/markup.html \n",
      "\n",
      "analyze html= https://docs.python.org/3.5/library/html.html \n",
      "\n",
      "analyze html= https://docs.python.org/3.5/library/html.parser.html \n",
      "\n",
      "analyze html= https://docs.python.org/3.5/library/html.entities.html \n",
      "\n",
      "analyze html= https://docs.python.org/3.5/library/xml.html \n",
      "\n",
      "analyze html= https://docs.python.org/3.5/library/xml.etree.elementtree.html \n",
      "\n",
      "analyze html= https://docs.python.org/3.5/library/xml.dom.html \n",
      "\n",
      "analyze html= https://docs.python.org/3.5/library/xml.dom.minidom.html \n",
      "\n",
      "analyze html= https://docs.python.org/3.5/library/xml.dom.pulldom.html \n",
      "\n",
      "analyze html= https://docs.python.org/3.5/library/xml.sax.html \n",
      "\n",
      "analyze html= https://docs.python.org/3.5/library/xml.sax.handler.html \n",
      "\n",
      "analyze html= https://docs.python.org/3.5/library/xml.sax.utils.html \n",
      "\n",
      "analyze html= https://docs.python.org/3.5/library/xml.sax.reader.html \n",
      "\n",
      "analyze html= https://docs.python.org/3.5/library/pyexpat.html \n",
      "\n",
      "analyze html= https://docs.python.org/3.5/library/internet.html \n",
      "\n",
      "analyze html= https://docs.python.org/3.5/library/webbrowser.html \n",
      "\n",
      "analyze html= https://docs.python.org/3.5/library/cgi.html \n",
      "\n",
      "analyze html= https://docs.python.org/3.5/library/cgitb.html \n",
      "\n",
      "analyze html= https://docs.python.org/3.5/library/wsgiref.html \n",
      "\n",
      "analyze html= https://docs.python.org/3.5/library/urllib.html \n",
      "\n",
      "analyze html= https://docs.python.org/3.5/library/urllib.request.html \n",
      "\n",
      "analyze html= https://docs.python.org/3.5/library/urllib.parse.html \n",
      "\n",
      "analyze html= https://docs.python.org/3.5/library/urllib.error.html \n",
      "\n",
      "analyze html= https://docs.python.org/3.5/library/urllib.robotparser.html \n",
      "\n",
      "analyze html= https://docs.python.org/3.5/library/http.html \n",
      "\n",
      "analyze html= https://docs.python.org/3.5/library/http.client.html \n",
      "\n",
      "analyze html= https://docs.python.org/3.5/library/ftplib.html \n",
      "\n",
      "analyze html= https://docs.python.org/3.5/library/poplib.html \n",
      "\n",
      "analyze html= https://docs.python.org/3.5/library/imaplib.html \n",
      "\n",
      "analyze html= https://docs.python.org/3.5/library/nntplib.html \n",
      "\n",
      "analyze html= https://docs.python.org/3.5/library/smtplib.html \n",
      "\n",
      "analyze html= https://docs.python.org/3.5/library/smtpd.html \n",
      "\n",
      "analyze html= https://docs.python.org/3.5/library/telnetlib.html \n",
      "\n",
      "analyze html= https://docs.python.org/3.5/library/uuid.html \n",
      "\n",
      "analyze html= https://docs.python.org/3.5/library/socketserver.html \n",
      "\n",
      "analyze html= https://docs.python.org/3.5/library/http.server.html \n",
      "\n",
      "analyze html= https://docs.python.org/3.5/library/http.cookies.html \n",
      "\n",
      "analyze html= https://docs.python.org/3.5/library/http.cookiejar.html \n",
      "\n",
      "analyze html= https://docs.python.org/3.5/library/xmlrpc.html \n",
      "\n",
      "analyze html= https://docs.python.org/3.5/library/xmlrpc.client.html \n",
      "\n",
      "analyze html= https://docs.python.org/3.5/library/xmlrpc.server.html \n",
      "\n",
      "analyze html= https://docs.python.org/3.5/library/ipaddress.html \n",
      "\n",
      "analyze html= https://docs.python.org/3.5/library/mm.html \n",
      "\n",
      "analyze html= https://docs.python.org/3.5/library/audioop.html \n",
      "\n",
      "analyze html= https://docs.python.org/3.5/library/aifc.html \n",
      "\n",
      "analyze html= https://docs.python.org/3.5/library/sunau.html \n",
      "\n",
      "analyze html= https://docs.python.org/3.5/library/wave.html \n",
      "\n",
      "analyze html= https://docs.python.org/3.5/library/chunk.html \n",
      "\n",
      "analyze html= https://docs.python.org/3.5/library/colorsys.html \n",
      "\n",
      "analyze html= https://docs.python.org/3.5/library/imghdr.html \n",
      "\n",
      "analyze html= https://docs.python.org/3.5/library/sndhdr.html \n",
      "\n",
      "analyze html= https://docs.python.org/3.5/library/ossaudiodev.html \n",
      "\n",
      "analyze html= https://docs.python.org/3.5/library/i18n.html \n",
      "\n",
      "analyze html= https://docs.python.org/3.5/library/gettext.html \n",
      "\n",
      "analyze html= https://docs.python.org/3.5/library/locale.html \n",
      "\n",
      "analyze html= https://docs.python.org/3.5/library/frameworks.html \n",
      "\n",
      "analyze html= https://docs.python.org/3.5/library/turtle.html \n",
      "\n",
      "analyze html= https://docs.python.org/3.5/library/cmd.html \n",
      "\n",
      "analyze html= https://docs.python.org/3.5/library/shlex.html \n",
      "\n",
      "analyze html= https://docs.python.org/3.5/library/tk.html \n",
      "\n",
      "analyze html= https://docs.python.org/3.5/library/tkinter.html \n",
      "\n",
      "analyze html= https://docs.python.org/3.5/library/tkinter.ttk.html \n",
      "\n",
      "analyze html= https://docs.python.org/3.5/library/tkinter.tix.html \n",
      "\n",
      "analyze html= https://docs.python.org/3.5/library/tkinter.scrolledtext.html \n",
      "\n",
      "analyze html= https://docs.python.org/3.5/library/idle.html \n",
      "\n",
      "analyze html= https://docs.python.org/3.5/library/othergui.html \n",
      "\n",
      "analyze html= https://docs.python.org/3.5/library/development.html \n",
      "\n",
      "analyze html= https://docs.python.org/3.5/library/typing.html \n",
      "\n",
      "analyze html= https://docs.python.org/3.5/library/pydoc.html \n",
      "\n",
      "analyze html= https://docs.python.org/3.5/library/doctest.html \n",
      "\n",
      "analyze html= https://docs.python.org/3.5/library/unittest.html \n",
      "\n",
      "analyze html= https://docs.python.org/3.5/library/unittest.mock.html \n",
      "\n",
      "analyze html= https://docs.python.org/3.5/library/unittest.mock-examples.html \n",
      "\n",
      "analyze html= https://docs.python.org/3.5/library/2to3.html \n",
      "\n",
      "analyze html= https://docs.python.org/3.5/library/test.html \n",
      "\n",
      "analyze html= https://docs.python.org/3.5/library/debug.html \n",
      "\n",
      "analyze html= https://docs.python.org/3.5/library/bdb.html \n",
      "\n",
      "analyze html= https://docs.python.org/3.5/library/faulthandler.html \n",
      "\n",
      "analyze html= https://docs.python.org/3.5/library/pdb.html \n",
      "\n",
      "analyze html= https://docs.python.org/3.5/library/profile.html \n",
      "\n",
      "analyze html= https://docs.python.org/3.5/library/timeit.html \n",
      "\n",
      "analyze html= https://docs.python.org/3.5/library/trace.html \n",
      "\n",
      "analyze html= https://docs.python.org/3.5/library/tracemalloc.html \n",
      "\n",
      "analyze html= https://docs.python.org/3.5/library/distribution.html \n",
      "\n",
      "analyze html= https://docs.python.org/3.5/library/distutils.html \n",
      "\n",
      "analyze html= https://docs.python.org/3.5/library/ensurepip.html \n",
      "\n",
      "analyze html= https://docs.python.org/3.5/library/venv.html \n",
      "\n",
      "analyze html= https://docs.python.org/3.5/library/zipapp.html \n",
      "\n",
      "analyze html= https://docs.python.org/3.5/library/python.html \n",
      "\n",
      "analyze html= https://docs.python.org/3.5/library/sys.html \n",
      "\n",
      "analyze html= https://docs.python.org/3.5/library/sysconfig.html \n",
      "\n",
      "analyze html= https://docs.python.org/3.5/library/builtins.html \n",
      "\n",
      "analyze html= https://docs.python.org/3.5/library/__main__.html \n",
      "\n",
      "analyze html= https://docs.python.org/3.5/library/warnings.html \n",
      "\n",
      "analyze html= https://docs.python.org/3.5/library/contextlib.html \n",
      "\n",
      "analyze html= https://docs.python.org/3.5/library/abc.html \n",
      "\n",
      "analyze html= https://docs.python.org/3.5/library/atexit.html \n",
      "\n",
      "analyze html= https://docs.python.org/3.5/library/traceback.html \n",
      "\n",
      "analyze html= https://docs.python.org/3.5/library/__future__.html \n",
      "\n",
      "analyze html= https://docs.python.org/3.5/library/gc.html \n",
      "\n",
      "analyze html= https://docs.python.org/3.5/library/inspect.html \n",
      "\n"
     ]
    },
    {
     "name": "stdout",
     "output_type": "stream",
     "text": [
      "analyze html= https://docs.python.org/3.5/library/site.html \n",
      "\n",
      "analyze html= https://docs.python.org/3.5/library/fpectl.html \n",
      "\n",
      "analyze html= https://docs.python.org/3.5/library/custominterp.html \n",
      "\n",
      "analyze html= https://docs.python.org/3.5/library/code.html \n",
      "\n",
      "analyze html= https://docs.python.org/3.5/library/codeop.html \n",
      "\n",
      "analyze html= https://docs.python.org/3.5/library/modules.html \n",
      "\n",
      "analyze html= https://docs.python.org/3.5/library/zipimport.html \n",
      "\n",
      "analyze html= https://docs.python.org/3.5/library/pkgutil.html \n",
      "\n",
      "analyze html= https://docs.python.org/3.5/library/modulefinder.html \n",
      "\n",
      "analyze html= https://docs.python.org/3.5/library/runpy.html \n",
      "\n",
      "analyze html= https://docs.python.org/3.5/library/importlib.html \n",
      "\n",
      "analyze html= https://docs.python.org/3.5/library/language.html \n",
      "\n",
      "analyze html= https://docs.python.org/3.5/library/parser.html \n",
      "\n",
      "analyze html= https://docs.python.org/3.5/library/ast.html \n",
      "\n",
      "analyze html= https://docs.python.org/3.5/library/symtable.html \n",
      "\n",
      "analyze html= https://docs.python.org/3.5/library/symbol.html \n",
      "\n",
      "analyze html= https://docs.python.org/3.5/library/token.html \n",
      "\n",
      "analyze html= https://docs.python.org/3.5/library/keyword.html \n",
      "\n",
      "analyze html= https://docs.python.org/3.5/library/tokenize.html \n",
      "\n",
      "analyze html= https://docs.python.org/3.5/library/tabnanny.html \n",
      "\n",
      "analyze html= https://docs.python.org/3.5/library/pyclbr.html \n",
      "\n",
      "analyze html= https://docs.python.org/3.5/library/py_compile.html \n",
      "\n",
      "analyze html= https://docs.python.org/3.5/library/compileall.html \n",
      "\n",
      "analyze html= https://docs.python.org/3.5/library/dis.html \n",
      "\n",
      "analyze html= https://docs.python.org/3.5/library/pickletools.html \n",
      "\n",
      "analyze html= https://docs.python.org/3.5/library/misc.html \n",
      "\n",
      "analyze html= https://docs.python.org/3.5/library/formatter.html \n",
      "\n",
      "analyze html= https://docs.python.org/3.5/library/windows.html \n",
      "\n",
      "analyze html= https://docs.python.org/3.5/library/msilib.html \n",
      "\n",
      "analyze html= https://docs.python.org/3.5/library/msvcrt.html \n",
      "\n",
      "analyze html= https://docs.python.org/3.5/library/winreg.html \n",
      "\n",
      "analyze html= https://docs.python.org/3.5/library/winsound.html \n",
      "\n",
      "analyze html= https://docs.python.org/3.5/library/unix.html \n",
      "\n",
      "analyze html= https://docs.python.org/3.5/library/posix.html \n",
      "\n",
      "analyze html= https://docs.python.org/3.5/library/pwd.html \n",
      "\n",
      "analyze html= https://docs.python.org/3.5/library/spwd.html \n",
      "\n",
      "analyze html= https://docs.python.org/3.5/library/grp.html \n",
      "\n",
      "analyze html= https://docs.python.org/3.5/library/crypt.html \n",
      "\n",
      "analyze html= https://docs.python.org/3.5/library/termios.html \n",
      "\n",
      "analyze html= https://docs.python.org/3.5/library/tty.html \n",
      "\n",
      "analyze html= https://docs.python.org/3.5/library/pty.html \n",
      "\n",
      "analyze html= https://docs.python.org/3.5/library/fcntl.html \n",
      "\n",
      "analyze html= https://docs.python.org/3.5/library/pipes.html \n",
      "\n",
      "analyze html= https://docs.python.org/3.5/library/resource.html \n",
      "\n",
      "analyze html= https://docs.python.org/3.5/library/nis.html \n",
      "\n",
      "analyze html= https://docs.python.org/3.5/library/syslog.html \n",
      "\n",
      "analyze html= https://docs.python.org/3.5/library/superseded.html \n",
      "\n",
      "analyze html= https://docs.python.org/3.5/library/optparse.html \n",
      "\n",
      "analyze html= https://docs.python.org/3.5/library/imp.html \n",
      "\n",
      "analyze html= https://docs.python.org/3.5/library/undoc.html \n",
      "\n"
     ]
    }
   ],
   "source": [
    "# 파이썬 메뉴얼을 재귀적으로 다운받는 프로그램\n",
    "# 모튤 호출 --- (%1)\n",
    "from bs4 import BeautifulSoup\n",
    "from urllib.request import *\n",
    "from urllib.parse import *\n",
    "from os import makedirs\n",
    "import os.path, time, re\n",
    "\n",
    "# 이미 처리한 파일인지 확인하기 위한 변수 --- (%2)\n",
    "proc_files = {}\n",
    "\n",
    "# HTML 내부에 있는 링크를 추출하는 함수 --- (%3)\n",
    "def enum_links(html, base):\n",
    "    soup = BeautifulSoup(html, 'html.parser')\n",
    "    links = soup.select('link[re=\\'stylesheet\\']') # CSS\n",
    "    links += soup.select('a[href]') # 링크\n",
    "    result = []\n",
    "    # href를 추출하고, 링크를 절대 경로로 변환 --- (%4)\n",
    "    for a in links:\n",
    "        href = a.attrs['href']\n",
    "        url = urljoin(base, href)\n",
    "        result.append(url)\n",
    "    return result\n",
    "\n",
    "# 파일을 다운받고 저장하는 함수 --- (%5)\n",
    "dir_path = 'C:\\workspace\\KSA\\data\\modeule04\\ch01'.replace('\\\\', '/') + '/'\n",
    "\n",
    "def download_file(url, dir_path):\n",
    "    \"\"\"\n",
    "    1. url과 data_path를 받는다.\n",
    "    2. data_path(상위 directory)와 domain(host), path를 합쳐 docs를 저장할 \n",
    "        path를 만든다.\n",
    "    3. re.search로 /로 끝나는지 (폴더인지) 체크한다\n",
    "        만일 /로 끝난다면, index.html을 savepath에 추가하고 이를 반환한다.\n",
    "        만일 아니라면, url의 데이터를 다운로드하고 savepath를 반환한다.\n",
    "    \"\"\"\n",
    "    o = urlparse(url)\n",
    "    savepath = dir_path + o.netloc + o.path # netloc : 네트워크 위치\n",
    "    if re.search(r\"/$\", savepath): # 폴더라면 index.html\n",
    "        savepath += 'index.html'\n",
    "    savedir = os.path.dirname(savepath)\n",
    "    # 모두 다운됐는지 확인\n",
    "    if os.path.exists(savepath):\n",
    "        return savepath\n",
    "    if not os.path.exists(savedir):\n",
    "        print('mkdir=', savedir)\n",
    "        makedirs(savedir)\n",
    "    # 파일 다운받기 --- (%6)\n",
    "    try:\n",
    "        print('download=', url)\n",
    "        urlretrieve(url, savepath)\n",
    "        time.sleep(1) # 1초 휴식 --- (%7)\n",
    "        return savepath\n",
    "    except:\n",
    "        print('다운 실패: ', url)\n",
    "        return None\n",
    "\n",
    "# HTML을 분석하고 다운받는 함수 --- (%8)\n",
    "def analyze_html(url, root_url, dir_path):\n",
    "    savepath = download_file(url, dir_path)\n",
    "    if savepath is None:\n",
    "        return None\n",
    "    # 이미 처리되었다면 실행하지 않음 --- (%9)\n",
    "    if savepath in proc_files:\n",
    "        return None\n",
    "    proc_files[savepath] = True\n",
    "    print('analyze html=', url, '\\n')\n",
    "    # 링크 추출 --- (%10)\n",
    "    html = open(savepath, 'r', encoding='utf-8').read()\n",
    "    links = enum_links(html, url)\n",
    "    for link_url in links:\n",
    "        # 링크가 루트 이외의 경로를 나타낸다면 무시 --- (%11)\n",
    "        if link_url.find(root_url) != 0:\n",
    "            if not re.search(r\".css$\", link_url):\n",
    "                continue\n",
    "        # HTML이라면\n",
    "        if re.search(r\".(html|htm)$\", link_url):\n",
    "            # 재귀적으로 HTML 파일 분석하기\n",
    "            analyze_html(link_url, root_url, dir_path)\n",
    "            continue\n",
    "        # 기타 파일\n",
    "        download_file(link_url, dir_path)\n",
    "\n",
    "if __name__ == '__main__':\n",
    "    # url에 있는 모든 것 다운받기 --- (%12)\n",
    "    url = 'https://docs.python.org/3.5/library/'\n",
    "    analyze_html(url, url, dir_path)"
   ]
  },
  {
   "cell_type": "markdown",
   "metadata": {},
   "source": [
    "### 위 함수에서 쓰인 다양한 방법들\n",
    "\n",
    "#### `re.search`\n",
    "- 출처 : https://python.bakyeono.net/chapter-11-2.html\n",
    "- 패턴에는 다양한 문자열을 사용\n",
    "- 예를 들면 escape 문자들!\n",
    "- 위를 방지하기 위해 patthern str 앞에 `r`을 붙여주는 것이 좋다.\n",
    "    - 참고 : https://python.bakyeono.net/chapter-4-3.html\n",
    "    \n",
    "<table>\n",
    "  <thead>\n",
    "    <tr>\n",
    "      <th>함수</th>\n",
    "      <th>값 또는 기능</th>\n",
    "    </tr>\n",
    "  </thead>\n",
    "  <tbody>\n",
    "    <tr>\n",
    "      <td><code class=\"highlighter-rouge\">re.compile(pattern)</code></td>\n",
    "      <td>패턴 문자열 <code class=\"highlighter-rouge\">pattern</code>을 패턴 객체로 컴파일한다</td>\n",
    "    </tr>\n",
    "    <tr>\n",
    "      <td><code class=\"highlighter-rouge\">re.search(pattern, string)</code></td>\n",
    "      <td><code class=\"highlighter-rouge\">string</code>에서 <code class=\"highlighter-rouge\">pattern</code>과 매치하는 텍스트를 탐색한다 (임의 지점 매치)</td>\n",
    "    </tr>\n",
    "    <tr>\n",
    "      <td><code class=\"highlighter-rouge\">re.match(pattern, string)</code></td>\n",
    "      <td><code class=\"highlighter-rouge\">string</code>에서 <code class=\"highlighter-rouge\">pattern</code>과 매치하는 텍스트를 탐색한다 (시작점 매치)</td>\n",
    "    </tr>\n",
    "    <tr>\n",
    "      <td><code class=\"highlighter-rouge\">re.fullmatch(pattern, string)</code></td>\n",
    "      <td><code class=\"highlighter-rouge\">string</code>에서 <code class=\"highlighter-rouge\">pattern</code>과 매치하는 텍스트를 탐색한다 (전체 매치)</td>\n",
    "    </tr>\n",
    "    <tr>\n",
    "      <td><code class=\"highlighter-rouge\">re.sub(pattern, repl, string)</code></td>\n",
    "      <td><code class=\"highlighter-rouge\">string</code>에서 <code class=\"highlighter-rouge\">pattern</code>과 매치하는 텍스트를 <code class=\"highlighter-rouge\">repl</code>로 치환한다</td>\n",
    "    </tr>\n",
    "    <tr>\n",
    "      <td><code class=\"highlighter-rouge\">re.split(pattern, string)</code></td>\n",
    "      <td><code class=\"highlighter-rouge\">string</code>을 <code class=\"highlighter-rouge\">pattern</code>을 기준으로 나눈다</td>\n",
    "    </tr>\n",
    "  </tbody>\n",
    "</table>\n",
    "\n",
    "#### `os.path.dirname`\n",
    "- 스크립트가 위치한 디렉토리를 알아낼 때는\n",
    "    1. 현재 프로그램의 파일 위치를 알아냄 - `__file__`\n",
    "    2. 1의 절대 경로를 알아냄 - `os.path.abspath(1)`사용\n",
    "    3. 2에서 구한 파일에 디렉토리 이름을 알아냄 - `os.path.dirname(2)`\n",
    "- os.path.dirname(os.path.abspath(__file__))로 디렉토리 이름를 추출해 낼 수 있고,\n",
    "- 현재 작업 중인 디렉토리를 알아내려면 os.getcwd() 을 써야 합니다\n",
    "\n",
    "### 다양한 정규 표현식 패턴 표현\n",
    "- 출차 : http://pythonstudy.xyz/python/article/401-%EC%A0%95%EA%B7%9C-%ED%91%9C%ED%98%84%EC%8B%9D-Regex\n",
    "- 위의 `$`는 정규표현식의 패턴을 위해 넣어준 문자이다.\n",
    "\n",
    "<table class=\"table table-striped table-bordered\" style=\"width:1000px\">\n",
    "    <tbody><tr>\n",
    "        <th style=\"width:125px\">패턴</th>\n",
    "        <th style=\"width:400px\">설명</th>\n",
    "        <th style=\"width:auto\">예제</th>\n",
    "    </tr>\n",
    "    <tr>\n",
    "        <td>^</td>\n",
    "        <td>이 패턴으로 시작해야 함</td>\n",
    "        <td>^abc : abc로 시작해야 함 (abcd, abc12 등)</td>        \n",
    "    </tr>\n",
    "    <tr>\n",
    "        <td>\\$</td>\n",
    "        <td>이 패턴으로 종료되어야 함</td>\n",
    "        <td>xyz$ : xyz로 종료되어야 함 (123xyz, strxyz 등)</td>        \n",
    "    </tr>    \n",
    "    <tr>\n",
    "        <td>[문자들]</td>\n",
    "        <td>문자들 중에 하나이어야 함. 가능한 문자들의 집합을 정의함.</td>\n",
    "        <td>[Pp]ython : \"Python\" 혹은 \"python\"</td>        \n",
    "    </tr>    \n",
    "    <tr>\n",
    "        <td>[^문자들]</td>\n",
    "        <td>[문자들]의 반대로 피해야할 문자들의 집합을 정의함.</td>\n",
    "        <td>[^aeiou] : 소문자 모음이 아닌 문자들</td>        \n",
    "    </tr>    \n",
    "    <tr>\n",
    "        <td>|</td>\n",
    "        <td>두 패턴 중 하나이어야 함 (OR 기능)</td>\n",
    "        <td>a | b : a 또는 b 이어야 함</td>        \n",
    "    </tr>     \n",
    "    <tr>\n",
    "        <td>?</td>\n",
    "        <td>앞 패턴이 없거나 하나이어야 함 (Optional 패턴을 정의할 때 사용)</td>\n",
    "        <td>\\d? : 숫자가 하나 있거나 없어야 함</td>        \n",
    "    </tr>      \n",
    "    <tr>\n",
    "        <td>+</td>\n",
    "        <td>앞 패턴이 하나 이상이어야 함</td>\n",
    "        <td>\\d+ : 숫자가 하나 이상이어야 함</td>        \n",
    "    </tr>       \n",
    "    <tr>\n",
    "        <td>*</td>\n",
    "        <td>앞 패턴이 0개 이상이어야 함</td>\n",
    "        <td>\\d* : 숫자가 없거나 하나 이상이어야 함</td>        \n",
    "    </tr>     \n",
    "    <tr>\n",
    "        <td>패턴{n}</td>\n",
    "        <td>앞 패턴이 n번 반복해서 나타나는 경우</td>\n",
    "        <td>\\d{3} : 숫자가 3개 있어야 함</td>        \n",
    "    </tr>        \n",
    "    <tr>\n",
    "        <td>패턴{n, m}</td>\n",
    "        <td>앞 패턴이 최소 n번, 최대 m 번 반복해서 나타나는 경우 (n 또는 m 은 생략 가능)</td>\n",
    "        <td>\\d{3,5} : 숫자가 3개, 4개 혹은 5개 있어야 함</td>        \n",
    "    </tr>     \n",
    "    <tr>\n",
    "        <td>\\d</td>\n",
    "        <td>숫자 0 ~ 9</td>\n",
    "        <td>\\d\\d\\d : 0 ~ 9 범위의 숫자가 3개를 의미 (123, 000 등)</td>        \n",
    "    </tr>      \n",
    "    <tr>\n",
    "        <td>\\w</td>\n",
    "        <td>문자를 의미</td>\n",
    "        <td>\\w\\w\\w : 문자가 3개를 의미 (xyz, ABC 등)</td>        \n",
    "    </tr>     \n",
    "    <tr>\n",
    "        <td>\\s</td>\n",
    "        <td>화이트 스페이스를 의미하는데, [\\t\\n\\r\\f] 와 동일</td>\n",
    "        <td>\\s\\s : 화이트 스페이스 문자 2개 의미 (\\r\\n, \\t\\t 등)</td>        \n",
    "    </tr>  \n",
    "    <tr>\n",
    "        <td>.</td>\n",
    "        <td>뉴라인(\\n) 을 제외한 모든 문자를 의미</td>\n",
    "        <td>.{3} : 문자 3개 (F15, 0x0 등)</td>        \n",
    "    </tr>           \n",
    "</tbody></table>"
   ]
  },
  {
   "cell_type": "code",
   "execution_count": 15,
   "metadata": {},
   "outputs": [
    {
     "name": "stdout",
     "output_type": "stream",
     "text": [
      "다음 행으로 넘어갈 때는 개행 문자(\\n)을 쓰세요.\n"
     ]
    }
   ],
   "source": [
    "print(r'다음 행으로 넘어갈 때는 개행 문자(\\n)을 쓰세요.') # escape 문자를 그대로 출력"
   ]
  },
  {
   "cell_type": "code",
   "execution_count": 16,
   "metadata": {},
   "outputs": [
    {
     "name": "stdout",
     "output_type": "stream",
     "text": [
      "스크립터가 위치한 디렉토리\n",
      "dirname:\tC:\\Users\\Affinity\\.conda\\envs\\ds\\lib\n",
      "현재 작업 중인 디렉토리\n",
      "getcwd:\t\tC:\\workspace\\KSA\\Module 4. Big Data preprocess\n"
     ]
    }
   ],
   "source": [
    "print('스크립터가 위치한 디렉토리')\n",
    "print(\"dirname:\\t\" + os.path.dirname(os.path.abspath(os.__file__)))\n",
    "print('현재 작업 중인 디렉토리')\n",
    "print(\"getcwd:\\t\\t\" + os.getcwd())"
   ]
  },
  {
   "cell_type": "markdown",
   "metadata": {},
   "source": [
    "- 위의 재귀적으로 파일을 읽는 함수 test"
   ]
  },
  {
   "cell_type": "code",
   "execution_count": 17,
   "metadata": {},
   "outputs": [
    {
     "data": {
      "text/plain": [
       "'C:/workspace/KSA/data/modeule04/ch01/'"
      ]
     },
     "execution_count": 17,
     "metadata": {},
     "output_type": "execute_result"
    }
   ],
   "source": [
    "dir_path = 'C:\\workspace\\KSA\\data\\modeule04\\ch01'.replace('\\\\', '/') + '/'\n",
    "dir_path"
   ]
  },
  {
   "cell_type": "code",
   "execution_count": 18,
   "metadata": {},
   "outputs": [
    {
     "data": {
      "text/plain": [
       "ParseResult(scheme='https', netloc='docs.python.org', path='/3.5/library/', params='', query='', fragment='')"
      ]
     },
     "execution_count": 18,
     "metadata": {},
     "output_type": "execute_result"
    }
   ],
   "source": [
    "url = 'https://docs.python.org/3.5/library/'\n",
    "root_url = url\n",
    "o = urlparse(url)\n",
    "o"
   ]
  },
  {
   "cell_type": "code",
   "execution_count": 19,
   "metadata": {},
   "outputs": [
    {
     "data": {
      "text/plain": [
       "'C:/workspace/KSA/data/modeule04/ch01/docs.python.org/3.5/library/'"
      ]
     },
     "execution_count": 19,
     "metadata": {},
     "output_type": "execute_result"
    }
   ],
   "source": [
    "savepath = dir_path + o.netloc + o.path\n",
    "savepath"
   ]
  },
  {
   "cell_type": "code",
   "execution_count": 20,
   "metadata": {},
   "outputs": [],
   "source": [
    "if re.search(r\"/$\", savepath):\n",
    "    savepath += 'index.html'"
   ]
  },
  {
   "cell_type": "code",
   "execution_count": 21,
   "metadata": {},
   "outputs": [
    {
     "data": {
      "text/plain": [
       "('C:/workspace/KSA/data/modeule04/ch01/docs.python.org/3.5/library/index.html',\n",
       " 'C:/workspace/KSA/data/modeule04/ch01/docs.python.org/3.5/library')"
      ]
     },
     "execution_count": 21,
     "metadata": {},
     "output_type": "execute_result"
    }
   ],
   "source": [
    "savedir = os.path.dirname(savepath)\n",
    "savepath, savedir"
   ]
  },
  {
   "cell_type": "code",
   "execution_count": 22,
   "metadata": {},
   "outputs": [
    {
     "name": "stdout",
     "output_type": "stream",
     "text": [
      "exist\n"
     ]
    }
   ],
   "source": [
    "if os.path.exists(savepath):\n",
    "    print('exist')\n",
    "else:\n",
    "    print('Not exist')"
   ]
  },
  {
   "cell_type": "code",
   "execution_count": 23,
   "metadata": {},
   "outputs": [],
   "source": [
    "# 없을 시 directory 생성\n",
    "if not os.path.exists(savedir):\n",
    "    makedirs(savedir)"
   ]
  },
  {
   "cell_type": "code",
   "execution_count": 24,
   "metadata": {},
   "outputs": [
    {
     "data": {
      "text/plain": [
       "('C:/workspace/KSA/data/modeule04/ch01/docs.python.org/3.5/library/index.html',\n",
       " <http.client.HTTPMessage at 0x251dc645c88>)"
      ]
     },
     "execution_count": 24,
     "metadata": {},
     "output_type": "execute_result"
    }
   ],
   "source": [
    "urlretrieve(url, savepath) # download"
   ]
  },
  {
   "cell_type": "code",
   "execution_count": 25,
   "metadata": {},
   "outputs": [],
   "source": [
    "# 링크추출\n",
    "html = open(savepath, 'r', encoding='utf-8').read()"
   ]
  },
  {
   "cell_type": "code",
   "execution_count": 26,
   "metadata": {},
   "outputs": [],
   "source": [
    "# enum_links ---------------------------------------------\n",
    "soup = BeautifulSoup(html, 'html.parser')"
   ]
  },
  {
   "cell_type": "code",
   "execution_count": 27,
   "metadata": {},
   "outputs": [
    {
     "data": {
      "text/plain": [
       "[]"
      ]
     },
     "execution_count": 27,
     "metadata": {},
     "output_type": "execute_result"
    }
   ],
   "source": [
    "tests = soup.select('link[re|=\\'stylesheet\\']')\n",
    "tests"
   ]
  },
  {
   "cell_type": "code",
   "execution_count": 28,
   "metadata": {},
   "outputs": [
    {
     "data": {
      "text/plain": [
       "[<a accesskey=\"I\" href=\"../genindex.html\" title=\"General Index\">index</a>,\n",
       " <a href=\"../py-modindex.html\" title=\"Python Module Index\">modules</a>,\n",
       " <a accesskey=\"N\" href=\"intro.html\" title=\"1. Introduction\">next</a>,\n",
       " <a accesskey=\"P\" href=\"../reference/grammar.html\" title=\"10. Full Grammar specification\">previous</a>,\n",
       " <a href=\"https://www.python.org/\">Python</a>,\n",
       " <a href=\"../index.html\">3.5.7 Documentation</a>,\n",
       " <a class=\"headerlink\" href=\"#the-python-standard-library\" title=\"Permalink to this headline\">¶</a>,\n",
       " <a class=\"reference internal\" href=\"../reference/index.html#reference-index\"><span class=\"std std-ref\">The Python Language Reference</span></a>,\n",
       " <a class=\"reference external\" href=\"https://pypi.python.org/pypi\">Python Package Index</a>,\n",
       " <a class=\"reference internal\" href=\"intro.html\">1. Introduction</a>]"
      ]
     },
     "execution_count": 28,
     "metadata": {},
     "output_type": "execute_result"
    }
   ],
   "source": [
    "tests += soup.select('a[href]') # a tag의 href속성을 가지는 놈을 전부 호출\n",
    "tests[:10]"
   ]
  },
  {
   "cell_type": "code",
   "execution_count": 29,
   "metadata": {},
   "outputs": [
    {
     "data": {
      "text/plain": [
       "'../genindex.html'"
      ]
     },
     "execution_count": 29,
     "metadata": {},
     "output_type": "execute_result"
    }
   ],
   "source": [
    "href = tests[0].attrs['href']\n",
    "href"
   ]
  },
  {
   "cell_type": "code",
   "execution_count": 30,
   "metadata": {},
   "outputs": [
    {
     "data": {
      "text/plain": [
       "'https://docs.python.org/3.5/genindex.html'"
      ]
     },
     "execution_count": 30,
     "metadata": {},
     "output_type": "execute_result"
    }
   ],
   "source": [
    "urljoin(url, href) # 이런 식으로 모두 합치면?"
   ]
  },
  {
   "cell_type": "code",
   "execution_count": 31,
   "metadata": {},
   "outputs": [
    {
     "data": {
      "text/plain": [
       "['https://docs.python.org/3.5/genindex.html',\n",
       " 'https://docs.python.org/3.5/py-modindex.html',\n",
       " 'https://docs.python.org/3.5/library/intro.html',\n",
       " 'https://docs.python.org/3.5/reference/grammar.html',\n",
       " 'https://www.python.org/',\n",
       " 'https://docs.python.org/3.5/index.html',\n",
       " 'https://docs.python.org/3.5/library/#the-python-standard-library',\n",
       " 'https://docs.python.org/3.5/reference/index.html#reference-index',\n",
       " 'https://pypi.python.org/pypi',\n",
       " 'https://docs.python.org/3.5/library/intro.html',\n",
       " 'https://docs.python.org/3.5/library/functions.html',\n",
       " 'https://docs.python.org/3.5/library/constants.html',\n",
       " 'https://docs.python.org/3.5/library/constants.html#constants-added-by-the-site-module',\n",
       " 'https://docs.python.org/3.5/library/stdtypes.html',\n",
       " 'https://docs.python.org/3.5/library/stdtypes.html#truth-value-testing',\n",
       " 'https://docs.python.org/3.5/library/stdtypes.html#boolean-operations-and-or-not',\n",
       " 'https://docs.python.org/3.5/library/stdtypes.html#comparisons',\n",
       " 'https://docs.python.org/3.5/library/stdtypes.html#numeric-types-int-float-complex',\n",
       " 'https://docs.python.org/3.5/library/stdtypes.html#iterator-types',\n",
       " 'https://docs.python.org/3.5/library/stdtypes.html#sequence-types-list-tuple-range']"
      ]
     },
     "execution_count": 31,
     "metadata": {},
     "output_type": "execute_result"
    }
   ],
   "source": [
    "# analyze_html ----------------------------------------\n",
    "links = enum_links(html, url)\n",
    "links[:20] # index.html에서 python docs link를 받아옴"
   ]
  },
  {
   "cell_type": "code",
   "execution_count": 32,
   "metadata": {},
   "outputs": [
    {
     "name": "stdout",
     "output_type": "stream",
     "text": [
      "https://docs.python.org/3.5/library/ \n",
      "\n",
      "link_url.find(root_url) != 0에 걸리는 친구들\n",
      "\n",
      "https://docs.python.org/3.5/genindex.html\n",
      " 이 link를 제외하고 진행할까요? True면 제외 : True\n",
      "https://docs.python.org/3.5/py-modindex.html\n",
      " 이 link를 제외하고 진행할까요? True면 제외 : True\n",
      "https://docs.python.org/3.5/reference/grammar.html\n",
      " 이 link를 제외하고 진행할까요? True면 제외 : True\n",
      "https://www.python.org/\n",
      " 이 link를 제외하고 진행할까요? True면 제외 : True\n",
      "https://docs.python.org/3.5/index.html\n",
      " 이 link를 제외하고 진행할까요? True면 제외 : True\n",
      "https://docs.python.org/3.5/reference/index.html#reference-index\n",
      " 이 link를 제외하고 진행할까요? True면 제외 : True\n",
      "https://pypi.python.org/pypi\n",
      " 이 link를 제외하고 진행할까요? True면 제외 : True\n",
      "https://docs.python.org/3.5/reference/grammar.html\n",
      " 이 link를 제외하고 진행할까요? True면 제외 : True\n",
      "https://docs.python.org/3.5/bugs.html\n",
      " 이 link를 제외하고 진행할까요? True면 제외 : True\n",
      "https://github.com/python/cpython/blob/3.5/Doc/library/index.rst\n",
      " 이 link를 제외하고 진행할까요? True면 제외 : True\n",
      "https://docs.python.org/3.5/genindex.html\n",
      " 이 link를 제외하고 진행할까요? True면 제외 : True\n",
      "https://docs.python.org/3.5/py-modindex.html\n",
      " 이 link를 제외하고 진행할까요? True면 제외 : True\n",
      "https://docs.python.org/3.5/reference/grammar.html\n",
      " 이 link를 제외하고 진행할까요? True면 제외 : True\n",
      "https://www.python.org/\n",
      " 이 link를 제외하고 진행할까요? True면 제외 : True\n",
      "https://docs.python.org/3.5/index.html\n",
      " 이 link를 제외하고 진행할까요? True면 제외 : True\n",
      "https://docs.python.org/3.5/copyright.html\n",
      " 이 link를 제외하고 진행할까요? True면 제외 : True\n",
      "https://www.python.org/psf/donations/\n",
      " 이 link를 제외하고 진행할까요? True면 제외 : True\n",
      "https://docs.python.org/3.5/bugs.html\n",
      " 이 link를 제외하고 진행할까요? True면 제외 : True\n",
      "http://sphinx.pocoo.org/\n",
      " 이 link를 제외하고 진행할까요? True면 제외 : True\n"
     ]
    }
   ],
   "source": [
    "print(root_url, '\\n')\n",
    "print('link_url.find(root_url) != 0에 걸리는 친구들\\n')\n",
    "for link_url in [link for link in links if link.find(root_url) != 0]:\n",
    "    print(link_url)\n",
    "    print(' 이 link를 제외하고 진행할까요? True면 제외 :', not re.search(r\".css$\", link_url))"
   ]
  },
  {
   "cell_type": "markdown",
   "metadata": {},
   "source": [
    "- 마지막에 세 가지 분기가 존재\n",
    "    - 위의 조건이면 continue(link 무시)\n",
    "    - HTML이거나 HTM이면 analyze_html 재 실행\n",
    "        - 파일 다운로드부터\n",
    "        - link끄내오기 재 실행\n",
    "    - 위 두 조건을 만족시키지 않으면,\n",
    "        - download_file 실행하여 url download"
   ]
  }
 ],
 "metadata": {
  "kernelspec": {
   "display_name": "ds",
   "language": "python",
   "name": "ds"
  },
  "language_info": {
   "codemirror_mode": {
    "name": "ipython",
    "version": 3
   },
   "file_extension": ".py",
   "mimetype": "text/x-python",
   "name": "python",
   "nbconvert_exporter": "python",
   "pygments_lexer": "ipython3",
   "version": "3.6.8"
  }
 },
 "nbformat": 4,
 "nbformat_minor": 2
}
