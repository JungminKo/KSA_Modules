{
 "cells": [
  {
   "cell_type": "code",
   "execution_count": 1,
   "metadata": {},
   "outputs": [],
   "source": [
    "import numpy as np\n",
    "import pandas as pd\n",
    "import matplotlib.pyplot as plt\n",
    "%matplotlib inline"
   ]
  },
  {
   "cell_type": "code",
   "execution_count": null,
   "metadata": {},
   "outputs": [],
   "source": [
    "from os import listdir\n",
    "\n",
    "os."
   ]
  },
  {
   "cell_type": "code",
   "execution_count": 2,
   "metadata": {},
   "outputs": [],
   "source": [
    "train_path = './skin-cancer-malignant-vs-benign/train/'\n",
    "test_path = './skin-cancer-malignant-vs-benign/test/'\n",
    "is_malignant = {True : 'malignant', False : 'benign'}\n",
    "\n",
    "# def load_data(file_path, file_name):\n",
    "#     f = open(file_path + file_name)\n",
    "#     data = \n",
    "    "
   ]
  },
  {
   "cell_type": "code",
   "execution_count": 10,
   "metadata": {},
   "outputs": [
    {
     "data": {
      "text/plain": [
       "(224, 224, 3)"
      ]
     },
     "execution_count": 10,
     "metadata": {},
     "output_type": "execute_result"
    }
   ],
   "source": [
    "from PIL.Image import open as img_open\n",
    "np.array(img_open(train_path + '/benign/3.jpg')).shape"
   ]
  },
  {
   "cell_type": "code",
   "execution_count": null,
   "metadata": {},
   "outputs": [],
   "source": [
    "\n",
    "def read_digit_txt(file_path, file_name):\n",
    "    f = open(file_path + file_name)\n",
    "    data = [list(line.split('\\n')[0]) for line in f.readlines()]\n",
    "    label = file_name.split('_')[0]\n",
    "    return data, label\n",
    "\n",
    "def load_data(file_path):\n",
    "    digits = {}\n",
    "    listdir_ = listdir(file_path)\n",
    "    data_store = np.zeros((len(listdir_), 32, 32))\n",
    "    label_store = np.zeros((len(listdir_)))\n",
    "    for ix, file in enumerate(listdir_):\n",
    "        data_store[ix], label_store[ix] = read_digit_txt(file_path, file)\n",
    "    digits['data'] = data_store.astype(int)\n",
    "    digits['label'] = label_store.astype(int)\n",
    "    return digits"
   ]
  }
 ],
 "metadata": {
  "kernelspec": {
   "display_name": "keras",
   "language": "python",
   "name": "keras"
  },
  "language_info": {
   "codemirror_mode": {
    "name": "ipython",
    "version": 3
   },
   "file_extension": ".py",
   "mimetype": "text/x-python",
   "name": "python",
   "nbconvert_exporter": "python",
   "pygments_lexer": "ipython3",
   "version": "3.6.8"
  }
 },
 "nbformat": 4,
 "nbformat_minor": 2
}
