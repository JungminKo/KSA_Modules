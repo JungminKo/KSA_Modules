{
 "cells": [
  {
   "cell_type": "markdown",
   "metadata": {},
   "source": [
    "## 어제 코드 분석"
   ]
  },
  {
   "cell_type": "code",
   "execution_count": 1,
   "metadata": {},
   "outputs": [
    {
     "name": "stdout",
     "output_type": "stream",
     "text": [
      "Populating the interactive namespace from numpy and matplotlib\n"
     ]
    }
   ],
   "source": [
    "import numpy as np\n",
    "# from tqdm import tqdm\n",
    "import matplotlib.pyplot as plt\n",
    "import seaborn as sns\n",
    "sns.set_style(\"darkgrid\")\n",
    "%pylab inline\n",
    "import random"
   ]
  },
  {
   "cell_type": "code",
   "execution_count": 9,
   "metadata": {},
   "outputs": [],
   "source": [
    "#===============================#\n",
    "## First-visit Monte Carlo\n",
    "#===============================#\n",
    "\n",
    "# parameters\n",
    "gamma = 0.6 # discounting rate\n",
    "rewardSize = -1\n",
    "gridSize = 4\n",
    "terminationStates = [[0,0], [gridSize-1, gridSize-1]]\n",
    "actions = [[-1, 0], [1, 0], [0, 1], [0, -1]]  # up, down, left, right\n",
    "numIterations = 10000"
   ]
  },
  {
   "cell_type": "code",
   "execution_count": 10,
   "metadata": {},
   "outputs": [],
   "source": [
    "# initialization\n",
    "V = np.zeros((gridSize, gridSize))\n",
    "returns = {(i, j):list() for i in range(gridSize) for j in range(gridSize)} #dictionary with keys and values \n",
    "deltas = {(i, j):list() for i in range(gridSize) for j in range(gridSize)}  #dictionary with keys and values \n",
    "states = [[i, j] for i in range(gridSize) for j in range(gridSize)]"
   ]
  },
  {
   "cell_type": "code",
   "execution_count": 11,
   "metadata": {},
   "outputs": [
    {
     "data": {
      "text/plain": [
       "array([[0., 0., 0., 0.],\n",
       "       [0., 0., 0., 0.],\n",
       "       [0., 0., 0., 0.],\n",
       "       [0., 0., 0., 0.]])"
      ]
     },
     "execution_count": 11,
     "metadata": {},
     "output_type": "execute_result"
    }
   ],
   "source": [
    "V"
   ]
  },
  {
   "cell_type": "code",
   "execution_count": 12,
   "metadata": {},
   "outputs": [
    {
     "data": {
      "text/plain": [
       "{(0, 0): [],\n",
       " (0, 1): [],\n",
       " (0, 2): [],\n",
       " (0, 3): [],\n",
       " (1, 0): [],\n",
       " (1, 1): [],\n",
       " (1, 2): [],\n",
       " (1, 3): [],\n",
       " (2, 0): [],\n",
       " (2, 1): [],\n",
       " (2, 2): [],\n",
       " (2, 3): [],\n",
       " (3, 0): [],\n",
       " (3, 1): [],\n",
       " (3, 2): [],\n",
       " (3, 3): []}"
      ]
     },
     "execution_count": 12,
     "metadata": {},
     "output_type": "execute_result"
    }
   ],
   "source": [
    "returns"
   ]
  },
  {
   "cell_type": "code",
   "execution_count": 13,
   "metadata": {},
   "outputs": [
    {
     "data": {
      "text/plain": [
       "True"
      ]
     },
     "execution_count": 13,
     "metadata": {},
     "output_type": "execute_result"
    }
   ],
   "source": [
    "returns == deltas"
   ]
  },
  {
   "cell_type": "code",
   "execution_count": 14,
   "metadata": {},
   "outputs": [
    {
     "data": {
      "text/plain": [
       "[[0, 0],\n",
       " [0, 1],\n",
       " [0, 2],\n",
       " [0, 3],\n",
       " [1, 0],\n",
       " [1, 1],\n",
       " [1, 2],\n",
       " [1, 3],\n",
       " [2, 0],\n",
       " [2, 1],\n",
       " [2, 2],\n",
       " [2, 3],\n",
       " [3, 0],\n",
       " [3, 1],\n",
       " [3, 2],\n",
       " [3, 3]]"
      ]
     },
     "execution_count": 14,
     "metadata": {},
     "output_type": "execute_result"
    }
   ],
   "source": [
    "states"
   ]
  },
  {
   "cell_type": "code",
   "execution_count": 15,
   "metadata": {},
   "outputs": [],
   "source": [
    "# utils\n",
    "def generateEpisode():\n",
    "    initState = random.choice(states[1:-1])\n",
    "    episode = []\n",
    "    while True:\n",
    "        if list(initState) in terminationStates:\n",
    "            return episode\n",
    "        action = random.choice(actions)\n",
    "        finalState = np.array(initState)+np.array(action)\n",
    "        if -1 in list(finalState) or gridSize in list(finalState):\n",
    "            finalState = initState\n",
    "        episode.append([list(initState), action, rewardSize, list(finalState)])\n",
    "        initState = finalState"
   ]
  },
  {
   "cell_type": "code",
   "execution_count": 30,
   "metadata": {},
   "outputs": [
    {
     "data": {
      "text/plain": [
       "[[[3, 1], [-1, 0], -1, [2, 1]],\n",
       " [[2, 1], [0, -1], -1, [2, 0]],\n",
       " [[2, 0], [0, 1], -1, [2, 1]],\n",
       " [[2, 1], [0, 1], -1, [2, 2]],\n",
       " [[2, 2], [0, 1], -1, [2, 3]],\n",
       " [[2, 3], [-1, 0], -1, [1, 3]],\n",
       " [[1, 3], [0, 1], -1, [1, 3]],\n",
       " [[1, 3], [0, 1], -1, [1, 3]],\n",
       " [[1, 3], [0, -1], -1, [1, 2]],\n",
       " [[1, 2], [1, 0], -1, [2, 2]],\n",
       " [[2, 2], [0, -1], -1, [2, 1]],\n",
       " [[2, 1], [0, 1], -1, [2, 2]],\n",
       " [[2, 2], [1, 0], -1, [3, 2]],\n",
       " [[3, 2], [1, 0], -1, [3, 2]],\n",
       " [[3, 2], [0, 1], -1, [3, 3]]]"
      ]
     },
     "execution_count": 30,
     "metadata": {},
     "output_type": "execute_result"
    }
   ],
   "source": [
    "episode = generateEpisode()\n",
    "episode"
   ]
  },
  {
   "cell_type": "code",
   "execution_count": 31,
   "metadata": {},
   "outputs": [],
   "source": [
    "G = 0"
   ]
  },
  {
   "cell_type": "code",
   "execution_count": 32,
   "metadata": {},
   "outputs": [
    {
     "name": "stdout",
     "output_type": "stream",
     "text": [
      "0 [[3, 2], [0, 1], -1, [3, 3]]\n",
      "1 [[3, 2], [1, 0], -1, [3, 2]]\n",
      "2 [[2, 2], [1, 0], -1, [3, 2]]\n",
      "3 [[2, 1], [0, 1], -1, [2, 2]]\n",
      "4 [[2, 2], [0, -1], -1, [2, 1]]\n",
      "5 [[1, 2], [1, 0], -1, [2, 2]]\n",
      "6 [[1, 3], [0, -1], -1, [1, 2]]\n",
      "7 [[1, 3], [0, 1], -1, [1, 3]]\n",
      "8 [[1, 3], [0, 1], -1, [1, 3]]\n",
      "9 [[2, 3], [-1, 0], -1, [1, 3]]\n",
      "10 [[2, 2], [0, 1], -1, [2, 3]]\n",
      "11 [[2, 1], [0, 1], -1, [2, 2]]\n",
      "12 [[2, 0], [0, 1], -1, [2, 1]]\n",
      "13 [[2, 1], [0, -1], -1, [2, 0]]\n",
      "14 [[3, 1], [-1, 0], -1, [2, 1]]\n"
     ]
    }
   ],
   "source": [
    "for i, step in enumerate(episode[::-1]):\n",
    "    print(i, step)"
   ]
  },
  {
   "cell_type": "code",
   "execution_count": 33,
   "metadata": {},
   "outputs": [
    {
     "name": "stdout",
     "output_type": "stream",
     "text": [
      "-1.0\n"
     ]
    }
   ],
   "source": [
    "# parameters\n",
    "gamma = 0.6 # discounting rate\n",
    "rewardSize = -1\n",
    "gridSize = 4\n",
    "terminationStates = [[0,0], [gridSize-1, gridSize-1]]\n",
    "\n",
    "i = 0\n",
    "step = [[3, 2], [0, 1], -1, [3, 3]]\n",
    "\n",
    "G = gamma * G + step[2]\n",
    "print(G)"
   ]
  },
  {
   "cell_type": "code",
   "execution_count": 42,
   "metadata": {},
   "outputs": [
    {
     "name": "stdout",
     "output_type": "stream",
     "text": [
      "root : []\n",
      "these step : [3, 2]\n",
      "step[0] not in root ? : True\n"
     ]
    }
   ],
   "source": [
    "print('root :', [x[0] for x in episode[::-1][len(episode)-i:]])\n",
    "print('these step :', step[0])\n",
    "print('step[0] not in root ? :', \n",
    "      step[0] not in [x[0] for x in episode[::-1][len(episode)-i:]])"
   ]
  },
  {
   "cell_type": "code",
   "execution_count": 47,
   "metadata": {},
   "outputs": [
    {
     "name": "stdout",
     "output_type": "stream",
     "text": [
      "(3, 2)\n"
     ]
    }
   ],
   "source": [
    "idx = tuple(step[0])\n",
    "print(idx)"
   ]
  },
  {
   "cell_type": "code",
   "execution_count": 50,
   "metadata": {},
   "outputs": [
    {
     "name": "stdout",
     "output_type": "stream",
     "text": [
      "(3, 2) : [-1.0]\n"
     ]
    }
   ],
   "source": [
    "returns[idx].append(G)\n",
    "print(idx, \":\", returns[idx])"
   ]
  },
  {
   "cell_type": "markdown",
   "metadata": {},
   "source": [
    "## TalkOn Sermina"
   ]
  },
  {
   "cell_type": "code",
   "execution_count": 82,
   "metadata": {},
   "outputs": [],
   "source": [
    "import random\n",
    "\n",
    "class GridWorld():\n",
    "    def __init__(self, init_pt=(0,0), size=4, end_pts=[(3,3)]):\n",
    "        self.x=init_pt[0]\n",
    "        self.y=init_pt[1]\n",
    "        self.size=size\n",
    "        assert len(end_pts) > 0, 'end_pt is required!!'\n",
    "        self.end_pts = end_pts\n",
    "        self.history = []\n",
    "    \n",
    "    def move_right(self):\n",
    "        self.y += 1  \n",
    "        if self.y > self.size - 1:\n",
    "            self.y = self.size - 1\n",
    "\n",
    "    def move_left(self):\n",
    "        self.y -= 1\n",
    "        if self.y < 0:\n",
    "            self.y = 0\n",
    "\n",
    "    def move_up(self):\n",
    "        self.x -= 1\n",
    "        if self.x < 0:\n",
    "            self.x = 0\n",
    "\n",
    "    def move_down(self):\n",
    "        self.x += 1\n",
    "        if self.x > self.size - 1:\n",
    "            self.x = self.size - 1\n",
    "\n",
    "    def move_random(self):\n",
    "        coin = random.randint(0, self.size - 1)\n",
    "        if coin==0:\n",
    "            self.move_right()\n",
    "        elif coin==1:\n",
    "            self.move_left()\n",
    "        elif coin==2:\n",
    "            self.move_up()\n",
    "        else:\n",
    "            self.move_down()\n",
    "\n",
    "        self.history.append((self.x, self.y))\n",
    "\n",
    "    def move_random_until_end(self):\n",
    "        while True:\n",
    "            self.move_random()\n",
    "\n",
    "            if (self.x, self.y) in self.end_pts:\n",
    "                history = self.history\n",
    "                self.initialize()\n",
    "                return history\n",
    "\n",
    "    def initialize(self):\n",
    "        self.x = 0\n",
    "        self.y = 0\n",
    "        self.history = []"
   ]
  },
  {
   "cell_type": "code",
   "execution_count": 86,
   "metadata": {},
   "outputs": [],
   "source": [
    "# MonteCarlo\n",
    "data = np.zeros((4,4))\n",
    "env = GridWorld(init_pt=, )\n",
    "\n",
    "for k in range(10000):\n",
    "    history = env.move_random_until_end()\n",
    "    cum_reward = 0\n",
    "    \n",
    "    for position in history[::-1]:\n",
    "        x, y = position\n",
    "        data[x, y] = 0.999*data[x][y] + 0.001*cum_reward\n",
    "        cum_reward -= 1\n",
    "        \n",
    "for row in data:\n",
    "    print(row)"
   ]
  },
  {
   "cell_type": "code",
   "execution_count": 63,
   "metadata": {},
   "outputs": [],
   "source": [
    "#===============================#\n",
    "## First-visit Monte Carlo\n",
    "#===============================#\n",
    "\n",
    "# parameters\n",
    "gamma = 0.6 # discounting rate\n",
    "rewardSize = -1\n",
    "gridSize = 4\n",
    "terminationStates = [[0,0], [gridSize-1, gridSize-1]]\n",
    "actions = [[-1, 0], [1, 0], [0, 1], [0, -1]]  # up, down, left, right\n",
    "numIterations = 10000\n",
    "\n",
    "# initialization\n",
    "V = np.zeros((gridSize, gridSize))\n",
    "returns = {(i, j):list() for i in range(gridSize) for j in range(gridSize)} #dictionary with keys and values \n",
    "deltas = {(i, j):list() for i in range(gridSize) for j in range(gridSize)}  #dictionary with keys and values \n",
    "states = [[i, j] for i in range(gridSize) for j in range(gridSize)]\n",
    "\n",
    "# utils\n",
    "def generateEpisode():\n",
    "    initState = random.choice(states[1:-1])\n",
    "    episode = []\n",
    "    while True:\n",
    "        if list(initState) in terminationStates:\n",
    "            return episode\n",
    "        action = random.choice(actions)\n",
    "        finalState = np.array(initState)+np.array(action)\n",
    "        if -1 in list(finalState) or gridSize in list(finalState):\n",
    "            finalState = initState\n",
    "        episode.append([list(initState), action, rewardSize, list(finalState)])\n",
    "        initState = finalState\n",
    "\n",
    "for it in range(numIterations):  #상태바 출력\n",
    "    episode = generateEpisode()\n",
    "    G = 0\n",
    "    for i, step in enumerate(episode[::-1]):\n",
    "        G = gamma*G + step[2]\n",
    "        if step[0] not in [x[0] for x in episode[::-1][len(episode)-i:]]:\n",
    "            idx = (step[0][0], step[0][1])\n",
    "            returns[idx].append(G)\n",
    "            newValue = np.average(returns[idx])\n",
    "            deltas[idx[0], idx[1]].append(np.abs(V[idx[0], idx[1]]-newValue))\n",
    "            V[idx[0], idx[1]] = newValue"
   ]
  },
  {
   "cell_type": "code",
   "execution_count": 64,
   "metadata": {},
   "outputs": [
    {
     "data": {
      "text/plain": [
       "array([[ 0.        , -1.64232621, -2.21195304, -2.36896102],\n",
       "       [-1.63132908, -2.11110327, -2.28107273, -2.20660007],\n",
       "       [-2.21156773, -2.28402607, -2.10477695, -1.63555545],\n",
       "       [-2.37256685, -2.21078312, -1.62941446,  0.        ]])"
      ]
     },
     "execution_count": 64,
     "metadata": {},
     "output_type": "execute_result"
    }
   ],
   "source": [
    "V"
   ]
  },
  {
   "cell_type": "code",
   "execution_count": null,
   "metadata": {},
   "outputs": [],
   "source": []
  },
  {
   "cell_type": "code",
   "execution_count": null,
   "metadata": {},
   "outputs": [],
   "source": []
  },
  {
   "cell_type": "code",
   "execution_count": null,
   "metadata": {},
   "outputs": [],
   "source": []
  },
  {
   "cell_type": "markdown",
   "metadata": {},
   "source": [
    "# DQN"
   ]
  },
  {
   "cell_type": "code",
   "execution_count": 90,
   "metadata": {},
   "outputs": [
    {
     "name": "stdout",
     "output_type": "stream",
     "text": [
      "+---------+\n",
      "|R: | : :\u001b[35mG\u001b[0m|\n",
      "| : : : : |\n",
      "| : : : : |\n",
      "| | : |\u001b[43m \u001b[0m: |\n",
      "|Y| : |\u001b[34;1mB\u001b[0m: |\n",
      "+---------+\n",
      "\n"
     ]
    }
   ],
   "source": [
    "import gym\n",
    "import numpy as np\n",
    "import random\n",
    "import tensorflow as tf\n",
    "\n",
    "#====== 환경 로딩 =======#\n",
    "env = gym.make('Taxi-v2')\n",
    "env.render()"
   ]
  },
  {
   "cell_type": "code",
   "execution_count": 92,
   "metadata": {},
   "outputs": [
    {
     "data": {
      "text/plain": [
       "(500, 6)"
      ]
     },
     "execution_count": 92,
     "metadata": {},
     "output_type": "execute_result"
    }
   ],
   "source": [
    "env.observation_space.n, env.action_space.n"
   ]
  },
  {
   "cell_type": "code",
   "execution_count": 94,
   "metadata": {},
   "outputs": [],
   "source": [
    "#====== 신경망 구현 =======#\n",
    "tf.reset_default_graph()\n",
    "\n",
    "# 행동을 선택하는데 사용되는 신경망의 피드-포워드 부분을 구축한다.\n",
    "inputs = tf.placeholder(shape=[1, env.observation_space.n], \n",
    "                        dtype=tf.float32)  # 1*500 matrix\n",
    "weights = tf.Variable(tf.random_uniform(\n",
    "    [env.observation_space.n,env.action_space.n], 0, 0.01))  # 500*6 matrix\n",
    "q_out = tf.matmul(inputs, weights)  # 1*6 matrix\n",
    "predict = tf.argmax(q_out,1)"
   ]
  },
  {
   "cell_type": "code",
   "execution_count": 95,
   "metadata": {},
   "outputs": [],
   "source": [
    "# 목표 Q값(ext_q)과 예측 Q값(q_out)의 제곱합을 구함으로써 비용을 얻게 된다.\n",
    "next_q = tf.placeholder(shape=[1,env.action_space.n], # 1*500\n",
    "                        dtype=tf.float32)\n",
    "loss = tf.reduce_sum(tf.square(next_q - q_out))\n",
    "trainer = tf.train.GradientDescentOptimizer(learning_rate=0.1)\n",
    "loss_update = trainer.minimize(loss)"
   ]
  },
  {
   "cell_type": "code",
   "execution_count": 102,
   "metadata": {},
   "outputs": [
    {
     "data": {
      "text/plain": [
       "261"
      ]
     },
     "execution_count": 102,
     "metadata": {},
     "output_type": "execute_result"
    }
   ],
   "source": [
    "state = env.reset()\n",
    "state"
   ]
  },
  {
   "cell_type": "code",
   "execution_count": 104,
   "metadata": {},
   "outputs": [
    {
     "data": {
      "text/plain": [
       "array([[0., 0., 0., 0., 0., 0., 0., 0., 0., 0., 0., 0., 0., 0., 0., 0.,\n",
       "        0., 0., 0., 0., 0., 0., 0., 0., 0., 0., 0., 0., 0., 0., 0., 0.,\n",
       "        0., 0., 0., 0., 0., 0., 0., 0., 0., 0., 0., 0., 0., 0., 0., 0.,\n",
       "        0., 0., 0., 0., 0., 0., 0., 0., 0., 0., 0., 0., 0., 0., 0., 0.,\n",
       "        0., 0., 0., 0., 0., 0., 0., 0., 0., 0., 0., 0., 0., 0., 0., 0.,\n",
       "        0., 0., 0., 0., 0., 0., 0., 0., 0., 0., 0., 0., 0., 0., 0., 0.,\n",
       "        0., 0., 0., 0., 0., 0., 0., 0., 0., 0., 0., 0., 0., 0., 0., 0.,\n",
       "        0., 0., 0., 0., 0., 0., 0., 0., 0., 0., 0., 0., 0., 0., 0., 0.,\n",
       "        0., 0., 0., 0., 0., 0., 0., 0., 0., 0., 0., 0., 0., 0., 0., 0.,\n",
       "        0., 0., 0., 0., 0., 0., 0., 0., 0., 0., 0., 0., 0., 0., 0., 0.,\n",
       "        0., 0., 0., 0., 0., 0., 0., 0., 0., 0., 0., 0., 0., 0., 0., 0.,\n",
       "        0., 0., 0., 0., 0., 0., 0., 0., 0., 0., 0., 0., 0., 0., 0., 0.,\n",
       "        0., 0., 0., 0., 0., 0., 0., 0., 0., 0., 0., 0., 0., 0., 0., 0.,\n",
       "        0., 0., 0., 0., 0., 0., 0., 0., 0., 0., 0., 0., 0., 0., 0., 0.,\n",
       "        0., 0., 0., 0., 0., 0., 0., 0., 0., 0., 0., 0., 0., 0., 0., 0.,\n",
       "        0., 0., 0., 0., 0., 0., 0., 0., 0., 0., 0., 0., 0., 0., 0., 0.,\n",
       "        0., 0., 0., 0., 0., 1., 0., 0., 0., 0., 0., 0., 0., 0., 0., 0.,\n",
       "        0., 0., 0., 0., 0., 0., 0., 0., 0., 0., 0., 0., 0., 0., 0., 0.,\n",
       "        0., 0., 0., 0., 0., 0., 0., 0., 0., 0., 0., 0., 0., 0., 0., 0.,\n",
       "        0., 0., 0., 0., 0., 0., 0., 0., 0., 0., 0., 0., 0., 0., 0., 0.,\n",
       "        0., 0., 0., 0., 0., 0., 0., 0., 0., 0., 0., 0., 0., 0., 0., 0.,\n",
       "        0., 0., 0., 0., 0., 0., 0., 0., 0., 0., 0., 0., 0., 0., 0., 0.,\n",
       "        0., 0., 0., 0., 0., 0., 0., 0., 0., 0., 0., 0., 0., 0., 0., 0.,\n",
       "        0., 0., 0., 0., 0., 0., 0., 0., 0., 0., 0., 0., 0., 0., 0., 0.,\n",
       "        0., 0., 0., 0., 0., 0., 0., 0., 0., 0., 0., 0., 0., 0., 0., 0.,\n",
       "        0., 0., 0., 0., 0., 0., 0., 0., 0., 0., 0., 0., 0., 0., 0., 0.,\n",
       "        0., 0., 0., 0., 0., 0., 0., 0., 0., 0., 0., 0., 0., 0., 0., 0.,\n",
       "        0., 0., 0., 0., 0., 0., 0., 0., 0., 0., 0., 0., 0., 0., 0., 0.,\n",
       "        0., 0., 0., 0., 0., 0., 0., 0., 0., 0., 0., 0., 0., 0., 0., 0.,\n",
       "        0., 0., 0., 0., 0., 0., 0., 0., 0., 0., 0., 0., 0., 0., 0., 0.,\n",
       "        0., 0., 0., 0., 0., 0., 0., 0., 0., 0., 0., 0., 0., 0., 0., 0.,\n",
       "        0., 0., 0., 0.]])"
      ]
     },
     "execution_count": 104,
     "metadata": {},
     "output_type": "execute_result"
    }
   ],
   "source": [
    "np.identity(500)[state:state+1] # 임의의 한 점"
   ]
  },
  {
   "cell_type": "code",
   "execution_count": 126,
   "metadata": {},
   "outputs": [
    {
     "data": {
      "text/plain": [
       "(array([ 9838., 10057., 10017.,  9949., 10089.,  9998., 10110.,  9904.,\n",
       "         9950., 10088.]),\n",
       " array([1.30747080e-05, 1.00011278e-01, 2.00009481e-01, 3.00007685e-01,\n",
       "        4.00005888e-01, 5.00004091e-01, 6.00002295e-01, 7.00000498e-01,\n",
       "        7.99998701e-01, 8.99996905e-01, 9.99995108e-01]),\n",
       " <a list of 10 Patch objects>)"
      ]
     },
     "execution_count": 126,
     "metadata": {},
     "output_type": "execute_result"
    },
    {
     "data": {
      "image/png": "[encoded data removed]",
      "text/plain": [
       "<Figure size 432x288 with 1 Axes>"
      ]
     },
     "metadata": {
      "needs_background": "light"
     },
     "output_type": "display_data"
    }
   ],
   "source": [
    "plt.hist(np.random.rand(100000))"
   ]
  },
  {
   "cell_type": "code",
   "execution_count": 154,
   "metadata": {},
   "outputs": [
    {
     "data": {
      "text/plain": [
       "array([0, 1, 2, 3, 4, 5])"
      ]
     },
     "execution_count": 154,
     "metadata": {},
     "output_type": "execute_result"
    }
   ],
   "source": [
    "np.unique(res)"
   ]
  },
  {
   "cell_type": "code",
   "execution_count": 153,
   "metadata": {},
   "outputs": [
    {
     "data": {
      "text/plain": [
       "(array([1715.,    0., 1724.,    0., 1681.,    0., 1646.,    0., 1609.,\n",
       "        1625.]),\n",
       " array([0. , 0.5, 1. , 1.5, 2. , 2.5, 3. , 3.5, 4. , 4.5, 5. ]),\n",
       " <a list of 10 Patch objects>)"
      ]
     },
     "execution_count": 153,
     "metadata": {},
     "output_type": "execute_result"
    },
    {
     "data": {
      "image/png": "[encoded data removed]",
      "text/plain": [
       "<Figure size 432x288 with 1 Axes>"
      ]
     },
     "metadata": {
      "needs_background": "light"
     },
     "output_type": "display_data"
    }
   ],
   "source": [
    "res = []\n",
    "for i in range(10000):\n",
    "    res.append(env.action_space.sample())\n",
    "plt.hist(res)"
   ]
  },
  {
   "cell_type": "code",
   "execution_count": null,
   "metadata": {},
   "outputs": [],
   "source": [
    "#====== 신경망 학습하기 =======#\n",
    "init = tf.global_variables_initializer()\n",
    "\n",
    "# 학습 관련 파라미터를 설정한다.\n",
    "gamma = 0.7\n",
    "epsilon = 0.2\n",
    "epsilon_decay = .99\n",
    "episodes = 100\n",
    "\n",
    "total_epochs = 0\n",
    "total_rewards = 0\n",
    "\n",
    "with tf.Session() as sess:\n",
    "    sess.run(init)\n",
    "    for episode in range(episodes):\n",
    "        #환경을 리셋하고 첫번째 새로운 관측값을 얻는다.\n",
    "        state = env.reset()\n",
    "        rewards_this_episode = 0\n",
    "        epochs = 0\n",
    "\n",
    "        done = False\n",
    "        \n",
    "        # q-network \n",
    "        while not done:\n",
    "            #Q-네트워크로부터 (e의 확률로 랜덤한 액션과 함께) 그리디하게 액션을 선택한다.\n",
    "            action, q = sess.run(\n",
    "                [predict,q_out], \n",
    "                feed_dict={\n",
    "                    inputs:np.identity(env.observation_space.n)[state:state + 1]\n",
    "                })\n",
    "            if np.random.rand(1) < epsilon: # 균등분포\n",
    "                action[0] = env.action_space.sample()\n",
    "\n",
    "            #환경으로부터 새로운 상태와 보상을 얻는다.                \n",
    "            next_state, reward, done, info = env.step(action[0])\n",
    "            #새로운 상태를 네트워크에 피드해줌으로써 Q’값을 구한다.\n",
    "            curr_q = sess.run(q_out, feed_dict = {inputs:np.identity(env.observation_space.n)[next_state:next_state+1]})\n",
    "            #maxQ'값을 구하고 선택된 행동에 대한 타겟 값을 설정한다.\n",
    "            max_next_q = np.max(curr_q)\n",
    "            target_q = q\n",
    "            target_q[0, action[0]] = reward + gamma * max_next_q\n",
    "\n",
    "            #타겟과 예측된 Q값을 이용하여 네트워크를 학습시킨다.\n",
    "            info, new_weights = sess.run([loss_update, weights], feed_dict={inputs:np.identity(env.observation_space.n)[state:state+1], next_q:target_q})\n",
    "            rewards_this_episode += reward\n",
    "            state = next_state\n",
    "            epochs += 1\n",
    "        #모델을 학습해 나감에 따라 랜덤 액션의 가능성을 줄여간다.    \n",
    "        epsilon = epsilon * epsilon_decay\n",
    "        \n",
    "        total_epochs += epochs\n",
    "        total_rewards += rewards_this_episode\n",
    "        \n",
    "print (\"Percent of succesful episodes: \" + str(total_rewards/episodes))"
   ]
  },
  {
   "cell_type": "code",
   "execution_count": null,
   "metadata": {},
   "outputs": [],
   "source": []
  },
  {
   "cell_type": "code",
   "execution_count": null,
   "metadata": {},
   "outputs": [],
   "source": []
  },
  {
   "cell_type": "code",
   "execution_count": null,
   "metadata": {},
   "outputs": [],
   "source": []
  },
  {
   "cell_type": "markdown",
   "metadata": {},
   "source": [
    "## 코드 분석"
   ]
  },
  {
   "cell_type": "markdown",
   "metadata": {},
   "source": [
    "### GridWorld"
   ]
  },
  {
   "cell_type": "code",
   "execution_count": 158,
   "metadata": {},
   "outputs": [],
   "source": [
    "\"\"\"\n",
    "gridworld\n",
    "https://github.com/awjuliani/DeepRL-Agents/blob/master/gridworld.py\n",
    "@author: Administrator\n",
    "\"\"\"\n",
    "\n",
    "import numpy as np\n",
    "import random\n",
    "import itertools\n",
    "import scipy.misc\n",
    "import matplotlib.pyplot as plt"
   ]
  },
  {
   "cell_type": "code",
   "execution_count": 159,
   "metadata": {},
   "outputs": [],
   "source": [
    "class gameOb(): # Game Object\n",
    "    def __init__(self,coordinates,size,intensity,channel,reward,name):\n",
    "        self.x = coordinates[0]\n",
    "        self.y = coordinates[1]\n",
    "        self.size = size\n",
    "        self.intensity = intensity\n",
    "        self.channel = channel\n",
    "        self.reward = reward\n",
    "        self.name = name"
   ]
  },
  {
   "cell_type": "markdown",
   "metadata": {},
   "source": [
    "- gameEnv"
   ]
  },
  {
   "cell_type": "code",
   "execution_count": 215,
   "metadata": {},
   "outputs": [
    {
     "name": "stderr",
     "output_type": "stream",
     "text": [
      "C:\\ProgramData\\Anaconda3\\envs\\keras\\lib\\site-packages\\ipykernel_launcher.py:94: DeprecationWarning: `imresize` is deprecated!\n",
      "`imresize` is deprecated in SciPy 1.0.0, and will be removed in 1.3.0.\n",
      "Use Pillow instead: ``numpy.array(Image.fromarray(arr).resize())``.\n",
      "C:\\ProgramData\\Anaconda3\\envs\\keras\\lib\\site-packages\\ipykernel_launcher.py:95: DeprecationWarning: `imresize` is deprecated!\n",
      "`imresize` is deprecated in SciPy 1.0.0, and will be removed in 1.3.0.\n",
      "Use Pillow instead: ``numpy.array(Image.fromarray(arr).resize())``.\n",
      "C:\\ProgramData\\Anaconda3\\envs\\keras\\lib\\site-packages\\ipykernel_launcher.py:96: DeprecationWarning: `imresize` is deprecated!\n",
      "`imresize` is deprecated in SciPy 1.0.0, and will be removed in 1.3.0.\n",
      "Use Pillow instead: ``numpy.array(Image.fromarray(arr).resize())``.\n"
     ]
    },
    {
     "data": {
      "image/png": "[encoded data removed]",
      "text/plain": [
       "<Figure size 432x288 with 1 Axes>"
      ]
     },
     "metadata": {
      "needs_background": "light"
     },
     "output_type": "display_data"
    }
   ],
   "source": [
    "partial = False\n",
    "size = 5\n",
    "env = gameEnv(partial=partial, size=size)"
   ]
  },
  {
   "cell_type": "code",
   "execution_count": 223,
   "metadata": {},
   "outputs": [
    {
     "name": "stdout",
     "output_type": "stream",
     "text": [
      "hero (0, 0)\n",
      "goal (4, 1)\n",
      "fire (4, 4)\n",
      "goal (3, 4)\n",
      "fire (0, 1)\n",
      "goal (3, 3)\n",
      "goal (2, 0)\n"
     ]
    }
   ],
   "source": [
    "for ob in env.objects:\n",
    "    print(ob.name, (ob.x, ob.y))"
   ]
  },
  {
   "cell_type": "code",
   "execution_count": 216,
   "metadata": {},
   "outputs": [
    {
     "name": "stdout",
     "output_type": "stream",
     "text": [
      "(0, 0)\n",
      "(0, 1)\n",
      "(0, 2)\n",
      "(0, 3)\n",
      "(0, 4)\n",
      "(1, 0)\n",
      "(1, 1)\n",
      "(1, 2)\n",
      "(1, 3)\n",
      "(1, 4)\n",
      "(2, 0)\n",
      "(2, 1)\n",
      "(2, 2)\n",
      "(2, 3)\n",
      "(2, 4)\n",
      "(3, 0)\n",
      "(3, 1)\n",
      "(3, 2)\n",
      "(3, 3)\n",
      "(3, 4)\n",
      "(4, 0)\n",
      "(4, 1)\n",
      "(4, 2)\n",
      "(4, 3)\n",
      "(4, 4)\n"
     ]
    }
   ],
   "source": [
    "iterables = [range(5), range(5)]\n",
    "for t in itertools.product(*iterables):\n",
    "    print(t)"
   ]
  },
  {
   "cell_type": "code",
   "execution_count": 224,
   "metadata": {},
   "outputs": [
    {
     "data": {
      "text/plain": [
       "(array([[[1., 1., 1.],\n",
       "         [1., 1., 1.],\n",
       "         [1., 1., 1.],\n",
       "         [1., 1., 1.],\n",
       "         [1., 1., 1.],\n",
       "         [1., 1., 1.],\n",
       "         [1., 1., 1.]],\n",
       " \n",
       "        [[1., 1., 1.],\n",
       "         [0., 0., 0.],\n",
       "         [0., 0., 0.],\n",
       "         [0., 0., 0.],\n",
       "         [0., 0., 0.],\n",
       "         [0., 0., 0.],\n",
       "         [1., 1., 1.]],\n",
       " \n",
       "        [[1., 1., 1.],\n",
       "         [0., 0., 0.],\n",
       "         [0., 0., 0.],\n",
       "         [0., 0., 0.],\n",
       "         [0., 0., 0.],\n",
       "         [0., 0., 0.],\n",
       "         [1., 1., 1.]],\n",
       " \n",
       "        [[1., 1., 1.],\n",
       "         [0., 0., 0.],\n",
       "         [0., 0., 0.],\n",
       "         [0., 0., 0.],\n",
       "         [0., 0., 0.],\n",
       "         [0., 0., 0.],\n",
       "         [1., 1., 1.]],\n",
       " \n",
       "        [[1., 1., 1.],\n",
       "         [0., 0., 0.],\n",
       "         [0., 0., 0.],\n",
       "         [0., 0., 0.],\n",
       "         [0., 0., 0.],\n",
       "         [0., 0., 0.],\n",
       "         [1., 1., 1.]],\n",
       " \n",
       "        [[1., 1., 1.],\n",
       "         [0., 0., 0.],\n",
       "         [0., 0., 0.],\n",
       "         [0., 0., 0.],\n",
       "         [0., 0., 0.],\n",
       "         [0., 0., 0.],\n",
       "         [1., 1., 1.]],\n",
       " \n",
       "        [[1., 1., 1.],\n",
       "         [1., 1., 1.],\n",
       "         [1., 1., 1.],\n",
       "         [1., 1., 1.],\n",
       "         [1., 1., 1.],\n",
       "         [1., 1., 1.],\n",
       "         [1., 1., 1.]]]), (7, 7, 3))"
      ]
     },
     "execution_count": 224,
     "metadata": {},
     "output_type": "execute_result"
    }
   ],
   "source": [
    "a = np.ones([5+2,\n",
    "             5+2,\n",
    "             3])\n",
    "a[1:-1,1:-1,:] = 0\n",
    "a, a.shape"
   ]
  },
  {
   "cell_type": "code",
   "execution_count": 225,
   "metadata": {},
   "outputs": [
    {
     "data": {
      "text/plain": [
       "array([[[1., 1., 1.],\n",
       "        [1., 1., 1.],\n",
       "        [1., 1., 1.],\n",
       "        [1., 1., 1.],\n",
       "        [1., 1., 1.],\n",
       "        [1., 1., 1.],\n",
       "        [1., 1., 1.]],\n",
       "\n",
       "       [[1., 1., 1.],\n",
       "        [0., 0., 0.],\n",
       "        [0., 0., 0.],\n",
       "        [0., 0., 0.],\n",
       "        [0., 0., 0.],\n",
       "        [0., 0., 0.],\n",
       "        [1., 1., 1.]],\n",
       "\n",
       "       [[1., 1., 1.],\n",
       "        [0., 0., 0.],\n",
       "        [0., 0., 0.],\n",
       "        [0., 0., 0.],\n",
       "        [0., 0., 0.],\n",
       "        [0., 0., 0.],\n",
       "        [1., 1., 1.]],\n",
       "\n",
       "       [[1., 1., 1.],\n",
       "        [0., 0., 0.],\n",
       "        [0., 0., 0.],\n",
       "        [0., 0., 0.],\n",
       "        [0., 0., 0.],\n",
       "        [0., 0., 0.],\n",
       "        [1., 1., 1.]],\n",
       "\n",
       "       [[1., 1., 1.],\n",
       "        [0., 0., 0.],\n",
       "        [0., 0., 0.],\n",
       "        [0., 0., 0.],\n",
       "        [0., 0., 0.],\n",
       "        [0., 0., 0.],\n",
       "        [1., 1., 1.]],\n",
       "\n",
       "       [[1., 1., 1.],\n",
       "        [0., 0., 0.],\n",
       "        [0., 0., 0.],\n",
       "        [0., 0., 0.],\n",
       "        [0., 0., 0.],\n",
       "        [0., 0., 0.],\n",
       "        [1., 1., 1.]],\n",
       "\n",
       "       [[1., 1., 1.],\n",
       "        [1., 1., 1.],\n",
       "        [1., 1., 1.],\n",
       "        [1., 1., 1.],\n",
       "        [1., 1., 1.],\n",
       "        [1., 1., 1.],\n",
       "        [1., 1., 1.]]])"
      ]
     },
     "execution_count": 225,
     "metadata": {},
     "output_type": "execute_result"
    }
   ],
   "source": [
    "a"
   ]
  },
  {
   "cell_type": "code",
   "execution_count": 226,
   "metadata": {},
   "outputs": [
    {
     "name": "stdout",
     "output_type": "stream",
     "text": [
      "hero \n",
      "\n",
      "\n",
      "goal \n",
      "\n",
      "\n",
      "fire \n",
      "\n",
      "\n",
      "goal \n",
      "\n",
      "\n",
      "fire \n",
      "\n",
      "\n",
      "goal \n",
      "\n",
      "\n",
      "goal \n",
      "\n",
      "\n"
     ]
    }
   ],
   "source": [
    "for item in env.objects:\n",
    "    print(item.name, '\\n\\n')\n",
    "    a[item.y+1:item.y+item.size+1,\n",
    "      item.x+1:item.x+item.size+1,\n",
    "      item.channel] = item.intensity"
   ]
  },
  {
   "cell_type": "code",
   "execution_count": 248,
   "metadata": {},
   "outputs": [
    {
     "data": {
      "text/plain": [
       "'1.2.1'"
      ]
     },
     "execution_count": 248,
     "metadata": {},
     "output_type": "execute_result"
    }
   ],
   "source": [
    "scipy.__version__"
   ]
  },
  {
   "cell_type": "code",
   "execution_count": 259,
   "metadata": {},
   "outputs": [
    {
     "data": {
      "image/png": "[encoded data removed]",
      "text/plain": [
       "<Figure size 432x288 with 1 Axes>"
      ]
     },
     "metadata": {
      "needs_background": "light"
     },
     "output_type": "display_data"
    }
   ],
   "source": [
    "plt.imshow(a[:,:,0])\n",
    "plt.show()"
   ]
  },
  {
   "cell_type": "code",
   "execution_count": 303,
   "metadata": {},
   "outputs": [
    {
     "data": {
      "text/plain": [
       "array([[1., 1., 1., 1., 1., 1., 1.],\n",
       "       [1., 0., 0., 0., 0., 0., 1.],\n",
       "       [1., 1., 0., 0., 0., 0., 1.],\n",
       "       [1., 0., 0., 0., 0., 0., 1.],\n",
       "       [1., 0., 0., 0., 0., 0., 1.],\n",
       "       [1., 0., 0., 0., 0., 1., 1.],\n",
       "       [1., 1., 1., 1., 1., 1., 1.]])"
      ]
     },
     "execution_count": 303,
     "metadata": {},
     "output_type": "execute_result"
    }
   ],
   "source": [
    "a[:,:,0]"
   ]
  },
  {
   "cell_type": "code",
   "execution_count": 302,
   "metadata": {},
   "outputs": [
    {
     "name": "stdout",
     "output_type": "stream",
     "text": [
      "[[255 255 255 255 255 255 255 255 255 255]\n",
      " [255   0   0   0   0   0   0   0   0 255]\n",
      " [255   0   0   0   0   0   0   0   0 255]\n",
      " [255 255 255   0   0   0   0   0   0 255]\n",
      " [255   0   0   0   0   0   0   0   0 255]\n",
      " [255   0   0   0   0   0   0   0   0 255]\n",
      " [255   0   0   0   0   0   0   0   0 255]\n",
      " [255   0   0   0   0   0   0 255 255 255]\n",
      " [255   0   0   0   0   0   0 255 255 255]\n",
      " [255 255 255 255 255 255 255 255 255 255]]\n"
     ]
    },
    {
     "name": "stderr",
     "output_type": "stream",
     "text": [
      "C:\\ProgramData\\Anaconda3\\envs\\keras\\lib\\site-packages\\ipykernel_launcher.py:2: DeprecationWarning: `imresize` is deprecated!\n",
      "`imresize` is deprecated in SciPy 1.0.0, and will be removed in 1.3.0.\n",
      "Use Pillow instead: ``numpy.array(Image.fromarray(arr).resize())``.\n",
      "  \n"
     ]
    },
    {
     "data": {
      "text/plain": [
       "array([[255., 255., 255., 255., 255., 255., 255., 255., 255., 255.],\n",
       "       [255.,   0.,   0.,   0.,   0.,   0.,   0.,   0.,   0., 255.],\n",
       "       [255.,   0.,   0.,   0.,   0.,   0.,   0.,   0.,   0., 255.],\n",
       "       [255., 255., 255.,   0.,   0.,   0.,   0.,   0.,   0., 255.],\n",
       "       [255.,   0.,   0.,   0.,   0.,   0.,   0.,   0.,   0., 255.],\n",
       "       [255.,   0.,   0.,   0.,   0.,   0.,   0.,   0.,   0., 255.],\n",
       "       [255.,   0.,   0.,   0.,   0.,   0.,   0.,   0.,   0., 255.],\n",
       "       [255.,   0.,   0.,   0.,   0.,   0.,   0., 255., 255., 255.],\n",
       "       [255.,   0.,   0.,   0.,   0.,   0.,   0., 255., 255., 255.],\n",
       "       [255., 255., 255., 255., 255., 255., 255., 255., 255., 255.]],\n",
       "      dtype=float32)"
      ]
     },
     "execution_count": 302,
     "metadata": {},
     "output_type": "execute_result"
    }
   ],
   "source": [
    "from PIL import Image\n",
    "print(scipy.misc.imresize(a[:,:,0], [10,10,1], interp='nearest'))\n",
    "np.array(Image.fromarray(a[:,:,0], mode=None).resize((10, 10))) * 255"
   ]
  },
  {
   "cell_type": "code",
   "execution_count": 304,
   "metadata": {},
   "outputs": [],
   "source": [
    "b = np.array(Image.fromarray(a[:,:,0], mode=None).resize((84, 84))) * 255\n",
    "c = np.array(Image.fromarray(a[:,:,1], mode=None).resize((84, 84))) * 255\n",
    "d = np.array(Image.fromarray(a[:,:,2], mode=None).resize((84, 84))) * 255"
   ]
  },
  {
   "cell_type": "code",
   "execution_count": 308,
   "metadata": {},
   "outputs": [
    {
     "data": {
      "text/plain": [
       "(84, 84, 3)"
      ]
     },
     "execution_count": 308,
     "metadata": {},
     "output_type": "execute_result"
    }
   ],
   "source": [
    "np.stack([b, c, d], axis=2).shape"
   ]
  },
  {
   "cell_type": "code",
   "execution_count": 161,
   "metadata": {},
   "outputs": [],
   "source": [
    "class gameEnv():\n",
    "    def __init__(self,partial,size):\n",
    "        self.sizeX = size\n",
    "        self.sizeY = size\n",
    "        self.actions = 4\n",
    "        self.objects = [] # object를 저장하는 리스트\n",
    "        self.partial = partial\n",
    "        # self.renderEnv()에서 반환된 RGB 이미지를 반환\n",
    "        a = self.reset()\n",
    "        plt.imshow(a,interpolation=\"nearest\")\n",
    "        \n",
    "    def reset(self):\n",
    "        self.objects = []\n",
    "        \"\"\"\n",
    "        -----gameob parameter----\n",
    "        coordinates\n",
    "        size = 1\n",
    "        intensity = 1\n",
    "        channel = 0, 1, 2; hero, hole, bug 구분 채널\n",
    "        reward = None. 1, -1; hole에 가면 -1, bug에 가면 +1\n",
    "        name = 'hero', 'goal', 'fire'\n",
    "        \"\"\"\n",
    "        # self.newPosition() : \n",
    "        # 1. 좌표평면 상에 다른 object가 있는지 탐색\n",
    "        # 2. 존재한다면 그 위치를 제외한 임의의 위치에 obejct를 위치시킴\n",
    "        hero = gameOb(self.newPosition(),1,1,2,None,'hero')\n",
    "        self.objects.append(hero)\n",
    "        bug = gameOb(self.newPosition(),1,1,1,1,'goal')\n",
    "        self.objects.append(bug)\n",
    "        hole = gameOb(self.newPosition(),1,1,0,-1,'fire')\n",
    "        self.objects.append(hole)\n",
    "        bug2 = gameOb(self.newPosition(),1,1,1,1,'goal')\n",
    "        self.objects.append(bug2)\n",
    "        hole2 = gameOb(self.newPosition(),1,1,0,-1,'fire')\n",
    "        self.objects.append(hole2)\n",
    "        bug3 = gameOb(self.newPosition(),1,1,1,1,'goal')\n",
    "        self.objects.append(bug3)\n",
    "        bug4 = gameOb(self.newPosition(),1,1,1,1,'goal')\n",
    "        self.objects.append(bug4)\n",
    "        # self.renderEnv() :\n",
    "        # 각각 hero, goal, fire는 다른 channel값을 가진다.\n",
    "        # 3개 >> RGB로 표현할 계획\n",
    "        # 이를 channel별로 (7,7,3) 배열로 뿌려주고\n",
    "        # a[:,:,channel]을 (84,84)로 resize한 후에\n",
    "        # 이를 합친 배열을 return한다.\n",
    "        # 만일 partial=True 옵션을 부여하면, hero를 기준으로 3*3을 84*84로 반환\n",
    "        state = self.renderEnv()\n",
    "        self.state = state\n",
    "        return state\n",
    "\n",
    "    def moveChar(self,direction):\n",
    "        # 0 - up, 1 - down, 2 - left, 3 - right\n",
    "        hero = self.objects[0]\n",
    "        heroX = hero.x\n",
    "        heroY = hero.y\n",
    "        penalize = 0.\n",
    "        if direction == 0 and hero.y >= 1:\n",
    "            hero.y -= 1\n",
    "        if direction == 1 and hero.y <= self.sizeY-2:\n",
    "            hero.y += 1\n",
    "        if direction == 2 and hero.x >= 1:\n",
    "            hero.x -= 1\n",
    "        if direction == 3 and hero.x <= self.sizeX-2:\n",
    "            hero.x += 1     \n",
    "        if hero.x == heroX and hero.y == heroY:\n",
    "            penalize = 0.0\n",
    "        self.objects[0] = hero\n",
    "        return penalize\n",
    "    \n",
    "    def newPosition(self):\n",
    "        # 좌표 생성 ---------------------------------------------------\n",
    "        iterables = [ range(self.sizeX), range(self.sizeY) ]\n",
    "        points = [] # size * size의 total 좌표 저장\n",
    "        for t in itertools.product(*iterables):\n",
    "            points.append(t)\n",
    "        # object 현재 위치 탐색 ----------------------------------------\n",
    "        currentPositions = []\n",
    "        for objectA in self.objects:\n",
    "            if (objectA.x, objectA.y) not in currentPositions: # object의 현재 위치 지정\n",
    "                currentPositions.append(\n",
    "                    (objectA.x,objectA.y)\n",
    "                ) \n",
    "        # 좌표평면 상에서 object가 위치하고 있는 좌표 제거 -------------\n",
    "        for pos in currentPositions:\n",
    "            points.remove(pos)\n",
    "        # randomize하게 이미 존재하는 object가 위치하는 자리를 제외한\n",
    "        # position을 반환 ----------------------------------------------\n",
    "        location = np.random.choice(range(len(points)),replace=False)\n",
    "        return points[location]\n",
    "\n",
    "    def checkGoal(self):\n",
    "        others = []\n",
    "        for obj in self.objects:\n",
    "            if obj.name == 'hero':\n",
    "                hero = obj\n",
    "            else:\n",
    "                others.append(obj)\n",
    "        ended = False\n",
    "        for other in others:\n",
    "            if hero.x == other.x and hero.y == other.y:\n",
    "                self.objects.remove(other)\n",
    "                if other.reward == 1:\n",
    "                    self.objects.append(gameOb(self.newPosition(),1,1,1,1,'goal'))\n",
    "                else: \n",
    "                    self.objects.append(gameOb(self.newPosition(),1,1,0,-1,'fire'))\n",
    "                return other.reward,False\n",
    "        if ended == False:\n",
    "            return 0.0,False\n",
    "\n",
    "    def renderEnv(self):\n",
    "        #a = np.zeros([self.sizeY,self.sizeX,3])\n",
    "        # (7,7,3)으로 render, channel수는 3\n",
    "        # 7,7을 channel로 뿌려줌 --------------------------\n",
    "        a = np.ones([self.sizeY+2,self.sizeX+2,3])\n",
    "        a[1:-1,1:-1,:] = 0\n",
    "        hero = None\n",
    "        for item in self.objects:\n",
    "            a[item.y+1:item.y+item.size+1,\n",
    "              item.x+1:item.x+item.size+1,\n",
    "              item.channel] = item.intensity\n",
    "            if item.name == 'hero':\n",
    "                hero = item\n",
    "        if self.partial == True:\n",
    "            a = a[hero.y:hero.y+3,hero.x:hero.x+3,:]\n",
    "        # Depreciation scipy 1.3.0\n",
    "#         b = scipy.misc.imresize(a[:,:,0],[84,84,1],interp='nearest')\n",
    "#         c = scipy.misc.imresize(a[:,:,1],[84,84,1],interp='nearest')\n",
    "#         d = scipy.misc.imresize(a[:,:,2],[84,84,1],interp='nearest')\n",
    "        b = np.array(Image.fromarray(a[:,:,0], mode=None).resize((84, 84))) * 255\n",
    "        c = np.array(Image.fromarray(a[:,:,1], mode=None).resize((84, 84))) * 255\n",
    "        d = np.array(Image.fromarray(a[:,:,2], mode=None).resize((84, 84))) * 255\n",
    "        # hero, goal, fire를 RGB 새게 채널로 만들어 합쳐서 리던 -------\n",
    "        a = np.stack([b,c,d],axis=2)\n",
    "        return a\n",
    "\n",
    "    def step(self,action):\n",
    "        penalty = self.moveChar(action)\n",
    "        reward,done = self.checkGoal()\n",
    "        state = self.renderEnv()\n",
    "        if reward == None:\n",
    "            print(done)\n",
    "            print(reward)\n",
    "            print(penalty)\n",
    "            return state,(reward+penalty),done\n",
    "        else:\n",
    "            return state,(reward+penalty),done"
   ]
  },
  {
   "cell_type": "code",
   "execution_count": 309,
   "metadata": {},
   "outputs": [],
   "source": [
    "\"\"\"\n",
    "Double Dueling DQN: Gridworld\n",
    "http://localhost:8888/notebooks/Desktop/%EA%B0%95%EC%9D%98%EA%B4%80%EB%A0%A8/Chap6.Double-Dueling-DQN.ipynb\n",
    "강화학습 첫걸음\n",
    "\"\"\"\n",
    "\"\"\"\n",
    "에이전트는 파란색 사각형을 위, 아래, 왼쪽, 오른쪽으로 이동시킨다. \n",
    "목표는 빨간색 사각형 (-1의 보상)을 피하여 녹색 사각형 (+1의 보상)까지 도달하는 것이다. \n",
    "세가지 블록의 위치는 매 에피소드마다 랜덤하게 변하게 된다. \n",
    "\"\"\"\n",
    "import gym\n",
    "import numpy as np\n",
    "import random\n",
    "import tensorflow as tf\n",
    "import tensorflow.contrib.slim as slim\n",
    "import matplotlib.pyplot as plt\n",
    "import scipy.misc\n",
    "import os\n",
    "%matplotlib inline"
   ]
  },
  {
   "cell_type": "code",
   "execution_count": 310,
   "metadata": {},
   "outputs": [
    {
     "name": "stderr",
     "output_type": "stream",
     "text": [
      "C:\\ProgramData\\Anaconda3\\envs\\keras\\lib\\site-packages\\ipykernel_launcher.py:94: DeprecationWarning: `imresize` is deprecated!\n",
      "`imresize` is deprecated in SciPy 1.0.0, and will be removed in 1.3.0.\n",
      "Use Pillow instead: ``numpy.array(Image.fromarray(arr).resize())``.\n",
      "C:\\ProgramData\\Anaconda3\\envs\\keras\\lib\\site-packages\\ipykernel_launcher.py:95: DeprecationWarning: `imresize` is deprecated!\n",
      "`imresize` is deprecated in SciPy 1.0.0, and will be removed in 1.3.0.\n",
      "Use Pillow instead: ``numpy.array(Image.fromarray(arr).resize())``.\n",
      "C:\\ProgramData\\Anaconda3\\envs\\keras\\lib\\site-packages\\ipykernel_launcher.py:96: DeprecationWarning: `imresize` is deprecated!\n",
      "`imresize` is deprecated in SciPy 1.0.0, and will be removed in 1.3.0.\n",
      "Use Pillow instead: ``numpy.array(Image.fromarray(arr).resize())``.\n"
     ]
    },
    {
     "data": {
      "image/png": "[encoded data removed]",
      "text/plain": [
       "<Figure size 432x288 with 1 Axes>"
      ]
     },
     "metadata": {
      "needs_background": "light"
     },
     "output_type": "display_data"
    }
   ],
   "source": [
    "#========= 게임 환경 로딩 =========#\n",
    "env = gameEnv(partial=False,size=5)"
   ]
  },
  {
   "cell_type": "code",
   "execution_count": 314,
   "metadata": {},
   "outputs": [
    {
     "name": "stdout",
     "output_type": "stream",
     "text": [
      "hero (0, 1)\n",
      "goal (3, 3)\n",
      "fire (2, 1)\n",
      "goal (0, 3)\n",
      "fire (4, 4)\n",
      "goal (3, 0)\n",
      "goal (4, 2)\n"
     ]
    }
   ],
   "source": [
    "for item in env.objects:\n",
    "    print(item.name, (item.x, item.y))"
   ]
  },
  {
   "cell_type": "code",
   "execution_count": 316,
   "metadata": {},
   "outputs": [],
   "source": [
    "#========= 신경망 학습 =========#\n",
    "\n",
    "#모든 학습 파라미터를 설정한다            \n",
    "batch_size = 32 #각 학습 단계에서 사용할 경험의 수\n",
    "update_freq = 4 #학습 단계 기준의 업데이트 주기 \n",
    "y = .99 #타겟 Q-값에 대한 할인 계수\n",
    "startE = 1 #시작 시 랜덤 액션의 가능성\n",
    "endE = 0.1 #종료 시 랜덤 액션의 가능성\n",
    "anneling_steps = 10000. #startE에서 endE로 줄어드는데 필요한 학습 단계 수\n",
    "num_episodes = 10000 #네트워크를 학습시키기 위한 게임 환경 에피소드의 수\n",
    "pre_train_steps = 10000 #학습 시작 전 랜덤 액션의 단계 수\n",
    "max_epLength = 50 #허용되는 최대 에피소드 길이\n",
    "load_model = False #저장된 모델을 로딩할 지 여부\n",
    "path = \"./dqn\" #모델을 저장할 경로\n",
    "h_size = 512 #어드밴티지 스트림과 값 스트림으로 분리되기 전의 마지막 컨벌루션 레이어의 크기\n",
    "tau = 0.001 #타겟 네트워크를 제1네트워크로 업데이트시켜 가는 비율"
   ]
  },
  {
   "cell_type": "markdown",
   "metadata": {},
   "source": [
    "#### Tensorboard Test"
   ]
  },
  {
   "cell_type": "code",
   "execution_count": 378,
   "metadata": {},
   "outputs": [],
   "source": [
    "import tensorflow as tf\n",
    "tf.reset_default_graph()"
   ]
  },
  {
   "cell_type": "code",
   "execution_count": 352,
   "metadata": {},
   "outputs": [],
   "source": [
    "X = tf.random_uniform([200, 1,1,512])\n",
    "Y = tf.split(X, 2, 3)\n",
    "Y_shape = tf.shape(Y[1])\n",
    "sess = tf.Session()\n",
    "X_v, Y_v, Y_shape_v = sess.run([X, Y, Y_shape])\n",
    "sess.close()"
   ]
  },
  {
   "cell_type": "code",
   "execution_count": 356,
   "metadata": {},
   "outputs": [
    {
     "data": {
      "text/plain": [
       "(200, 1, 1, 512)"
      ]
     },
     "execution_count": 356,
     "metadata": {},
     "output_type": "execute_result"
    }
   ],
   "source": [
    "X_v.shape"
   ]
  },
  {
   "cell_type": "code",
   "execution_count": 361,
   "metadata": {},
   "outputs": [
    {
     "data": {
      "text/plain": [
       "((200, 1, 1, 256), (200, 1, 1, 256))"
      ]
     },
     "execution_count": 361,
     "metadata": {},
     "output_type": "execute_result"
    }
   ],
   "source": [
    "Y_v[0].shape, Y_v[1].shape"
   ]
  },
  {
   "cell_type": "code",
   "execution_count": 367,
   "metadata": {},
   "outputs": [
    {
     "data": {
      "text/plain": [
       "((5, 224, 224, 3), (5, 224, 224, 3))"
      ]
     },
     "execution_count": 367,
     "metadata": {},
     "output_type": "execute_result"
    }
   ],
   "source": [
    "B, H, W, C = 5, 224, 224, 3\n",
    "data = np.random.randn(B, H, W, C).astype(np.float32)\n",
    "mask = np.random.randint(2, size=(B, H, W, C)).astype(np.float32)\n",
    "data.shape, mask.shape"
   ]
  },
  {
   "cell_type": "code",
   "execution_count": 374,
   "metadata": {},
   "outputs": [
    {
     "data": {
      "text/plain": [
       "(5, 1, 1, 1)"
      ]
     },
     "execution_count": 374,
     "metadata": {},
     "output_type": "execute_result"
    }
   ],
   "source": [
    "(data * mask).sum(axis=(1,2,3), keepdims=True).shape"
   ]
  },
  {
   "cell_type": "code",
   "execution_count": 380,
   "metadata": {},
   "outputs": [],
   "source": [
    "# #최종 Q-값을 얻기 위해 어드밴티지 스트림과 값 스트림을 조합해 준다. \n",
    "# Qout = Value + tf.subtract(Advantage,\n",
    "#                            tf.reduce_mean(Advantage, axis=1,\n",
    "#                                           keep_dims=True)\n",
    "#                           )\n",
    "# predict = tf.argmax(Qout, 1)\n",
    "\n",
    "#타겟 Q 값과 예측 Q 값 간의 제곱합 차를 취함으로써 비용을 구한다.\n",
    "targetQ = tf.placeholder(shape=[None],dtype=tf.float32)\n",
    "actions = tf.placeholder(shape=[None],dtype=tf.int32)\n",
    "actions_onehot = tf.one_hot(actions, 4, # indices : A Tensor of indices\n",
    "                            dtype=tf.float32) # depth : A scalar defining the depth of the one hot dimention\n",
    "\n",
    "# Q = tf.reduce_sum(tf.multiply(Qout, actions_onehot), axis=1)\n",
    "\n",
    "# td_error = tf.square(targetQ - Q)\n",
    "# loss = tf.reduce_mean(td_error)\n",
    "# trainer = tf.train.AdamOptimizer(learning_rate=0.0001)\n",
    "# updateModel = trainer.minimize(loss)\n",
    "\n",
    "sess = tf.Session()\n",
    "t1, t2 = sess.run([actions_onehot, actions], feed_dict={actions:[1,3,4,3,2,2,3]})"
   ]
  },
  {
   "cell_type": "code",
   "execution_count": 382,
   "metadata": {},
   "outputs": [
    {
     "data": {
      "text/plain": [
       "(array([[0., 1., 0., 0.],\n",
       "        [0., 0., 0., 1.],\n",
       "        [0., 0., 0., 0.],\n",
       "        [0., 0., 0., 1.],\n",
       "        [0., 0., 1., 0.],\n",
       "        [0., 0., 1., 0.],\n",
       "        [0., 0., 0., 1.]], dtype=float32), array([1, 3, 4, 3, 2, 2, 3]))"
      ]
     },
     "execution_count": 382,
     "metadata": {},
     "output_type": "execute_result"
    }
   ],
   "source": [
    "t1, t2"
   ]
  },
  {
   "cell_type": "code",
   "execution_count": 390,
   "metadata": {},
   "outputs": [
    {
     "name": "stdout",
     "output_type": "stream",
     "text": [
      "[[0.  0.  0.  0.4]\n",
      " [0.  0.  0.  0. ]\n",
      " [0.  0.3 0.  0. ]\n",
      " [0.7 0.  0.  0. ]]\n"
     ]
    },
    {
     "data": {
      "text/plain": [
       "array([0.4, 0. , 0.3, 0.7])"
      ]
     },
     "execution_count": 390,
     "metadata": {},
     "output_type": "execute_result"
    }
   ],
   "source": [
    "q1 = np.array([.7, .3, .2, .4])\n",
    "onehot_vec = np.array(\n",
    "    [[0,0,0,1],\n",
    "     [0,0,0,0],\n",
    "     [0,1,0,0],\n",
    "     [1,0,0,0]]\n",
    ")\n",
    "print(q1 * onehot_vec)\n",
    "np.sum(q1 * onehot_vec, axis=1)"
   ]
  },
  {
   "cell_type": "code",
   "execution_count": 336,
   "metadata": {},
   "outputs": [],
   "source": [
    "# 저수준의 tensorflow API를 간편하게 사용할 수 있는 고수준 경량 API\n",
    "# https://www.popit.kr/tf-slim-%EC%8B%9C%EC%9E%91%ED%95%98%EA%B8%B0/\n",
    "import tensorflow.contrib.slim as slim\n",
    "#네트워크는 게임으로부터 하나의 프레임을 받아 이를 배열로 만든다 (flattening).\n",
    "#배열의 크기를 재조절해주고 4개의 컨벌루션 레이어를 거치면서 처리해 준다.\n",
    "scalarInput =  tf.placeholder(shape=[None,84*84*3],dtype=tf.float32)\n",
    "imageIn = tf.reshape(scalarInput,shape=[-1,84,84,3])\n",
    "conv1 = slim.conv2d(inputs=imageIn, num_outputs=32, kernel_size=[8,8],\n",
    "                    stride=[4,4],padding='VALID', \n",
    "                    biases_initializer=None)\n",
    "conv2 = slim.conv2d(inputs=conv1, num_outputs=64, kernel_size=[4,4],\n",
    "                    stride=[2,2],padding='VALID', \n",
    "                    biases_initializer=None)\n",
    "conv3 = slim.conv2d(inputs=conv2, num_outputs=64, kernel_size=[3,3],\n",
    "                    stride=[1,1],padding='VALID', \n",
    "                    biases_initializer=None)\n",
    "conv4 = slim.conv2d(inputs=conv3, num_outputs=h_size, kernel_size=[7,7],\n",
    "                    stride=[1,1],padding='VALID', \n",
    "                    biases_initializer=None)\n",
    "\n",
    "# 마지막 컨벌루션 레이어로부터의 출력값을 취한 후, \n",
    "# 이를 어드밴티지 스트림과 값 스트림으로 분리한다. \n",
    "streamAC, streamVC = tf.split(conv4, 2, 3) # value, num_or_size_splits, axis\n",
    "                                           # 1*1*512 -> [1*1*256, 1*1*256]\n",
    "streamA = slim.flatten(streamAC) # 256\n",
    "streamV = slim.flatten(streamVC) # 256\n",
    "AW = tf.Variable(tf.random_normal([h_size//2, env.actions])) # 256*6\n",
    "VW = tf.Variable(tf.random_normal([h_size//2,1])) # 256*1\n",
    "Advantage = tf.matmul(streamA, AW)\n",
    "Value = tf.matmul(streamV, VW)\n",
    "\n",
    "#최종 Q-값을 얻기 위해 어드밴티지 스트림과 값 스트림을 조합해 준다. \n",
    "Qout = Value + tf.subtract(Advantage,\n",
    "                           tf.reduce_mean(Advantage, axis=1,\n",
    "                                          keep_dims=True)\n",
    "                          )\n",
    "predict = tf.argmax(Qout, 1)\n",
    "\n",
    "#타겟 Q 값과 예측 Q 값 간의 제곱합 차를 취함으로써 비용을 구한다.\n",
    "targetQ = tf.placeholder(shape=[None],dtype=tf.float32)\n",
    "actions = tf.placeholder(shape=[None],dtype=tf.int32)\n",
    "actions_onehot = tf.one_hot(actions, env.actions, # indices : A Tensor of indices\n",
    "                            dtype=tf.float32) # depth : A scalar defining the depth of the one hot dimention\n",
    "\n",
    "Q = tf.reduce_sum(tf.multiply(Qout, actions_onehot), axis=1)\n",
    "\n",
    "td_error = tf.square(targetQ - Q)\n",
    "loss = tf.reduce_mean(td_error)\n",
    "trainer = tf.train.AdamOptimizer(learning_rate=0.0001)\n",
    "updateModel = trainer.minimize(loss)"
   ]
  },
  {
   "cell_type": "code",
   "execution_count": 337,
   "metadata": {},
   "outputs": [],
   "source": [
    "with tf.Session() as sess:\n",
    "    writer = tf.summary.FileWriter('./tensordata/logs', sess.graph)"
   ]
  },
  {
   "cell_type": "code",
   "execution_count": 317,
   "metadata": {},
   "outputs": [],
   "source": [
    "#========= 네트워크 구현 =========#\n",
    "class Qnetwork():\n",
    "    def __init__(self,h_size):\n",
    "        #네트워크는 게임으로부터 하나의 프레임을 받아 이를 배열로 만든다 (flattening).\n",
    "        #배열의 크기를 재조절해주고 4개의 컨벌루션 레이어를 거치면서 처리해 준다.\n",
    "        self.scalarInput =  tf.placeholder(shape=[None,84*84*3],dtype=tf.float32)\n",
    "        self.imageIn = tf.reshape(self.scalarInput,shape=[-1,84,84,3])\n",
    "        self.conv1 = slim.conv2d( \\\n",
    "            inputs=self.imageIn,num_outputs=32,kernel_size=[8,8],stride=[4,4],padding='VALID', biases_initializer=None)\n",
    "        self.conv2 = slim.conv2d( \\\n",
    "            inputs=self.conv1,num_outputs=64,kernel_size=[4,4],stride=[2,2],padding='VALID', biases_initializer=None)\n",
    "        self.conv3 = slim.conv2d( \\\n",
    "            inputs=self.conv2,num_outputs=64,kernel_size=[3,3],stride=[1,1],padding='VALID', biases_initializer=None)\n",
    "        self.conv4 = slim.conv2d( \\\n",
    "            inputs=self.conv3,num_outputs=h_size,kernel_size=[7,7],stride=[1,1],padding='VALID', biases_initializer=None)\n",
    "        \n",
    "        #마지막 컨벌루션 레이어로부터의 출력값을 취한 후, 이를 어드밴티지 스트림과 값 스트림으로 분리한다. \n",
    "        self.streamAC,self.streamVC = tf.split(self.conv4,2,3)\n",
    "        self.streamA = slim.flatten(self.streamAC)\n",
    "        self.streamV = slim.flatten(self.streamVC)\n",
    "        self.AW = tf.Variable(tf.random_normal([h_size//2,env.actions]))\n",
    "        self.VW = tf.Variable(tf.random_normal([h_size//2,1]))\n",
    "        self.Advantage = tf.matmul(self.streamA,self.AW)\n",
    "        self.Value = tf.matmul(self.streamV,self.VW)\n",
    "        \n",
    "        #최종 Q-값을 얻기 위해 어드밴티지 스트림과 값 스트림을 조합해 준다. \n",
    "        self.Qout = self.Value + tf.subtract(self.Advantage,tf.reduce_mean(self.Advantage,axis=1,keep_dims=True))\n",
    "        self.predict = tf.argmax(self.Qout,1)\n",
    "        \n",
    "        #타겟 Q 값과 예측 Q 값 간의 제곱합 차를 취함으로써 비용을 구한다.\n",
    "        self.targetQ = tf.placeholder(shape=[None],dtype=tf.float32)\n",
    "        self.actions = tf.placeholder(shape=[None],dtype=tf.int32)\n",
    "        self.actions_onehot = tf.one_hot(self.actions,env.actions,dtype=tf.float32)\n",
    "        \n",
    "        self.Q = tf.reduce_sum(tf.multiply(self.Qout, self.actions_onehot), axis=1)\n",
    "        \n",
    "        self.td_error = tf.square(self.targetQ - self.Q)\n",
    "        self.loss = tf.reduce_mean(self.td_error)\n",
    "        self.trainer = tf.train.AdamOptimizer(learning_rate=0.0001)\n",
    "        self.updateModel = self.trainer.minimize(self.loss)"
   ]
  },
  {
   "cell_type": "code",
   "execution_count": 393,
   "metadata": {},
   "outputs": [],
   "source": [
    "tf.reset_default_graph()\n",
    "mainQN = Qnetwork(h_size)\n",
    "targetQN = Qnetwork(h_size)"
   ]
  },
  {
   "cell_type": "markdown",
   "metadata": {},
   "source": [
    "- Replay Buffer"
   ]
  },
  {
   "cell_type": "code",
   "execution_count": 419,
   "metadata": {},
   "outputs": [
    {
     "name": "stdout",
     "output_type": "stream",
     "text": [
      "12\n",
      "cond : False\n",
      "17\n",
      "cond : True\n",
      "20\n"
     ]
    }
   ],
   "source": [
    "buffer = [5,3,2,2,2,2,1,1,1,3,4,3]; buffer_size = 20\n",
    "print(len(buffer))\n",
    "experience = [5,5,5,5,5]\n",
    "experience1 = [0,1,2,3,6,7,8,1,3,4,5,6,7,1,3]\n",
    "cond = len(buffer) + len(experience) >= buffer_size\n",
    "print('cond :', cond)\n",
    "if cond:\n",
    "    buffer[:(len(experience)+len(buffer)-buffer_size)]\n",
    "buffer.extend(experience)\n",
    "print(len(buffer))\n",
    "cond = len(buffer) + len(experience1) >= buffer_size\n",
    "print('cond :', cond)\n",
    "if cond:\n",
    "    buffer[0:(len(experience1)+len(buffer)-buffer_size)] = []\n",
    "buffer.extend(experience1)\n",
    "print(len(buffer))"
   ]
  },
  {
   "cell_type": "code",
   "execution_count": 431,
   "metadata": {},
   "outputs": [
    {
     "data": {
      "text/plain": [
       "array([4, 2, 3, 5, 2])"
      ]
     },
     "execution_count": 431,
     "metadata": {},
     "output_type": "execute_result"
    }
   ],
   "source": [
    "np.array(random.sample([5,3,4,4,4,3,2,2,2], 5))"
   ]
  },
  {
   "cell_type": "code",
   "execution_count": 432,
   "metadata": {},
   "outputs": [],
   "source": [
    "#========= 경험 재생 =========#\n",
    "# 다음 클래스는 경험과 샘플을 저장하고 랜덤하게 신경망을 학습시킨다 \n",
    "        \n",
    "class experience_buffer():\n",
    "    def __init__(self, buffer_size = 50000):\n",
    "        self.buffer = []\n",
    "        self.buffer_size = buffer_size\n",
    "    \n",
    "    def add(self,experience):\n",
    "        if len(self.buffer) + len(experience) >= self.buffer_size:\n",
    "            self.buffer[0:(len(experience)+len(self.buffer))-self.buffer_size] = []\n",
    "        self.buffer.extend(experience)\n",
    "            \n",
    "    def sample(self,size):\n",
    "        return np.reshape(\n",
    "            np.array(\n",
    "                random.sample(self.buffer,\n",
    "                              size)\n",
    "            ),\n",
    "            [size, 5])"
   ]
  },
  {
   "cell_type": "code",
   "execution_count": 455,
   "metadata": {},
   "outputs": [],
   "source": [
    "#다음은 게임의 프레임의 사이즈를 조절해 주는 간단한 함수이다.\n",
    "def processState(states):\n",
    "    return np.reshape(states,[84*84*3])"
   ]
  },
  {
   "cell_type": "code",
   "execution_count": 458,
   "metadata": {},
   "outputs": [],
   "source": [
    "#아래 함수들은 1차 신경망의 파라미터와 함께 목표 신경망의 파라미터를 업데이트하게 해준다\n",
    "def updateTargetGraph(tfVars,tau):\n",
    "    total_vars = len(tfVars)\n",
    "    op_holder = []\n",
    "    for idx,var in enumerate(tfVars[0:total_vars//2]):\n",
    "        op_holder.append(tfVars[idx+total_vars//2].assign((var.value()*tau) + ((1-tau)*tfVars[idx+total_vars//2].value())))\n",
    "    return op_holder\n",
    "\n",
    "def updateTarget(op_holder,sess):\n",
    "    for op in op_holder:\n",
    "        sess.run(op)"
   ]
  },
  {
   "cell_type": "markdown",
   "metadata": {},
   "source": [
    "- main.py"
   ]
  },
  {
   "cell_type": "code",
   "execution_count": 456,
   "metadata": {},
   "outputs": [],
   "source": [
    "#========= 신경망 학습 =========#\n",
    "\n",
    "#모든 학습 파라미터를 설정한다            \n",
    "batch_size = 32 #각 학습 단계에서 사용할 경험의 수\n",
    "update_freq = 4 #학습 단계 기준의 업데이트 주기 \n",
    "y = .99 #타겟 Q-값에 대한 할인 계수\n",
    "startE = 1 #시작 시 랜덤 액션의 가능성\n",
    "endE = 0.1 #종료 시 랜덤 액션의 가능성\n",
    "anneling_steps = 10000. #startE에서 endE로 줄어드는데 필요한 학습 단계 수\n",
    "num_episodes = 10000 #네트워크를 학습시키기 위한 게임 환경 에피소드의 수\n",
    "pre_train_steps = 10000 #학습 시작 전 랜덤 액션의 단계 수\n",
    "max_epLength = 50 #허용되는 최대 에피소드 길이\n",
    "load_model = False #저장된 모델을 로딩할 지 여부\n",
    "path = \"./dqn\" #모델을 저장할 경로\n",
    "h_size = 512 #어드밴티지 스트림과 값 스트림으로 분리되기 전의 마지막 컨벌루션 레이어의 크기\n",
    "tau = 0.001 #타겟 네트워크를 제1네트워크로 업데이트시켜 가는 비율"
   ]
  },
  {
   "cell_type": "code",
   "execution_count": 459,
   "metadata": {},
   "outputs": [],
   "source": [
    "tf.reset_default_graph()\n",
    "mainQN = Qnetwork(h_size)\n",
    "targetQN = Qnetwork(h_size)\n",
    "\n",
    "init = tf.global_variables_initializer()\n",
    "\n",
    "saver = tf.train.Saver()\n",
    "\n",
    "trainables = tf.trainable_variables()\n",
    "\n",
    "targetOps = updateTargetGraph(trainables, tau)\n",
    "\n",
    "myBuffer = experience_buffer()"
   ]
  },
  {
   "cell_type": "code",
   "execution_count": 501,
   "metadata": {},
   "outputs": [
    {
     "data": {
      "text/plain": [
       "([<tf.Variable 'Conv/weights:0' shape=(8, 8, 3, 32) dtype=float32_ref>,\n",
       "  <tf.Variable 'Conv_1/weights:0' shape=(4, 4, 32, 64) dtype=float32_ref>,\n",
       "  <tf.Variable 'Conv_2/weights:0' shape=(3, 3, 64, 64) dtype=float32_ref>,\n",
       "  <tf.Variable 'Conv_3/weights:0' shape=(7, 7, 64, 512) dtype=float32_ref>,\n",
       "  <tf.Variable 'Variable:0' shape=(256, 4) dtype=float32_ref>,\n",
       "  <tf.Variable 'Variable_1:0' shape=(256, 1) dtype=float32_ref>],\n",
       " [<tf.Variable 'Conv_4/weights:0' shape=(8, 8, 3, 32) dtype=float32_ref>,\n",
       "  <tf.Variable 'Conv_5/weights:0' shape=(4, 4, 32, 64) dtype=float32_ref>,\n",
       "  <tf.Variable 'Conv_6/weights:0' shape=(3, 3, 64, 64) dtype=float32_ref>,\n",
       "  <tf.Variable 'Conv_7/weights:0' shape=(7, 7, 64, 512) dtype=float32_ref>,\n",
       "  <tf.Variable 'Variable_2:0' shape=(256, 4) dtype=float32_ref>,\n",
       "  <tf.Variable 'Variable_3:0' shape=(256, 1) dtype=float32_ref>])"
      ]
     },
     "execution_count": 501,
     "metadata": {},
     "output_type": "execute_result"
    }
   ],
   "source": [
    "trainables[:6], trainables[6:]"
   ]
  },
  {
   "cell_type": "code",
   "execution_count": 479,
   "metadata": {},
   "outputs": [
    {
     "name": "stdout",
     "output_type": "stream",
     "text": [
      "Tensor(\"Conv/weights/read:0\", shape=(8, 8, 3, 32), dtype=float32)\n",
      "Tensor(\"Conv_1/weights/read:0\", shape=(4, 4, 32, 64), dtype=float32)\n",
      "Tensor(\"Conv_2/weights/read:0\", shape=(3, 3, 64, 64), dtype=float32)\n",
      "Tensor(\"Conv_3/weights/read:0\", shape=(7, 7, 64, 512), dtype=float32)\n",
      "Tensor(\"Variable/read:0\", shape=(256, 4), dtype=float32)\n",
      "Tensor(\"Variable_1/read:0\", shape=(256, 1), dtype=float32)\n",
      "Tensor(\"Conv_4/weights/read:0\", shape=(8, 8, 3, 32), dtype=float32)\n",
      "Tensor(\"Conv_5/weights/read:0\", shape=(4, 4, 32, 64), dtype=float32)\n",
      "Tensor(\"Conv_6/weights/read:0\", shape=(3, 3, 64, 64), dtype=float32)\n",
      "Tensor(\"Conv_7/weights/read:0\", shape=(7, 7, 64, 512), dtype=float32)\n",
      "Tensor(\"Variable_2/read:0\", shape=(256, 4), dtype=float32)\n",
      "Tensor(\"Variable_3/read:0\", shape=(256, 1), dtype=float32)\n"
     ]
    }
   ],
   "source": [
    "for ix, var in enumerate(trainables):\n",
    "    print(var.value())"
   ]
  },
  {
   "cell_type": "code",
   "execution_count": 507,
   "metadata": {},
   "outputs": [
    {
     "name": "stdout",
     "output_type": "stream",
     "text": [
      "\n",
      "0 6\n",
      "<tf.Variable 'Conv_4/weights:0' shape=(8, 8, 3, 32) dtype=float32_ref>\n",
      "Tensor(\"add_45:0\", shape=(8, 8, 3, 32), dtype=float32)\n",
      "\n",
      "1 7\n",
      "<tf.Variable 'Conv_5/weights:0' shape=(4, 4, 32, 64) dtype=float32_ref>\n",
      "Tensor(\"add_46:0\", shape=(4, 4, 32, 64), dtype=float32)\n",
      "\n",
      "2 8\n",
      "<tf.Variable 'Conv_6/weights:0' shape=(3, 3, 64, 64) dtype=float32_ref>\n",
      "Tensor(\"add_47:0\", shape=(3, 3, 64, 64), dtype=float32)\n",
      "\n",
      "3 9\n",
      "<tf.Variable 'Conv_7/weights:0' shape=(7, 7, 64, 512) dtype=float32_ref>\n",
      "Tensor(\"add_48:0\", shape=(7, 7, 64, 512), dtype=float32)\n",
      "\n",
      "4 10\n",
      "<tf.Variable 'Variable_2:0' shape=(256, 4) dtype=float32_ref>\n",
      "Tensor(\"add_49:0\", shape=(256, 4), dtype=float32)\n",
      "\n",
      "5 11\n",
      "<tf.Variable 'Variable_3:0' shape=(256, 1) dtype=float32_ref>\n",
      "Tensor(\"add_50:0\", shape=(256, 1), dtype=float32)\n"
     ]
    }
   ],
   "source": [
    "for ix, var in enumerate(trainables[0:12//2]):\n",
    "    print()\n",
    "    print(ix, ix+12//2)\n",
    "    print(trainables[ix + 12//2])\n",
    "    print(tau * var.value() + (1-tau)*trainables[ix + 12//2].value())"
   ]
  },
  {
   "cell_type": "code",
   "execution_count": 509,
   "metadata": {},
   "outputs": [
    {
     "data": {
      "text/plain": [
       "(10000, 50)"
      ]
     },
     "execution_count": 509,
     "metadata": {},
     "output_type": "execute_result"
    }
   ],
   "source": [
    "num_episodes, max_epLength"
   ]
  },
  {
   "cell_type": "code",
   "execution_count": 510,
   "metadata": {},
   "outputs": [
    {
     "data": {
      "text/plain": [
       "1"
      ]
     },
     "execution_count": 510,
     "metadata": {},
     "output_type": "execute_result"
    }
   ],
   "source": [
    "np.random.randint(0,4)"
   ]
  },
  {
   "cell_type": "code",
   "execution_count": 516,
   "metadata": {},
   "outputs": [
    {
     "data": {
      "text/plain": [
       "0"
      ]
     },
     "execution_count": 516,
     "metadata": {},
     "output_type": "execute_result"
    }
   ],
   "source": [
    "4 % 4"
   ]
  },
  {
   "cell_type": "code",
   "execution_count": 517,
   "metadata": {},
   "outputs": [
    {
     "data": {
      "text/plain": [
       "10000"
      ]
     },
     "execution_count": 517,
     "metadata": {},
     "output_type": "execute_result"
    }
   ],
   "source": [
    "num_episodes"
   ]
  },
  {
   "cell_type": "code",
   "execution_count": null,
   "metadata": {},
   "outputs": [],
   "source": [
    "#랜덤 액션이 감소하는 비율을 설정 \n",
    "e = startE # 1\n",
    "stepDrop = (startE - endE)/anneling_steps # (1 - 0.1) / 10000.\n",
    "\n",
    "#전체 보상과 에피소드 별 단계 수를 저장할 리스트를 생성\n",
    "jList = []\n",
    "rList = []\n",
    "total_steps = 0\n",
    "\n",
    "#모델이 저장될 경로 생성\n",
    "if not os.path.exists(path):\n",
    "    os.makedirs(path)\n",
    "\n",
    "with tf.Session() as sess:\n",
    "    sess.run(init)\n",
    "    if load_model == True:\n",
    "        print('Loading Model...')\n",
    "        ckpt = tf.train.get_checkpoint_state(path)\n",
    "        saver.restore(sess,ckpt.model_checkpoint_path)\n",
    "    updateTarget(targetOps, sess) #타겟 네트워크가 제1네트워크와 동일하도록 설정\n",
    "    for i in range(num_episodes): # num_episodes\n",
    "        episodeBuffer = experience_buffer()\n",
    "        #환경을 리셋하고 첫번째 관찰 얻기\n",
    "        s = env.reset()\n",
    "        s = processState(s) # 84*84*3=21168\n",
    "        d = False\n",
    "        rAll = 0\n",
    "        j = 0\n",
    "        #Q-네트워크\n",
    "        while j < max_epLength: #만약 에이전트가 블록에 도달하기 위해 200회 이상 시도하면 종료\n",
    "            j+=1\n",
    "            # Q-네트워크로부터 (e의 확률로 랜덤한 액션과 함께) 그리디하게 액션을 선택한다.\n",
    "            if np.random.rand(1) < e or total_steps < pre_train_steps:\n",
    "                a = np.random.randint(0,4)\n",
    "            else:\n",
    "                a = sess.run(mainQN.predict,\n",
    "                             feed_dict={mainQN.scalarInput:[s]})[0]\n",
    "            # gameEnv.step()\n",
    "            # penalty = gameEnv.moveChar(action=a)\n",
    "                # 주어진 행동으로 hero를 움직이는 함수\n",
    "                # always 0.\n",
    "            # reward, done = self.checkGoal()\n",
    "                # hero vs others\n",
    "                # hero와 others의 좌표를 비교,\n",
    "                    # 같을 경우 그 객체를 제거하고\n",
    "                    # goal에 갔을 경우 새로운 goal을 생성,\n",
    "                    # fire에 갔을 경우 새로운 fire을 생성\n",
    "                    # 그 reward와 False를 반환\n",
    "                # 같지 않을 경우, return 0.0, False (always)\n",
    "            # state = self.renderEnv()\n",
    "                # 현재 좌표상태를 계산 및 반환\n",
    "                # 84*84*3으로~\n",
    "            s1,r,d = env.step(a) # state, reward, False\n",
    "            s1 = processState(s1) # 84*84*3으로 만들어줌\n",
    "            total_steps += 1\n",
    "            # 에피소드 버퍼에 경험을 저장\n",
    "            # state, action, reward, state2, False\n",
    "            episodeBuffer.add(np.reshape(np.array([s,a,r,s1,d]),[1,5])) \n",
    "            \n",
    "            if total_steps > pre_train_steps: # pre_train_steps\n",
    "                if e > endE:\n",
    "                    e -= stepDrop\n",
    "                \n",
    "                if total_steps % (update_freq) == 0: # update_freq = 4\n",
    "                                                     # C step?\n",
    "                    trainBatch = myBuffer.sample(batch_size) # 경험에서 특정 부분을 랜덤하게 획득\n",
    "                                                             # batch_size = 32\n",
    "                                                             # (32, 5)\n",
    "                    #타겟 Q-값에 대해 double DQN 업데이트를 수행\n",
    "                    Q1 = sess.run(mainQN.predict,\n",
    "                                  feed_dict={\n",
    "                                      mainQN.scalarInput:np.vstack(trainBatch[:,3]) # new state\n",
    "                                  })\n",
    "                    Q2 = sess.run(targetQN.Qout,\n",
    "                                  feed_dict={\n",
    "                                      targetQN.scalarInput:np.vstack(trainBatch[:,3]) # new state\n",
    "                                  })\n",
    "                    end_multiplier = -(trainBatch[:,4] - 1)\n",
    "                    doubleQ = Q2[range(batch_size),Q1]\n",
    "                    targetQ = trainBatch[:,2] + (y*doubleQ * end_multiplier)\n",
    "                    #타겟 값을 이용해 네트워크를 업데이트\n",
    "                    _ = sess.run(mainQN.updateModel, \\\n",
    "                        feed_dict={\n",
    "                            mainQN.scalarInput : np.vstack(trainBatch[:,0]),\n",
    "                            mainQN.targetQ : targetQ, \n",
    "                            mainQN.actions : trainBatch[:,1]})\n",
    "                    \n",
    "                    updateTarget(targetOps,sess) #타겟 네트워크가 제1네트워크와 동일하도록 설정\n",
    "            rAll += r\n",
    "            s = s1\n",
    "            \n",
    "            if d == True:\n",
    "\n",
    "                break\n",
    "        \n",
    "        myBuffer.add(episodeBuffer.buffer)\n",
    "        jList.append(j)\n",
    "        rList.append(rAll)\n",
    "        #정기적으로 모델 저장\n",
    "        if i % 1000 == 0:\n",
    "            saver.save(sess,path+'/model-'+str(i)+'.cptk')\n",
    "            print(\"Saved Model\")\n",
    "        if len(rList) % 10 == 0:\n",
    "            print(total_steps,np.mean(rList[-10:]), e)\n",
    "    saver.save(sess,path+'/model-'+str(i)+'.cptk')\n",
    "print(\"Percent of succesful episodes: \" + str(sum(rList)/num_episodes) + \"%\")"
   ]
  },
  {
   "cell_type": "code",
   "execution_count": 523,
   "metadata": {},
   "outputs": [
    {
     "data": {
      "text/plain": [
       "array([[ 3],\n",
       "       [ 8],\n",
       "       [13],\n",
       "       [18],\n",
       "       [23],\n",
       "       [28]])"
      ]
     },
     "execution_count": 523,
     "metadata": {},
     "output_type": "execute_result"
    }
   ],
   "source": [
    "np.vstack(np.arange(30).reshape(-1,5)[:,3])"
   ]
  },
  {
   "cell_type": "code",
   "execution_count": null,
   "metadata": {},
   "outputs": [],
   "source": [
    "#========= 신경망 학습 확인하기 =========#\n",
    "#시간의 흐름에 따른 평균 보상`\n",
    "\n",
    "rMat = np.resize(np.array(rList),[len(rList)//100,100])\n",
    "rMean = np.average(rMat,1)\n",
    "plt.plot(rMean)"
   ]
  }
 ],
 "metadata": {
  "kernelspec": {
   "display_name": "keras",
   "language": "python",
   "name": "keras"
  },
  "language_info": {
   "codemirror_mode": {
    "name": "ipython",
    "version": 3
   },
   "file_extension": ".py",
   "mimetype": "text/x-python",
   "name": "python",
   "nbconvert_exporter": "python",
   "pygments_lexer": "ipython3",
   "version": "3.6.8"
  }
 },
 "nbformat": 4,
 "nbformat_minor": 2
}
