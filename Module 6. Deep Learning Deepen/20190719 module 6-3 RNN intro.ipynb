{
 "cells": [
  {
   "cell_type": "markdown",
   "metadata": {},
   "source": [
    "# **Part 03. RNN 개요 및 구현**\n",
    "- PNS, 빅데이터 연구소, 성균관대 박혜정 이사님\n",
    "- 회사에서 원하는 것은 \"이것을 구현할 수 있을 것인가?\"\n",
    "- 문헌 위주의 연구, 이를 구현해서 제공하는 업체라면 간단하게 구현해도 ok\n",
    "- 이론에서 끝나는 것보다는 실제로 구현한 project가 제일 중요\n",
    "- 최근 제조업에서 도입이 제일 많이 되고 있음.\n",
    "- 스마트 팩토리, 시각화를 제일 중시함\n",
    "- 비젼을 중요시함\n",
    "- 사람의 눈보다 컴퓨터의 눈이 정확!\n",
    "- 재고의 불량률, 실제 모니터링하는 업무를 자동화, 시각화시키는 업무가 중요\n",
    "- 도메인에 대한 지식이 있는 사람들 vs 우리...\n",
    "- 어떤 분석을 수행할 때는 탐색을 많이 하게 됨\n",
    "- 내가 부족한 부분들을 문헌 등을 읽어 해석하고 판단하는 능력을 길러야 할 것\n",
    "- 기업 입장에서는 와도 바로 못써먹고, 현장에 있는 사람들은 기술이 없고..\n",
    "- 강제적으로 교육을 시키고 있는 상황\n",
    "- 스마트 팩토리, 사람이 줄어들음.\n",
    "- 기술력 + 도메인 지식\n",
    "- 자체적으로 회사 데이터는 회사 내부의 사람이 처리하기를 원함\n",
    "- 중견기업, TF팀, 회사가 전사적으로 지원하지 않는 이상, 규모가 크지 않음\n",
    "- 회사에서는 개개인의 프로젝트 경험이 얼마나 있는지, 회사 관련 일에 얼마나 관련있는 프로젝트를 했는지\n",
    "- AI 가능한 인력들을 많이 찾고 있음\n",
    "- 제조업, IT, 금융 등 데이터를 분석하는 기업들이 많아짐\n",
    "- 나는 '수학'이라는 강점을 살려야할 것\n",
    "- 언어를 배울 때는 재미로 배우고 목적이 분명해야 실력이 팡팡 늘음\n",
    "- python, 내가 자주 사용하는 것 순서대로 차근차근 내 것으로 만들어야 함\n",
    "- 실제 현실은 갖춰진 데이터가 주어져 있지 않음\n",
    "- 알고리즘, 함수 하나로 수행이 가능, 이제는 데이터가 문제\n",
    "- 이것이 RNN에 고면 최고조로 치솟음...ㅎㅎ\n",
    "- Text를 분석용 데이터에 맞춰서 전처리를 해줘야 함\n",
    "- RNN은 주로 시계열 데이터에 사용\n",
    "- 시계열 데이터는 앞뒤 순서가 존재\n",
    "- 기업에서 가장 많이 하는 것은 '수율 예측'\n",
    "- 음성 데이터 또한 RNN 적용이 가능, because 순서가 존재하기 때문!\n",
    "- 스마트폰, 글자 쓰는 패턴을 RNN으로 학습해놓음\n",
    "- Garbage In, Garbage Out\n",
    "- 내 무기로 만들기 위한 시간이라고 생각\n",
    "- 프로그램은 눈으로 보지말고 직접 타이핑해라\n",
    "- 이분들 입장에서는 프로그램을 배울 때 들리는 소리가 다름"
   ]
  },
  {
   "cell_type": "markdown",
   "metadata": {},
   "source": [
    "# Chapter 1. Case Study : Vanilla char-RNN"
   ]
  },
  {
   "cell_type": "markdown",
   "metadata": {},
   "source": [
    "## Vanilla RNN\n",
    "- CNN이나 다른 Neural Network를 배웠던 지식으로 RNN을 배우는 데 있어서 깨야하는 고정관념\n",
    "    - 레이어마다 Weight가 다르다\n",
    "    - RNN에서는 Weight를 공유한다.\n",
    "- 프로그래밍에서 어떠한 개념을 _완전 기본적인 기능만 구현한 상태_를 **Vanilla Implementation**이라고 한다.\n",
    "    - 따라서 이 기본적인 형태를 알아야 RNN을 배우는데 무리가 없다.\n",
    "- Sequence data를 예측하는데 좋고, 역시 기본적인 개념만 담겨있어 RNN을 처음 이해하는데 매우 좋다.\n",
    "- Weight를 똑같이 반영한다는 가정에서 시작\n",
    "- RNN을 동작시키는 **Cell**이 있는데, 이들이 Hidden Layer를 이룬다. Hidden Layer의 형태는 Weight의 형태에 큰 영향을 준다.\n",
    "- Vanilla RNN이 'hello'라는 단어가 이어져 있다는 것을 배우는 과정을 통해 Weight의 형태를 파악하는 데에서부터 시작\n",
    "    - 이것은 주로 구글 등의 검색엔진에서의 자동 완성 기능에서 활용\n",
    "    - 추천해주는 형태에서도 사용이 가능하다"
   ]
  },
  {
   "cell_type": "code",
   "execution_count": 1,
   "metadata": {},
   "outputs": [
    {
     "name": "stdout",
     "output_type": "stream",
     "text": [
      "Counter({'l': 2, 'h': 1, 'e': 1, 'o': 1})\n"
     ]
    }
   ],
   "source": [
    "from collections import Counter\n",
    "s = 'hello'\n",
    "hello = Counter(s)\n",
    "print(hello)"
   ]
  },
  {
   "cell_type": "code",
   "execution_count": 2,
   "metadata": {},
   "outputs": [],
   "source": [
    "# One-Hot Encoding\n",
    "from tensorflow.keras.utils import to_categorical\n",
    "x1,x2,x3,x4,x5 = to_categorical([0,1,2,2,3]).reshape(5,4,1)"
   ]
  },
  {
   "cell_type": "code",
   "execution_count": 3,
   "metadata": {},
   "outputs": [
    {
     "data": {
      "text/plain": [
       "array([[1., 0., 0., 0., 0.],\n",
       "       [0., 1., 0., 0., 0.],\n",
       "       [0., 0., 1., 1., 0.],\n",
       "       [0., 0., 0., 0., 1.]], dtype=float32)"
      ]
     },
     "execution_count": 3,
     "metadata": {},
     "output_type": "execute_result"
    }
   ],
   "source": [
    "import numpy as np\n",
    "np.hstack((x1,x2,x3,x4,x5))"
   ]
  },
  {
   "cell_type": "markdown",
   "metadata": {},
   "source": [
    "## Karpathy 예제"
   ]
  },
  {
   "cell_type": "code",
   "execution_count": 4,
   "metadata": {},
   "outputs": [
    {
     "data": {
      "text/plain": [
       "((3, 4), (3, 3), (4, 3), (3, 1), (4, 1))"
      ]
     },
     "execution_count": 4,
     "metadata": {},
     "output_type": "execute_result"
    }
   ],
   "source": [
    "hidden_size = 3\n",
    "vocab_size = len(x1) # length of one-hot encoding vector\n",
    "# model parameters\n",
    "Wxh = np.random.randn(hidden_size, vocab_size)*0.01 # input to hidden\n",
    "Whh = np.random.randn(hidden_size, hidden_size)*0.01 # hidden to hidden\n",
    "Why = np.random.randn(vocab_size, hidden_size)*0.01 # hidden to output\n",
    "bh = np.zeros((hidden_size, 1)) # hidden bias\n",
    "by = np.zeros((vocab_size, 1)) # output bias\n",
    "\n",
    "Wxh.shape, Whh.shape, Why.shape, bh.shape, by.shape"
   ]
  },
  {
   "cell_type": "markdown",
   "metadata": {},
   "source": [
    "- No Bias\n",
    "$$h_t=\\text{tanh}(W_{hh}h_{t-1}+W_{xh}x_t+b_h)$$\n",
    "$$y_t=W_{hy}h_t+b_y$$\n",
    "- 여기에서는 y에 대한 활성화 함수를 굳이 사용하지 않는다\n",
    "- 이유는 바로 값을 배출해도 상관이 없기 때문"
   ]
  },
  {
   "cell_type": "code",
   "execution_count": 5,
   "metadata": {},
   "outputs": [
    {
     "name": "stdout",
     "output_type": "stream",
     "text": [
      "[[1. 1. 1. 1.]\n",
      " [1. 1. 1. 1.]\n",
      " [1. 1. 1. 1.]] \n",
      "\n",
      " [[1. 1. 1.]\n",
      " [1. 1. 1.]\n",
      " [1. 1. 1.]] \n",
      "\n",
      " [[1. 1. 1.]\n",
      " [0. 0. 0.]\n",
      " [2. 2. 2.]\n",
      " [3. 3. 3.]]\n"
     ]
    },
    {
     "data": {
      "text/plain": [
       "((3, 4), (3, 3), (4, 3), (3, 1), (4, 1))"
      ]
     },
     "execution_count": 5,
     "metadata": {},
     "output_type": "execute_result"
    }
   ],
   "source": [
    "# 교재의 예시대로 Weight를 아래와 같이 부여\n",
    "Wxh = np.ones((3,4))\n",
    "Whh = np.ones((3,3))\n",
    "Why = np.tile(np.array([1,0,2,3], dtype=np.float32).reshape(-1,1), 3)\n",
    "print(Wxh, '\\n\\n', Whh, '\\n\\n', Why)\n",
    "Wxh.shape, Whh.shape, Why.shape, bh.shape, by.shape"
   ]
  },
  {
   "cell_type": "markdown",
   "metadata": {},
   "source": [
    "$$\\text{h}\\rightarrow\\text{?}$$"
   ]
  },
  {
   "cell_type": "code",
   "execution_count": 6,
   "metadata": {},
   "outputs": [
    {
     "name": "stdout",
     "output_type": "stream",
     "text": [
      "[[0.76159416]\n",
      " [0.76159416]\n",
      " [0.76159416]] \n",
      "\n",
      " [[2.28478247]\n",
      " [0.        ]\n",
      " [4.56956494]\n",
      " [6.8543474 ]]\n"
     ]
    }
   ],
   "source": [
    "h0 = np.zeros((hidden_size, 1)) # reset RNN Memory\n",
    "h1 = np.tanh(np.dot(Whh, h0) + np.dot(Wxh, x1) + bh)\n",
    "y1 = np.dot(Why, h1) + by\n",
    "print(h1, '\\n\\n', y1)"
   ]
  },
  {
   "cell_type": "code",
   "execution_count": 7,
   "metadata": {},
   "outputs": [
    {
     "data": {
      "text/plain": [
       "(array([[0.00930861],\n",
       "        [0.00094758],\n",
       "        [0.09144356],\n",
       "        [0.89830026]]), 2)"
      ]
     },
     "execution_count": 7,
     "metadata": {},
     "output_type": "execute_result"
    }
   ],
   "source": [
    "p = np.exp(y1) / np.sum(np.exp(y1)) # softmax\n",
    "ix = np.random.choice(list(range(vocab_size)), p=p.ravel()) # 결과값에서 어떤 것을 선택할지는 프로그래머의 마음\n",
    "ix = 2 # index 2가 9%의 확률로 뽑혔다고 가정\n",
    "p, ix"
   ]
  },
  {
   "cell_type": "code",
   "execution_count": 8,
   "metadata": {},
   "outputs": [
    {
     "data": {
      "text/plain": [
       "array([[0.],\n",
       "       [0.],\n",
       "       [1.],\n",
       "       [0.]])"
      ]
     },
     "execution_count": 8,
     "metadata": {},
     "output_type": "execute_result"
    }
   ],
   "source": [
    "x = np.zeros((vocab_size, 1))\n",
    "x[ix] = 1\n",
    "x # l"
   ]
  },
  {
   "cell_type": "markdown",
   "metadata": {},
   "source": [
    "$$\\text{h}\\rightarrow\\text{l}$$\n",
    "$$\\text{l}\\rightarrow\\text{?}$$"
   ]
  },
  {
   "cell_type": "code",
   "execution_count": 9,
   "metadata": {},
   "outputs": [
    {
     "name": "stdout",
     "output_type": "stream",
     "text": [
      "[[0.99719911]\n",
      " [0.99719911]\n",
      " [0.99719911]] \n",
      "\n",
      " [[2.99159734]\n",
      " [0.        ]\n",
      " [5.98319468]\n",
      " [8.97479202]]\n"
     ]
    }
   ],
   "source": [
    "h2 = np.tanh(np.dot(Whh, h1) + np.dot(Wxh, x) + bh)\n",
    "y2 = np.dot(Why, h2) + by\n",
    "print(h2, '\\n\\n', y2)"
   ]
  },
  {
   "cell_type": "code",
   "execution_count": 10,
   "metadata": {},
   "outputs": [
    {
     "data": {
      "text/plain": [
       "(array([[2.39421535e-03],\n",
       "        [1.20206788e-04],\n",
       "        [4.76867174e-02],\n",
       "        [9.49798861e-01]]), 3)"
      ]
     },
     "execution_count": 10,
     "metadata": {},
     "output_type": "execute_result"
    }
   ],
   "source": [
    "p = np.exp(y2) / np.sum(np.exp(y2))\n",
    "ix = np.random.choice(list(range(vocab_size)), p=p.ravel()) # 결과값에서 어떤 것을 선택할지는 프로그래머의 마음\n",
    "p, ix"
   ]
  },
  {
   "cell_type": "code",
   "execution_count": 11,
   "metadata": {},
   "outputs": [
    {
     "data": {
      "text/plain": [
       "array([[0.],\n",
       "       [0.],\n",
       "       [0.],\n",
       "       [1.]])"
      ]
     },
     "execution_count": 11,
     "metadata": {},
     "output_type": "execute_result"
    }
   ],
   "source": [
    "x = np.zeros((vocab_size, 1))\n",
    "x[ix] = 1\n",
    "x # o"
   ]
  },
  {
   "cell_type": "markdown",
   "metadata": {},
   "source": [
    "$$\\text{h}\\rightarrow\\text{l}$$\n",
    "$$\\text{l}\\rightarrow\\text{o}$$\n",
    "$$\\text{o}\\rightarrow\\text{?}$$"
   ]
  },
  {
   "cell_type": "code",
   "execution_count": 12,
   "metadata": {},
   "outputs": [
    {
     "name": "stdout",
     "output_type": "stream",
     "text": [
      "[[0.99931794]\n",
      " [0.99931794]\n",
      " [0.99931794]] \n",
      "\n",
      " [[2.99795381]\n",
      " [0.        ]\n",
      " [5.99590762]\n",
      " [8.99386143]]\n"
     ]
    }
   ],
   "source": [
    "h3 = np.tanh(np.dot(Whh, h2) + np.dot(Wxh, x) + bh)\n",
    "y3 = np.dot(Why, h3) + by\n",
    "print(h3, '\\n\\n', y3) "
   ]
  },
  {
   "cell_type": "code",
   "execution_count": 13,
   "metadata": {},
   "outputs": [
    {
     "data": {
      "text/plain": [
       "(array([[2.36476191e-03],\n",
       "        [1.17975717e-04],\n",
       "        [4.74004231e-02],\n",
       "        [9.50116839e-01]]), 3)"
      ]
     },
     "execution_count": 13,
     "metadata": {},
     "output_type": "execute_result"
    }
   ],
   "source": [
    "p = np.exp(y3) / np.sum(np.exp(y3))\n",
    "ix = np.random.choice(list(range(vocab_size)), p=p.ravel()) # 결과값에서 어떤 것을 선택할지는 프로그래머의 마음\n",
    "p, ix"
   ]
  },
  {
   "cell_type": "code",
   "execution_count": 14,
   "metadata": {},
   "outputs": [
    {
     "data": {
      "text/plain": [
       "array([[0.],\n",
       "       [0.],\n",
       "       [0.],\n",
       "       [1.]])"
      ]
     },
     "execution_count": 14,
     "metadata": {},
     "output_type": "execute_result"
    }
   ],
   "source": [
    "x = np.zeros((vocab_size, 1))\n",
    "x[ix] = 1\n",
    "x"
   ]
  },
  {
   "cell_type": "markdown",
   "metadata": {},
   "source": [
    "$$\\text{h}\\rightarrow\\text{l}$$\n",
    "$$\\text{l}\\rightarrow\\text{o}$$\n",
    "$$\\text{o}\\rightarrow\\text{o}$$\n",
    "$$\\text{o}\\rightarrow\\text{?}$$"
   ]
  },
  {
   "cell_type": "code",
   "execution_count": 15,
   "metadata": {},
   "outputs": [
    {
     "name": "stdout",
     "output_type": "stream",
     "text": [
      "[[0.99932655]\n",
      " [0.99932655]\n",
      " [0.99932655]] \n",
      "\n",
      " [[2.99797965]\n",
      " [0.        ]\n",
      " [5.9959593 ]\n",
      " [8.99393895]]\n"
     ]
    },
    {
     "data": {
      "text/plain": [
       "(array([[2.36464291e-03],\n",
       "        [1.17966732e-04],\n",
       "        [4.73992626e-02],\n",
       "        [9.50118128e-01]]), 3)"
      ]
     },
     "execution_count": 15,
     "metadata": {},
     "output_type": "execute_result"
    }
   ],
   "source": [
    "h4 = np.tanh(np.dot(Whh, h3) + np.dot(Wxh, x) + bh)\n",
    "y4 = np.dot(Why, h4) + by\n",
    "print(h4, '\\n\\n', y4)\n",
    "p = np.exp(y4) / np.sum(np.exp(y4))\n",
    "ix = np.random.choice(list(range(vocab_size)), p=p.ravel()) # 결과값에서 어떤 것을 선택할지는 프로그래머의 마음\n",
    "p, ix"
   ]
  },
  {
   "cell_type": "code",
   "execution_count": 16,
   "metadata": {},
   "outputs": [
    {
     "data": {
      "text/plain": [
       "array([[0.],\n",
       "       [0.],\n",
       "       [0.],\n",
       "       [1.]])"
      ]
     },
     "execution_count": 16,
     "metadata": {},
     "output_type": "execute_result"
    }
   ],
   "source": [
    "x = np.zeros((vocab_size, 1))\n",
    "x[ix] = 1\n",
    "x"
   ]
  },
  {
   "cell_type": "markdown",
   "metadata": {},
   "source": [
    "$$\\text{h}\\rightarrow\\text{l}$$\n",
    "$$\\text{l}\\rightarrow\\text{o}$$\n",
    "$$\\text{o}\\rightarrow\\text{o}$$\n",
    "$$\\text{o}\\rightarrow\\text{o}$$\n",
    "- 뽑힌 단어는 hlooo\n",
    "- 제대로 학습시킨다면 hello를 출력시킬 수 있다."
   ]
  },
  {
   "cell_type": "markdown",
   "metadata": {},
   "source": [
    "$$h_t=\\text{tanh}(W_{hh}h_{t-1}+W_{xh}x_t+b_h)$$\n",
    "$$y_t=W_{hy}h_t+b_y$$"
   ]
  },
  {
   "cell_type": "markdown",
   "metadata": {},
   "source": [
    "- https://gist.github.com/karpathy/d4dee566867f8291f086"
   ]
  },
  {
   "cell_type": "code",
   "execution_count": 17,
   "metadata": {},
   "outputs": [],
   "source": [
    "def sample(h, seed_ix, n):\n",
    "    x = np.zeros((vocab_size, 1))\n",
    "    x[seed_ix] = 1\n",
    "    ixes = []\n",
    "    for t in range(n):\n",
    "        h = np.tanh(np.dot(Whh, h) + np.dot(Wxh, x) + bh)\n",
    "        y = np.dot(Why, h) + by\n",
    "        p = np.exp(y) / np.sum(np.exp(y))\n",
    "        ix = np.random.choice(list(range(vocab_size)), p=p.ravel())\n",
    "        x = np.zeros((vocab_size, 1))\n",
    "        x[ix] = 1\n",
    "        ixes.append(ix)\n",
    "    return ixes"
   ]
  },
  {
   "cell_type": "markdown",
   "metadata": {},
   "source": [
    "```python\n",
    "[char_to_ix[ch] for ch in data.lower()[0:10]] # inputs\n",
    "[char_to_ix[ch] for ch in data.lower()[0+1:10+1]] # targets\n",
    "```"
   ]
  },
  {
   "cell_type": "markdown",
   "metadata": {},
   "source": [
    "- $\\text{tanh}(x)$의 미분\n",
    "$$\\dfrac{d}{dx}\\text{tanh}(x)=1-\\text{tanh}^2(x)$$"
   ]
  },
  {
   "cell_type": "code",
   "execution_count": 18,
   "metadata": {},
   "outputs": [],
   "source": [
    "def lossFun(inputs, targets, hprev):\n",
    "    xs, hs, ys, ps = {}, {}, {}, {}\n",
    "    hs[-1] = np.copy(hprev)\n",
    "    loss = 0\n",
    "    # forward pass\n",
    "    for t in range(len(inputs)):\n",
    "        xs[t] = np.zeros((vocab_size, 1)) # encode in 1-of-k representation\n",
    "        xs[t][inputs[t]] = 1\n",
    "        hs[t] = np.tanh(np.dot(Wxh, xs[t]) + np.dot(Whh, hs[t-1]) + bh) # hidden layer\n",
    "        ys[t] = np.dot(Why, hs[t]) + by # unnormalized log probabilities for next chars\n",
    "        ps[t] = np.exp(ys[t]) / np.sum(np.exp(ys[t])) # probabilities for next chars\n",
    "        loss += -np.log(ps[t][targets[t], 0]) # softmax (cross-entropy Loss)\n",
    "    # backward pass : compute gradients going backwards\n",
    "    dWxh, dWhh, dWhy = np.zeros_like(Wxh), np.zeros_like(Whh), np.zeros_like(Why)\n",
    "    dbh, dby = np.zeros_like(bh), np.zeros_like(by)\n",
    "    dhnext = np.zeros_like(hs[0])\n",
    "    for t in reversed(range(len(inputs))):\n",
    "        dy = np.copy(ps[t])\n",
    "        dy[targets[t]] -= -1 # backprop into y\n",
    "                             # see http://cs231n.github.io/neural-networks-case-study/#grad if confused here\n",
    "        dWhy += np.dot(dy, hs[t].T) # (vocab_size, 1) x (hidden_size, 1).T = (vocab_size, hidden_size)\n",
    "        dby += dy # add prop => 그대로\n",
    "        dh = np.dot(Why.T, dy) + dhnext # backprop into h\n",
    "                                        # (vocab_size, hidden_size).T x (vocab_size, 1) + (hidden_size, 1)\n",
    "                                        # 거꾸로 실행되기 대문에 h_t의 경우 역전파가 남아있음. dhnext를 더해준다.\n",
    "        dhraw = (1 - hs[t] * hs[t]) * dh # (hidden_size, 1)\n",
    "                                         # backprop through tanh nonlinearity\n",
    "        dbh += dhraw # add prop => 그대로\n",
    "        dWxh += np.dot(dhraw, xs[t].T) # (hidden_size, 1) x (vocab_size, 1).T\n",
    "        dWhh += np.dot(dhraw, hs[t].T) # (hidden_size, 1) x (hidden_size, 1).T\n",
    "        dhnext = np.dot(Whh.T, dhraw) # (hidden_size, hidden_size).T x (hidden_size, 1)\n",
    "    for dparam in [dWxh, dWhh, dWhy, dbh, dby]:\n",
    "        np.clip(dparam, -5, 5, out=dparams) # clip to mitigate exploding gradients\n",
    "    return loss, dWxh, dWhh, dWhy, dbh, dby, hs[len(inputs) - 1]"
   ]
  },
  {
   "cell_type": "markdown",
   "metadata": {},
   "source": [
    "`np.clip`\n",
    "- https://rfriend.tistory.com/tag/np.clip%28%29"
   ]
  },
  {
   "cell_type": "code",
   "execution_count": 19,
   "metadata": {},
   "outputs": [
    {
     "name": "stdout",
     "output_type": "stream",
     "text": [
      "[0 1 2 3 4 5 6 7 8 9]\n",
      "[2 2 2 3 4 5 6 7 7 7]\n"
     ]
    }
   ],
   "source": [
    "a = np.arange(10) # Clip (limit) the values in an array.\n",
    "np.clip(a, 2, 7)\n",
    "print(a)\n",
    "np.clip(a, 2, 7, out=a)\n",
    "print(a)"
   ]
  },
  {
   "cell_type": "markdown",
   "metadata": {},
   "source": [
    "## 수업 시간에 진행한 예시"
   ]
  },
  {
   "cell_type": "markdown",
   "metadata": {},
   "source": [
    "```\n",
    "pip3 install graphviz\n",
    "pip3 install pydot-ng\n",
    "```"
   ]
  },
  {
   "cell_type": "code",
   "execution_count": 1,
   "metadata": {},
   "outputs": [
    {
     "name": "stderr",
     "output_type": "stream",
     "text": [
      "Using TensorFlow backend.\n"
     ]
    }
   ],
   "source": [
    "import numpy as np\n",
    "from keras.models import Sequential\n",
    "from keras.layers import LSTM, TimeDistributed, Dense, Activation\n",
    "from keras.utils import np_utils\n",
    "\n",
    "import os\n",
    "\n",
    "from keras.utils.vis_utils import plot_model"
   ]
  },
  {
   "cell_type": "code",
   "execution_count": 2,
   "metadata": {},
   "outputs": [
    {
     "name": "stdout",
     "output_type": "stream",
     "text": [
      "['h', 'l', 'e', 'o', 'i'] \n",
      " {'h': 0, 'l': 1, 'e': 2, 'o': 3, 'i': 4}\n"
     ]
    }
   ],
   "source": [
    "# sample text\n",
    "sample =  'hihello'\n",
    "\n",
    "char_set = list(set(sample))\n",
    "char_dic = { w : i for i, w in enumerate(char_set)}\n",
    "print(char_set, '\\n', char_dic)"
   ]
  },
  {
   "cell_type": "code",
   "execution_count": 3,
   "metadata": {},
   "outputs": [
    {
     "name": "stdout",
     "output_type": "stream",
     "text": [
      "5 6 5\n"
     ]
    }
   ],
   "source": [
    "x_str = sample[:-1]\n",
    "y_str = sample[1:]\n",
    "\n",
    "data_dim = len(char_set)\n",
    "timesteps = len(y_str)\n",
    "num_classes = len(char_set)\n",
    "\n",
    "print(data_dim, timesteps, num_classes)"
   ]
  },
  {
   "cell_type": "code",
   "execution_count": 4,
   "metadata": {},
   "outputs": [
    {
     "name": "stdout",
     "output_type": "stream",
     "text": [
      "(1, 6, 5)\n",
      "(1, 6, 5)\n"
     ]
    }
   ],
   "source": [
    "x = [char_dic[c] for c in x_str]\n",
    "y = [char_dic[c] for c in y_str]\n",
    "\n",
    "# One-hot encoding\n",
    "x = np_utils.to_categorical(x, num_classes=num_classes)\n",
    "x = x.reshape(-1, x.shape[0], data_dim)\n",
    "print(x.shape)\n",
    "\n",
    "y = np_utils.to_categorical(y, num_classes=num_classes)\n",
    "y = y.reshape(-1, y.shape[0], data_dim)\n",
    "print(y.shape)"
   ]
  },
  {
   "cell_type": "code",
   "execution_count": 5,
   "metadata": {},
   "outputs": [],
   "source": [
    "import tensorflow as tf\n",
    "gpu_options = tf.GPUOptions(per_process_gpu_memory_fraction=0.25)\n",
    "sess = tf.Session(config=tf.ConfigProto(gpu_options=gpu_options))"
   ]
  },
  {
   "cell_type": "code",
   "execution_count": 6,
   "metadata": {},
   "outputs": [],
   "source": [
    "from keras.backend import tensorflow_backend as K\n",
    "config = tf.ConfigProto()\n",
    "config.gpu_options.allow_growth = True\n",
    "K.set_session(tf.Session(config=config))"
   ]
  },
  {
   "cell_type": "code",
   "execution_count": 7,
   "metadata": {},
   "outputs": [
    {
     "name": "stdout",
     "output_type": "stream",
     "text": [
      "WARNING:tensorflow:From C:\\ProgramData\\Anaconda3\\envs\\keras\\lib\\site-packages\\tensorflow\\python\\framework\\op_def_library.py:263: colocate_with (from tensorflow.python.framework.ops) is deprecated and will be removed in a future version.\n",
      "Instructions for updating:\n",
      "Colocations handled automatically by placer.\n",
      "Model: \"sequential_1\"\n",
      "_________________________________________________________________\n",
      "Layer (type)                 Output Shape              Param #   \n",
      "=================================================================\n",
      "simple_rnn_1 (SimpleRNN)     (None, 6, 5)              55        \n",
      "_________________________________________________________________\n",
      "dense_1 (Dense)              (None, 6, 5)              30        \n",
      "_________________________________________________________________\n",
      "activation_1 (Activation)    (None, 6, 5)              0         \n",
      "=================================================================\n",
      "Total params: 85\n",
      "Trainable params: 85\n",
      "Non-trainable params: 0\n",
      "_________________________________________________________________\n"
     ]
    }
   ],
   "source": [
    "from keras.models import Sequential\n",
    "from keras.layers import LSTM, TimeDistributed, Dense, Activation, SimpleRNN\n",
    "\n",
    "model = Sequential()\n",
    "# model.add(LSTM(num_classes,\n",
    "#                input_shape=(timesteps, data_dim),\n",
    "#                return_sequences=True))\n",
    "# model.add(TimeDistributed(Dense(num_classes)))\n",
    "model.add(SimpleRNN(num_classes,\n",
    "               input_shape=(timesteps, data_dim),\n",
    "               return_sequences=True))\n",
    "model.add(Dense(num_classes))\n",
    "model.add(Activation('softmax'))\n",
    "model.summary()"
   ]
  },
  {
   "cell_type": "code",
   "execution_count": 9,
   "metadata": {},
   "outputs": [
    {
     "name": "stdout",
     "output_type": "stream",
     "text": [
      "Epoch 1/1\n",
      "1/1 [==============================] - 0s 268ms/step - loss: 1.6481 - acc: 0.3333\n"
     ]
    },
    {
     "data": {
      "text/plain": [
       "<keras.callbacks.History at 0x22bf7c43cf8>"
      ]
     },
     "execution_count": 9,
     "metadata": {},
     "output_type": "execute_result"
    }
   ],
   "source": [
    "import os\n",
    "# Store model graph in png\n",
    "# (Error occurs on in python interactive shell)\n",
    "# plot_model(model, to_file=os.path.basename(__file__) + '.png', )\n",
    "\n",
    "model.compile(loss='categorical_crossentropy',\n",
    "              optimizer='rmsprop',\n",
    "              metrics=['accuracy'])\n",
    "model.fit(x, y, epochs=1, batch_size=1)"
   ]
  },
  {
   "cell_type": "code",
   "execution_count": 27,
   "metadata": {},
   "outputs": [
    {
     "name": "stdout",
     "output_type": "stream",
     "text": [
      "Model: \"sequential_4\"\n",
      "_________________________________________________________________\n",
      "Layer (type)                 Output Shape              Param #   \n",
      "=================================================================\n",
      "simple_rnn_4 (SimpleRNN)     (None, 6, 5)              55        \n",
      "_________________________________________________________________\n",
      "time_distributed_3 (TimeDist (None, 6, 5)              30        \n",
      "_________________________________________________________________\n",
      "activation_4 (Activation)    (None, 6, 5)              0         \n",
      "=================================================================\n",
      "Total params: 85\n",
      "Trainable params: 85\n",
      "Non-trainable params: 0\n",
      "_________________________________________________________________\n",
      "Epoch 1/5\n",
      "1/1 [==============================] - 1s 635ms/step - loss: 1.6086 - acc: 0.1667\n",
      "Epoch 2/5\n",
      "1/1 [==============================] - 0s 8ms/step - loss: 1.6059 - acc: 0.1667\n",
      "Epoch 3/5\n",
      "1/1 [==============================] - 0s 8ms/step - loss: 1.6032 - acc: 0.1667\n",
      "Epoch 4/5\n",
      "1/1 [==============================] - 0s 8ms/step - loss: 1.6005 - acc: 0.1667\n",
      "Epoch 5/5\n",
      "1/1 [==============================] - 0s 9ms/step - loss: 1.5979 - acc: 0.1667\n"
     ]
    },
    {
     "data": {
      "text/plain": [
       "<keras.callbacks.History at 0x22c07b11d68>"
      ]
     },
     "execution_count": 27,
     "metadata": {},
     "output_type": "execute_result"
    }
   ],
   "source": [
    "model = Sequential()\n",
    "# model.add(LSTM(num_classes,\n",
    "#                input_shape=(timesteps, data_dim),\n",
    "#                return_sequences=True))\n",
    "# model.add(TimeDistributed(Dense(num_classes)))\n",
    "model.add(SimpleRNN(num_classes,\n",
    "               input_shape=(timesteps, data_dim),\n",
    "               return_sequences=True))\n",
    "model.add(TimeDistributed(Dense(num_classes)))\n",
    "model.add(Activation('softmax'))\n",
    "model.summary()\n",
    "\n",
    "model.compile(loss='categorical_crossentropy',\n",
    "              optimizer='adam',\n",
    "              metrics=['accuracy'])\n",
    "model.fit(x, y, epochs=5)"
   ]
  },
  {
   "cell_type": "code",
   "execution_count": 28,
   "metadata": {},
   "outputs": [
    {
     "data": {
      "text/plain": [
       "(1, 6, 5)"
      ]
     },
     "execution_count": 28,
     "metadata": {},
     "output_type": "execute_result"
    }
   ],
   "source": [
    "predictions = model.predict(x, verbose=0)\n",
    "predictions.shape"
   ]
  },
  {
   "cell_type": "code",
   "execution_count": 29,
   "metadata": {},
   "outputs": [
    {
     "name": "stdout",
     "output_type": "stream",
     "text": [
      "[[0.18107945 0.23325357 0.23997474 0.21106157 0.13463071]\n",
      " [0.16334862 0.21095915 0.27526477 0.17984176 0.17058566]\n",
      " [0.13090582 0.20172945 0.35541117 0.2012277  0.11072585]\n",
      " [0.10461086 0.23834838 0.35907933 0.14839053 0.1495709 ]\n",
      " [0.14729805 0.22042243 0.2664588  0.15620089 0.20961978]\n",
      " [0.21194631 0.19939335 0.18108252 0.1696354  0.2379424 ]]\n",
      "[0 4 0 2 1 1] hihell\n",
      "[2 2 2 2 2 4] eeeeei\n"
     ]
    }
   ],
   "source": [
    "for i, prediction in enumerate(predictions):\n",
    "    print(prediction)\n",
    "    x_index = np.argmax(x[i], axis=1)\n",
    "    x_str = [char_set[j] for j in x_index]\n",
    "    print(x_index, ''.join(x_str))\n",
    "    \n",
    "    index = np.argmax(prediction, axis=1)\n",
    "    result = [char_set[j] for j in index]\n",
    "    print(index, ''.join(result))"
   ]
  },
  {
   "cell_type": "markdown",
   "metadata": {},
   "source": [
    "# 주가 예측\n",
    "- `pip install fix-yahoo-finance==0.1.30`"
   ]
  },
  {
   "cell_type": "code",
   "execution_count": 11,
   "metadata": {},
   "outputs": [
    {
     "name": "stdout",
     "output_type": "stream",
     "text": [
      "[*********************100%***********************]  1 of 1 downloaded\n"
     ]
    }
   ],
   "source": [
    "import fix_yahoo_finance as yf\n",
    "data = yf.download('005930.KS', start='2017-01-01', end='2019-04-30')"
   ]
  },
  {
   "cell_type": "code",
   "execution_count": 12,
   "metadata": {},
   "outputs": [
    {
     "data": {
      "text/plain": [
       "DatetimeIndex(['2017-01-01', '2017-01-01', '2017-01-01', '2017-01-01',\n",
       "               '2017-01-01', '2017-01-01', '2017-01-01', '2017-01-01',\n",
       "               '2017-01-01', '2017-01-01',\n",
       "               ...\n",
       "               '2019-01-01', '2019-01-01', '2019-01-01', '2019-01-01',\n",
       "               '2019-01-01', '2019-01-01', '2019-01-01', '2019-01-01',\n",
       "               '2019-01-01', '2019-02-01'],\n",
       "              dtype='datetime64[ns]', name='Date', length=508, freq=None)"
      ]
     },
     "execution_count": 12,
     "metadata": {},
     "output_type": "execute_result"
    }
   ],
   "source": [
    "import pandas as pd\n",
    "data_ind = data.index.map(lambda x : pd.Timestamp(\n",
    "    str(x.year) + '-{:02}'.format(x.month)))\n",
    "data_ind"
   ]
  },
  {
   "cell_type": "code",
   "execution_count": 42,
   "metadata": {},
   "outputs": [
    {
     "data": {
      "image/png": "[encoded data removed]",
      "text/plain": [
       "<Figure size 576x432 with 2 Axes>"
      ]
     },
     "metadata": {
      "needs_background": "light"
     },
     "output_type": "display_data"
    }
   ],
   "source": [
    "import matplotlib.pyplot as plt\n",
    "%matplotlib inline\n",
    "\n",
    "fig, ax1 = plt.subplots(figsize=(8, 6))\n",
    "ax2 = ax1.twinx()\n",
    "\n",
    "stock_plot = data[['Close', 'Adj Close']].plot(ax=ax1)\n",
    "# volume_plot = (data['Volume'] / 1e7).plot(kind='bar', ax=ax2)\n",
    "volume_plot = (data['Volume'] / 1e7).plot(ax=ax2, color='r', alpha=.3, marker='o', linestyle='')\n",
    "ax1.grid()\n",
    "plt.show()"
   ]
  },
  {
   "cell_type": "markdown",
   "metadata": {},
   "source": [
    "### 구글 데이터"
   ]
  },
  {
   "cell_type": "code",
   "execution_count": 31,
   "metadata": {},
   "outputs": [
    {
     "name": "stdout",
     "output_type": "stream",
     "text": [
      "[*********************100%***********************]  1 of 1 downloaded\n"
     ]
    }
   ],
   "source": [
    "goog = yf.download('GOOG', start='2017-01-01', end='2019-04-30')"
   ]
  },
  {
   "cell_type": "code",
   "execution_count": 37,
   "metadata": {},
   "outputs": [
    {
     "data": {
      "text/html": [
       "<div>\n",
       "<style scoped>\n",
       "    .dataframe tbody tr th:only-of-type {\n",
       "        vertical-align: middle;\n",
       "    }\n",
       "\n",
       "    .dataframe tbody tr th {\n",
       "        vertical-align: top;\n",
       "    }\n",
       "\n",
       "    .dataframe thead th {\n",
       "        text-align: right;\n",
       "    }\n",
       "</style>\n",
       "<table border=\"1\" class=\"dataframe\">\n",
       "  <thead>\n",
       "    <tr style=\"text-align: right;\">\n",
       "      <th></th>\n",
       "      <th>Open</th>\n",
       "      <th>High</th>\n",
       "      <th>Low</th>\n",
       "      <th>Close</th>\n",
       "      <th>Adj Close</th>\n",
       "      <th>Volume</th>\n",
       "    </tr>\n",
       "    <tr>\n",
       "      <th>Date</th>\n",
       "      <th></th>\n",
       "      <th></th>\n",
       "      <th></th>\n",
       "      <th></th>\n",
       "      <th></th>\n",
       "      <th></th>\n",
       "    </tr>\n",
       "  </thead>\n",
       "  <tbody>\n",
       "    <tr>\n",
       "      <th>2017-02-21</th>\n",
       "      <td>828.66</td>\n",
       "      <td>833.45</td>\n",
       "      <td>828.35</td>\n",
       "      <td>831.66</td>\n",
       "      <td>831.66</td>\n",
       "      <td>1262300</td>\n",
       "    </tr>\n",
       "    <tr>\n",
       "      <th>2017-02-22</th>\n",
       "      <td>828.66</td>\n",
       "      <td>833.25</td>\n",
       "      <td>828.64</td>\n",
       "      <td>830.76</td>\n",
       "      <td>830.76</td>\n",
       "      <td>982900</td>\n",
       "    </tr>\n",
       "  </tbody>\n",
       "</table>\n",
       "</div>"
      ],
      "text/plain": [
       "              Open    High     Low   Close  Adj Close   Volume\n",
       "Date                                                          \n",
       "2017-02-21  828.66  833.45  828.35  831.66     831.66  1262300\n",
       "2017-02-22  828.66  833.25  828.64  830.76     830.76   982900"
      ]
     },
     "execution_count": 37,
     "metadata": {},
     "output_type": "execute_result"
    }
   ],
   "source": [
    "goog.iloc[33:35]"
   ]
  },
  {
   "cell_type": "code",
   "execution_count": null,
   "metadata": {},
   "outputs": [],
   "source": []
  }
 ],
 "metadata": {
  "kernelspec": {
   "display_name": "keras",
   "language": "python",
   "name": "keras"
  },
  "language_info": {
   "codemirror_mode": {
    "name": "ipython",
    "version": 3
   },
   "file_extension": ".py",
   "mimetype": "text/x-python",
   "name": "python",
   "nbconvert_exporter": "python",
   "pygments_lexer": "ipython3",
   "version": "3.6.8"
  }
 },
 "nbformat": 4,
 "nbformat_minor": 2
}
