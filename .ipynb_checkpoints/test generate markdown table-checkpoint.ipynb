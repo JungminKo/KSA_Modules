{
 "cells": [
  {
   "cell_type": "code",
   "execution_count": 2,
   "metadata": {},
   "outputs": [],
   "source": [
    "import generate_markdown_table as gen\n",
    "from generate_markdown_table import *"
   ]
  },
  {
   "cell_type": "code",
   "execution_count": 4,
   "metadata": {},
   "outputs": [
    {
     "name": "stdout",
     "output_type": "stream",
     "text": [
      "State Capitals (source: Wikipedia)\n",
      "\n",
      "|  State   | Abrev. |   Capital   | Capital since | Population | Largest Population? |\n",
      "| :------- | :----: | :---------- | :-----------: | ---------: | :-----------------: |\n",
      "| Alabama  |   AL   | Montgomery  |     1846      |     205764 |         No          |\n",
      "| Alaska   |   AK   | Juneau      |     1906      |      31275 |         No          |\n",
      "| Arizona  |   AZ   | Phoenix     |     1889      |    1445632 |         Yes         |\n",
      "| Arkansas |   AR   | Little Rock |     1821      |     193524 |         Yes         |\n"
     ]
    }
   ],
   "source": [
    "import sys\n",
    "\n",
    "sys.stdout.write('State Capitals (source: Wikipedia)\\n\\n')\n",
    "\n",
    "headings = ['State', 'Abrev.', 'Capital', 'Capital since', 'Population',\n",
    "            'Largest Population?']\n",
    "\n",
    "data = [('Alabama', 'AL', '1819', 'Montgomery', '1846', 155.4, False,\n",
    "         205764),\n",
    "        ('Alaska', 'AK', '1959', 'Juneau', '1906', 2716.7, False, 31275),\n",
    "        ('Arizona', 'AZ', '1912', 'Phoenix', '1889',474.9, True, 1445632),\n",
    "        ('Arkansas', 'AR', '1836', 'Little Rock', '1821', 116.2, True,\n",
    "         193524)]\n",
    "\n",
    "fields = [0, 1, 3, 4, 7, lambda rec: 'Yes' if rec[6] else 'No']\n",
    "\n",
    "align = [('^', '<'), ('^', '^'), ('^', '<'), ('^', '^'), ('^', '>'),\n",
    "         ('^','^')]\n",
    "\n",
    "table(sys.stdout, data, fields, headings, align)"
   ]
  },
  {
   "cell_type": "code",
   "execution_count": null,
   "metadata": {},
   "outputs": [],
   "source": []
  }
 ],
 "metadata": {
  "kernelspec": {
   "display_name": "Python 3",
   "language": "python",
   "name": "python3"
  },
  "language_info": {
   "codemirror_mode": {
    "name": "ipython",
    "version": 3
   },
   "file_extension": ".py",
   "mimetype": "text/x-python",
   "name": "python",
   "nbconvert_exporter": "python",
   "pygments_lexer": "ipython3",
   "version": "3.6.8"
  }
 },
 "nbformat": 4,
 "nbformat_minor": 2
}
