{
 "cells": [
  {
   "cell_type": "code",
   "execution_count": 2,
   "metadata": {},
   "outputs": [],
   "source": [
    "import generate_markdown_table as gen\n",
    "from generate_markdown_table import *"
   ]
  },
  {
   "cell_type": "code",
   "execution_count": 4,
   "metadata": {},
   "outputs": [
    {
     "name": "stdout",
     "output_type": "stream",
     "text": [
      "State Capitals (source: Wikipedia)\n",
      "\n",
      "|  State   | Abrev. |   Capital   | Capital since | Population | Largest Population? |\n",
      "| :------- | :----: | :---------- | :-----------: | ---------: | :-----------------: |\n",
      "| Alabama  |   AL   | Montgomery  |     1846      |     205764 |         No          |\n",
      "| Alaska   |   AK   | Juneau      |     1906      |      31275 |         No          |\n",
      "| Arizona  |   AZ   | Phoenix     |     1889      |    1445632 |         Yes         |\n",
      "| Arkansas |   AR   | Little Rock |     1821      |     193524 |         Yes         |\n"
     ]
    }
   ],
   "source": [
    "import sys\n",
    "\n",
    "sys.stdout.write('State Capitals (source: Wikipedia)\\n\\n')\n",
    "\n",
    "headings = ['State', 'Abrev.', 'Capital', 'Capital since', 'Population',\n",
    "            'Largest Population?']\n",
    "\n",
    "data = [('Alabama', 'AL', '1819', 'Montgomery', '1846', 155.4, False,\n",
    "         205764),\n",
    "        ('Alaska', 'AK', '1959', 'Juneau', '1906', 2716.7, False, 31275),\n",
    "        ('Arizona', 'AZ', '1912', 'Phoenix', '1889',474.9, True, 1445632),\n",
    "        ('Arkansas', 'AR', '1836', 'Little Rock', '1821', 116.2, True,\n",
    "         193524)]\n",
    "\n",
    "fields = [0, 1, 3, 4, 7, lambda rec: 'Yes' if rec[6] else 'No']\n",
    "\n",
    "align = [('^', '<'), ('^', '^'), ('^', '<'), ('^', '^'), ('^', '>'),\n",
    "         ('^','^')]\n",
    "\n",
    "table(sys.stdout, data, fields, headings, align)"
   ]
  },
  {
   "cell_type": "markdown",
   "metadata": {},
   "source": [
    "|  State   | Abrev. |   Capital   | Capital since | Population | Largest Population? |\n",
    "| :------- | :----: | :---------- | :-----------: | ---------: | :-----------------: |\n",
    "| Alabama  |   AL   | Montgomery  |     1846      |     205764 |         No          |\n",
    "| Alaska   |   AK   | Juneau      |     1906      |      31275 |         No          |\n",
    "| Arizona  |   AZ   | Phoenix     |     1889      |    1445632 |         Yes         |\n",
    "| Arkansas |   AR   | Little Rock |     1821      |     193524 |         Yes         |"
   ]
  },
  {
   "cell_type": "code",
   "execution_count": 5,
   "metadata": {},
   "outputs": [],
   "source": [
    "# 출처 : https://matplotlib.org/3.1.0/api/_as_gen/matplotlib.pyplot.plot.html\n",
    "\n",
    "marker = \"'.'\tpoint marker\\\n",
    "','\tpixel marker\\\n",
    "'o'\tcircle marker\\\n",
    "'v'\ttriangle_down marker\\\n",
    "'^'\ttriangle_up marker\\\n",
    "'<'\ttriangle_left marker\\\n",
    "'>'\ttriangle_right marker\\\n",
    "'1'\ttri_down marker\\\n",
    "'2'\ttri_up marker\\\n",
    "'3'\ttri_left marker\\\n",
    "'4'\ttri_right marker\\\n",
    "'s'\tsquare marker\\\n",
    "'p'\tpentagon marker\\\n",
    "'*'\tstar marker\\\n",
    "'h'\thexagon1 marker\\\n",
    "'H'\thexagon2 marker\\\n",
    "'+'\tplus marker\\\n",
    "'x'\tx marker\\\n",
    "'D'\tdiamond marker\\\n",
    "'d'\tthin_diamond marker\\\n",
    "'|'\tvline marker\\\n",
    "'_'\thline marker\"\n",
    "\n",
    "lines = \"'-'\tsolid line style\\\n",
    "'--'\tdashed line style\\\n",
    "'-.'\tdash-dot line style\\\n",
    "':'\tdotted line style\""
   ]
  },
  {
   "cell_type": "code",
   "execution_count": 6,
   "metadata": {},
   "outputs": [],
   "source": [
    "marker = {i.split('\\t')[0] : i.split('\\t')[1] + 'marker' for i in marker.split('marker')[:-1]}\n",
    "lines = {i.split('\\t')[0] : i.split('\\t')[1] + 'style' for i in lines.split('style')[:-1]}"
   ]
  },
  {
   "cell_type": "code",
   "execution_count": 7,
   "metadata": {},
   "outputs": [
    {
     "data": {
      "text/plain": [
       "{\"'.'\": 'point marker',\n",
       " \"','\": 'pixel marker',\n",
       " \"'o'\": 'circle marker',\n",
       " \"'v'\": 'triangle_down marker',\n",
       " \"'^'\": 'triangle_up marker',\n",
       " \"'<'\": 'triangle_left marker',\n",
       " \"'>'\": 'triangle_right marker',\n",
       " \"'1'\": 'tri_down marker',\n",
       " \"'2'\": 'tri_up marker',\n",
       " \"'3'\": 'tri_left marker',\n",
       " \"'4'\": 'tri_right marker',\n",
       " \"'s'\": 'square marker',\n",
       " \"'p'\": 'pentagon marker',\n",
       " \"'*'\": 'star marker',\n",
       " \"'h'\": 'hexagon1 marker',\n",
       " \"'H'\": 'hexagon2 marker',\n",
       " \"'+'\": 'plus marker',\n",
       " \"'x'\": 'x marker',\n",
       " \"'D'\": 'diamond marker',\n",
       " \"'d'\": 'thin_diamond marker',\n",
       " \"'|'\": 'vline marker',\n",
       " \"'_'\": 'hline marker'}"
      ]
     },
     "execution_count": 7,
     "metadata": {},
     "output_type": "execute_result"
    }
   ],
   "source": [
    "marker"
   ]
  },
  {
   "cell_type": "code",
   "execution_count": 8,
   "metadata": {},
   "outputs": [
    {
     "data": {
      "text/plain": [
       "{\"'-'\": 'solid line style',\n",
       " \"'--'\": 'dashed line style',\n",
       " \"'-.'\": 'dash-dot line style',\n",
       " \"':'\": 'dotted line style'}"
      ]
     },
     "execution_count": 8,
     "metadata": {},
     "output_type": "execute_result"
    }
   ],
   "source": [
    "lines"
   ]
  },
  {
   "cell_type": "code",
   "execution_count": 9,
   "metadata": {},
   "outputs": [],
   "source": [
    "m_data = [[0,0,0,0] for i in range(11)]\n",
    "# len(marker) == 22 ; True\n",
    "for ix, (character, description) in enumerate(marker.items()):\n",
    "    m_data[ix % 11][0 + (ix // 11) * 2] = character\n",
    "    m_data[ix % 11][1 + (ix // 11) * 2] = description\n",
    "\n",
    "l_data = [[0,0,0,0] for i in range(2)]\n",
    "# len(lines) == 4 ; True\n",
    "for ix, (character, description) in enumerate(lines.items()):\n",
    "    l_data[ix % 2][0 + (ix // 2) * 2] = character\n",
    "    l_data[ix % 2][1 + (ix // 2) * 2] = description"
   ]
  },
  {
   "cell_type": "code",
   "execution_count": 10,
   "metadata": {},
   "outputs": [
    {
     "data": {
      "text/plain": [
       "[[\"'.'\", 'point marker', \"'s'\", 'square marker'],\n",
       " [\"','\", 'pixel marker', \"'p'\", 'pentagon marker'],\n",
       " [\"'o'\", 'circle marker', \"'*'\", 'star marker'],\n",
       " [\"'v'\", 'triangle_down marker', \"'h'\", 'hexagon1 marker'],\n",
       " [\"'^'\", 'triangle_up marker', \"'H'\", 'hexagon2 marker'],\n",
       " [\"'<'\", 'triangle_left marker', \"'+'\", 'plus marker'],\n",
       " [\"'>'\", 'triangle_right marker', \"'x'\", 'x marker'],\n",
       " [\"'1'\", 'tri_down marker', \"'D'\", 'diamond marker'],\n",
       " [\"'2'\", 'tri_up marker', \"'d'\", 'thin_diamond marker'],\n",
       " [\"'3'\", 'tri_left marker', \"'|'\", 'vline marker'],\n",
       " [\"'4'\", 'tri_right marker', \"'_'\", 'hline marker']]"
      ]
     },
     "execution_count": 10,
     "metadata": {},
     "output_type": "execute_result"
    }
   ],
   "source": [
    "m_data"
   ]
  },
  {
   "cell_type": "code",
   "execution_count": 11,
   "metadata": {},
   "outputs": [
    {
     "data": {
      "text/plain": [
       "[[\"'-'\", 'solid line style', \"'-.'\", 'dash-dot line style'],\n",
       " [\"'--'\", 'dashed line style', \"':'\", 'dotted line style']]"
      ]
     },
     "execution_count": 11,
     "metadata": {},
     "output_type": "execute_result"
    }
   ],
   "source": [
    "l_data"
   ]
  },
  {
   "cell_type": "code",
   "execution_count": 12,
   "metadata": {},
   "outputs": [
    {
     "name": "stdout",
     "output_type": "stream",
     "text": [
      "get plot parameter table\n",
      "\n",
      "| character |      description      | character |     description     |\n",
      "| :-------- | :-------------------: | :-------- | :-----------------: |\n",
      "| '.'       |     point marker      | 's'       |    square marker    |\n",
      "| ','       |     pixel marker      | 'p'       |   pentagon marker   |\n",
      "| 'o'       |     circle marker     | '*'       |     star marker     |\n",
      "| 'v'       | triangle_down marker  | 'h'       |   hexagon1 marker   |\n",
      "| '^'       |  triangle_up marker   | 'H'       |   hexagon2 marker   |\n",
      "| '<'       | triangle_left marker  | '+'       |     plus marker     |\n",
      "| '>'       | triangle_right marker | 'x'       |      x marker       |\n",
      "| '1'       |    tri_down marker    | 'D'       |   diamond marker    |\n",
      "| '2'       |     tri_up marker     | 'd'       | thin_diamond marker |\n",
      "| '3'       |    tri_left marker    | '|'       |    vline marker     |\n",
      "| '4'       |   tri_right marker    | '_'       |    hline marker     |\n",
      "\n",
      "| character |    description    | character |     description     |\n",
      "| :-------- | :---------------: | :-------- | :-----------------: |\n",
      "| '-'       | solid line style  | '-.'      | dash-dot line style |\n",
      "| '--'      | dashed line style | ':'       |  dotted line style  |\n"
     ]
    }
   ],
   "source": [
    "sys.stdout.write('get plot parameter table\\n\\n')\n",
    "\n",
    "headings = ['character', 'description'] * 2\n",
    "\n",
    "fields = [0, 1, 2, 3]\n",
    "\n",
    "align = [('^', '<'), ('^', '^'), ('^', '<'), ('^', '^'), ('^', '>'),\n",
    "         ('^','^')]\n",
    "\n",
    "table(sys.stdout, m_data, fields, headings, align)\n",
    "print()\n",
    "table(sys.stdout, l_data, fields, headings, align)"
   ]
  }
 ],
 "metadata": {
  "kernelspec": {
   "display_name": "Python 3",
   "language": "python",
   "name": "python3"
  },
  "language_info": {
   "codemirror_mode": {
    "name": "ipython",
    "version": 3
   },
   "file_extension": ".py",
   "mimetype": "text/x-python",
   "name": "python",
   "nbconvert_exporter": "python",
   "pygments_lexer": "ipython3",
   "version": "3.6.8"
  }
 },
 "nbformat": 4,
 "nbformat_minor": 2
}
